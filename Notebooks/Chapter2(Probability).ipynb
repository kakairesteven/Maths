{
 "cells": [
  {
   "cell_type": "markdown",
   "id": "df570761-f253-4806-adfb-17afc45b078f",
   "metadata": {},
   "source": [
    "<h3>Probability</h3>\n",
    "<p>Proability is quantifying things that are yet to happen.</p>\n",
    "<p>Likelihood is measuring the frequency of things that already happened.</p>"
   ]
  },
  {
   "cell_type": "markdown",
   "id": "877fc924-024c-4431-82d2-0d3c0af79ef6",
   "metadata": {},
   "source": [
    "<h3>Probability Math</h3>\n",
    "<h4>Marginal Probability</h4>\n",
    "<p>Working on single probability, P(X) of an event</p>\n",
    "<h4>Joint Probability</h4>\n",
    "<p>Probability of multiple different events. \n",
    "i.e P(AnB) = P(A)*P(B)</p>\n",
    "<h4>Union Probability</h4>\n",
    "<p>Proability of one event or another occuring i.e\n",
    "P(AuB) = P(A) + P(B) - P(A)*P(B)</p>\n",
    "<h4>Conditional Probability and Bayes' Theorem</h4>\n",
    "<p><math>P(A|B)</math>, Probability of an event occuring given that one other event occured.\n",
    "<math>P(A|B) = (P(B|A)*P(A)) / P(B)</math\\>\n",
    "</p>\n",
    "\n"
   ]
  },
  {
   "cell_type": "markdown",
   "id": "75995303-3e2c-4e59-a493-f8d585c2853d",
   "metadata": {},
   "source": [
    "<h3>Binomial Distribution</h3>\n",
    "<p>How likely are k successes of an event, x given n trials and a probability, P(x).</p>"
   ]
  },
  {
   "cell_type": "code",
   "execution_count": 1,
   "id": "edbe64f6-d35f-4a97-8def-316ff87f1f4a",
   "metadata": {},
   "outputs": [
    {
     "name": "stdout",
     "output_type": "stream",
     "text": [
      "0-9.999999999999977e-11\n",
      "1-8.999999999999976e-09\n",
      "2-3.6449999999999933e-07\n",
      "3-8.747999999999988e-06\n",
      "4-0.00013778099999999974\n",
      "5-0.0014880347999999982\n",
      "6-0.011160260999999989\n",
      "7-0.05739562799999997\n",
      "8-0.1937102444999998\n",
      "9-0.38742048899999976\n",
      "10-0.34867844010000015\n"
     ]
    }
   ],
   "source": [
    "# Example\n",
    "from scipy.stats import binom\n",
    "n = 10\n",
    "p = 0.9\n",
    "for k in range(n+1):\n",
    "    # pmf, probability mass function\n",
    "    probability = binom.pmf(k, n, p)\n",
    "    print(\"{0}-{1}\".format(k, probability))"
   ]
  },
  {
   "cell_type": "code",
   "execution_count": null,
   "id": "730d3eb0-f517-484f-b8ee-d800101bed5e",
   "metadata": {},
   "outputs": [],
   "source": []
  }
 ],
 "metadata": {
  "kernelspec": {
   "display_name": "Python 3 (ipykernel)",
   "language": "python",
   "name": "python3"
  },
  "language_info": {
   "codemirror_mode": {
    "name": "ipython",
    "version": 3
   },
   "file_extension": ".py",
   "mimetype": "text/x-python",
   "name": "python",
   "nbconvert_exporter": "python",
   "pygments_lexer": "ipython3",
   "version": "3.12.4"
  }
 },
 "nbformat": 4,
 "nbformat_minor": 5
}

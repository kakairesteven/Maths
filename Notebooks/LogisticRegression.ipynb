{
 "cells": [
  {
   "cell_type": "markdown",
   "metadata": {},
   "source": [
    "<h3>Logistic Regression</h3>"
   ]
  },
  {
   "cell_type": "code",
   "execution_count": 166,
   "metadata": {
    "vscode": {
     "languageId": "plaintext"
    }
   },
   "outputs": [],
   "source": [
    "# Logistic Regression\n",
    "# Logistic regression is a type of regression that predicts a probability of an outcome\n",
    "# given one or more independent variables.\n",
    "\n",
    "# This in turn can be used for classification (predicting categories)\n",
    "# Logistic regression is trained on an output variable that is discrete (a binary 1 or 0) or a \n",
    "# categorical number (which is a whole number)\n",
    "\n",
    "# Regression methods have become an integral component of any data analysis concerned with\n",
    "# describing the relationship between a response variable and a one or more explanatory variables.\n",
    "\n",
    "# The goal of an analysis using this model is the same as that of any regression model used\n",
    "# in statistics, that is to find the best fitting and most parsimonious, clinically interpretable\n",
    "# model to describe the relationship between the outcome (dependent or response) variable \n",
    "# and a set of independent (predictor or explanatory) variables.\n",
    "\n",
    "# What distinguishes a logistic regression model from the linear model is that the\n",
    "# outcome variable in logistic regression is binary or dichotompous."
   ]
  },
  {
   "cell_type": "markdown",
   "metadata": {},
   "source": [
    "<h3>Performing a logistic regression</h3>"
   ]
  },
  {
   "cell_type": "code",
   "execution_count": 167,
   "metadata": {},
   "outputs": [],
   "source": [
    "# Performing a logistic regression\n",
    "# The logistic regression is an S-shaped curve (also known as a sigmoid curve)\n",
    "# that, for a given set of input variable between 0 and 1.\n",
    "# Because the output variable is between 0 and 1 it can be used to represent a probability.\n",
    "\n",
    "# The (b0 + b1x) component in the logistic function is known as a log-odds function.\n",
    "# Like linear regression, we can also extend the logistic regression to more\n",
    "# than one input variable (x1, x2, ..., xn)"
   ]
  },
  {
   "cell_type": "code",
   "execution_count": 168,
   "metadata": {},
   "outputs": [],
   "source": [
    "# A logistic function\n",
    "import math\n",
    "def predict_probability(x, b0, b1):\n",
    "    p = 1.0 / (1.0 + math.exp(-(b0 + b1*x)))\n",
    "    return p\n",
    "\n",
    "# Linear regression\n",
    "# f(x) = b_0 + b_1*x"
   ]
  },
  {
   "cell_type": "code",
   "execution_count": 169,
   "metadata": {},
   "outputs": [
    {
     "name": "stdout",
     "output_type": "stream",
     "text": [
      "1.0/(1.0 + 16.8272567955368*exp(-0.62*x))\n"
     ]
    },
    {
     "data": {
      "image/png": "[encoded data removed]",
      "text/plain": [
       "<Figure size 640x480 with 1 Axes>"
      ]
     },
     "metadata": {},
     "output_type": "display_data"
    }
   ],
   "source": [
    "# Assume b0 = -2.823 and b1 = 0.62\n",
    "# Plotting function\n",
    "from sympy import *\n",
    "b0, b1, x = symbols('b0 b1 x')\n",
    "p = 1.0/(1.0 + exp(-(b0 + b1*x)))\n",
    "p = p.subs(b0, -2.823)\n",
    "p = p.subs(b1, 0.620)\n",
    "\n",
    "print(p)\n",
    "plot(p);"
   ]
  },
  {
   "cell_type": "code",
   "execution_count": 170,
   "metadata": {},
   "outputs": [],
   "source": [
    "# Fitting the logistic curve\n",
    "# The data can be have any mix of decimal, integer and binary variables,\n",
    "# but the output variable must be binary (0 or 1)"
   ]
  },
  {
   "cell_type": "code",
   "execution_count": 171,
   "metadata": {},
   "outputs": [],
   "source": [
    "# When we do a prediction, the output variable values will be between 0 and 1, resembling a probability."
   ]
  },
  {
   "cell_type": "code",
   "execution_count": 172,
   "metadata": {},
   "outputs": [
    {
     "name": "stdout",
     "output_type": "stream",
     "text": [
      "[0.69268939]\n",
      "[-3.17580504]\n"
     ]
    }
   ],
   "source": [
    "# using sckitlearn\n",
    "import pandas as pd\n",
    "from sklearn.linear_model import LogisticRegression\n",
    "\n",
    "# Load the data\n",
    "df = pd.read_csv('https://bit.ly/33ebs2R', delimiter=',')\n",
    "\n",
    "# Extract input variables (all rows, all columns but last column)\n",
    "X = df.values[:, :-1]\n",
    "\n",
    "# Extract output column (all rows, last column)\n",
    "Y = df.values[:, -1]\n",
    "\n",
    "# Perform logistic regression\n",
    "# Turn off penalty\n",
    "\n",
    "# Explore more argumentations\n",
    "model = LogisticRegression(\n",
    "    penalty=None\n",
    ")\n",
    "\n",
    "# Fitting \n",
    "model.fit(X, Y)\n",
    "\n",
    "# Print beta1\n",
    "print(model.coef_.flatten())\n",
    "\n",
    "# print beta0\n",
    "print(model.intercept_.flatten())"
   ]
  },
  {
   "cell_type": "code",
   "execution_count": 173,
   "metadata": {},
   "outputs": [],
   "source": [
    "# Flattening means collapsing a matrix of numbers into a lesser dimension,\n",
    "# particularly when there are fewer elements than there are dimensions."
   ]
  },
  {
   "cell_type": "markdown",
   "metadata": {},
   "source": [
    "<h3>Maximum Likelihood and Gradient Descent</h3>"
   ]
  },
  {
   "cell_type": "code",
   "execution_count": 174,
   "metadata": {},
   "outputs": [],
   "source": [
    "# MAXIMUM LIKELIHOOD AND GRADIENT DESCENT\n",
    "# Maximum Likelihood estimation, MLE maximizes the likelihood a given\n",
    "# logistic curve would output the observed data. Essentially, the\n",
    "# idea is to find the b0 and b1 coeficients that bring our logistic curve\n",
    "# to those points as closely as possible,\n",
    "# indicating it is the most likely to have produced those points."
   ]
  },
  {
   "cell_type": "markdown",
   "metadata": {},
   "source": [
    "<h4>Joint Likelihood</h4>"
   ]
  },
  {
   "cell_type": "code",
   "execution_count": 175,
   "metadata": {},
   "outputs": [
    {
     "name": "stdout",
     "output_type": "stream",
     "text": [
      "4.7911178996451175e-05\n"
     ]
    }
   ],
   "source": [
    "# Joint likelihood\n",
    "# Calculating the joint likelihood of observing all the points for a given\n",
    "# logistic regression\n",
    "\n",
    "# This example uses a patient dataset that contains data on the chemical\n",
    "# exposure duration and the symptomatic status of a person.\n",
    "\n",
    "import math\n",
    "import pandas as pd\n",
    "patient_data = pd.read_csv('https://bit.ly/33ebs2R', delimiter=',').itertuples()\n",
    "b0 = -3.1756395\n",
    "b1 = 0.69267212\n",
    "\n",
    "def logistic_function(x):\n",
    "    p = 1.0 / (1.0 + math.exp(-(b0 + b1*x)))\n",
    "    return p\n",
    "\n",
    "# Calculate the joint likelihood\n",
    "joint_likelihood = 1.0\n",
    "\n",
    "for p in patient_data:\n",
    "    if p.y == 1.0:\n",
    "        # Get exact value on the logistic regression curve\n",
    "        joint_likelihood *= logistic_function(p.x)\n",
    "        \n",
    "    elif p.y == 0.0:\n",
    "        joint_likelihood *= (1.0 - logistic_function(p.x))\n",
    "\n",
    "print(joint_likelihood)"
   ]
  },
  {
   "cell_type": "code",
   "execution_count": 176,
   "metadata": {},
   "outputs": [
    {
     "name": "stdout",
     "output_type": "stream",
     "text": [
      "4.7911178996451175e-05\n"
     ]
    }
   ],
   "source": [
    "# modified version\n",
    "# Since a point is either y=0 or y=1, we can use binary elimination with x^(y) or x(1-y) \n",
    "for p in patient_data:\n",
    "    joint_likelihood *= (logistic_function(p.x) ** p.y) * ((1.0 - logistic_function(p.x))**(1.0-p.y))\n",
    "print(joint_likelihood)"
   ]
  },
  {
   "cell_type": "code",
   "execution_count": 177,
   "metadata": {},
   "outputs": [
    {
     "name": "stdout",
     "output_type": "stream",
     "text": [
      "1.0\n"
     ]
    }
   ],
   "source": [
    "# Using logarithmic addition\n",
    "# Calculate the joint likelihood\n",
    "\n",
    "# This dosen't result to the right result.\n",
    "import numpy as np\n",
    "joint_likelihood = 0.0\n",
    "for p in patient_data:\n",
    "    joint_likelihood += math.log(logistic_function(p.x))*(p.y) + \\\n",
    "                        math.log(1.0 - logistic_function(p.x))*(1.0 - p.y)\n",
    "                        # math.log(logistic_function(p.x) ** p.y * (1.0 - logistic_function(p.x)) ** (1.0 - p.y))\n",
    "joint_likelihood = math.exp(joint_likelihood)\n",
    "print(joint_likelihood)"
   ]
  },
  {
   "cell_type": "code",
   "execution_count": 178,
   "metadata": {},
   "outputs": [
    {
     "name": "stdout",
     "output_type": "stream",
     "text": [
      "0.6926693075370812 -3.175751550409821\n"
     ]
    }
   ],
   "source": [
    "# Using gradient descent on logistic regression\n",
    "from sympy import *\n",
    "import pandas as pd\n",
    "\n",
    "points = list(pd.read_csv('https://tinyurl.com/y2cocoo7').itertuples())\n",
    "\n",
    "b1, b0, i, n = symbols('b1 bo i n')\n",
    "x, y = symbols('x y', cls=Function)\n",
    "\n",
    "joint_likelihood = Sum(log(\n",
    "    (1.0 / (1.0 + exp(-(b0 + b1*x(i)))))**y(i) \\\n",
    "                           * (1.0 - (1.0 / (1.0 + exp(-(b0 + b1*x(i)))))) ** (1 - y(i))),\n",
    "                      (i, 0, n)\n",
    "                      )\n",
    "# Partial derivatives for m, with points sunstituted\n",
    "d_b1 = diff(joint_likelihood, b1) \\\n",
    "        .subs(n, len(points) - 1).doit() \\\n",
    "        .replace(x, lambda i: points[i].x) \\\n",
    "        .replace(y, lambda i: points[i].y)\n",
    "\n",
    "# Partial derivative for m, with points substituted\n",
    "d_b0 = diff(joint_likelihood, b0) \\\n",
    "        .subs(n, len(points) - 1).doit() \\\n",
    "        .replace(x, lambda i: points[i].x) \\\n",
    "        .replace(y, lambda i: points[i].y)\n",
    "\n",
    "# Compile using lambdify for faster computation\n",
    "d_b1 = lambdify([b1, b0], d_b1)\n",
    "d_b0 = lambdify([b1, b0], d_b0)\n",
    "\n",
    "# Perform gradient descent\n",
    "b1 = 0.01\n",
    "b0 = 0.01\n",
    "L = 0.01\n",
    "\n",
    "for i in range(10_000):\n",
    "    b1 += d_b1(b1, b0) * L\n",
    "    b0 += d_b0(b1, b0) * L\n",
    "\n",
    "print(b1, b0)"
   ]
  },
  {
   "cell_type": "markdown",
   "metadata": {},
   "source": [
    "<h3>Multivariable Logistic Regression</h3>"
   ]
  },
  {
   "cell_type": "code",
   "execution_count": 179,
   "metadata": {},
   "outputs": [
    {
     "name": "stdout",
     "output_type": "stream",
     "text": [
      "Coefficients: [ 0.03216405  0.03683014 -2.50414075  0.97423186]\n",
      "Intercept: [-2.73503136]\n"
     ]
    }
   ],
   "source": [
    "# Multivariable Logistic Regression\n",
    "# Example: Predict employee quit\n",
    "import pandas as pd\n",
    "from sklearn.linear_model import LogisticRegression\n",
    "employee_data = pd.read_csv('https://tinyurl.com/y6r7qjrp')\n",
    "\n",
    "# grab independent variable columns\n",
    "inputs = employee_data.iloc[:, :-1]\n",
    "\n",
    "# grab dependent 'did_quit' variable column\n",
    "output = employee_data.iloc[:, -1]\n",
    "\n",
    "# Build logistic regression\n",
    "fit = LogisticRegression(\n",
    "    penalty=None\n",
    ").fit(inputs,\n",
    "      output)\n",
    "\n",
    "# print coefficients\n",
    "print('Coefficients: {0}'.format(fit.coef_.flatten()))\n",
    "print('Intercept: {0}'.format(fit.intercept_.flatten()))\n",
    "\n",
    "# Interact and test new employee data\n",
    "def predict_employee_will_stay(sex, age, promotions, years_employed):\n",
    "    prediction = fit.predict(\n",
    "        [[sex, age, promotions, years_employed]]\n",
    "    )\n",
    "    probabilities = fit. predict_proba(\n",
    "    [[sex, age, promotions, years_employed]]\n",
    "    )\n",
    "\n",
    "    if prediction == [[1]]:\n",
    "        return 'WILL LEAVE: {0}'.format(probabilities)\n",
    "    else:\n",
    "        return 'WILL STAY: {0}'.format(probabilities)\n",
    "\n",
    "# Test a prediction\n",
    "# while True:\n",
    "    # n = input('Predict employee will stay or leave {sex}, {age}, {promotions}, {years_employed}: ')\n",
    "    # (sex, age, promotions, years_employed) = n.split(', ')\n",
    "    # print(predict_employee_will_stay(int(sex), int(age), int(promotions), int(years_employed)\n",
    "    #                                 ))"
   ]
  },
  {
   "cell_type": "markdown",
   "metadata": {},
   "source": [
    "<h3>Understanding log-odds</h3>"
   ]
  },
  {
   "cell_type": "code",
   "execution_count": 180,
   "metadata": {},
   "outputs": [],
   "source": [
    "# Understanding log-odds\n",
    "# Explore more on this."
   ]
  },
  {
   "cell_type": "markdown",
   "metadata": {},
   "source": [
    "<h3>R-Squared Value</h3>"
   ]
  },
  {
   "cell_type": "code",
   "execution_count": 181,
   "metadata": {},
   "outputs": [],
   "source": [
    "# R-Squared value for logistic Regression"
   ]
  },
  {
   "cell_type": "code",
   "execution_count": 182,
   "metadata": {},
   "outputs": [
    {
     "name": "stdout",
     "output_type": "stream",
     "text": [
      "-9.946161673231579\n"
     ]
    }
   ],
   "source": [
    "# Calculating the log likelihood of the fit\n",
    "from math import log, exp\n",
    "import pandas as pd\n",
    "\n",
    "patient_data = pd.read_csv('https://bit.ly/33ebs2R',\n",
    "                           delimiter=',').itertuples()\n",
    "\n",
    "b0 = -3.17576395\n",
    "b1 = 0.69267212\n",
    "\n",
    "def logistic_function(x):\n",
    "    p = 1.0 / (1.0 + exp(-(b0 + b1*x)))\n",
    "    return p\n",
    "\n",
    "# sum the log-likelihoods\n",
    "log_likelihood_fit = 0.0\n",
    "\n",
    "# for p in patient_data:\n",
    "#     if p.y == 1.0:\n",
    "#         log_likelihood_fit += log(logistic_function(p.x))\n",
    "#     elif p.y == 0.0:\n",
    "#         log_likelihood_fit += log(1.0 - logistic_function(p.x))\n",
    "\n",
    "# Consolidating the log likelihood logic into a single line\n",
    "log_likelihood_fit = sum(log(logistic_function(p.x))*(p.y) + log(1.0 - logistic_function(p.x))*(1.0 - p.y) for p in patient_data)\n",
    "\n",
    "print(log_likelihood_fit)"
   ]
  },
  {
   "cell_type": "code",
   "execution_count": 183,
   "metadata": {},
   "outputs": [
    {
     "name": "stdout",
     "output_type": "stream",
     "text": [
      "-14.341070198709906\n"
     ]
    }
   ],
   "source": [
    "# log like_lihood of patients\n",
    "import pandas as pd\n",
    "from math import log, exp\n",
    "patient_data = list(pd.read_csv('https://bit.ly/33ebs2R',\n",
    "                                delimiter=',').itertuples())\n",
    "\n",
    "likelihood = sum(p.y for p in patient_data) / len(patient_data)\n",
    "log_likelihood = 0.0\n",
    "# for p in patient_data:\n",
    "#     if p.y == 1.0:\n",
    "#         log_likelihood += log(likelihood)\n",
    "#     elif p.y == 0.0:\n",
    "#         log_likelihood += log(1-likelihood)\n",
    "\n",
    "# consolidating the log likelihood into a single line\n",
    "log_likelihood = sum(log(likelihood)*p.y + log(1.0-likelihood)*(1.0 - p.y) for p in patient_data)\n",
    "\n",
    "print(log_likelihood)"
   ]
  },
  {
   "cell_type": "code",
   "execution_count": 184,
   "metadata": {},
   "outputs": [
    {
     "name": "stdout",
     "output_type": "stream",
     "text": [
      "0.3064561057565762\n"
     ]
    }
   ],
   "source": [
    "# Calculating the R2 for a logistic Regression\n",
    "import pandas as pd\n",
    "from math import log, exp\n",
    "patient_data = list(pd.read_csv('https://bit.ly/33ebs2R',\n",
    "                                delimiter=',').itertuples())\n",
    "\n",
    "# Declare fitted logistic regression\n",
    "b0 = -3.17576395\n",
    "b1 = 0.69267212\n",
    "\n",
    "def logistic_function(x):\n",
    "    p = 1.0 / (1.0 + exp(-(b0 + b1*x)))\n",
    "    return p\n",
    "\n",
    "\n",
    "# Calculate the log likelihood of the fit\n",
    "log_likelihood_fit = sum(log(logistic_function(p.x))*p.y + \\\n",
    "                         log(1.0-logistic_function(p.x))*(1.0-p.y) \\\n",
    "                         for p in patient_data)\n",
    "\n",
    "# Calculate R-Squared\n",
    "# Get an equation for this.\n",
    "r2 = (log_likelihood - log_likelihood_fit) / log_likelihood\n",
    "print(r2)"
   ]
  },
  {
   "cell_type": "code",
   "execution_count": 185,
   "metadata": {},
   "outputs": [],
   "source": [
    "# R2 is too low thus hours of exposure is mediocre for predicting symptoms."
   ]
  },
  {
   "cell_type": "code",
   "execution_count": 186,
   "metadata": {},
   "outputs": [],
   "source": [
    "# P-value\n",
    "# P-value helps investigate how likely we would have seen this data by chance\n",
    "# rather than because of actual relationship"
   ]
  },
  {
   "cell_type": "code",
   "execution_count": 187,
   "metadata": {},
   "outputs": [],
   "source": [
    "# chi-Square distribution, X2 is a probability distribution.\n",
    "\n",
    "# In our case, X2 = 2(log likelihood fit) - (log likelihood)\n",
    "# We then take that value and lookup the probability from the X2 distribution.\n",
    "# p_value = chi(2(log likelihood fit) - (log likelihood))"
   ]
  },
  {
   "cell_type": "code",
   "execution_count": 188,
   "metadata": {},
   "outputs": [
    {
     "name": "stdout",
     "output_type": "stream",
     "text": [
      "0.0016604875618753726\n"
     ]
    }
   ],
   "source": [
    "# Calculating a p-value for a given logistic regression\n",
    "import pandas as pd\n",
    "from math import log, exp\n",
    "from scipy.stats import chi2\n",
    "\n",
    "patient_data = list(pd.read_csv('https://bit.ly/33ebs2R',\n",
    "                                delimiter=',').itertuples())\n",
    "\n",
    "# Declare fitted logistic regression\n",
    "b0 = -3.17576395\n",
    "b1 = 0.69267212\n",
    "\n",
    "def logistic_function(x):\n",
    "    p = 1.0 / (1.0 + exp(-(b0 + b1*x)))\n",
    "    return p\n",
    "\n",
    "# Calculate the log likelihood of the fit\n",
    "log_likelihood_fit = sum(log(logistic_function(p.x))*p.y +\n",
    "                         log(1.0 - logistic_function(p.x))*(1.0 - p.y)\n",
    "                         for p in patient_data)\n",
    "\n",
    "# Calculate the log likelihood without fit\n",
    "likelihood = sum(p.y for p in patient_data) / len(patient_data)\n",
    "log_likelihood = sum(log(likelihood)*p.y +\n",
    "                     log(1.0 - likelihood) * (1.0-p.y)\n",
    "                     for p in patient_data)\n",
    "\n",
    "# calculate p-value\n",
    "chi2_input = 2*(log_likelihood_fit - log_likelihood)\n",
    "p_value = chi2.pdf(chi2_input, 1) # 1 degree of freedom (n-1)\n",
    "\n",
    "print(p_value)"
   ]
  },
  {
   "cell_type": "code",
   "execution_count": 189,
   "metadata": {},
   "outputs": [],
   "source": [
    "# We have a p-value of 0.000166, and if our threshold for significance is 0.05, we say\n",
    "# this data is statistically significant and was not by random chance."
   ]
  },
  {
   "cell_type": "markdown",
   "metadata": {},
   "source": [
    "<h3>Train/Test Split</h3>"
   ]
  },
  {
   "cell_type": "code",
   "execution_count": 190,
   "metadata": {},
   "outputs": [],
   "source": [
    "# Train/Test Split\n",
    "# Three-Fold Cross-validation"
   ]
  },
  {
   "cell_type": "code",
   "execution_count": 191,
   "metadata": {},
   "outputs": [
    {
     "name": "stdout",
     "output_type": "stream",
     "text": [
      "AUC: 0.814(0.056)\n"
     ]
    }
   ],
   "source": [
    "# Perform a logistic regression on the employee-retention dataset,\n",
    "# split the data into thirds. We then alternate each third as the testing data.\n",
    "# We average the three mean and standard deviation values for each fold\n",
    "\n",
    "import pandas as pd\n",
    "from sklearn.linear_model import LogisticRegression\n",
    "from sklearn.model_selection import KFold, cross_val_score\n",
    "\n",
    "# Load the data\n",
    "df =pd.read_csv('https://tinyurl.com/y6r7qjrp',\n",
    "                 delimiter=',')\n",
    "\n",
    "# Inputs\n",
    "X = df.values[:, :-1]\n",
    "Y = df.values[:, -1]\n",
    "\n",
    "# 'random_state' is the random seed, which we fix to 7\n",
    "kfold = KFold(n_splits=3,\n",
    "              random_state=7,\n",
    "              shuffle=True)\n",
    "\n",
    "model = LogisticRegression(penalty=None)\n",
    "# results = cross_val_score(\n",
    "#     model, X, Y, cv=kfold)\n",
    "# print('Accurancy Mean: % .3f stdev: %.3f'%(results.mean(), results.std()))\n",
    "\n",
    "# Using AUC value score\n",
    "results = cross_val_score(model, X, Y, cv=kfold, scoring='roc_auc')\n",
    "print('AUC: %.3f(%.3f)'%(results.mean(), results.std()))"
   ]
  },
  {
   "cell_type": "code",
   "execution_count": 192,
   "metadata": {},
   "outputs": [
    {
     "name": "stdout",
     "output_type": "stream",
     "text": [
      "[[6 4]\n",
      " [5 3]]\n"
     ]
    }
   ],
   "source": [
    "# Creating a confusion matrix\n",
    "import pandas as pd\n",
    "from sklearn.linear_model import LogisticRegression\n",
    "from sklearn.metrics import confusion_matrix\n",
    "from sklearn.model_selection import train_test_split\n",
    "\n",
    "# Load the data\n",
    "df = pd.read_csv('https://bit.ly/3cManTi',\n",
    "                 delimiter=',')\n",
    "\n",
    "# Extract input variables (all rows, all columns but last column)\n",
    "X = df.values[:, :-1]\n",
    "\n",
    "# Extract output column (all rows, last column)\n",
    "Y = df.values[:, -1]\n",
    "\n",
    "model = LogisticRegression(solver='liblinear')\n",
    "X_train, X_test, Y_train, Y_test = train_test_split(X, Y, test_size=.33,\n",
    "                                                    random_state=10,\n",
    "                                                   # Using stratify to overcome class imbalances in Y columns\n",
    "                                                    stratify=Y\n",
    "                                                   )\n",
    "model.fit(X_train, Y_train)\n",
    "prediction = model.predict(X_test)\n",
    "\n",
    "\"\"\"\n",
    "The confusion matrix evaluates accuracy within category\n",
    "[[truepositives falsenegatives]\n",
    " [falsepositives truenegatives]]\n",
    "\n",
    "The diagonal represents correct predictions, so we want those to be higher\n",
    "\"\"\"\n",
    "matrix = confusion_matrix(y_true=Y_test,\n",
    "                          y_pred=prediction)\n",
    "print(matrix)"
   ]
  },
  {
   "cell_type": "code",
   "execution_count": 193,
   "metadata": {},
   "outputs": [],
   "source": [
    "# NOTE: Read and learn more about Bayes Theorem and conditional probabilities"
   ]
  },
  {
   "cell_type": "markdown",
   "metadata": {},
   "source": [
    "<h3>Reciever Operator Characteristics | Area Under Curve</h3>"
   ]
  },
  {
   "cell_type": "code",
   "execution_count": 194,
   "metadata": {},
   "outputs": [],
   "source": [
    "# RECIEVER OPERATOR CHARACTERISTICS | AREA UNDER CURVE\n",
    "# When we are evaluating different machine learning configurations, we may end up\n",
    "# with dozens, hundreds or thousands of confusion matrices\n",
    "\n",
    "# A Reciever Operator Characteristics (ROC) curve helps us to see each testing\n",
    "# instance (each represented by a black dot) and find an agreeable balance between\n",
    "# the positives and false positives\n",
    "\n",
    "# We can also comapre different machine learning models by creating \n",
    "# separate ROC for each.\n",
    "# The area under the curve (AUC) is a good metric for choosing which model to use.\n",
    "\n",
    "# CLASS IMBALANCE\n",
    "# class imbalance happens when data is not equally represented across every outcome class.\n",
    "# Unfortunatly, many problems of interest are imbalanced, such as disease prediction, security\n",
    "# breaches, fraud detection, etc\n",
    "\n",
    "# OVERCOMING CLASS IMBALANCE\n",
    "# Collect more data\n",
    "# Try different models as well as confusion matrices, ROC/AUC curves\n",
    "# Duplicate samples in the minority class until it is equally represented in the dataset. This is also known as data argumentation.\n",
    "\n",
    "# In Sciktlear, stratify can be used on the imbalanced column to generate\n",
    "# duplicate samples until the data in that column is balanced."
   ]
  },
  {
   "cell_type": "markdown",
   "metadata": {},
   "source": [
    "<h3>Coronary Heart Disease (CHD) and AGE</h3>\n",
    "<p>It is of interest to explore the relationship between AGE and the\n",
    "presence (1) or absence (0) of CHD in a group.</p>"
   ]
  },
  {
   "cell_type": "code",
   "execution_count": 195,
   "metadata": {},
   "outputs": [],
   "source": [
    "import pandas as pd\n",
    "import seaborn as sns\n",
    "import matplotlib.pyplot as plt\n",
    "\n",
    "from sklearn.linear_model import LogisticRegression\n",
    "from sklearn.model_selection import KFold, cross_val_score"
   ]
  },
  {
   "cell_type": "code",
   "execution_count": 196,
   "metadata": {},
   "outputs": [
    {
     "data": {
      "text/html": [
       "<div>\n",
       "<style scoped>\n",
       "    .dataframe tbody tr th:only-of-type {\n",
       "        vertical-align: middle;\n",
       "    }\n",
       "\n",
       "    .dataframe tbody tr th {\n",
       "        vertical-align: top;\n",
       "    }\n",
       "\n",
       "    .dataframe thead th {\n",
       "        text-align: right;\n",
       "    }\n",
       "</style>\n",
       "<table border=\"1\" class=\"dataframe\">\n",
       "  <thead>\n",
       "    <tr style=\"text-align: right;\">\n",
       "      <th></th>\n",
       "      <th>sbp</th>\n",
       "      <th>tobacco</th>\n",
       "      <th>ldl</th>\n",
       "      <th>adiposity</th>\n",
       "      <th>famhist</th>\n",
       "      <th>typea</th>\n",
       "      <th>obesity</th>\n",
       "      <th>alcohol</th>\n",
       "      <th>age</th>\n",
       "      <th>chd</th>\n",
       "    </tr>\n",
       "  </thead>\n",
       "  <tbody>\n",
       "    <tr>\n",
       "      <th>0</th>\n",
       "      <td>160</td>\n",
       "      <td>12.00</td>\n",
       "      <td>5.73</td>\n",
       "      <td>23.11</td>\n",
       "      <td>Present</td>\n",
       "      <td>49</td>\n",
       "      <td>25.30</td>\n",
       "      <td>97.20</td>\n",
       "      <td>52</td>\n",
       "      <td>1</td>\n",
       "    </tr>\n",
       "    <tr>\n",
       "      <th>1</th>\n",
       "      <td>144</td>\n",
       "      <td>0.01</td>\n",
       "      <td>4.41</td>\n",
       "      <td>28.61</td>\n",
       "      <td>Absent</td>\n",
       "      <td>55</td>\n",
       "      <td>28.87</td>\n",
       "      <td>2.06</td>\n",
       "      <td>63</td>\n",
       "      <td>1</td>\n",
       "    </tr>\n",
       "    <tr>\n",
       "      <th>2</th>\n",
       "      <td>118</td>\n",
       "      <td>0.08</td>\n",
       "      <td>3.48</td>\n",
       "      <td>32.28</td>\n",
       "      <td>Present</td>\n",
       "      <td>52</td>\n",
       "      <td>29.14</td>\n",
       "      <td>3.81</td>\n",
       "      <td>46</td>\n",
       "      <td>0</td>\n",
       "    </tr>\n",
       "    <tr>\n",
       "      <th>3</th>\n",
       "      <td>170</td>\n",
       "      <td>7.50</td>\n",
       "      <td>6.41</td>\n",
       "      <td>38.03</td>\n",
       "      <td>Present</td>\n",
       "      <td>51</td>\n",
       "      <td>31.99</td>\n",
       "      <td>24.26</td>\n",
       "      <td>58</td>\n",
       "      <td>1</td>\n",
       "    </tr>\n",
       "    <tr>\n",
       "      <th>4</th>\n",
       "      <td>134</td>\n",
       "      <td>13.60</td>\n",
       "      <td>3.50</td>\n",
       "      <td>27.78</td>\n",
       "      <td>Present</td>\n",
       "      <td>60</td>\n",
       "      <td>25.99</td>\n",
       "      <td>57.34</td>\n",
       "      <td>49</td>\n",
       "      <td>1</td>\n",
       "    </tr>\n",
       "  </tbody>\n",
       "</table>\n",
       "</div>"
      ],
      "text/plain": [
       "   sbp  tobacco   ldl  adiposity  famhist  typea  obesity  alcohol  age  chd\n",
       "0  160    12.00  5.73      23.11  Present     49    25.30    97.20   52    1\n",
       "1  144     0.01  4.41      28.61   Absent     55    28.87     2.06   63    1\n",
       "2  118     0.08  3.48      32.28  Present     52    29.14     3.81   46    0\n",
       "3  170     7.50  6.41      38.03  Present     51    31.99    24.26   58    1\n",
       "4  134    13.60  3.50      27.78  Present     60    25.99    57.34   49    1"
      ]
     },
     "execution_count": 196,
     "metadata": {},
     "output_type": "execute_result"
    }
   ],
   "source": [
    "dfCHD = pd.read_csv('../Data/CHDdata.csv')\n",
    "dfCHD.head()"
   ]
  },
  {
   "cell_type": "code",
   "execution_count": 197,
   "metadata": {},
   "outputs": [
    {
     "data": {
      "image/png": "[encoded data removed]",
      "text/plain": [
       "<Figure size 640x480 with 1 Axes>"
      ]
     },
     "metadata": {},
     "output_type": "display_data"
    }
   ],
   "source": [
    "sns.scatterplot(dfCHD, x='age', y='chd');\n",
    "# Plotting a scatter plot"
   ]
  },
  {
   "cell_type": "code",
   "execution_count": 198,
   "metadata": {},
   "outputs": [
    {
     "data": {
      "text/plain": [
       "np.int64(64)"
      ]
     },
     "execution_count": 198,
     "metadata": {},
     "output_type": "execute_result"
    }
   ],
   "source": [
    "dfCHD['age'].unique().max()"
   ]
  },
  {
   "cell_type": "code",
   "execution_count": 199,
   "metadata": {},
   "outputs": [
    {
     "data": {
      "text/html": [
       "<div>\n",
       "<style scoped>\n",
       "    .dataframe tbody tr th:only-of-type {\n",
       "        vertical-align: middle;\n",
       "    }\n",
       "\n",
       "    .dataframe tbody tr th {\n",
       "        vertical-align: top;\n",
       "    }\n",
       "\n",
       "    .dataframe thead th {\n",
       "        text-align: right;\n",
       "    }\n",
       "</style>\n",
       "<table border=\"1\" class=\"dataframe\">\n",
       "  <thead>\n",
       "    <tr style=\"text-align: right;\">\n",
       "      <th></th>\n",
       "      <th>sbp</th>\n",
       "      <th>tobacco</th>\n",
       "      <th>ldl</th>\n",
       "      <th>adiposity</th>\n",
       "      <th>famhist</th>\n",
       "      <th>typea</th>\n",
       "      <th>obesity</th>\n",
       "      <th>alcohol</th>\n",
       "      <th>age</th>\n",
       "      <th>chd</th>\n",
       "    </tr>\n",
       "  </thead>\n",
       "  <tbody>\n",
       "    <tr>\n",
       "      <th>0</th>\n",
       "      <td>160</td>\n",
       "      <td>12.00</td>\n",
       "      <td>5.73</td>\n",
       "      <td>23.11</td>\n",
       "      <td>Present</td>\n",
       "      <td>49</td>\n",
       "      <td>25.30</td>\n",
       "      <td>97.20</td>\n",
       "      <td>52</td>\n",
       "      <td>1</td>\n",
       "    </tr>\n",
       "    <tr>\n",
       "      <th>1</th>\n",
       "      <td>144</td>\n",
       "      <td>0.01</td>\n",
       "      <td>4.41</td>\n",
       "      <td>28.61</td>\n",
       "      <td>Absent</td>\n",
       "      <td>55</td>\n",
       "      <td>28.87</td>\n",
       "      <td>2.06</td>\n",
       "      <td>63</td>\n",
       "      <td>1</td>\n",
       "    </tr>\n",
       "    <tr>\n",
       "      <th>2</th>\n",
       "      <td>118</td>\n",
       "      <td>0.08</td>\n",
       "      <td>3.48</td>\n",
       "      <td>32.28</td>\n",
       "      <td>Present</td>\n",
       "      <td>52</td>\n",
       "      <td>29.14</td>\n",
       "      <td>3.81</td>\n",
       "      <td>46</td>\n",
       "      <td>0</td>\n",
       "    </tr>\n",
       "    <tr>\n",
       "      <th>3</th>\n",
       "      <td>170</td>\n",
       "      <td>7.50</td>\n",
       "      <td>6.41</td>\n",
       "      <td>38.03</td>\n",
       "      <td>Present</td>\n",
       "      <td>51</td>\n",
       "      <td>31.99</td>\n",
       "      <td>24.26</td>\n",
       "      <td>58</td>\n",
       "      <td>1</td>\n",
       "    </tr>\n",
       "    <tr>\n",
       "      <th>4</th>\n",
       "      <td>134</td>\n",
       "      <td>13.60</td>\n",
       "      <td>3.50</td>\n",
       "      <td>27.78</td>\n",
       "      <td>Present</td>\n",
       "      <td>60</td>\n",
       "      <td>25.99</td>\n",
       "      <td>57.34</td>\n",
       "      <td>49</td>\n",
       "      <td>1</td>\n",
       "    </tr>\n",
       "    <tr>\n",
       "      <th>...</th>\n",
       "      <td>...</td>\n",
       "      <td>...</td>\n",
       "      <td>...</td>\n",
       "      <td>...</td>\n",
       "      <td>...</td>\n",
       "      <td>...</td>\n",
       "      <td>...</td>\n",
       "      <td>...</td>\n",
       "      <td>...</td>\n",
       "      <td>...</td>\n",
       "    </tr>\n",
       "    <tr>\n",
       "      <th>457</th>\n",
       "      <td>214</td>\n",
       "      <td>0.40</td>\n",
       "      <td>5.98</td>\n",
       "      <td>31.72</td>\n",
       "      <td>Absent</td>\n",
       "      <td>64</td>\n",
       "      <td>28.45</td>\n",
       "      <td>0.00</td>\n",
       "      <td>58</td>\n",
       "      <td>0</td>\n",
       "    </tr>\n",
       "    <tr>\n",
       "      <th>458</th>\n",
       "      <td>182</td>\n",
       "      <td>4.20</td>\n",
       "      <td>4.41</td>\n",
       "      <td>32.10</td>\n",
       "      <td>Absent</td>\n",
       "      <td>52</td>\n",
       "      <td>28.61</td>\n",
       "      <td>18.72</td>\n",
       "      <td>52</td>\n",
       "      <td>1</td>\n",
       "    </tr>\n",
       "    <tr>\n",
       "      <th>459</th>\n",
       "      <td>108</td>\n",
       "      <td>3.00</td>\n",
       "      <td>1.59</td>\n",
       "      <td>15.23</td>\n",
       "      <td>Absent</td>\n",
       "      <td>40</td>\n",
       "      <td>20.09</td>\n",
       "      <td>26.64</td>\n",
       "      <td>55</td>\n",
       "      <td>0</td>\n",
       "    </tr>\n",
       "    <tr>\n",
       "      <th>460</th>\n",
       "      <td>118</td>\n",
       "      <td>5.40</td>\n",
       "      <td>11.61</td>\n",
       "      <td>30.79</td>\n",
       "      <td>Absent</td>\n",
       "      <td>64</td>\n",
       "      <td>27.35</td>\n",
       "      <td>23.97</td>\n",
       "      <td>40</td>\n",
       "      <td>0</td>\n",
       "    </tr>\n",
       "    <tr>\n",
       "      <th>461</th>\n",
       "      <td>132</td>\n",
       "      <td>0.00</td>\n",
       "      <td>4.82</td>\n",
       "      <td>33.41</td>\n",
       "      <td>Present</td>\n",
       "      <td>62</td>\n",
       "      <td>14.70</td>\n",
       "      <td>0.00</td>\n",
       "      <td>46</td>\n",
       "      <td>1</td>\n",
       "    </tr>\n",
       "  </tbody>\n",
       "</table>\n",
       "<p>462 rows × 10 columns</p>\n",
       "</div>"
      ],
      "text/plain": [
       "     sbp  tobacco    ldl  adiposity  famhist  typea  obesity  alcohol  age  \\\n",
       "0    160    12.00   5.73      23.11  Present     49    25.30    97.20   52   \n",
       "1    144     0.01   4.41      28.61   Absent     55    28.87     2.06   63   \n",
       "2    118     0.08   3.48      32.28  Present     52    29.14     3.81   46   \n",
       "3    170     7.50   6.41      38.03  Present     51    31.99    24.26   58   \n",
       "4    134    13.60   3.50      27.78  Present     60    25.99    57.34   49   \n",
       "..   ...      ...    ...        ...      ...    ...      ...      ...  ...   \n",
       "457  214     0.40   5.98      31.72   Absent     64    28.45     0.00   58   \n",
       "458  182     4.20   4.41      32.10   Absent     52    28.61    18.72   52   \n",
       "459  108     3.00   1.59      15.23   Absent     40    20.09    26.64   55   \n",
       "460  118     5.40  11.61      30.79   Absent     64    27.35    23.97   40   \n",
       "461  132     0.00   4.82      33.41  Present     62    14.70     0.00   46   \n",
       "\n",
       "     chd  \n",
       "0      1  \n",
       "1      1  \n",
       "2      0  \n",
       "3      1  \n",
       "4      1  \n",
       "..   ...  \n",
       "457    0  \n",
       "458    1  \n",
       "459    0  \n",
       "460    0  \n",
       "461    1  \n",
       "\n",
       "[462 rows x 10 columns]"
      ]
     },
     "execution_count": 199,
     "metadata": {},
     "output_type": "execute_result"
    }
   ],
   "source": [
    "# dfCHD['AGEGRP'] = pd.cut(dfCHD['age'],\n",
    "#                             bins=[10, 20, 25, 30, 35, 40, 45, 50, 55, 65],\n",
    "#                             right=False,\n",
    "#                             # retbins=True,\n",
    "#                             include_lowest=False,\n",
    "#                            )\n",
    "# dfCHD['Expected Mean'] = dfCHD.groupby(['AGEGRP'],\n",
    "#              observed=True)['chd'].mean(\n",
    "#              ).reset_index(\n",
    "    \n",
    "#              )['chd']\n",
    "dfCHD"
   ]
  },
  {
   "cell_type": "code",
   "execution_count": 200,
   "metadata": {},
   "outputs": [],
   "source": [
    "# data2 = dfCHD.groupby(['AGEGRP'], observed=True)['chd'].mean().reset_index()"
   ]
  },
  {
   "cell_type": "code",
   "execution_count": 201,
   "metadata": {},
   "outputs": [],
   "source": [
    "# data2"
   ]
  },
  {
   "cell_type": "code",
   "execution_count": 202,
   "metadata": {},
   "outputs": [],
   "source": [
    "# data3 = dfCHD.groupby(['AGEGRP'], observed=True)['age'].mean().reset_index()\n",
    "# data = data2.merge(data3, how='inner')"
   ]
  },
  {
   "cell_type": "code",
   "execution_count": 203,
   "metadata": {},
   "outputs": [],
   "source": [
    "# data"
   ]
  },
  {
   "cell_type": "code",
   "execution_count": 204,
   "metadata": {},
   "outputs": [
    {
     "data": {
      "image/png": "[encoded data removed]",
      "text/plain": [
       "<Figure size 640x480 with 1 Axes>"
      ]
     },
     "metadata": {},
     "output_type": "display_data"
    }
   ],
   "source": [
    "sns.lineplot(data,\n",
    "             x='age',\n",
    "             y='chd',\n",
    "             markers=True,\n",
    "            );\n",
    "sns.despine();\n",
    "plt.ylabel('Coronary Heart Disease (mean)');\n",
    "plt.xlabel('Age (Years)');"
   ]
  },
  {
   "cell_type": "code",
   "execution_count": 230,
   "metadata": {},
   "outputs": [
    {
     "name": "stdout",
     "output_type": "stream",
     "text": [
      "AUC: 0.278 (0.035)\n"
     ]
    },
    {
     "data": {
      "text/plain": [
       "(462, 1)"
      ]
     },
     "execution_count": 230,
     "metadata": {},
     "output_type": "execute_result"
    }
   ],
   "source": [
    "# Using age as the only independent variable (input)\n",
    "X = dfCHD['age'].values.reshape((-1, 1))\n",
    "\n",
    "# Target value\n",
    "y = dfCHD['chd'].values\n",
    "\n",
    "# cross validation\n",
    "kfold = KFold(n_splits=3,\n",
    "              random_state=7,\n",
    "              shuffle=True\n",
    "             )\n",
    "\n",
    "model = LogisticRegression(\n",
    "    penalty=None,\n",
    "    dual=False,\n",
    "    tol=0.0001,\n",
    "    C=1.0,\n",
    "    fit_intercept=True,\n",
    "    intercept_scaling=1,\n",
    "    class_weight=None,\n",
    "    solver='lbfgs',\n",
    "    max_iter=100,\n",
    "    multi_class='deprecated',\n",
    "    verbose=0,\n",
    "    warm_start=False,\n",
    "    n_jobs=None,\n",
    "    l1_ratio=None,\n",
    ")\n",
    "\n",
    "# Using AUC value Score\n",
    "results = cross_val_score(model, X, y, cv=kfold,\n",
    "                          scoring='roc_auc')\n",
    "print('AUC: %.3f (%.3f)'%(results.mean(), results.std()))\n",
    "X.shape"
   ]
  }
 ],
 "metadata": {
  "kernelspec": {
   "display_name": "Python 3 (ipykernel)",
   "language": "python",
   "name": "python3"
  },
  "language_info": {
   "codemirror_mode": {
    "name": "ipython",
    "version": 3
   },
   "file_extension": ".py",
   "mimetype": "text/x-python",
   "name": "python",
   "nbconvert_exporter": "python",
   "pygments_lexer": "ipython3",
   "version": "3.12.4"
  }
 },
 "nbformat": 4,
 "nbformat_minor": 4
}

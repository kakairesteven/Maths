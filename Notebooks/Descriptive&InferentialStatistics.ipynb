{
 "cells": [
  {
   "cell_type": "markdown",
   "id": "a202179f-0a2b-4022-865d-e019de4b128b",
   "metadata": {},
   "source": [
    "<h3>Descriptive and Inferential Statistics</h3>\n",
    "<p>\n",
    "    What is data?\n",
    "</p>\n",
    "\n",
    "<p>Data and Photographs example</p>"
   ]
  },
  {
   "cell_type": "markdown",
   "id": "09e53853-ebe9-42e1-bea4-e5580ed4be2e",
   "metadata": {},
   "source": [
    "<h4>Mean and Weighted Mean</h4>"
   ]
  },
  {
   "cell_type": "code",
   "execution_count": 1,
   "id": "ee11f944-0891-402d-9ae2-3de3df40176d",
   "metadata": {},
   "outputs": [],
   "source": [
    "# Weighted Mean\n",
    "samples = [90, 80, 63, 87]\n",
    "weights = [.20, .20, .20, .40]\n",
    "weighted_mean = sum(s*w for s,w in zip(samples, weights)) / sum(weights)"
   ]
  },
  {
   "cell_type": "code",
   "execution_count": 2,
   "id": "96ab7646-f7ac-465b-9cf2-74ab3b7f8f0d",
   "metadata": {},
   "outputs": [
    {
     "data": {
      "text/plain": [
       "81.4"
      ]
     },
     "execution_count": 2,
     "metadata": {},
     "output_type": "execute_result"
    }
   ],
   "source": [
    "weighted_mean"
   ]
  },
  {
   "cell_type": "code",
   "execution_count": 4,
   "id": "010152ad-6078-42e6-b1ec-9ea678567abe",
   "metadata": {},
   "outputs": [
    {
     "data": {
      "text/plain": [
       "81.4"
      ]
     },
     "execution_count": 4,
     "metadata": {},
     "output_type": "execute_result"
    }
   ],
   "source": [
    "# Weights don't have to be percentages as the numbers will endup being proportionalized.\n",
    "weights = [1.0, 1.0, 1.0, 2.0]\n",
    "weighted_sum = sum(s*w for s,w in zip(samples, weights))/sum(weights)\n",
    "weighted_sum"
   ]
  },
  {
   "cell_type": "code",
   "execution_count": 5,
   "id": "7bb49920-f19d-41e9-b58a-e3deee01399d",
   "metadata": {},
   "outputs": [],
   "source": [
    "# Median\n",
    "# The middlemost value in a set of ordered values\n",
    "def median(values):\n",
    "    ordered = sorted(values)\n",
    "    print(ordered)\n",
    "    n = len(ordered)\n",
    "    mid = int(n/2)-1 if n%2 == 0 else int(n/2)\n",
    "\n",
    "    if n%2 == 0:\n",
    "        return (ordered[mid] + ordered[mid+1])/2.0\n",
    "    else:\n",
    "        return ordered[mid]"
   ]
  },
  {
   "cell_type": "code",
   "execution_count": 6,
   "id": "788b52b1-02ff-4179-bbb2-e2be29e0b7eb",
   "metadata": {},
   "outputs": [
    {
     "name": "stdout",
     "output_type": "stream",
     "text": [
      "[63, 80, 87, 90]\n"
     ]
    },
    {
     "data": {
      "text/plain": [
       "83.5"
      ]
     },
     "execution_count": 6,
     "metadata": {},
     "output_type": "execute_result"
    }
   ],
   "source": [
    "median(samples)"
   ]
  },
  {
   "cell_type": "code",
   "execution_count": null,
   "id": "7a91cfae-c26c-4b0b-8032-e943ae4a73e5",
   "metadata": {},
   "outputs": [],
   "source": []
  }
 ],
 "metadata": {
  "kernelspec": {
   "display_name": "Python 3 (ipykernel)",
   "language": "python",
   "name": "python3"
  },
  "language_info": {
   "codemirror_mode": {
    "name": "ipython",
    "version": 3
   },
   "file_extension": ".py",
   "mimetype": "text/x-python",
   "name": "python",
   "nbconvert_exporter": "python",
   "pygments_lexer": "ipython3",
   "version": "3.12.4"
  }
 },
 "nbformat": 4,
 "nbformat_minor": 5
}

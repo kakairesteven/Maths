{
 "cells": [
  {
   "cell_type": "code",
   "execution_count": null,
   "id": "80b02838-e535-47d3-b548-97f0be147102",
   "metadata": {},
   "outputs": [],
   "source": [
    "# Linear Regression\n",
    "# A regression attempts to fit a function to observed data to make predictions on new data.\n",
    "# A linear regression fits a straight line to observed data, attempting to demonstrate a linear\n",
    "# relationship between variables and make predictions on new data yet to be observed.\n",
    "\n",
    "# Linear regression is a workhorse of data science and statistics and sets up new foundations for\n",
    "# later topics like neural networks and logistic regression.\n",
    "\n",
    "# Machine learning practitioners often take a different approach to validation, starting with a\n",
    "# train-test split of the data. Statisticians are more likely to use metrics like prediction intervals and\n",
    "# correlation for statistical significance.\n",
    "\n",
    "# Machine learning has several techniques under its umbrella, but the one with most use cases\n",
    "# currently is supervised learning, and regressions play a big role here.\n",
    "\n",
    "# What are the downsides of a linear regression?\n",
    "# Every outcome may not fall exactly on that line. It may not remotely follow a straight line at all.\n",
    "# We should not use linear regression to make predictions outside the range of data we have.\n",
    "\n",
    "# Warning\n",
    "# It has become fashionable to make data an oracle for truth. However data is simply from a\n",
    "# population, and we need to practice discernment on how well represented our sample is. Be just\n",
    "# as interested (if not more) in where the data comes from and not just what the data says."
   ]
  },
  {
   "cell_type": "code",
   "execution_count": null,
   "id": "ecc3a8a5-91ce-4327-b8d8-e77dd960fdb1",
   "metadata": {},
   "outputs": [],
   "source": [
    "# Example\n",
    "from sklearn import linear_model\n",
    "reg = linear_model.LinearRegression()\n",
    "\n",
    "# Multiple linear regression\n",
    "# Two inputs (x, y) and one output (z)\n",
    "\n",
    "# Fit a linear model on data\n",
    "reg.fit([[0, 0], [1, 1], [2, 2]],\n",
    "        [0, 1, 2])\n",
    "\n",
    "print(\"z = {0} + {1}x + {2}y\".format(reg.intercept_, reg.coef_[0], reg.coef_[1]))\n",
    "\n",
    "# Values can be predicted with this linear regression model."
   ]
  },
  {
   "cell_type": "code",
   "execution_count": null,
   "id": "815bd4d9-87f3-4803-ac9c-931e2fd0828c",
   "metadata": {},
   "outputs": [],
   "source": [
    "# Using scikit-learn to do a linear regression\n",
    "import pandas as pd\n",
    "import matplotlib.pyplot as plt\n",
    "from sklearn.linear_model import LinearRegression\n",
    "\n",
    "# Import points\n",
    "df = pd.read_csv('https://bit.ly/3goOAnt', delimiter=\",\")\n",
    "\n",
    "# Extract input variables (all rows, all columns, but last column)\n",
    "X = df.values[:, :-1]\n",
    "\n",
    "# Extract output column (all rows, last column)\n",
    "Y = df.values[:, -1]\n",
    "\n",
    "# Fit a line to the points\n",
    "fit = LinearRegression().fit(X, Y)\n",
    "\n",
    "# m\n",
    "m = fit.coef_.flatten()\n",
    "b = fit.intercept_.flatten()\n",
    "\n",
    "print(\"m = {0}\".format(m))\n",
    "print(\"b = {0}\".format(b))\n",
    "\n",
    "\n",
    "# show in chart\n",
    "plt.plot(X, Y, 'o') # scatterplot\n",
    "plt.plot(X, m*X + b) # line of best fit\n",
    "plt.show()"
   ]
  },
  {
   "cell_type": "code",
   "execution_count": null,
   "id": "34e30749-5651-4047-8765-fd9c098218b3",
   "metadata": {},
   "outputs": [],
   "source": [
    "# Residuals and Squared Errors\n",
    "# How do statistics tools like scikit-learn come up with a line that fits to these points?\n",
    "# Questions\n",
    "# What defines a \"best-fit\"?\n",
    "# How do we get to that \"best-fit\"?\n",
    "\n",
    "# The residual is the numeric difference between the line and the points. To get the line of best fit is to reduce\n",
    "# the squares, or more specifically the sum of the squared residuals.\n",
    "# Another name for residuals are errors, because they reflect how wrong our line is in predicting the data."
   ]
  },
  {
   "cell_type": "code",
   "execution_count": null,
   "id": "f7521d2c-a6a8-46fd-b3e0-7490141dea5a",
   "metadata": {},
   "outputs": [],
   "source": [
    "# Calculating the residuals for a given line and data\n",
    "import pandas as pd\n",
    "# import points\n",
    "points = pd.read_csv('https://bit.ly/3goOAnt', delimiter=\",\").itertuples()\n",
    "\n",
    "# Test with a given line\n",
    "m = 1.93939\n",
    "b = 4.73333\n",
    "\n",
    "# Calculate the  residuals\n",
    "for p in points:\n",
    "    y_actual = p.y\n",
    "    y_predict = m*p.x + b\n",
    "    residual = y_actual - y_predict\n",
    "    print(residual)\n",
    "\n",
    "\n",
    "# Why Not Absolute Values?\n",
    "# Why not just add them up without squaring?\n",
    "# That will not work because the negatives will cancel out the positives.\n",
    "# What if we add the absolute values, where we turn all negative values into positive\n",
    "# values? That sounds promising, but absolute values are mathematically inconvenient.\n",
    "# More specifically, absolute values do not work well with calculus derivatives that\n",
    "# are used for gradient descent. "
   ]
  },
  {
   "cell_type": "code",
   "execution_count": null,
   "id": "73de6164-f3c1-45a3-9068-0812941e573a",
   "metadata": {},
   "outputs": [],
   "source": [
    "# Calculating the sum of squares for a given line and data\n",
    "import pandas as pd\n",
    "# import points\n",
    "points = pd.read_csv(\"https://bit.ly/2KF29Bd\").itertuples()\n",
    "\n",
    "# Test with agiven line\n",
    "m = 1.93939\n",
    "b = 4.73333\n",
    "\n",
    "sum_of_squares = 0.0\n",
    "# Calculate sum of squares\n",
    "for p in points:\n",
    "    y_actual = p.y\n",
    "    y_predict = m*p.x + b\n",
    "    residual_squared = (y_predict - y_actual)**2\n",
    "    sum_of_squares += residual_squared\n",
    "\n",
    "# sum of squares\n",
    "print(\"sum of squares = {}\".format(sum_of_squares))\n",
    "\n",
    "#"
   ]
  },
  {
   "cell_type": "code",
   "execution_count": null,
   "id": "2a2b9323-ac9a-4b74-b82b-a98a682e786e",
   "metadata": {},
   "outputs": [],
   "source": [
    "# Closed Form Equation\n",
    "# A closed form equation is an equation for fitting a linear regression by exact equation.\n",
    "# For a simple linear regression with only one input and one output variable, here at closed form\n",
    "# that calculate m and b.\n",
    "\n",
    "# See code below"
   ]
  },
  {
   "cell_type": "code",
   "execution_count": null,
   "id": "9a1221bb-4a70-4c79-adcc-86da1219b60c",
   "metadata": {},
   "outputs": [],
   "source": [
    "import pandas as pd\n",
    "# Load the data\n",
    "points = list(pd.read_csv('https://bit.ly/2KF29Bd', delimiter=\",\").itertuples())\n",
    "\n",
    "n = len(points)\n",
    "\n",
    "m = (n*sum(p.x * p.y for p in points) - sum(p.x for p in points)*\\\n",
    "     sum(p.y for p in points)) / (\n",
    "    n*sum(p.x**2 for p in points) - \n",
    "        sum(p.x for p in points)**2)\n",
    "b = (sum(p.y for p in points)/n) - m*sum(p.x for p in points) / n\n",
    "print(m, b)"
   ]
  },
  {
   "cell_type": "code",
   "execution_count": null,
   "id": "512299d1-3708-42c0-9627-43cdf855467d",
   "metadata": {},
   "outputs": [],
   "source": [
    "# Inverse Matrix Techniques\n",
    "# We can use transposed and inverse matrices to fit a linear regression.\n",
    "# We calculate a vector of coefficients b given a matrix of input value X and \n",
    "# a vector of output values y.\n",
    "\n",
    "# b = (Xt.X)^(-1).Xt.y\n",
    "# where Xt is the transpose of X"
   ]
  },
  {
   "cell_type": "code",
   "execution_count": null,
   "id": "30bd5525-4367-4360-abbf-78eabe4eff6b",
   "metadata": {},
   "outputs": [],
   "source": [
    "# Example\n",
    "import pandas as pd\n",
    "from numpy.linalg import inv\n",
    "import numpy as np\n",
    "\n",
    "# Import points\n",
    "df = pd.read_csv('https://bit.ly/3goOAnt',\n",
    "                 delimiter=\",\")\n",
    "\n",
    "# Extract input variables (all rows, all columns but last column)\n",
    "X = df.values[:, -1].flatten()\n",
    "\n",
    "# Add placeholder \"1\" column to generate intercept\n",
    "X_1 = np.vstack([X, np.ones(len(X))]).T\n",
    "\n",
    "# Extract output column (all rows, last column)\n",
    "Y = df.values[:, -1]\n",
    "\n",
    "# Calculate coefficients for slope and intercept\n",
    "b = inv(X_1.transpose() @ X_1)@(X_1.transpose()@Y)\n",
    "print(b)\n",
    "\n",
    "\n",
    "# predict against the y_values\n",
    "y_predict = X_1.dot(b)\n",
    "y_predict"
   ]
  },
  {
   "cell_type": "code",
   "execution_count": null,
   "id": "ecd116a4-1a0f-4524-8d9f-5da9220cb032",
   "metadata": {},
   "outputs": [],
   "source": [
    "# Matrix decomposition use case in finding a closed form equation for data\n",
    "# When you have a lot of data with a lot of dimensions, computers can start\n",
    "# to choke and produce unstable results. This is the use case of matrix decomposition.\n",
    "\n",
    "import pandas as pd\n",
    "from numpy.linalg import qr, inv\n",
    "import numpy as np\n",
    "\n",
    "# import points\n",
    "df = pd.read_csv('https://bit.ly/3goOAnt', delimiter=\",\")\n",
    "\n",
    "# Extract input variables (all rows, all columns but last column)\n",
    "X = df.values[:, :-1].flatten()\n",
    "\n",
    "# Add placeholder \"1\" column to generate intercept\n",
    "X_1 = np.vstack([X, np.ones(len(X))]).transpose()\n",
    "\n",
    "# Extract output column (all rows, last columns)\n",
    "Y = df.values[:, -1]\n",
    "\n",
    "# calculate coeeficients for slope and intercept using QR decomposition\n",
    "Q, R = qr(X_1)\n",
    "b = inv(R).dot(Q.transpose()).dot(Y)\n",
    "\n",
    "print(b)"
   ]
  },
  {
   "cell_type": "code",
   "execution_count": null,
   "id": "cf1f2e57-e18d-42ea-b32e-15b125599d59",
   "metadata": {},
   "outputs": [],
   "source": [
    "# QR DECOMPOSITION is the method used by many scientific libraries for linear\n",
    "# regression, because it copes with large amounts of data more easily and is\n",
    "# more stable. Numerical stability is how well an algorithm keeps errors in\n",
    "# approximations. Computers work only to so many decimal places and have to approximate,\n",
    "# so it becomes important our algorithms to not deteriot with compounding errors in those\n",
    "# approximations.\n",
    "\n",
    "# GRADIENT DESCENT\n",
    "# Gradient descent is an optimization technique that uses derivatives and iterations to minimize/maximize\n",
    "# a set of parameters against an objective.\n",
    "# Learning rate is the size of each step taken to minimze/maximize a parameter."
   ]
  },
  {
   "cell_type": "code",
   "execution_count": null,
   "id": "6edb5949-1d0f-4d09-8489-bd48fad02011",
   "metadata": {},
   "outputs": [],
   "source": [
    "# using gradient descent to find the minimum of a parabola\n",
    "import random\n",
    "def f(x):\n",
    "    return (x-3)**2 + 4\n",
    "\n",
    "def dx_f(x):\n",
    "    return 2*(x-3)\n",
    "\n",
    "# learning rate\n",
    "l = 0.001\n",
    "\n",
    "# The number of iterations to perform gradient descent\n",
    "iterations = 100_000\n",
    "\n",
    "# Start at a random X\n",
    "x = random.randint(-15, 15)\n",
    "\n",
    "for i in range(iterations):\n",
    "    # get slope\n",
    "    d_x = dx_f(x)\n",
    "\n",
    "    # update x by subtracting the (learning rate)*(slope)\n",
    "    x -= l*d_x\n",
    "\n",
    "print(x, f(x))"
   ]
  },
  {
   "cell_type": "code",
   "execution_count": null,
   "id": "3242ca48-057d-4c92-a646-5dceb4065fe7",
   "metadata": {},
   "outputs": [],
   "source": [
    "# Gradient Descent and Linear Regression\n",
    "# When someone says a machine learning algorithm is 'learning', it really is just fitting\n",
    "# a regression like this.\n",
    "\n",
    "# performing gradient descent for a linear regression\n",
    "import pandas as pd\n",
    "\n",
    "# import points from csv\n",
    "points = list(pd.read_csv(\"https://bit.ly/2KF29Bd\").itertuples())\n",
    "\n",
    "# Build the model\n",
    "m = 0.0\n",
    "b = 0.0\n",
    "\n",
    "# The learning rate \n",
    "l = .001\n",
    "n = float(len(points)) # number of elements in X\n",
    "\n",
    "# Perform gradient descent\n",
    "for i in range(iterations):\n",
    "    # Slope with respect to m\n",
    "    D_m = sum(2*p.x*((m*p.x+b)-p.y) for p in points)\n",
    "    # Slope with respect to b\n",
    "    D_b = sum(2*((m*p.x+b)-p.y) for p in points)\n",
    "\n",
    "    # update m and b\n",
    "    m -= l*D_m\n",
    "    b -= l*D_b\n",
    "\n",
    "print(\"y = {0}x + {1}\".format(m, b))"
   ]
  },
  {
   "cell_type": "code",
   "execution_count": null,
   "id": "17f66e40-e178-498a-a2ef-0c184729ec17",
   "metadata": {},
   "outputs": [],
   "source": [
    "# Gradient Descent for Linear Regression using SymPy\n",
    "from sympy import *\n",
    "m, b, i, n = symbols('m b i n')\n",
    "x, y = symbols('x y', cls=Function)\n",
    "\n",
    "sum_of_squares = Sum((m*x(i) + b - y(i))**2, (i, 0, n))\n",
    "\n",
    "d_m = diff(sum_of_squares, m)\n",
    "d_b = diff(sum_of_squares, b)\n",
    "\n",
    "# print\n",
    "print(d_m)\n",
    "print(d_b)"
   ]
  },
  {
   "cell_type": "code",
   "execution_count": null,
   "id": "eacd013f-8436-4fcb-82c3-f950da4bbd70",
   "metadata": {},
   "outputs": [],
   "source": [
    "# Executing a linear regression on a dataset\n",
    "import pandas as pd\n",
    "from sympy import *\n",
    "\n",
    "# import points from csv\n",
    "points = list(pd.read_csv(\"https://bit.ly/2KF29Bd\").itertuples())\n",
    "m, b, i, n = symbols('m b i n')\n",
    "x, y = symbols('x y', cls=Function)\n",
    "sum_of_squares = Sum((m*x(i) + b - y(i))**2, (i, 0, n))\n",
    "\n",
    "d_m = diff(sum_of_squares, m) \\\n",
    "        .subs(n, len(points)-1).doit()\\\n",
    "        .replace(x, lambda i: points[i].x) \\\n",
    "        .replace(y, lambda i: points[i].y) \\\n",
    "\n",
    "d_b = diff(sum_of_squares, b) \\\n",
    "        .subs(n, len(points)-1).doit() \\\n",
    "        .replace(x, lambda i: points[i].x) \\\n",
    "        .replace(y, lambda i: points[i].y)\n",
    "\n",
    "# Compile using lambdify for faster computation\n",
    "# lambdify provides convenient functions to transform SymPy expressions to\n",
    "# lambda functions which can be used to calculate numerical values very fast\n",
    "d_m = lambdify([m, b], d_m)\n",
    "d_b = lambdify([m, b], d_b)\n",
    "\n",
    "# Building the model\n",
    "m = 0.0\n",
    "b = 0.0\n",
    "\n",
    "# The learning rate\n",
    "l = 0.001\n",
    "\n",
    "# The number of iterations\n",
    "iterations = 100_000\n",
    "\n",
    "# Perform gradient descent\n",
    "for i in range(iterations):\n",
    "    # update m and b\n",
    "    m -= d_m(m, b)*l\n",
    "    b -= d_b(m, b)*l\n",
    "\n",
    "print(\"y = {0}x + {1}\".format(m, b))"
   ]
  },
  {
   "cell_type": "code",
   "execution_count": null,
   "id": "602cbf8d-6353-42a5-ab6a-cdd27cad0706",
   "metadata": {},
   "outputs": [],
   "source": [
    "# plotting the loss function for linear regression\n",
    "from sympy import *\n",
    "from sympy.plotting import plot3d\n",
    "import pandas as pd\n",
    "\n",
    "points = list(pd.read_csv(\"https://bit.ly/2KF29Bd\").itertuples())\n",
    "m, b, i, n = symbols('m b i n')\n",
    "x, y = symbols('x y', cls=Function)\n",
    "\n",
    "sum_of_squares = Sum((m*x(i) + b - y(i))**2, (i, 0, n))\\\n",
    "                    .subs(n, len(points)-1).doit()\\\n",
    "                    .replace(x, lambda i: points[i].x) \\\n",
    "                    .replace(y, lambda i: points[i].y)\n",
    "\n",
    "plot3d(sum_of_squares)"
   ]
  },
  {
   "cell_type": "code",
   "execution_count": null,
   "id": "572d45ae-0de7-40f2-a427-0772f1d1332b",
   "metadata": {},
   "outputs": [],
   "source": [
    "# OVERFITTING AND VARIANCE\n",
    "# The big-picture is not to minimize the sum of squares but to make accurate predictions on new data. This connect-the-dots model\n",
    "# severely overfit, meaning it shaped the regression to the training data too exactly to the point\n",
    "# it will predict poorly on new data. It is sensitive to outliers meaning it will have high variance in predictions.\n",
    "\n",
    "# OVERFITTING IS MEMORIZATION\n",
    "# When you hear someone say a regression \"memorized\" the data rather than generalizing it, they\n",
    "# are talking about overfitting\n",
    "# The objective is to find effective generalizations in our model rather than memorize data.\n",
    "# Otherwise, our regression simply turns into a database where we lookup values.\n",
    "# This is why in machine learning, you will find a bias is added to the model, linear\n",
    "# regression is considered a highly biased model.\n",
    "\n",
    "# A biased model leaves some wiggle room hoping to minimize loss on new data for better predictions,\n",
    "# as opposed to minimizing loss on data it was trained on.\n",
    "\n",
    "# LASSO AND RIDGE REGRESSION\n",
    "# Ridge regression adds a further bias to a linear regression in the form of a penalty,\n",
    "# therefore causing it to fit less to the data. Lasso regression will attempt to marginalize\n",
    "# noisy variables, making it useful when you want to automatically remove variables that\n",
    "# might be irrelevant.\n",
    "\n",
    "# We can not just apply a linear regression to some data, make some predictions with it\n",
    "# and assume all is OK. A linear regression can overfit even with a bias of a straight line.\n",
    "# Therefore, we need to check and mitigate both underfitting and overfitting.\n",
    "\n",
    "# STOCHASTIC GRADIENT DESCENT\n",
    "# Batch gradient descent: train model on all training data. Stochastic Gradient Descent trains\n",
    "# on only one sample of the  dataset. In mini-gradient descent, multiple samples of the dataset\n",
    "# In mini-batch gradient descent, multiple samples of the dataset are used (e.g 10 or 100 data points)\n",
    "# on each iteration.\n",
    "\n",
    "# To evaluate our linear regression's reliability, techniques such as train/test split and other\n",
    "# metrics are used."
   ]
  },
  {
   "cell_type": "code",
   "execution_count": null,
   "id": "700377fc-7e8b-427c-badd-3e5f2968ddac",
   "metadata": {},
   "outputs": [],
   "source": [
    "# Performing stochastic gradient descent for a linear regression\n",
    "import pandas as pd\n",
    "import numpy as np\n",
    "\n",
    "# Input data\n",
    "data = pd.read_csv('https://bit.ly/2KF29Bd', header=0)\n",
    "X = data.iloc[:, 0].values\n",
    "Y = data.iloc[:, -1].values\n",
    "\n",
    "print(data)\n",
    "\n",
    "print(X, Y)\n",
    "\n",
    "n = data.shape[0] # rows\n",
    "print(n)\n",
    "\n",
    "# Build the model\n",
    "m = 0.0\n",
    "b = 0.0\n",
    "\n",
    "sample_size = 1 #sample size\n",
    "l = 0.0001 # The learning rate\n",
    "\n",
    "epochs = 1_000_000 # The number of iterations to perform gradient descent\n",
    "\n",
    "# Performing stochastic gradient descent\n",
    "for i in range(epochs):\n",
    "    idx = np.random.choice(n, sample_size, replace=False)\n",
    "    x_sample = X[idx]\n",
    "    y_sample = Y[idx]\n",
    "\n",
    "    # The current predicted value of Y\n",
    "    Y_predict = m*x_sample + b\n",
    "\n",
    "    # d/db derivative of loss function\n",
    "    D_m = (-2/sample_size)*sum(x_sample*(y_sample - Y_predict))\n",
    "\n",
    "    # d/db derivative of loss function\n",
    "    D_b = (-2/sample_size)*sum(y_sample-Y_predict)\n",
    "\n",
    "    m -= l*D_m\n",
    "    b -= l*D_b\n",
    "\n",
    "    # print progress\n",
    "    if i%100_000 == 0:\n",
    "        print(i, m, b)\n",
    "\n",
    "print(\"y = {0}x + {1}\".format(m, b))"
   ]
  },
  {
   "cell_type": "code",
   "execution_count": null,
   "id": "8f48cf29-8c33-4c21-b2cd-3f8b05b631fc",
   "metadata": {},
   "outputs": [],
   "source": [
    "# PRE-CAUTION\n",
    "# Put every effort in analysing data and model and be careful to not use seed values and randomness to p-hack a 'good' result.\n",
    "\n",
    "# WHEN NOT TO USE LINEAR REGRESSION\n",
    "# Data has high variance. If the data is extremely spread out, it is going to drive up the variance\n",
    "# to the point predictions become less accurate and useful, resulting in large residuals.\n",
    "\n",
    "# THE CORRELATION COEFFICIENT\n",
    "# Correlation numerically measures how \"off\" our predictions are.\n",
    "\n",
    "# PEARSON CORRELATION\n",
    "# Measures the strength of the relationship between two variables as a value between -1 and 1.\n",
    "# A correlation coefficient closer to 0 indicates there is no correlation. A correlation cofficient closer\n",
    "# to 1 indicates a strong positive correlation, meaning two values are directly proportional to each other.\n",
    "# When the correlation cofficient is negative, two values are inversely proportional to each other.\n",
    "# The correlation coefficient is often denoted as r.\n",
    "\n",
    "# The correlation coefficient is useful if there is a possible relationship between two varibles. If there is a\n",
    "# strong positive-negative relationship, it will be useful in our linear regression.\n",
    "# If there is not a relationship, they may just add noise and hurt the model."
   ]
  },
  {
   "cell_type": "code",
   "execution_count": null,
   "id": "0cdc27f1-3359-4193-ba56-1e1bcd14bc1e",
   "metadata": {},
   "outputs": [],
   "source": [
    "# Using Pandas to see the correlation coefficient between every point of variables\n",
    "import pandas as pd\n",
    "\n",
    "# Read data into Pandas dataframe\n",
    "df = pd.read_csv('https://bit.ly/2KF29Bd',\n",
    "                 delimiter=\",\")\n",
    "\n",
    "# print correlation between variables\n",
    "correlations = df.corr(method='pearson')\n",
    "print(correlations)\n",
    "\n",
    "# The correlation coefficient 0.957586 between x and y indicates a strong positive correlation between the\n",
    "# two variables."
   ]
  },
  {
   "cell_type": "code",
   "execution_count": null,
   "id": "325bb0e8-f256-4095-bbeb-a84a9b446d07",
   "metadata": {},
   "outputs": [],
   "source": [
    "# Calculating correlation coffiecient from scratch in Python\n",
    "import pandas as pd\n",
    "from math import sqrt\n",
    "\n",
    "# Import points from csv\n",
    "points = list(pd.read_csv(\"https://bit.ly/2KF29Bd\").itertuples())\n",
    "n = len(points)\n",
    "\n",
    "numerator = n*sum(p.x * p.y for p in points) - \\\n",
    "            sum(p.x for p in points) * \\\n",
    "            sum(p.y for p in points)\n",
    "\n",
    "denominator = sqrt(n*sum(p.x ** 2 for p in points) - sum(p.x for p in points)**2) * \\\n",
    "              sqrt(n* sum(p.y**2 for p in points) - sum(p.y for p in points)**2)\n",
    "\n",
    "corr = numerator / denominator\n",
    "print(corr)"
   ]
  },
  {
   "cell_type": "code",
   "execution_count": null,
   "id": "aea78b11-9d82-4a25-8cfb-2f0c7c4b20e4",
   "metadata": {},
   "outputs": [],
   "source": [
    "# STATISTICAL SIGNIFICANCE\n",
    "# This provides a numerical value that informs if the correlation coefficient is not coincidential.\n",
    "# N.B statsmodel is a noteworthy library if you want to do statistical analysis. Scikit-learn and other\n",
    "# machine learning libraries do not provide tools for statistical and confidence intervals.\n",
    "\n",
    "# We need to not just express the correlation coefficient but also quantify how confident we are that\n",
    "# the correlation coefficient did not occur by chance.\n",
    "\n",
    "# Population correlation coefficient is denoted by Greek symbol (rho) while the sample correlation\n",
    "# coeficient is dentoted by r.\n",
    "\n",
    "# Our null hypothesis is that there is no relationship between two variables, or more technically the\n",
    "# correlation coefficient is 0.\n",
    "\n",
    "# The alternative hypothesis is there is a relationship, and it can be a positive or negative correlation.\n",
    "# We use a T-distribution rather than a normal distribution to do hypothesis testing with linear regression.\n",
    "\n",
    "# A T-distribution with 9 degrees of freedom, as there are 10 records and we subtract one. A degree of freedom\n",
    "# is the number of values in the final calculation of a statistic that are free to vary.\n",
    "\n",
    "# A statistical critical value is a cut-off point that determines whether to reject or accept a null hypothesis\n",
    "# in a statistical test."
   ]
  },
  {
   "cell_type": "code",
   "execution_count": null,
   "id": "2c7ae11e-17ff-4f34-b5a5-efe9072df7fe",
   "metadata": {},
   "outputs": [],
   "source": [
    "# Calculating the critical value from a T-distribution\n",
    "from scipy.stats import t\n",
    "n = 10\n",
    "\n",
    "# Lower critical value\n",
    "lower_cv = t(n-1).ppf(.025)\n",
    "\n",
    "# Upper critical value\n",
    "upper_cv = t(n-1).ppf(.975)\n",
    "\n",
    "print(lower_cv, upper_cv)"
   ]
  },
  {
   "cell_type": "code",
   "execution_count": null,
   "id": "c4b4db11-a2d1-49a0-96b2-67880a3001fe",
   "metadata": {},
   "outputs": [],
   "source": [
    "# Testing significance for a linear-looking data\n",
    "from scipy.stats import t\n",
    "from math import sqrt\n",
    "\n",
    "# Sample size\n",
    "n = 10\n",
    "\n",
    "lower_cv = t(n-1).ppf(.025)\n",
    "upper_cv = t(n-1).ppf(.975)\n",
    "\n",
    "# correlation coefficient\n",
    "# derived from data at https://bit.ly/2KF29Bd\n",
    "r = 0.957586\n",
    "\n",
    "# Perform the test\n",
    "test_value = r / sqrt((1-r**2)/(n-2))\n",
    "\n",
    "print(\"TEST VALUE: {}\".format(test_value))\n",
    "print(\"CRITICAL RANGE: {}, {}\".format(lower_cv, upper_cv))\n",
    "\n",
    "if test_value < lower_cv or test_value > upper_cv:\n",
    "    print(\"CORRELATION PROVEN, REJECT H0\")\n",
    "else:\n",
    "    print(\"CORRELATION NOT PROVEN, FAILED TO REJECT H0\")\n",
    "\n",
    "# Calculate p-value\n",
    "if test_value > 0:\n",
    "    p_value = 1.0 - t(n-1).cdf(test_value)\n",
    "else:\n",
    "    p_value = t(n-1).cdf(test_value)\n",
    "\n",
    "# Two-tailed, so multiply by 2\n",
    "p_value = p_value*2\n",
    "print(\"P-VALUE: {}\".format(p_value))"
   ]
  },
  {
   "cell_type": "code",
   "execution_count": null,
   "id": "adf4964b-109f-4d35-9db0-2a23c389e858",
   "metadata": {},
   "outputs": [],
   "source": [
    "# The test value here is approximately 9.39956, which is definitely\n",
    "# outside the range of (-2.262, 2.262) so we can reject the null hypothesis\n",
    "# and say our correlation is real. That is because the p-value is remarkably\n",
    "# significant: 0.0000059738. It is highly unlikely these points randomly\n",
    "# arranged themselves near a line this closely by chance.\n",
    "\n",
    "# When you have a p-value this low, you can bet you are measuring an engineered\n",
    "# and tightly controlled process, not something sociological or natural.\n",
    "\n",
    "# The rule is this; the more data you have that consistently resembles a line; the more\n",
    "# significant the p-value for your correlation will be. The more scattered or sparse\n",
    "# the data, the more the p-value will increase and thus indicate your correlation occurred\n",
    "# random chance."
   ]
  },
  {
   "cell_type": "code",
   "execution_count": null,
   "id": "2719b790-ed89-4ae5-8d2f-4b9f45712e69",
   "metadata": {},
   "outputs": [],
   "source": [
    "# COEFFICIENT OF DETERMINATION\n",
    "# The coefficient of determination, r squared, measures how much variation in one variable\n",
    "# is explained by the variation of the other variable. It is also the square of the\n",
    "# correlation coefficient, r."
   ]
  },
  {
   "cell_type": "code",
   "execution_count": null,
   "id": "b4855980-9776-4f81-9f1b-8bd806718cb1",
   "metadata": {},
   "outputs": [],
   "source": [
    "# Creating a correlation matrix in Pandas\n",
    "import pandas as pd\n",
    "# Read data into Pandas dataframe\n",
    "df = pd.read_csv('https://bit.ly/2KF29Bd', delimiter=\",\")\n",
    "\n",
    "# print correlations between variables\n",
    "coeff_determination = df.corr(method='pearson')**2\n",
    "print(coeff_determination)"
   ]
  },
  {
   "cell_type": "code",
   "execution_count": null,
   "id": "0217de16-219a-4a91-b824-b22c30dd4a1f",
   "metadata": {},
   "outputs": [],
   "source": [
    "# STANDARD ERROR OF THE ESTIMATE\n",
    "# One way to measure the overall error of a linear regression is the SSE, Sum of Squared Error.\n",
    "# Check out for formulas pf SSE and standard Error of the Estimate\n",
    "# The standard error of estimates looks closely to the standard deviation.It is the standard deviation of the\n",
    "# linear regrression."
   ]
  },
  {
   "cell_type": "code",
   "execution_count": null,
   "id": "db986b8f-321c-4868-a33b-e9de788c5ac4",
   "metadata": {},
   "outputs": [],
   "source": [
    "# Calculating the standard error of the estimate\n",
    "# Here is how we calculate it in Python:\n",
    "import pandas as pd\n",
    "from math import sqrt\n",
    "\n",
    "# Load the data\n",
    "points = list(pd.read_csv('https://bit.ly/2KF29Bd', delimiter=',').itertuples())\n",
    "\n",
    "n = len(points)\n",
    "\n",
    "# Regression line\n",
    "m = 1.939\n",
    "b = 4.733\n",
    "\n",
    "# Calculate standard error of estimate\n",
    "S_e = sqrt((sum((p.y - (m*p.x + b))**2 for p in points)) / (n-2))\n",
    "\n",
    "print(S_e)"
   ]
  },
  {
   "cell_type": "code",
   "execution_count": null,
   "id": "c20d95ac-5448-4cf7-94a2-2bf463922b39",
   "metadata": {},
   "outputs": [],
   "source": [
    "# PREDICTION INTERVALS\n",
    "# This is a confidence interval around each y prediction. It is an estimate of an interval in which a future \n",
    "# observation will fall, with a certain probability given what has already been observed."
   ]
  },
  {
   "cell_type": "code",
   "execution_count": null,
   "id": "594c6fd0-f5c9-4855-a733-7582a3576915",
   "metadata": {},
   "outputs": [],
   "source": [
    "# Calculating a prediction interval of vet visits for a dog that's 8.5 years old\n",
    "import pandas as pd\n",
    "from scipy.stats import t\n",
    "from math import sqrt\n",
    "\n",
    "# Load the data\n",
    "points = list(pd.read_csv('https://bit.ly/2KF29Bd',\n",
    "                          delimiter=\",\").itertuples())\n",
    "n = len(points)\n",
    "\n",
    "# Linear Regression Line\n",
    "m = 1.939\n",
    "b = 4.733\n",
    "\n",
    "# Calculate prediction interval for x=8.5\n",
    "x_0 = 8.5\n",
    "x_mean = sum(p.x for p in points) / len(points)\n",
    "t_value = t(n-2).ppf(.975)\n",
    "\n",
    "standard_error = sqrt(sum((p.y - (m*p.x + b))**2 for p in points) / (n-2))\n",
    "\n",
    "margin_of_error = t_value * standard_error * \\\n",
    "                sqrt(1+ (1/n) + \\\n",
    "                     (n * (x_0 - x_mean)**2) / (n*sum(p.x**2 for p in points) - sum(p.x for p in points)**2))\n",
    "\n",
    "predicted_y = m*x_0 + b\n",
    "\n",
    "# Calculate prediction interval\n",
    "print(predicted_y - margin_of_error, predicted_y + margin_of_error)"
   ]
  },
  {
   "cell_type": "code",
   "execution_count": null,
   "id": "c1daeef9-d384-4e98-84b6-375b846baa2e",
   "metadata": {},
   "outputs": [],
   "source": [
    "# We not only create a prediction based on a linear regression (e.g a dog that is 8.5 years old will have\n",
    "# 21.2145 vet visits), but we also are actually able to say something much less absolute: there's a 95%\n",
    "# probability an 8.5 year old dog will visit the vet between 16.46 and 25.96 times.\n",
    "# And it's a safer claim because it captures a range rather than a single value, and thus accounts for uncertainty."
   ]
  },
  {
   "cell_type": "code",
   "execution_count": null,
   "id": "585d808c-c06a-47aa-b383-f3bbc0218d84",
   "metadata": {},
   "outputs": [],
   "source": [
    "# CONFIDENCE INTERVAL FOR PARAMETERS\n",
    "# Parameters like m and b have their own distributions, and we can model confidence intervals\n",
    "# around m and b individually to reflect the population's slope and y-intercept.\n",
    "\n",
    "# Train/Test Split\n",
    "# Scikit-learn does not support confidence intervals and p-values, as these two techniques are open\n",
    "# problems for higher-dimensional data.\n",
    "\n",
    "# Train/Test split is a basic technique machine learning practitioners use to mitigate overfitting,\n",
    "# where typically 1/3 of the data is set aside for testing and the other 2/3 is used for training.\n",
    "\n",
    "# The training dataset is used to fit the linear regression, while the testing dataset is used\n",
    "# to measure the linear regression's performance on data it has not seen before. This technique\n",
    "# is generally used for all supervised machine learning, including logistic regression and neural networks.\n",
    "\n",
    "# N.B Training is fitting a regression"
   ]
  },
  {
   "cell_type": "code",
   "execution_count": null,
   "id": "feaa58e2-9d44-4a17-aa5c-5ef42f952d73",
   "metadata": {},
   "outputs": [],
   "source": [
    "# Train/Test split on a linear regression\n",
    "import pandas as pd\n",
    "from sklearn.linear_model import LinearRegression\n",
    "from sklearn.model_selection import train_test_split\n",
    "\n",
    "# load the data\n",
    "df = pd.read_csv(\"https://bit.ly/3cIH97A\",\n",
    "                 delimiter=\",\")\n",
    "# Extract input variables (all rows, all columns but last column)\n",
    "X = df.values[:, :-1]\n",
    "\n",
    "# Extract output column (all rows, last column)\n",
    "Y = df.values[:, -1]\n",
    "\n",
    "# Separate training and testing data\n",
    "# This leaves a third of the data out for testing\n",
    "X_train, X_test, Y_train, Y_test = train_test_split(X, Y, test_size=1/3)\n",
    "\n",
    "model = LinearRegression()\n",
    "model.fit(X_train, Y_train)\n",
    "result = model.score(X_test, Y_test)\n",
    "print(\"r^2: %.3f\", result)"
   ]
  },
  {
   "cell_type": "code",
   "execution_count": null,
   "id": "f7fc4b26-e6ee-41a2-b11a-a57286689169",
   "metadata": {},
   "outputs": [],
   "source": [
    "# CROSS-VALIDATION\n",
    "# Cross-validation is considered the gold standard of validation techniques.\n",
    "# It is a technique used to evaluate the performance of a model by repeatedly \n",
    "# splitting the dataset into different training and testing sets, allowing for a\n",
    "# more robust assessment of how well the model generalizes to unseen data, rather\n",
    "# than just relying on a single train-test split. It helps to identify potential overfitting\n",
    "# issues and provides a more reliable estimate of the model's accuracy across different\n",
    "# subsets."
   ]
  },
  {
   "cell_type": "code",
   "execution_count": null,
   "id": "cb5b14fc-8c6d-4f3a-8636-4dcddd363169",
   "metadata": {},
   "outputs": [],
   "source": [
    "# Using cross-validation for a linear regression\n",
    "import pandas as pd\n",
    "from sklearn.linear_model import LinearRegression\n",
    "from sklearn.model_selection import KFold, cross_val_score\n",
    "\n",
    "df = pd.read_csv('https://bit.ly/3cIH97A',\n",
    "             delimiter=',')\n",
    "# Extract input variables (all rows, all columns but last column)\n",
    "X = df.values[:, :-1]\n",
    "\n",
    "# Extract output column (all rows, last column)\n",
    "Y = df.values[:, -1]\n",
    "\n",
    "# Perform a simple linear regression.\n",
    "kfold = KFold(n_splits=3,\n",
    "              random_state=7,\n",
    "              shuffle=True)\n",
    "\n",
    "model = LinearRegression()\n",
    "result = cross_val_score(model, X, Y, cv=kfold)\n",
    "print(result)\n",
    "# MSE: Mean Sum of Error\n",
    "print(\"MSE: mean=%.3f (stdev-%.3f)\"%(result.mean(), result.std()))"
   ]
  },
  {
   "cell_type": "code",
   "execution_count": null,
   "id": "f5a4cf7f-c4e5-4b55-949a-97b1a3700704",
   "metadata": {},
   "outputs": [],
   "source": [
    "# We do not have to fold our data by thirds. You can use k-fold validation to split on any proportion.\n",
    "# Typically, 1/3, 1/5 or 1/10 is used for the preparation of testing,\n",
    "# but 1/3 is the most common.\n",
    "\n",
    "# Generally, the k you choose has a result in a test dataset that has a large enough sample for the problem."
   ]
  },
  {
   "cell_type": "code",
   "execution_count": null,
   "id": "744f6170-d157-498e-a580-28e3313d68bb",
   "metadata": {},
   "outputs": [],
   "source": [
    "# When you get concerned about variance in your model, one thing you can do, rather than a simple train/test split\n",
    "# or cross-validation, is use random-fold validation to repeatedly shuffle and train/test split\n",
    "# your data an unlimited number of times and aggregate the testing results.\n",
    "\n",
    "# Cross-validation\n",
    "# This is a technique used in machine learning to evaluate the performance of a model on unseen data. Cross-validation\n",
    "# or rotation estimation or out-of-sample testing, is any of various similar model validation techinques \n",
    "# for assessing how the results of a statistical analysis will generalize to an independent dataset."
   ]
  },
  {
   "cell_type": "code",
   "execution_count": null,
   "id": "dd06fee3-e4b9-45eb-b480-42330df03167",
   "metadata": {},
   "outputs": [],
   "source": [
    "# Using a random-fold validation for a linear regression\n",
    "import pandas as pd\n",
    "from sklearn.linear_model import LinearRegression\n",
    "from sklearn.model_selection import cross_val_score, ShuffleSplit\n",
    "\n",
    "df = pd.read_csv(\"https://bit.ly/38XwbeB\",\n",
    "                 delimiter=\",\")\n",
    "\n",
    "# Extract input variables (all rows, all columns but last column)\n",
    "X = df.values[:, :-1]\n",
    "\n",
    "# Extract output columns (all rows, all columns)\n",
    "Y = df.values[:,-1]\n",
    "\n",
    "# Perform a simple linear regression\n",
    "kfold = ShuffleSplit(n_splits=10, test_size=.33, random_state=7)\n",
    "\n",
    "model = LinearRegression()\n",
    "results = cross_val_score(model, X, Y, cv=kfold)\n",
    "\n",
    "# results\n",
    "print(results)\n",
    "print(\"mean=%.3f (stdev-%.3f)\"%(results.mean(), results.std()))"
   ]
  },
  {
   "cell_type": "code",
   "execution_count": null,
   "id": "7d84e0e8-5436-4372-8ae0-686cf1657918",
   "metadata": {},
   "outputs": [],
   "source": [
    "# MULTIPLE LINEAR REGRESSION\n",
    "# A linear regression with two input variables\n",
    "import pandas as pd\n",
    "from sklearn.linear_model import LinearRegression\n",
    "\n",
    "# Load the data\n",
    "df = pd.read_csv(\"https://bit.ly/2X1HWH7\",\n",
    "                 delimiter=\",\")\n",
    "\n",
    "# Extract input variables (all rows, all columns, but last column)\n",
    "X = df.values[:, :-1]\n",
    "\n",
    "# Extract output column(all rows, last column)\n",
    "Y = df.values[:, -1]\n",
    "\n",
    "# Training\n",
    "fit = LinearRegression().fit(X, Y)\n",
    "\n",
    "# Print coefficients\n",
    "print(\"Coefficients = {0}\".format(fit.coef_))\n",
    "print(\"Intercept = {0}\".format(fit.intercept_))\n",
    "print(\"z = {0} + {1}x + {2}y\".format(fit.intercept_, fit.coef_[0], fit.coef_[1]))"
   ]
  },
  {
   "cell_type": "markdown",
   "id": "ddbf8d39-43b9-418f-b05a-ceffc6594e09",
   "metadata": {},
   "source": [
    "<h3>Sales Prediction with linear Regression</h3>"
   ]
  },
  {
   "cell_type": "code",
   "execution_count": null,
   "id": "c2aa7e2e-b36b-45b9-9b21-5040385c7178",
   "metadata": {},
   "outputs": [],
   "source": [
    "# CHALLENGES\n",
    "# SALES PREDICTION WITH LINEAR REGRESSION\n",
    "# Build a prediction model which predicts sales based on the money spent on different\n",
    "# platforms for marketing\n",
    "\n",
    "# Suppress warnings\n",
    "import warnings\n",
    "warnings.filterwarnings('ignore')\n",
    "\n",
    "import numpy as np\n",
    "import pandas as pd\n",
    "\n",
    "import matplotlib.pyplot as plt\n",
    "import seaborn as sns\n",
    "\n",
    "dfAdvert = pd.read_csv('../Data/Advertising.csv',\n",
    "                       # index_col=0\n",
    "                      )\n",
    "dfAdvert.head()"
   ]
  },
  {
   "cell_type": "code",
   "execution_count": null,
   "id": "a252f42e-bfc2-497d-b7d3-4462a163475f",
   "metadata": {},
   "outputs": [],
   "source": [
    "# Inspect data\n",
    "dfAdvert.shape"
   ]
  },
  {
   "cell_type": "code",
   "execution_count": null,
   "id": "9fcd7abf-0246-439a-8ee0-946935a288ce",
   "metadata": {},
   "outputs": [],
   "source": [
    "dfAdvert.info()"
   ]
  },
  {
   "cell_type": "code",
   "execution_count": null,
   "id": "46a0f68b-4152-4735-9cd6-1fb6cf7f1c59",
   "metadata": {},
   "outputs": [],
   "source": [
    "dfAdvert.describe()"
   ]
  },
  {
   "cell_type": "code",
   "execution_count": null,
   "id": "c5d87fd6-4117-46e3-9169-f78340e51790",
   "metadata": {},
   "outputs": [],
   "source": [
    "# check for null values\n",
    "dfAdvert.isnull().sum()\n",
    "# There are no null values"
   ]
  },
  {
   "cell_type": "code",
   "execution_count": null,
   "id": "6f1d3a1f-07b5-4257-91e7-edebb3cb1b3e",
   "metadata": {},
   "outputs": [],
   "source": [
    "# Outlier analysis\n",
    "fig, axs = plt.subplots(3, figsize=(5,5))\n",
    "plt1 = sns.boxplot(x=dfAdvert['TV'], ax=axs[0])\n",
    "plt2 = sns.boxplot(x=dfAdvert['Newspaper'], ax=axs[1])\n",
    "plt3 = sns.boxplot(x=dfAdvert['Radio'], ax=axs[2])\n",
    "plt.tight_layout()\n",
    "# plt.show()"
   ]
  },
  {
   "cell_type": "code",
   "execution_count": null,
   "id": "0a32c767-f623-4697-adc7-38f91e266f6a",
   "metadata": {},
   "outputs": [],
   "source": [
    "# There are no considerable outliers\n",
    "# Newspaper has some outliers\n",
    "# There are no outliers in Radio and TV"
   ]
  },
  {
   "cell_type": "code",
   "execution_count": null,
   "id": "90aebd45-305c-4f63-a31f-ff6aadb4328b",
   "metadata": {},
   "outputs": [],
   "source": [
    "# Exploratory Data Analysis\n",
    "# Univariate Analysis\n",
    "sns.boxplot(x=dfAdvert['Sales'])\n",
    "plt.show()"
   ]
  },
  {
   "cell_type": "code",
   "execution_count": null,
   "id": "2a964a04-4119-4172-a2ae-02525800414f",
   "metadata": {},
   "outputs": [],
   "source": [
    "# Variation of sales with other variables using a scatter plot\n",
    "sns.pairplot(dfAdvert, x_vars=['TV', 'Newspaper', 'Radio'],\n",
    "             y_vars='Sales', height=4, aspect=1, kind='scatter')\n",
    "plt.show()"
   ]
  },
  {
   "cell_type": "code",
   "execution_count": null,
   "id": "e751a49f-5c82-4e96-9623-77dc57d480a8",
   "metadata": {
    "scrolled": true
   },
   "outputs": [],
   "source": [
    "# Correlation between different variables\n",
    "sns.heatmap(dfAdvert.corr(),\n",
    "            cmap=\"YlGnBu\",\n",
    "            annot=True\n",
    "           )\n",
    "plt.show()\n",
    "\n",
    "# As seen in the heatmap, TV correlates more with Sales than anyother variable."
   ]
  },
  {
   "cell_type": "code",
   "execution_count": null,
   "id": "c22063e5-92fd-4e24-b150-086b2b564fa6",
   "metadata": {},
   "outputs": [],
   "source": [
    "# Building a linear model\n",
    "X = dfAdvert['TV']\n",
    "y = dfAdvert['Sales']\n",
    "\n",
    "# Train/Test Split\n",
    "from sklearn.model_selection import train_test_split\n",
    "X_train, X_test, y_train, y_test = train_test_split(X, y,\n",
    "                                                    # train_size=0.7,\n",
    "                                                    test_size=.3,\n",
    "                                                    random_state=100\n",
    "                                                   )\n",
    "\n",
    "# Let's take a look at the train dataset"
   ]
  },
  {
   "cell_type": "code",
   "execution_count": null,
   "id": "2d392f7e-510f-42ae-99b3-4b1193d3bf30",
   "metadata": {},
   "outputs": [],
   "source": [
    "X_train.head()"
   ]
  },
  {
   "cell_type": "code",
   "execution_count": null,
   "id": "4d48e5ee-53a9-41b9-b6c4-461d20a4ae6b",
   "metadata": {},
   "outputs": [],
   "source": [
    "y_train.head()"
   ]
  },
  {
   "cell_type": "code",
   "execution_count": null,
   "id": "741262e9-35cf-4d62-b8c9-0f1e9a31d291",
   "metadata": {},
   "outputs": [],
   "source": [
    "# Building a linear model\n",
    "import statsmodels.api as sm\n",
    "\n",
    "# By default, the statsmodels library fits a line on the dataset which passes through the origin. But in order\n",
    "# to have an intercept, you need to manually use the add_constant attribute of statsmodels. And once you've added\n",
    "# the constant to your X_train dataset, you can go ahead and fit a regression line using the OLS (Ordinary Least Squares)\n",
    "# attribute of statsmodels as shown below"
   ]
  },
  {
   "cell_type": "code",
   "execution_count": null,
   "id": "b82ee5a0-ba18-4d8e-b2ee-27ba43ec1c79",
   "metadata": {},
   "outputs": [],
   "source": [
    "# Add a constant to get an intercept\n",
    "X_train_sm = sm.add_constant(X_train)\n",
    "\n",
    "# Fit the regression line using OLS\n",
    "lr = sm.OLS(y_train, X_train_sm).fit()"
   ]
  },
  {
   "cell_type": "code",
   "execution_count": null,
   "id": "add04023-809e-4fae-bea3-d15d547835e3",
   "metadata": {},
   "outputs": [],
   "source": [
    "# Print the parameters, i.e the intercept and the scope of the regression line fitted\n",
    "lr.params"
   ]
  },
  {
   "cell_type": "code",
   "execution_count": null,
   "id": "e6842cdf-310a-40bd-9aec-ad9c9c486321",
   "metadata": {},
   "outputs": [],
   "source": [
    "# Performing a summary operation list outputs all the different parameters of the regression line fitted\n",
    "print(lr.summary())"
   ]
  },
  {
   "cell_type": "code",
   "execution_count": null,
   "id": "2bf084be-3f53-499e-90e3-f9c1218ee749",
   "metadata": {},
   "outputs": [],
   "source": [
    "# Looking at some key statistics from summary\n",
    "# The values we are concerned with are;\n",
    "# 1. The coefficients and significance (p-values)\n",
    "# 2. R-squared\n",
    "# 3. F Statistics and its significance\n",
    "# 4. The coefficient for TV is 0.054, with a very low p-value\n",
    "# The coefficient is statistically significant, so the association is not purely by chance.\n",
    "\n",
    "# R-squared is 0.816,\n",
    "# meaning that 81.6 percent of the variance in sales is explained by Tv\n",
    "# This is a descent R-squared value\n",
    "\n",
    "# F-statistic has a very low value (practically low)\n",
    "# meaning that the model fit is statistically significant, and explained variance isn't purely by chance.\n",
    "# The fit is significant."
   ]
  },
  {
   "cell_type": "code",
   "execution_count": null,
   "id": "d51457b3-e9bc-41e3-994e-1f651edf72f0",
   "metadata": {},
   "outputs": [],
   "source": [
    "# Visualizing how well the model fit the data\n",
    "# Scatter plot\n",
    "plt.scatter(X_train, y_train)\n",
    "plt.plot(X_train, 6.948 + 0.054*X_train, 'r')"
   ]
  },
  {
   "cell_type": "code",
   "execution_count": null,
   "id": "71f51450-ddb8-486a-93f6-7fa4a803a0e9",
   "metadata": {},
   "outputs": [],
   "source": [
    "# Residual analysis\n",
    "# To validate assumptions of the model, and hence the reliability for inference.\n",
    "\n",
    "# Distribution of the error terms\n",
    "# We need to check if the error terms are normally distributed (which is infact, one of the major assumptions of \n",
    "# linear regressions). \n",
    "# plotting a histogram of error terms and see what it looks like.\n",
    "\n",
    "y_train_pred = lr.predict(X_train_sm)\n",
    "res = (y_train-y_train_pred)"
   ]
  },
  {
   "cell_type": "code",
   "execution_count": null,
   "id": "8a273319-0e07-4143-8a03-c51318ef33f2",
   "metadata": {},
   "outputs": [],
   "source": [
    "# plot\n",
    "fig = plt.figure()\n",
    "sns.distplot(res, bins=15)\n",
    "fig.suptitle('Error Terms', fontsize=15)\n",
    "plt.xlabel('y_train - y_train_pred', fontsize=15)\n",
    "plt.show()"
   ]
  },
  {
   "cell_type": "code",
   "execution_count": null,
   "id": "b5928a81-00d0-46e5-8f22-9a9137c5bc2d",
   "metadata": {},
   "outputs": [],
   "source": [
    "# The residuals follow a normal distribution with a mean of 0.0. This is all good news!"
   ]
  },
  {
   "cell_type": "code",
   "execution_count": null,
   "id": "309b2f5b-b80a-4f94-a113-d000f3b2901b",
   "metadata": {},
   "outputs": [],
   "source": [
    "# Looking for patterns in the residuals\n",
    "plt.scatter(X_train, res)\n",
    "plt.show()"
   ]
  },
  {
   "cell_type": "raw",
   "id": "ec633ebe-3297-41ca-85a5-c5af0f1fc8b0",
   "metadata": {},
   "source": [
    "# This model fit isn't by chance, and has descent predictive power. The normality of the residual error terms \n",
    "# allows some inference on the coefficient. Although the variance of the residuals increasing with X, indicates that\n",
    "# there is significant variation that this model is unable to explain."
   ]
  },
  {
   "cell_type": "code",
   "execution_count": null,
   "id": "abc9c6dd-dcb2-4281-98e8-f188039eca55",
   "metadata": {},
   "outputs": [],
   "source": [
    "# Predictions on the test set\n",
    "# Add a constant to X_test\n",
    "X_test_sm = sm.add_constant(X_test)\n",
    "\n",
    "# Predict the values corresponding to X_test_sm\n",
    "y_pred = lr.predict(X_test_sm)\n",
    "\n",
    "y_pred.head()"
   ]
  },
  {
   "cell_type": "code",
   "execution_count": null,
   "id": "fd3c1a4e-931f-4c09-8c19-ba9b280b4d58",
   "metadata": {},
   "outputs": [],
   "source": [
    "from sklearn.metrics import mean_squared_error\n",
    "from sklearn.metrics import r2_score\n",
    "\n",
    "# RMSE\n",
    "np.sqrt(mean_squared_error(y_test, y_pred))"
   ]
  },
  {
   "cell_type": "code",
   "execution_count": null,
   "id": "bff34ca2-b69e-4572-807e-907f92b93025",
   "metadata": {},
   "outputs": [],
   "source": [
    "# Checking the r-squared on the test\n",
    "# r2_score is between -1 and 1. The more r2 tends to 1, the more significant is the correlation.\n",
    "# Thus the correlation is statistically significant.\n",
    "r_squared = r2_score(y_test, y_pred)\n",
    "r_squared"
   ]
  },
  {
   "cell_type": "code",
   "execution_count": null,
   "id": "0c992403-fb8f-4d91-8eb8-7ee9d542aa0e",
   "metadata": {},
   "outputs": [],
   "source": [
    "# Visualizing the fit on the test set\n",
    "plt.scatter(X_test, y_test)\n",
    "plt.plot(X_test, 6.948 + 0.054*X_test, 'r')\n",
    "plt.show()"
   ]
  },
  {
   "cell_type": "code",
   "execution_count": null,
   "id": "a39c8597-89e8-436f-affc-018ac060195a",
   "metadata": {},
   "outputs": [],
   "source": [
    "# Linear Regression using linear_model in sklearn\n",
    "# When there is only a single feature, we need to add an additional column in order for a linear regression fit\n",
    "# to be performed successfully\n",
    "\n",
    "from sklearn.model_selection import train_test_split\n",
    "X_train_lm, X_test_lm, y_train_lm, y_test_lm = train_test_split(X, y, train_size=0.7, test_size=.3, random_state=100)\n",
    "X_train_lm.shape"
   ]
  },
  {
   "cell_type": "code",
   "execution_count": null,
   "id": "d7316f14-c23e-4eeb-9f2f-cb6718d68f1c",
   "metadata": {},
   "outputs": [],
   "source": [
    "# Reshape X_train_lm\n",
    "X_train_lm = X_train_lm.values.reshape(-1, 1)\n",
    "X_test_lm = X_test_lm.values.reshape(-1, 1)"
   ]
  },
  {
   "cell_type": "code",
   "execution_count": null,
   "id": "b59b8046-3311-4e5c-87e8-1a091e0ee853",
   "metadata": {},
   "outputs": [],
   "source": [
    "print(X_train_lm.shape)\n",
    "print(X_test_lm.shape)\n",
    "print(y_train_lm.shape)\n",
    "print(y_test_lm.shape)"
   ]
  },
  {
   "cell_type": "code",
   "execution_count": null,
   "id": "4d55e1ca-8f89-4ffd-914e-5b8ef38f8559",
   "metadata": {},
   "outputs": [],
   "source": [
    "# Linear Regression model\n",
    "from sklearn.linear_model import LinearRegression\n",
    "lm = LinearRegression()\n",
    "\n",
    "# Fit the model using fit()\n",
    "lm.fit(X_train_lm, y_train_lm)"
   ]
  },
  {
   "cell_type": "code",
   "execution_count": null,
   "id": "170c1f35-6cd2-47d8-8466-72750a3d1f37",
   "metadata": {},
   "outputs": [],
   "source": [
    "# intercept\n",
    "# y = m*x + c\n",
    "print(lm.intercept_)\n",
    "\n",
    "# Coefficient\n",
    "print(lm.coef_)"
   ]
  },
  {
   "cell_type": "code",
   "execution_count": null,
   "id": "af043a60-5793-480f-a650-0417457b3672",
   "metadata": {},
   "outputs": [],
   "source": [
    "# The model is the same as before"
   ]
  },
  {
   "cell_type": "markdown",
   "id": "1306e127-6bc1-4187-9bb4-6e036643d75d",
   "metadata": {},
   "source": [
    "<h3>Boston Housing Data</h3>"
   ]
  },
  {
   "cell_type": "code",
   "execution_count": null,
   "id": "a4cfb4fe-acfa-4db0-8019-95b0adafb994",
   "metadata": {},
   "outputs": [],
   "source": [
    "# CHALLENGE TWO\n",
    "# Boston Housing Data\n",
    "import numpy as np\n",
    "import pandas as pd\n",
    "import matplotlib.pyplot as plt\n",
    "import seaborn as sns\n",
    "from scipy import stats\n",
    "# from sklearn.datasets import load_boston"
   ]
  },
  {
   "cell_type": "code",
   "execution_count": null,
   "id": "66c19392-6418-4473-952f-e07661bc5510",
   "metadata": {},
   "outputs": [],
   "source": [
    "df = pd.read_csv(filepath_or_buffer=\"http://lib.stat.cmu.edu/datasets/boston\",\n",
    "                delim_whitespace=True,\n",
    "                skiprows=21,\n",
    "                header=None)\n",
    "\n",
    "columns = [\n",
    "    'CRIM',\n",
    "    'ZN',\n",
    "    'INDUS',\n",
    "    'CHAS',\n",
    "    'NOX',\n",
    "    'RM',\n",
    "    'AGE',\n",
    "    'DIS',\n",
    "    'RAD',\n",
    "    'TAX',\n",
    "    'PTRATIO',\n",
    "    'B',\n",
    "    'LSTAT',\n",
    "    'MEDV',\n",
    "]"
   ]
  },
  {
   "cell_type": "code",
   "execution_count": null,
   "id": "e17f66ea-1e27-460e-9702-d576128fc790",
   "metadata": {},
   "outputs": [],
   "source": [
    "# Flatten all the values into a single long list and remove the nulls\n",
    "values_w_nulls = df.values.flatten()\n",
    "all_values = values_w_nulls[~np.isnan(values_w_nulls)]\n",
    "\n",
    "# Reshape the values to have 14 columns and make a new df out of them\n",
    "df = pd.DataFrame(\n",
    "    data=all_values.reshape(-1, len(columns)),\n",
    "    columns=columns)"
   ]
  },
  {
   "cell_type": "code",
   "execution_count": null,
   "id": "57f8e460-96b4-497f-979c-d9f3a955d369",
   "metadata": {},
   "outputs": [],
   "source": [
    "df"
   ]
  },
  {
   "cell_type": "code",
   "execution_count": null,
   "id": "065aa8d0-b39f-419e-b661-b5fbc58a2a81",
   "metadata": {},
   "outputs": [],
   "source": [
    "# Quick Analysis\n",
    "print(\"Shape: \", df.shape)\n",
    "print(\"Columns: \", df.columns.to_list())"
   ]
  },
  {
   "cell_type": "code",
   "execution_count": null,
   "id": "3215c129-6cdf-4037-8325-4ddd234c0811",
   "metadata": {},
   "outputs": [],
   "source": [
    "df.info()"
   ]
  },
  {
   "cell_type": "code",
   "execution_count": null,
   "id": "fc45a666-7fd2-48f5-a636-d7a163e093ab",
   "metadata": {},
   "outputs": [],
   "source": [
    "df.describe()"
   ]
  },
  {
   "cell_type": "code",
   "execution_count": null,
   "id": "c9380df1-b51f-40dc-9657-27ecabce7e86",
   "metadata": {},
   "outputs": [],
   "source": [
    "# Data Wrangling\n",
    "df.isnull().sum()\n",
    "\n",
    "# No null values"
   ]
  },
  {
   "cell_type": "code",
   "execution_count": null,
   "id": "3d851897-2be2-4536-8998-4ce99dfee730",
   "metadata": {},
   "outputs": [],
   "source": [
    "# Visualisation of distribution\n",
    "df.hist(bins=30, \n",
    "        figsize=(18,18));"
   ]
  },
  {
   "cell_type": "code",
   "execution_count": null,
   "id": "ec89664f-df0a-4121-80e8-03d29b6eff73",
   "metadata": {},
   "outputs": [],
   "source": [
    "# Visualising variation between the independent variable and the dependent variable\n",
    "plt.figure(figsize=(25, 25))\n",
    "for i, col in enumerate(df.columns):\n",
    "    plt.subplot(4, 4, i+1)\n",
    "    sns.regplot(x=col, y='MEDV', data=df)\n",
    "    plt.title(\"%s vs MEDV\"%(col))"
   ]
  },
  {
   "cell_type": "code",
   "execution_count": null,
   "id": "30710ef0-1845-49d5-8360-6fe3e19e707d",
   "metadata": {},
   "outputs": [],
   "source": [
    "# Observations so far\n",
    "# Variable 'RM' seems to have positive linear relationship with target variable 'MEDV'\n",
    "# Variable 'LSTAT' seems to have negative linear relationship with target variable 'MEDV'\n",
    "# Using pearson correlation to analysis correlation between variables"
   ]
  },
  {
   "cell_type": "code",
   "execution_count": null,
   "id": "b101db21-1c1b-402a-a633-541c3287ad00",
   "metadata": {},
   "outputs": [],
   "source": [
    "# Visualize pearson corr\n",
    "sns.set(rc={'figure.figsize': (8, 8)})\n",
    "sns.heatmap(df.corr(method='pearson').round(2),\n",
    "            square=True,\n",
    "            cmap='RdYlGn',\n",
    "            annot=True\n",
    "           );"
   ]
  },
  {
   "cell_type": "code",
   "execution_count": null,
   "id": "0b5e7e7e-9c90-4f8e-8411-71e758ee2e13",
   "metadata": {},
   "outputs": [],
   "source": [
    "# P_value\n",
    "pearson_coef1, p_value1 = stats.pearsonr(df['RM'], df['MEDV'])\n",
    "print(\"The pearson correlation coefficient for RM is\", pearson_coef1, \"with a p_value of P = \", p_value1)\n",
    "\n",
    "# LSTAT\n",
    "pearson_coef2, p_value2 = stats.pearsonr(df['LSTAT'], df['MEDV'])\n",
    "print(\"The pearson correlation coefficient for LSTAT is\", pearson_coef2, \"with a p_value of P = \", p_value2)\n",
    "print(\"Is there strong evidence if correlation is significant for RM\", p_value1 <0.001)\n",
    "print(\"Is there strong evidence if correlation is significant for LSTAT\", p_value2 <0.001)"
   ]
  },
  {
   "cell_type": "code",
   "execution_count": null,
   "id": "5af527ca-0e9f-42f6-8f62-543d0e243f58",
   "metadata": {},
   "outputs": [],
   "source": [
    "# Correlation is significant for both RM and LSTAT"
   ]
  },
  {
   "cell_type": "code",
   "execution_count": null,
   "id": "e5ddc349-2a9e-4ad4-a028-4c4a57fea5c9",
   "metadata": {},
   "outputs": [],
   "source": [
    "# Linear model\n",
    "lm1 = LinearRegression()\n",
    "X1 = df[['RM']]\n",
    "y1 = df[['MEDV']]\n",
    "\n",
    "# Fit (Train) the model\n",
    "lm1.fit(X1, y1)\n",
    "\n",
    "print(\"Intercept for the model is\", lm1.intercept_[0], \"and the scope is \", lm1.coef_[0])\n",
    "\n",
    "# Prediction\n",
    "y_out1 = lm1.predict(X1)\n",
    "\n",
    "# Actual and predicted values\n",
    "print(\"Predicted values: \", y_out1[:5])\n",
    "\n",
    "print(\"Actual values: \", y1.values[:5])"
   ]
  },
  {
   "cell_type": "code",
   "execution_count": null,
   "id": "19a62bfd-8a23-451f-baa6-515f15bfaff7",
   "metadata": {},
   "outputs": [],
   "source": [
    "# Multiple linear regression\n",
    "lm2 = LinearRegression()\n",
    "X2 = df[['RM', 'LSTAT']]\n",
    "y2 = df[['MEDV']]\n",
    "\n",
    "# Fit the model\n",
    "lm2.fit(X2, y2)\n",
    "\n",
    "print(\"Intercept for the model is\", lm2.intercept_, \"and the scope is \", lm2.coef_)\n",
    "\n",
    "# predict\n",
    "y_out2 = lm2.predict(X2)\n",
    "\n",
    "# Actual and predicted values (first five)\n",
    "print(\"Predicted values: \", y_out2[:5])\n",
    "print(\"Actual values: \", y2.values[:5])"
   ]
  },
  {
   "cell_type": "code",
   "execution_count": null,
   "id": "28b5979e-2019-4675-9f55-71a2e6e5ec8a",
   "metadata": {},
   "outputs": [],
   "source": [
    "# Model Visualization\n",
    "# For simple linear regression, we can use regression plot or residual plot.\n",
    "# A residual plot is the difference between the observed value (y) and the predicted value (y_out)\n",
    "\n",
    "# If the points in a resisual plot are randomly spreadout around the x-axis, then the linear model is apropriate for the data.\n",
    "# Randomly spreadout residuals means the variance is constant, and thus the linear model is a good fit for this data.\n",
    "\n",
    "plt.figure(figsize=(6,6))\n",
    "sns.residplot(x=df['RM'], y=df['MEDV'])\n",
    "plt.show()"
   ]
  },
  {
   "cell_type": "code",
   "execution_count": null,
   "id": "0d00526e-a83d-437b-87aa-e34c811a743f",
   "metadata": {},
   "outputs": [],
   "source": [
    "# Visualizing a multiple linear regression\n",
    "# For a multiple linear regression, we can't use a regression or residual plot because of multiple independent\n",
    "# variables, so we will use a distribution plot\n",
    "plt.figure(figsize=(6,6))\n",
    "ax1 = sns.distplot(df['MEDV'],\n",
    "                   hist=False,\n",
    "                   color='r',\n",
    "                   label='Actual',\n",
    "                  );\n",
    "sns.distplot(y_out2,\n",
    "             hist=False,\n",
    "             color='b',\n",
    "             label='Fitted',\n",
    "             ax=ax1);"
   ]
  },
  {
   "cell_type": "code",
   "execution_count": null,
   "id": "85911859-f421-4f7d-9bc7-105ec055a21f",
   "metadata": {},
   "outputs": [],
   "source": [
    "# MODEL ACCURACY\n",
    "from sklearn.metrics import mean_squared_error\n",
    "# simple Linear Regression\n",
    "mse1 = mean_squared_error(y1, y_out1)\n",
    "\n",
    "print(\"Mean Squared Error for simple linear regression is \", mse1)\n",
    "print(\"R-squared value for simple linear regression is \", lm1.score(X1, y1))"
   ]
  },
  {
   "cell_type": "code",
   "execution_count": null,
   "id": "116b0c52-aee5-482b-b234-d5233a526fd6",
   "metadata": {},
   "outputs": [],
   "source": [
    "# Multiple linear Regression\n",
    "mse2 = mean_squared_error(y2, y_out2)\n",
    "print(\"Mean Square Error for multiple linear regression is \", mse2)\n",
    "print(\"R-Square value for multiple linear regression is \", lm2.score(X2, y2))"
   ]
  },
  {
   "cell_type": "code",
   "execution_count": null,
   "id": "b6916258-b19f-4b30-a14f-40b8dfb6886b",
   "metadata": {},
   "outputs": [],
   "source": [
    "# The best model is one with less MSE and higher R-squared\n",
    "# Thus the second model is the better one."
   ]
  },
  {
   "cell_type": "code",
   "execution_count": null,
   "id": "da58e353-a8f2-4543-961f-2c3c943c8269",
   "metadata": {},
   "outputs": [],
   "source": [
    "# MODEL EVALUATION\n",
    "mse2 = mean_squared_error(y2, y_out2)\n",
    "y_data = df['MEDV']\n",
    "X_data = df.drop('MEDV', axis=1)\n",
    "from sklearn.model_selection import train_test_split\n",
    "\n",
    "#Split the data into test and training (15% as test data)\n",
    "X_train, X_test, y_train, y_test = train_test_split(X_data, y_data, test_size=0.15, random_state=10)\n",
    "print(\"Number of test samples: \", X_test.shape[0])\n",
    "print(\"Number of training samples: \", X_train.shape[0])\n",
    "\n",
    "lm = LinearRegression()\n",
    "\n",
    "# Fit (train) the model using the training data\n",
    "lm.fit(X_train[['RM', 'LSTAT']], y_train)\n",
    "\n",
    "# Prediction using Training Data\n",
    "y_out_train = lm.predict(X_train[['RM', 'LSTAT']])\n",
    "print(y_out_train[0:5])\n",
    "\n",
    "# Prediction using Test Data\n",
    "y_out_test = lm.predict(X_test[['RM', 'LSTAT']])\n",
    "print(y_out_test[:5])\n",
    "\n",
    "# Model Accuracy using test data\n",
    "mse_test = mean_squared_error(y_test, y_out_test)\n",
    "print(\"Mean Square Error is \", mse_test)\n",
    "print(\"R-Square value using test data is\", lm.score(X_test[['RM', 'LSTAT']], y_test))"
   ]
  },
  {
   "cell_type": "code",
   "execution_count": null,
   "id": "d4467bce-5519-4cb7-9111-8998502cf4e1",
   "metadata": {},
   "outputs": [],
   "source": [
    "# Cross Validation\n",
    "from sklearn.model_selection import cross_val_score, KFold\n",
    "rcross = cross_val_score(lm, X_data, y_data, cv=KFold(n_splits=5, shuffle=True))\n",
    "print(rcross)\n",
    "print(\"The mean of the folds are\", rcross.mean())"
   ]
  },
  {
   "cell_type": "markdown",
   "id": "2bade149-b672-4b5e-82dd-1307d5e781ee",
   "metadata": {},
   "source": [
    "<h3>Sweden Insurance</h3>\n",
    "<p>The Auto Insurance in Sweden dataset involves predicting the total payment for all the claims\n",
    "in thousands of Swedish Kronor, y given the total number of claims, x.</p>"
   ]
  },
  {
   "cell_type": "code",
   "execution_count": null,
   "id": "a85401a1-7d56-442f-b2c9-7d23542b852a",
   "metadata": {},
   "outputs": [],
   "source": [
    "# Import packages\n",
    "import pandas as pd\n",
    "import numpy as np\n",
    "import math\n",
    "import matplotlib as plt\n",
    "import plotly.express as px"
   ]
  },
  {
   "cell_type": "code",
   "execution_count": null,
   "id": "4e7b4b84-d908-4823-badd-0806896996e8",
   "metadata": {},
   "outputs": [],
   "source": [
    "# Read Data\n",
    "data = pd.read_csv(\"../Data/swedish_insurance.csv\")\n",
    "data.info()"
   ]
  },
  {
   "cell_type": "code",
   "execution_count": null,
   "id": "33100b7a-4d27-4145-a5aa-482ba656b000",
   "metadata": {},
   "outputs": [],
   "source": [
    "# columns\n",
    "print(data.columns)"
   ]
  },
  {
   "cell_type": "code",
   "execution_count": null,
   "id": "0a9676ab-1ab2-4a32-a87c-2cb78cb4551f",
   "metadata": {},
   "outputs": [],
   "source": [
    "data.head(5)"
   ]
  },
  {
   "cell_type": "code",
   "execution_count": null,
   "id": "5a7f99eb-78f0-4db7-965b-17452c26bc8e",
   "metadata": {},
   "outputs": [],
   "source": [
    "# Visualization\n",
    "fig = px.box(data['X'], points=\"all\", width=500, height=500)\n",
    "fig.update_layout(title=f'Distribution of X',\n",
    "                  title_x=0.5,\n",
    "                  yaxis_title=\"Number of Insurance Claims\")\n",
    "fig.show()\n",
    "\n",
    "# y variable\n",
    "fig = px.box(data['Y'], points='all',\n",
    "            width=500,\n",
    "            height=500)\n",
    "fig.update_layout(title=f'Distribution of Y',\n",
    "                  title_x=.5,\n",
    "                  yaxis_title=\"Amount of Insurance Paid\")"
   ]
  },
  {
   "cell_type": "code",
   "execution_count": null,
   "id": "cecbc61d-3b2d-43d7-98b5-275c28c7ad7a",
   "metadata": {},
   "outputs": [],
   "source": [
    "# Scatter Plot\n",
    "fig = px.scatter(x=data['X'], y=data['Y'])\n",
    "fig.update_layout(title='Swedish Automobiles Data',\n",
    "                  title_x=.5,\n",
    "                  xaxis_title=\"Number of claims\",\n",
    "                  yaxis_title='Payment in Claims', \n",
    "                  height=500,\n",
    "                  width=600)\n",
    "fig.update_xaxes(showline=True,\n",
    "                 linewidth=2,\n",
    "                 linecolor=\"black\",\n",
    "                 mirror=True)\n",
    "fig.update_yaxes(\n",
    "    showline=True,\n",
    "                 linewidth=2,\n",
    "                 linecolor='black',\n",
    "                 mirror=True)\n",
    "fig.show()"
   ]
  },
  {
   "cell_type": "code",
   "execution_count": null,
   "id": "d8a50b4c-8ab5-4aff-b6ca-a72c23392563",
   "metadata": {},
   "outputs": [],
   "source": [
    "# Mean and variance\n",
    "mean_x = np.mean(data['X'])\n",
    "mean_y = np.mean(data['Y'])\n",
    "\n",
    "var_x = np.var(data['X'])\n",
    "var_y = np.var(data['Y'])\n",
    "\n",
    "print('xstats: mean=%.3f variance=%.3f'%(mean_x, var_x))\n",
    "print('ystats: mean=%.3f variance=%.3f'%(mean_y, var_x))"
   ]
  },
  {
   "cell_type": "code",
   "execution_count": null,
   "id": "73b3f505-4e45-4a6f-baf9-76c0fea993a5",
   "metadata": {},
   "outputs": [],
   "source": [
    "# Covariance\n",
    "# The covariance of two variables describes how those numbers vary together. Covariance is the generalization of correlation.\n",
    "# Correlation describes the relationships between two variables, while as covariance describes the relationship between two or more groups\n",
    "# of numbers."
   ]
  },
  {
   "cell_type": "code",
   "execution_count": null,
   "id": "eb181548-67b3-4372-8132-de84577d9517",
   "metadata": {},
   "outputs": [],
   "source": [
    "# calculate the covariance between x and y\n",
    "def covariance(x, y):\n",
    "    mean_x = np.mean(x)\n",
    "    mean_y = np.mean(y)\n",
    "    covar = 0.0\n",
    "    for i in range(len(x)):\n",
    "        covar += (x[i]-mean_x)*(y[i]-mean_y)\n",
    "    return covar / len(x)\n",
    "\n",
    "covar_xy = covariance(data['X'], data['Y'])\n",
    "print(f'Cov(X, Y): {covar_xy}')"
   ]
  },
  {
   "cell_type": "code",
   "execution_count": null,
   "id": "f1269bfa-1173-4baf-b9db-3cb15d6054a6",
   "metadata": {},
   "outputs": [],
   "source": [
    "# Estimate coefficients\n",
    "b1 = covar_xy / var_x\n",
    "b0 = mean_y - b1*mean_x\n",
    "print(f'Coefficients: \\nb0: {b0} b1: {b1}')"
   ]
  },
  {
   "cell_type": "code",
   "execution_count": null,
   "id": "57ad446e-46be-4e67-981b-cd85a5eb687b",
   "metadata": {},
   "outputs": [],
   "source": [
    "# Make Predictions\n",
    "x = data['X'].values.copy()\n",
    "\n",
    "# Predicting the new data based on calculated coefficients\n",
    "y_predict = b0 + b1*x\n",
    "print(f'\\n\\ny_predict: {y_predict}')\n",
    "y = data['Y'].values[:5]\n",
    "print(f'\\n\\ny: {y}')"
   ]
  },
  {
   "cell_type": "code",
   "execution_count": null,
   "id": "07a9b2fd-0d07-4c9d-a81a-54e9c431cb2e",
   "metadata": {},
   "outputs": [],
   "source": [
    "# Visual Comparisons of Correctness\n",
    "import plotly.graph_objects as go\n",
    "fig = go.Figure()\n",
    "fig.add_trace(go.Scatter(x=data['X'],\n",
    "                         y=data['Y'],\n",
    "                         name='train',\n",
    "                         mode='markers',\n",
    "                         marker_color='rgba(152, 0, 0, .8)'))\n",
    "fig.add_trace(go.Scatter(x=data['X'],\n",
    "                                     y=y_predict,\n",
    "                                     name='prediction',\n",
    "                                     mode='lines+markers',\n",
    "                                     marker_color='rgba(0, 152, 0, 0.8)'))\n",
    "fig.update_layout(title=f'Swedish Automobiles Data\\n(Visual Comparison for Correctness)',\n",
    "                title_x=0.5,\n",
    "                xaxis_title='Number of Claims',\n",
    "                yaxis_title='Payment in Claims',\n",
    "                height=500,\n",
    "                width=600)\n",
    "fig.update_xaxes(showline=True, linewidth=2, linecolor='black',\n",
    "                 mirror=True)\n",
    "fig.update_yaxes(showline=True,\n",
    "                 linewidth=2,\n",
    "                 linecolor='black',\n",
    "                 mirror=True)\n",
    "fig.show()"
   ]
  },
  {
   "cell_type": "code",
   "execution_count": null,
   "id": "d532a13d-46f1-40a4-8553-2df3432d9c31",
   "metadata": {},
   "outputs": [],
   "source": [
    "# Exercise\n",
    "# 1. Find the mean square error, MSE of the predictions.\n",
    "# 2. Extend the problem for multiple input features"
   ]
  },
  {
   "cell_type": "markdown",
   "id": "a7ba7ed7-d2b3-4004-a41f-dbaa337317fa",
   "metadata": {},
   "source": [
    "<h3>Student Performance Predictions</h3>\n",
    "<p>\n",
    "    The Student Performance dataset is a dataset designed to examine the factors influencing academic student performance. The dataset consists of 10,000 student records, with each record containing information about the\n",
    "    various predictors and a performance index.\n",
    "</p>\n",
    "\n",
    "<h4>\n",
    "    Variables:\n",
    "</h4>\n",
    "\n",
    "<p>\n",
    "    Hours Studied: The Total number of hours spent studying by each student.\n",
    "</p>\n",
    "\n",
    "<p>\n",
    "    Previous Scores: The scores obtained by the student in the previous test\n",
    "</p>\n",
    "\n",
    "<p>\n",
    "    Extra curricular activities: Whether the student participates in extra-curricular activities (Yes/No).\n",
    "</p>\n",
    "\n",
    "<p>\n",
    "    Sleep Hours: The avarage number of sleep the student had per day.\n",
    "</p>\n",
    "\n",
    "<p>\n",
    "    Sample Question papers Practised: The number of Sample question papers the student practised.\n",
    "</p>\n",
    "\n",
    "<h5>Target Variable</h5>\n",
    "<p>\n",
    "    Performance Index: A measure of the overall performance of each student. The performance index represents\n",
    "    the student's academic performance and has been rounded to the nearest integer. The index ranges from 10 to 100, with the highest values indicating better performance.\n",
    "</p>\n",
    "\n",
    "<p>\n",
    "    N.B: The dataset is synthetic and created for illustrative purposes. The relationships between the variables and the performance index may not reflect real-world scenarios.\n",
    "</p>"
   ]
  },
  {
   "cell_type": "code",
   "execution_count": null,
   "id": "61635922-ba29-44c3-a687-e7b8fa1e02bf",
   "metadata": {},
   "outputs": [],
   "source": [
    "# import libraries\n",
    "import pandas as pd\n",
    "import numpy as np\n",
    "import matplotlib.pyplot as plt\n",
    "import seaborn as sns"
   ]
  },
  {
   "cell_type": "code",
   "execution_count": null,
   "id": "ba6f6402-65e3-4ac6-b3bf-52eadb8dde1c",
   "metadata": {},
   "outputs": [],
   "source": [
    "# Set style of visualization\n",
    "sns.set_style(\"whitegrid\")\n",
    "sns.set_palette(\"RdBu\")"
   ]
  },
  {
   "cell_type": "code",
   "execution_count": null,
   "id": "c5229f51-b9b8-4575-9981-719b62dddeb8",
   "metadata": {},
   "outputs": [],
   "source": [
    "# Read dataset\n",
    "data = pd.read_csv(\"../Data/studentPerformance.csv\")\n",
    "data.head()"
   ]
  },
  {
   "cell_type": "code",
   "execution_count": null,
   "id": "b1512d52-adf4-4c64-9269-ca1432f62494",
   "metadata": {},
   "outputs": [],
   "source": [
    "# info\n",
    "data.info()"
   ]
  },
  {
   "cell_type": "code",
   "execution_count": null,
   "id": "8feca460-b21f-4907-ab11-b3e721b11321",
   "metadata": {},
   "outputs": [],
   "source": [
    "# See percentage of missing values in each column\n",
    "data.isna().sum() / data.shape[0]\n",
    "\n",
    "# No null values"
   ]
  },
  {
   "cell_type": "code",
   "execution_count": null,
   "id": "b66a968b-e8c5-4acf-82a5-6d04ccc820a8",
   "metadata": {},
   "outputs": [],
   "source": [
    "# See dimensions\n",
    "data.shape"
   ]
  },
  {
   "cell_type": "code",
   "execution_count": null,
   "id": "dcd262e7-e398-4a77-933a-87f44fab02fa",
   "metadata": {},
   "outputs": [],
   "source": [
    "# Check if duplicates in data\n",
    "data.duplicated().any()\n",
    "\n",
    "# At first glance, they may look to be duplicate values, but they are not. Remember this is synthetic data"
   ]
  },
  {
   "cell_type": "code",
   "execution_count": null,
   "id": "e70df387-0bd8-403e-847b-63753fb9fa14",
   "metadata": {},
   "outputs": [],
   "source": [
    "# Statistics\n",
    "data.describe()"
   ]
  },
  {
   "cell_type": "code",
   "execution_count": null,
   "id": "92e0a819-a6df-433d-8070-1649c7c061a5",
   "metadata": {},
   "outputs": [],
   "source": [
    "# see quick info of category values\n",
    "data.describe(include=object)"
   ]
  },
  {
   "cell_type": "code",
   "execution_count": null,
   "id": "04dc5e8c-5585-4b64-b431-79b49e6965fc",
   "metadata": {},
   "outputs": [],
   "source": [
    "# Univariate Analysis and Visualization"
   ]
  },
  {
   "cell_type": "code",
   "execution_count": null,
   "id": "1258da54-a846-4d0c-b8f2-3f960c945d86",
   "metadata": {},
   "outputs": [],
   "source": [
    "# Create a function to visualize categorical columns using count plot\n",
    "def count_plot(column_name,\n",
    "               hue=None,\n",
    "               rotation=0):\n",
    "    graph = sns.countplot(x=column_name,\n",
    "                          data=data,\n",
    "                          hue=hue,\n",
    "                          order=data[column_name].value_counts().index)\n",
    "    for container in graph.containers:\n",
    "        graph.bar_label(container)\n",
    "    plt.xticks(rotation=rotation);\n",
    "    plt.figure(figsize=(8,5));\n",
    "    plt.show();"
   ]
  },
  {
   "cell_type": "code",
   "execution_count": null,
   "id": "9c21b1b6-1ec6-419c-88a8-ee3fad752094",
   "metadata": {},
   "outputs": [],
   "source": [
    "count_plot('Extracurricular Activities');"
   ]
  },
  {
   "cell_type": "code",
   "execution_count": null,
   "id": "3fee1e19-f282-470d-9132-fbde454f4ab8",
   "metadata": {},
   "outputs": [],
   "source": [
    "# Function to visualize numeric columns using boxplots\n",
    "def box_plot(x_axis=None, y_axis=None, hue=None, col=None):\n",
    "    sns.catplot(x=x_axis,\n",
    "                y=y_axis,\n",
    "                data=data,\n",
    "                kind=\"box\",\n",
    "                col=col)\n",
    "    plt.xlabel(x_axis)\n",
    "    plt.ylabel(\"FRQ\")\n",
    "    plt.show()"
   ]
  },
  {
   "cell_type": "code",
   "execution_count": null,
   "id": "1f30707f-683e-497c-99c8-727e2ffa3d4a",
   "metadata": {},
   "outputs": [],
   "source": [
    "box_plot('Sample Question Papers Practiced')"
   ]
  },
  {
   "cell_type": "code",
   "execution_count": null,
   "id": "f46a11ba-7bcd-4cdc-bb36-9f17b4d05663",
   "metadata": {},
   "outputs": [],
   "source": [
    "data['Sample Question Papers Practiced'].mean()"
   ]
  },
  {
   "cell_type": "code",
   "execution_count": null,
   "id": "c2c46054-40e2-4953-bc38-b22aa2f63f76",
   "metadata": {},
   "outputs": [],
   "source": [
    "# Analysing hours studied\n",
    "data['Hours Studied'].unique()"
   ]
  },
  {
   "cell_type": "code",
   "execution_count": null,
   "id": "f0cb8112-4f4e-4e7a-ac07-00b33ac79933",
   "metadata": {},
   "outputs": [],
   "source": [
    "# Count frequencies\n",
    "plt.figure(figsize=(15,6))\n",
    "count_plot(column_name='Hours Studied')"
   ]
  },
  {
   "cell_type": "code",
   "execution_count": null,
   "id": "706c200f-48ce-46f7-bbe3-931e014c84c7",
   "metadata": {},
   "outputs": [],
   "source": [
    "# Analysing previous scores\n",
    "box_plot(y_axis=\"Previous Scores\")\n",
    "# 50% of the students scored above 65.\n",
    "# No student scored 100."
   ]
  },
  {
   "cell_type": "code",
   "execution_count": null,
   "id": "5f4326c2-f005-4238-b608-0dabee7dd090",
   "metadata": {},
   "outputs": [],
   "source": [
    "# Analysing extracurricular activities\n",
    "data['Extracurricular Activities'].unique()"
   ]
  },
  {
   "cell_type": "code",
   "execution_count": null,
   "id": "c8939895-5d52-4092-ad2f-6fe0e01c925c",
   "metadata": {},
   "outputs": [],
   "source": [
    "# Output number of value_counts\n",
    "plt.figure(figsize=(5,5));\n",
    "plt.pie(data['Extracurricular Activities'].value_counts(),\n",
    "        labels=data[\"Extracurricular Activities\"].value_counts().index,\n",
    "        shadow=True,\n",
    "        autopct=\"%1.1f%%\");\n",
    "\n",
    "# Slightly more students don't participate in extracurricular activities"
   ]
  },
  {
   "cell_type": "code",
   "execution_count": null,
   "id": "d8491d02-029c-4929-81bd-b7caf79a8967",
   "metadata": {},
   "outputs": [],
   "source": [
    "# Analysing sleep hours\n",
    "data['Sleep Hours'].unique()"
   ]
  },
  {
   "cell_type": "code",
   "execution_count": null,
   "id": "1c2189c0-3d1c-42a3-9911-c1c868d319eb",
   "metadata": {},
   "outputs": [],
   "source": [
    "# Using a count_plot\n",
    "plt.figure(figsize=(10, 5))\n",
    "count_plot(column_name='Sleep Hours');\n",
    "\n",
    "# The largest number of students study for one hour"
   ]
  },
  {
   "cell_type": "code",
   "execution_count": null,
   "id": "d9933ed4-0576-443d-bd43-16c18aa0f3be",
   "metadata": {},
   "outputs": [],
   "source": [
    "# Sample Questions Practiced\n",
    "count_plot(column_name='Sample Question Papers Practiced')"
   ]
  },
  {
   "cell_type": "code",
   "execution_count": null,
   "id": "a03c3846-5f52-4f9f-b305-2ced81b76e19",
   "metadata": {},
   "outputs": [],
   "source": [
    "# A number of students have similar number of sample questions practised\n",
    "# A number of students didn't practise sample questions"
   ]
  },
  {
   "cell_type": "code",
   "execution_count": null,
   "id": "be3bb17e-cbad-49bc-945e-0c4cbdf46905",
   "metadata": {},
   "outputs": [],
   "source": [
    "# Bivariate and Visualization\n",
    "# Hours studied and Performance Index\n",
    "box_plot(x_axis='Hours Studied',\n",
    "         y_axis='Performance Index')"
   ]
  },
  {
   "cell_type": "code",
   "execution_count": null,
   "id": "71d6c8ae-c2fb-4e91-9aca-1e225e3502ee",
   "metadata": {},
   "outputs": [],
   "source": [
    "# From the data, the more hours studied the greater the performance index."
   ]
  },
  {
   "cell_type": "code",
   "execution_count": null,
   "id": "1ef8e90a-a196-4807-9346-d2dbd8e3dc9c",
   "metadata": {},
   "outputs": [],
   "source": [
    "# Extra Curricular Activities and Performance Index\n",
    "box_plot(x_axis='Extracurricular Activities',\n",
    "         y_axis='Performance Index');"
   ]
  },
  {
   "cell_type": "code",
   "execution_count": null,
   "id": "b4d1dd49-962e-4c3c-99fa-a2d034bdadc3",
   "metadata": {},
   "outputs": [],
   "source": [
    "# Participation in extracurricular activities helps to a very small extent in obtaining high grades"
   ]
  },
  {
   "cell_type": "code",
   "execution_count": null,
   "id": "9e418644-5c88-4511-83eb-ab3fb7c92d8c",
   "metadata": {},
   "outputs": [],
   "source": [
    "# Hours studied and Performance Index\n",
    "avg_performance_by_hours = data.groupby('Hours Studied')['Performance Index'].mean()\n",
    "plt.plot(avg_performance_by_hours.index,\n",
    "         avg_performance_by_hours.values)\n",
    "plt.show()"
   ]
  },
  {
   "cell_type": "code",
   "execution_count": null,
   "id": "ce39e72d-e76f-47f3-a222-aa22bb533749",
   "metadata": {},
   "outputs": [],
   "source": [
    "# The more hours one sleeps, the better the performance. This is only contextually true. It is within\n",
    "# bounds (limitations)"
   ]
  },
  {
   "cell_type": "code",
   "execution_count": null,
   "id": "48e37add-d459-47d9-9eec-d5cffe1bc627",
   "metadata": {},
   "outputs": [],
   "source": [
    "# Heatmap of correlation\n",
    "plt.figure(figsize=(6, 4))\n",
    "sns.heatmap(data.select_dtypes(exclude=object).corr(),\n",
    "            annot=True,\n",
    "            fmt=\".2f\",\n",
    "            linewidth=0.2,\n",
    "           )\n",
    "plt.show()"
   ]
  },
  {
   "cell_type": "code",
   "execution_count": null,
   "id": "1c7d3d19-2282-4f34-8a35-68bf06920987",
   "metadata": {},
   "outputs": [],
   "source": [
    "# There is a strong correlation between Previous Scores and Performance Index"
   ]
  },
  {
   "cell_type": "code",
   "execution_count": null,
   "id": "e9df2797-fe9c-4d2b-a9e4-d54385759767",
   "metadata": {},
   "outputs": [],
   "source": [
    "# Data preprocessing\n",
    "from sklearn.preprocessing import LabelEncoder, MinMaxScaler\n",
    "from sklearn.model_selection import train_test_split\n",
    "from sklearn.linear_model import LinearRegression\n",
    "from sklearn.metrics import mean_absolute_error, r2_score"
   ]
  },
  {
   "cell_type": "code",
   "execution_count": null,
   "id": "ba711e8c-061a-47c1-adf1-916ee882c9a1",
   "metadata": {},
   "outputs": [],
   "source": [
    "# Object from label Encoder\n",
    "encoder = LabelEncoder()\n",
    "data['Extracurricular Activities'] = encoder.fit_transform(\n",
    "    data['Extracurricular Activities'])"
   ]
  },
  {
   "cell_type": "code",
   "execution_count": null,
   "id": "b3c409e0-1da0-4c08-9791-a900d985fe6f",
   "metadata": {},
   "outputs": [],
   "source": [
    "# See sample of data\n",
    "data.sample(6)"
   ]
  },
  {
   "cell_type": "code",
   "execution_count": null,
   "id": "ea610b0c-e914-47a1-bab0-175b5d02fd30",
   "metadata": {},
   "outputs": [],
   "source": [
    "train = data.drop(columns='Performance Index')\n",
    "target = data['Performance Index']"
   ]
  },
  {
   "cell_type": "code",
   "execution_count": null,
   "id": "4d4c85b4-02d7-4887-b769-a2358beb3421",
   "metadata": {},
   "outputs": [],
   "source": [
    "# Train\n",
    "# sample return unordered data, while head returns ordered data\n",
    "train.sample(3)"
   ]
  },
  {
   "cell_type": "code",
   "execution_count": null,
   "id": "508bb65e-bb4d-4461-a663-cf56238b7780",
   "metadata": {},
   "outputs": [],
   "source": [
    "# target\n",
    "target.sample(3)"
   ]
  },
  {
   "cell_type": "code",
   "execution_count": null,
   "id": "ac928d7d-d3c6-4c07-9070-b52b0119d233",
   "metadata": {},
   "outputs": [],
   "source": [
    "# Split the data for training and testing\n",
    "X_train, X_test, y_train, y_test = train_test_split(\n",
    "    train,\n",
    "    target,\n",
    "    test_size=.2,\n",
    "    random_state=42)"
   ]
  },
  {
   "cell_type": "code",
   "execution_count": null,
   "id": "de837bcf-3a05-4bcc-905c-5bea11b6b406",
   "metadata": {},
   "outputs": [],
   "source": [
    "# Shape of splitted data\n",
    "X_train.shape\n",
    "print('X_train: ', X_train.shape)\n",
    "print('y_train: ', y_train.shape)\n",
    "print('X_test: ', X_test.shape)\n",
    "print('y_test: ', y_test.shape)"
   ]
  },
  {
   "cell_type": "code",
   "execution_count": null,
   "id": "981372c5-914c-47e0-a536-ee447412d691",
   "metadata": {},
   "outputs": [],
   "source": [
    "# Create model\n",
    "model = LinearRegression()\n",
    "\n",
    "# Fit model \n",
    "model.fit(X_train, y_train)"
   ]
  },
  {
   "cell_type": "code",
   "execution_count": null,
   "id": "d4be7a1f-4007-46b5-a1f2-79348d7af562",
   "metadata": {},
   "outputs": [],
   "source": [
    "# Evaluate results\n",
    "model.score(X_train, y_train)"
   ]
  },
  {
   "cell_type": "code",
   "execution_count": null,
   "id": "1751e618-755f-45ed-b117-219af7f69d2e",
   "metadata": {},
   "outputs": [],
   "source": [
    "# Perform predictions\n",
    "predict = np.round(model.predict(X_test),\n",
    "                   decimals=1)\n",
    "predict"
   ]
  },
  {
   "cell_type": "code",
   "execution_count": null,
   "id": "8dd399bd-6eff-4702-9bd3-f62ced34c0ec",
   "metadata": {},
   "outputs": [],
   "source": [
    "# Real values vs predicted values\n",
    "pd.DataFrame({'Actual Performance': y_test, 'Predicted Values': predict})"
   ]
  },
  {
   "cell_type": "code",
   "execution_count": null,
   "id": "618f0206-7d70-42d8-a15c-7916947aa47a",
   "metadata": {},
   "outputs": [],
   "source": [
    "# Create scatter plot to see distribution\n",
    "plt.scatter(y_test, predict)\n",
    "plt.show()"
   ]
  },
  {
   "cell_type": "code",
   "execution_count": null,
   "id": "a2e3b09d-1b62-40fc-8c90-2dcfef64644d",
   "metadata": {},
   "outputs": [],
   "source": [
    "# Perform residual analysis to under errors in the model"
   ]
  },
  {
   "cell_type": "code",
   "execution_count": null,
   "id": "94c86339-75ab-4146-82c3-d57d1f56dc2c",
   "metadata": {},
   "outputs": [],
   "source": [
    "# mean absolute error\n",
    "mean_absolute_error(y_test, predict)"
   ]
  },
  {
   "cell_type": "code",
   "execution_count": null,
   "id": "8da28495-3889-4b9b-afdd-f33246d53508",
   "metadata": {},
   "outputs": [],
   "source": [
    "# see score\n",
    "r2_score(y_test, predict)"
   ]
  },
  {
   "cell_type": "code",
   "execution_count": null,
   "id": "44ebb977-db6a-410f-af96-035de7e7ed0c",
   "metadata": {},
   "outputs": [],
   "source": [
    "# See coefficients\n",
    "model.coef_"
   ]
  },
  {
   "cell_type": "code",
   "execution_count": null,
   "id": "9445211b-2946-4720-8593-e020e29786c7",
   "metadata": {},
   "outputs": [],
   "source": [
    "# See y intercept\n",
    "model.intercept_"
   ]
  },
  {
   "cell_type": "markdown",
   "id": "92150c6d-8941-4011-89de-41c39a0aad07",
   "metadata": {},
   "source": [
    "<h3>Housing Case Study</h3>\n",
    "<p>\n",
    "    A real estate company has a dataset containing the prices of properties in Kampala City.\n",
    "    It wishes to use the data to optimize the sale prices of the properties based on important\n",
    "    factors such as area, bedroom, parking, etc\n",
    "</p>\n",
    "\n",
    "<p>\n",
    "    Essentially, the company wants-\n",
    "    *  To identify the variables affecting home prices e.g area, number of rooms, bathrooms, etc\n",
    "    *  To create a linear model that quantitatively relates house prices with variables\n",
    "    such as number of rooms, area, number of bathrooms, etc\n",
    "    *  To know the accuracy of the model i.e how well these variables can predict house prices\n",
    "</p>"
   ]
  },
  {
   "cell_type": "code",
   "execution_count": 1,
   "id": "c0fd1360-a422-4890-aa49-26ab72d44b84",
   "metadata": {},
   "outputs": [],
   "source": [
    "# Suppress warning\n",
    "import warnings\n",
    "warnings.filterwarnings('ignore')\n",
    "\n",
    "# dependencies\n",
    "import pandas as pd\n",
    "import numpy as np\n",
    "import seaborn as sns\n",
    "import matplotlib.pyplot as plt\n",
    "\n",
    "from sklearn.preprocessing import LabelEncoder, MinMaxScaler"
   ]
  },
  {
   "cell_type": "code",
   "execution_count": 2,
   "id": "ea8585d0-a6fd-4e85-9b32-f1ab3e394f90",
   "metadata": {},
   "outputs": [
    {
     "data": {
      "text/html": [
       "<div>\n",
       "<style scoped>\n",
       "    .dataframe tbody tr th:only-of-type {\n",
       "        vertical-align: middle;\n",
       "    }\n",
       "\n",
       "    .dataframe tbody tr th {\n",
       "        vertical-align: top;\n",
       "    }\n",
       "\n",
       "    .dataframe thead th {\n",
       "        text-align: right;\n",
       "    }\n",
       "</style>\n",
       "<table border=\"1\" class=\"dataframe\">\n",
       "  <thead>\n",
       "    <tr style=\"text-align: right;\">\n",
       "      <th></th>\n",
       "      <th>price</th>\n",
       "      <th>area</th>\n",
       "      <th>bedrooms</th>\n",
       "      <th>bathrooms</th>\n",
       "      <th>stories</th>\n",
       "      <th>mainroad</th>\n",
       "      <th>guestroom</th>\n",
       "      <th>basement</th>\n",
       "      <th>hotwaterheating</th>\n",
       "      <th>airconditioning</th>\n",
       "      <th>parking</th>\n",
       "      <th>prefarea</th>\n",
       "      <th>furnishingstatus</th>\n",
       "    </tr>\n",
       "  </thead>\n",
       "  <tbody>\n",
       "    <tr>\n",
       "      <th>0</th>\n",
       "      <td>13300000</td>\n",
       "      <td>7420</td>\n",
       "      <td>4</td>\n",
       "      <td>2</td>\n",
       "      <td>3</td>\n",
       "      <td>yes</td>\n",
       "      <td>no</td>\n",
       "      <td>no</td>\n",
       "      <td>no</td>\n",
       "      <td>yes</td>\n",
       "      <td>2</td>\n",
       "      <td>yes</td>\n",
       "      <td>furnished</td>\n",
       "    </tr>\n",
       "    <tr>\n",
       "      <th>1</th>\n",
       "      <td>12250000</td>\n",
       "      <td>8960</td>\n",
       "      <td>4</td>\n",
       "      <td>4</td>\n",
       "      <td>4</td>\n",
       "      <td>yes</td>\n",
       "      <td>no</td>\n",
       "      <td>no</td>\n",
       "      <td>no</td>\n",
       "      <td>yes</td>\n",
       "      <td>3</td>\n",
       "      <td>no</td>\n",
       "      <td>furnished</td>\n",
       "    </tr>\n",
       "    <tr>\n",
       "      <th>2</th>\n",
       "      <td>12250000</td>\n",
       "      <td>9960</td>\n",
       "      <td>3</td>\n",
       "      <td>2</td>\n",
       "      <td>2</td>\n",
       "      <td>yes</td>\n",
       "      <td>no</td>\n",
       "      <td>yes</td>\n",
       "      <td>no</td>\n",
       "      <td>no</td>\n",
       "      <td>2</td>\n",
       "      <td>yes</td>\n",
       "      <td>semi-furnished</td>\n",
       "    </tr>\n",
       "  </tbody>\n",
       "</table>\n",
       "</div>"
      ],
      "text/plain": [
       "      price  area  bedrooms  bathrooms  stories mainroad guestroom basement  \\\n",
       "0  13300000  7420         4          2        3      yes        no       no   \n",
       "1  12250000  8960         4          4        4      yes        no       no   \n",
       "2  12250000  9960         3          2        2      yes        no      yes   \n",
       "\n",
       "  hotwaterheating airconditioning  parking prefarea furnishingstatus  \n",
       "0              no             yes        2      yes        furnished  \n",
       "1              no             yes        3       no        furnished  \n",
       "2              no              no        2      yes   semi-furnished  "
      ]
     },
     "execution_count": 2,
     "metadata": {},
     "output_type": "execute_result"
    }
   ],
   "source": [
    "housing = pd.read_csv('../Data/Housing.csv')\n",
    "housing.head(3)"
   ]
  },
  {
   "cell_type": "code",
   "execution_count": 3,
   "id": "cd2d7e10-1466-4f3f-b0a9-1e08deba812d",
   "metadata": {},
   "outputs": [
    {
     "data": {
      "text/plain": [
       "(545, 13)"
      ]
     },
     "execution_count": 3,
     "metadata": {},
     "output_type": "execute_result"
    }
   ],
   "source": [
    "# shape\n",
    "housing.shape"
   ]
  },
  {
   "cell_type": "code",
   "execution_count": 4,
   "id": "bb335aae-408a-4dbe-85ca-747975baab79",
   "metadata": {},
   "outputs": [
    {
     "name": "stdout",
     "output_type": "stream",
     "text": [
      "<class 'pandas.core.frame.DataFrame'>\n",
      "RangeIndex: 545 entries, 0 to 544\n",
      "Data columns (total 13 columns):\n",
      " #   Column            Non-Null Count  Dtype \n",
      "---  ------            --------------  ----- \n",
      " 0   price             545 non-null    int64 \n",
      " 1   area              545 non-null    int64 \n",
      " 2   bedrooms          545 non-null    int64 \n",
      " 3   bathrooms         545 non-null    int64 \n",
      " 4   stories           545 non-null    int64 \n",
      " 5   mainroad          545 non-null    object\n",
      " 6   guestroom         545 non-null    object\n",
      " 7   basement          545 non-null    object\n",
      " 8   hotwaterheating   545 non-null    object\n",
      " 9   airconditioning   545 non-null    object\n",
      " 10  parking           545 non-null    int64 \n",
      " 11  prefarea          545 non-null    object\n",
      " 12  furnishingstatus  545 non-null    object\n",
      "dtypes: int64(6), object(7)\n",
      "memory usage: 55.5+ KB\n"
     ]
    }
   ],
   "source": [
    "housing.info()"
   ]
  },
  {
   "cell_type": "code",
   "execution_count": 5,
   "id": "d2ffa61f-d901-49a6-8bf5-227fde67011f",
   "metadata": {},
   "outputs": [
    {
     "data": {
      "text/html": [
       "<div>\n",
       "<style scoped>\n",
       "    .dataframe tbody tr th:only-of-type {\n",
       "        vertical-align: middle;\n",
       "    }\n",
       "\n",
       "    .dataframe tbody tr th {\n",
       "        vertical-align: top;\n",
       "    }\n",
       "\n",
       "    .dataframe thead th {\n",
       "        text-align: right;\n",
       "    }\n",
       "</style>\n",
       "<table border=\"1\" class=\"dataframe\">\n",
       "  <thead>\n",
       "    <tr style=\"text-align: right;\">\n",
       "      <th></th>\n",
       "      <th>price</th>\n",
       "      <th>area</th>\n",
       "      <th>bedrooms</th>\n",
       "      <th>bathrooms</th>\n",
       "      <th>stories</th>\n",
       "      <th>parking</th>\n",
       "    </tr>\n",
       "  </thead>\n",
       "  <tbody>\n",
       "    <tr>\n",
       "      <th>count</th>\n",
       "      <td>5.450000e+02</td>\n",
       "      <td>545.000000</td>\n",
       "      <td>545.000000</td>\n",
       "      <td>545.000000</td>\n",
       "      <td>545.000000</td>\n",
       "      <td>545.000000</td>\n",
       "    </tr>\n",
       "    <tr>\n",
       "      <th>mean</th>\n",
       "      <td>4.766729e+06</td>\n",
       "      <td>5150.541284</td>\n",
       "      <td>2.965138</td>\n",
       "      <td>1.286239</td>\n",
       "      <td>1.805505</td>\n",
       "      <td>0.693578</td>\n",
       "    </tr>\n",
       "    <tr>\n",
       "      <th>std</th>\n",
       "      <td>1.870440e+06</td>\n",
       "      <td>2170.141023</td>\n",
       "      <td>0.738064</td>\n",
       "      <td>0.502470</td>\n",
       "      <td>0.867492</td>\n",
       "      <td>0.861586</td>\n",
       "    </tr>\n",
       "    <tr>\n",
       "      <th>min</th>\n",
       "      <td>1.750000e+06</td>\n",
       "      <td>1650.000000</td>\n",
       "      <td>1.000000</td>\n",
       "      <td>1.000000</td>\n",
       "      <td>1.000000</td>\n",
       "      <td>0.000000</td>\n",
       "    </tr>\n",
       "    <tr>\n",
       "      <th>25%</th>\n",
       "      <td>3.430000e+06</td>\n",
       "      <td>3600.000000</td>\n",
       "      <td>2.000000</td>\n",
       "      <td>1.000000</td>\n",
       "      <td>1.000000</td>\n",
       "      <td>0.000000</td>\n",
       "    </tr>\n",
       "    <tr>\n",
       "      <th>50%</th>\n",
       "      <td>4.340000e+06</td>\n",
       "      <td>4600.000000</td>\n",
       "      <td>3.000000</td>\n",
       "      <td>1.000000</td>\n",
       "      <td>2.000000</td>\n",
       "      <td>0.000000</td>\n",
       "    </tr>\n",
       "    <tr>\n",
       "      <th>75%</th>\n",
       "      <td>5.740000e+06</td>\n",
       "      <td>6360.000000</td>\n",
       "      <td>3.000000</td>\n",
       "      <td>2.000000</td>\n",
       "      <td>2.000000</td>\n",
       "      <td>1.000000</td>\n",
       "    </tr>\n",
       "    <tr>\n",
       "      <th>max</th>\n",
       "      <td>1.330000e+07</td>\n",
       "      <td>16200.000000</td>\n",
       "      <td>6.000000</td>\n",
       "      <td>4.000000</td>\n",
       "      <td>4.000000</td>\n",
       "      <td>3.000000</td>\n",
       "    </tr>\n",
       "  </tbody>\n",
       "</table>\n",
       "</div>"
      ],
      "text/plain": [
       "              price          area    bedrooms   bathrooms     stories  \\\n",
       "count  5.450000e+02    545.000000  545.000000  545.000000  545.000000   \n",
       "mean   4.766729e+06   5150.541284    2.965138    1.286239    1.805505   \n",
       "std    1.870440e+06   2170.141023    0.738064    0.502470    0.867492   \n",
       "min    1.750000e+06   1650.000000    1.000000    1.000000    1.000000   \n",
       "25%    3.430000e+06   3600.000000    2.000000    1.000000    1.000000   \n",
       "50%    4.340000e+06   4600.000000    3.000000    1.000000    2.000000   \n",
       "75%    5.740000e+06   6360.000000    3.000000    2.000000    2.000000   \n",
       "max    1.330000e+07  16200.000000    6.000000    4.000000    4.000000   \n",
       "\n",
       "          parking  \n",
       "count  545.000000  \n",
       "mean     0.693578  \n",
       "std      0.861586  \n",
       "min      0.000000  \n",
       "25%      0.000000  \n",
       "50%      0.000000  \n",
       "75%      1.000000  \n",
       "max      3.000000  "
      ]
     },
     "execution_count": 5,
     "metadata": {},
     "output_type": "execute_result"
    }
   ],
   "source": [
    "housing.describe()"
   ]
  },
  {
   "cell_type": "code",
   "execution_count": 6,
   "id": "4efaed45-36d3-4841-9e2c-a93a376b23f1",
   "metadata": {},
   "outputs": [
    {
     "data": {
      "image/png": "[encoded data removed]",
      "text/plain": [
       "<Figure size 1500x1500 with 42 Axes>"
      ]
     },
     "metadata": {},
     "output_type": "display_data"
    }
   ],
   "source": [
    "sns.pairplot(housing)\n",
    "plt.show()"
   ]
  },
  {
   "cell_type": "code",
   "execution_count": 7,
   "id": "9e197975-bc20-4094-b3f8-0e97c940db14",
   "metadata": {},
   "outputs": [
    {
     "data": {
      "image/png": "[encoded data removed]",
      "text/plain": [
       "<Figure size 2000x1200 with 6 Axes>"
      ]
     },
     "metadata": {},
     "output_type": "display_data"
    }
   ],
   "source": [
    "# Boxplots\n",
    "plt.figure(figsize=(20, 12))\n",
    "plt.subplot(2, 3, 1)\n",
    "sns.boxplot(x='mainroad',\n",
    "            y='price',\n",
    "            data=housing)\n",
    "plt.subplot(2, 3, 2)\n",
    "sns.boxplot(x='guestroom',\n",
    "            y='price',\n",
    "            data=housing)\n",
    "\n",
    "plt.subplot(2, 3, 3)\n",
    "sns.boxplot(x='basement',\n",
    "            y='price',\n",
    "            data=housing)\n",
    "\n",
    "plt.subplot(2, 3, 4)\n",
    "sns.boxplot(x='hotwaterheating',\n",
    "            y='price',\n",
    "            data=housing)\n",
    "\n",
    "plt.subplot(2, 3, 5)\n",
    "sns.boxplot(x='airconditioning',\n",
    "            y='price',\n",
    "            data=housing)\n",
    "\n",
    "plt.subplot(2, 3, 6)\n",
    "sns.boxplot(x='furnishingstatus',\n",
    "            y='price',\n",
    "            data=housing);"
   ]
  },
  {
   "cell_type": "code",
   "execution_count": 8,
   "id": "120b8588-b9ed-4e76-ad64-4b71ede31c5d",
   "metadata": {},
   "outputs": [
    {
     "data": {
      "text/plain": [
       "Index(['price', 'area', 'bedrooms', 'bathrooms', 'stories', 'mainroad',\n",
       "       'guestroom', 'basement', 'hotwaterheating', 'airconditioning',\n",
       "       'parking', 'prefarea', 'furnishingstatus'],\n",
       "      dtype='object')"
      ]
     },
     "execution_count": 8,
     "metadata": {},
     "output_type": "execute_result"
    }
   ],
   "source": [
    "housing.columns"
   ]
  },
  {
   "cell_type": "code",
   "execution_count": 9,
   "id": "8d8c7d0b-dec5-4cd6-8bfd-9f0f827d4a8a",
   "metadata": {},
   "outputs": [],
   "source": [
    "varlist = [\n",
    "    'mainroad',\n",
    "    'guestroom',\n",
    "    'basement',\n",
    "    'hotwaterheating',\n",
    "    'airconditioning',\n",
    "    'prefarea',\n",
    "]"
   ]
  },
  {
   "cell_type": "code",
   "execution_count": 10,
   "id": "d5fbdb85-9912-4dc7-b3c2-32ee01ec60c8",
   "metadata": {},
   "outputs": [],
   "source": [
    "# binary mapping\n",
    "def binary_map(x):\n",
    "    return x.map(\n",
    "        {'yes': 1,\n",
    "         'no': 0\n",
    "        })"
   ]
  },
  {
   "cell_type": "code",
   "execution_count": 11,
   "id": "12a49877-3309-46e8-a24b-3309f2b6f430",
   "metadata": {},
   "outputs": [
    {
     "data": {
      "text/html": [
       "<div>\n",
       "<style scoped>\n",
       "    .dataframe tbody tr th:only-of-type {\n",
       "        vertical-align: middle;\n",
       "    }\n",
       "\n",
       "    .dataframe tbody tr th {\n",
       "        vertical-align: top;\n",
       "    }\n",
       "\n",
       "    .dataframe thead th {\n",
       "        text-align: right;\n",
       "    }\n",
       "</style>\n",
       "<table border=\"1\" class=\"dataframe\">\n",
       "  <thead>\n",
       "    <tr style=\"text-align: right;\">\n",
       "      <th></th>\n",
       "      <th>price</th>\n",
       "      <th>area</th>\n",
       "      <th>bedrooms</th>\n",
       "      <th>bathrooms</th>\n",
       "      <th>stories</th>\n",
       "      <th>mainroad</th>\n",
       "      <th>guestroom</th>\n",
       "      <th>basement</th>\n",
       "      <th>hotwaterheating</th>\n",
       "      <th>airconditioning</th>\n",
       "      <th>parking</th>\n",
       "      <th>prefarea</th>\n",
       "      <th>furnishingstatus</th>\n",
       "    </tr>\n",
       "  </thead>\n",
       "  <tbody>\n",
       "    <tr>\n",
       "      <th>0</th>\n",
       "      <td>13300000</td>\n",
       "      <td>7420</td>\n",
       "      <td>4</td>\n",
       "      <td>2</td>\n",
       "      <td>3</td>\n",
       "      <td>1</td>\n",
       "      <td>0</td>\n",
       "      <td>0</td>\n",
       "      <td>0</td>\n",
       "      <td>1</td>\n",
       "      <td>2</td>\n",
       "      <td>1</td>\n",
       "      <td>furnished</td>\n",
       "    </tr>\n",
       "    <tr>\n",
       "      <th>1</th>\n",
       "      <td>12250000</td>\n",
       "      <td>8960</td>\n",
       "      <td>4</td>\n",
       "      <td>4</td>\n",
       "      <td>4</td>\n",
       "      <td>1</td>\n",
       "      <td>0</td>\n",
       "      <td>0</td>\n",
       "      <td>0</td>\n",
       "      <td>1</td>\n",
       "      <td>3</td>\n",
       "      <td>0</td>\n",
       "      <td>furnished</td>\n",
       "    </tr>\n",
       "    <tr>\n",
       "      <th>2</th>\n",
       "      <td>12250000</td>\n",
       "      <td>9960</td>\n",
       "      <td>3</td>\n",
       "      <td>2</td>\n",
       "      <td>2</td>\n",
       "      <td>1</td>\n",
       "      <td>0</td>\n",
       "      <td>1</td>\n",
       "      <td>0</td>\n",
       "      <td>0</td>\n",
       "      <td>2</td>\n",
       "      <td>1</td>\n",
       "      <td>semi-furnished</td>\n",
       "    </tr>\n",
       "    <tr>\n",
       "      <th>3</th>\n",
       "      <td>12215000</td>\n",
       "      <td>7500</td>\n",
       "      <td>4</td>\n",
       "      <td>2</td>\n",
       "      <td>2</td>\n",
       "      <td>1</td>\n",
       "      <td>0</td>\n",
       "      <td>1</td>\n",
       "      <td>0</td>\n",
       "      <td>1</td>\n",
       "      <td>3</td>\n",
       "      <td>1</td>\n",
       "      <td>furnished</td>\n",
       "    </tr>\n",
       "    <tr>\n",
       "      <th>4</th>\n",
       "      <td>11410000</td>\n",
       "      <td>7420</td>\n",
       "      <td>4</td>\n",
       "      <td>1</td>\n",
       "      <td>2</td>\n",
       "      <td>1</td>\n",
       "      <td>1</td>\n",
       "      <td>1</td>\n",
       "      <td>0</td>\n",
       "      <td>1</td>\n",
       "      <td>2</td>\n",
       "      <td>0</td>\n",
       "      <td>furnished</td>\n",
       "    </tr>\n",
       "  </tbody>\n",
       "</table>\n",
       "</div>"
      ],
      "text/plain": [
       "      price  area  bedrooms  bathrooms  stories  mainroad  guestroom  \\\n",
       "0  13300000  7420         4          2        3         1          0   \n",
       "1  12250000  8960         4          4        4         1          0   \n",
       "2  12250000  9960         3          2        2         1          0   \n",
       "3  12215000  7500         4          2        2         1          0   \n",
       "4  11410000  7420         4          1        2         1          1   \n",
       "\n",
       "   basement  hotwaterheating  airconditioning  parking  prefarea  \\\n",
       "0         0                0                1        2         1   \n",
       "1         0                0                1        3         0   \n",
       "2         1                0                0        2         1   \n",
       "3         1                0                1        3         1   \n",
       "4         1                0                1        2         0   \n",
       "\n",
       "  furnishingstatus  \n",
       "0        furnished  \n",
       "1        furnished  \n",
       "2   semi-furnished  \n",
       "3        furnished  \n",
       "4        furnished  "
      ]
     },
     "execution_count": 11,
     "metadata": {},
     "output_type": "execute_result"
    }
   ],
   "source": [
    "housing[varlist] = housing[varlist].apply(lambda x: binary_map(x))\n",
    "housing.head()"
   ]
  },
  {
   "cell_type": "code",
   "execution_count": 13,
   "id": "8c8b183c-811f-4559-bfae-41d4c92945a5",
   "metadata": {},
   "outputs": [],
   "source": [
    "# dummy variables\n",
    "# the variable furnishingstatus has three levels. We need to convert these levels into integers as well\n",
    "status = pd.get_dummies(\n",
    "    housing['furnishingstatus'],\n",
    "    dtype='int32')"
   ]
  },
  {
   "cell_type": "code",
   "execution_count": 12,
   "id": "ab351e2f-26b0-441d-b433-db3b935d0310",
   "metadata": {},
   "outputs": [
    {
     "data": {
      "text/plain": [
       "array(['furnished', 'semi-furnished', 'unfurnished'], dtype=object)"
      ]
     },
     "execution_count": 12,
     "metadata": {},
     "output_type": "execute_result"
    }
   ],
   "source": [
    "housing.furnishingstatus.unique()"
   ]
  },
  {
   "cell_type": "code",
   "execution_count": 14,
   "id": "e2d1fe32-42e0-454f-bbfa-deae3fbe7858",
   "metadata": {},
   "outputs": [
    {
     "data": {
      "text/html": [
       "<div>\n",
       "<style scoped>\n",
       "    .dataframe tbody tr th:only-of-type {\n",
       "        vertical-align: middle;\n",
       "    }\n",
       "\n",
       "    .dataframe tbody tr th {\n",
       "        vertical-align: top;\n",
       "    }\n",
       "\n",
       "    .dataframe thead th {\n",
       "        text-align: right;\n",
       "    }\n",
       "</style>\n",
       "<table border=\"1\" class=\"dataframe\">\n",
       "  <thead>\n",
       "    <tr style=\"text-align: right;\">\n",
       "      <th></th>\n",
       "      <th>furnished</th>\n",
       "      <th>semi-furnished</th>\n",
       "      <th>unfurnished</th>\n",
       "    </tr>\n",
       "  </thead>\n",
       "  <tbody>\n",
       "    <tr>\n",
       "      <th>0</th>\n",
       "      <td>1</td>\n",
       "      <td>0</td>\n",
       "      <td>0</td>\n",
       "    </tr>\n",
       "    <tr>\n",
       "      <th>1</th>\n",
       "      <td>1</td>\n",
       "      <td>0</td>\n",
       "      <td>0</td>\n",
       "    </tr>\n",
       "    <tr>\n",
       "      <th>2</th>\n",
       "      <td>0</td>\n",
       "      <td>1</td>\n",
       "      <td>0</td>\n",
       "    </tr>\n",
       "    <tr>\n",
       "      <th>3</th>\n",
       "      <td>1</td>\n",
       "      <td>0</td>\n",
       "      <td>0</td>\n",
       "    </tr>\n",
       "    <tr>\n",
       "      <th>4</th>\n",
       "      <td>1</td>\n",
       "      <td>0</td>\n",
       "      <td>0</td>\n",
       "    </tr>\n",
       "  </tbody>\n",
       "</table>\n",
       "</div>"
      ],
      "text/plain": [
       "   furnished  semi-furnished  unfurnished\n",
       "0          1               0            0\n",
       "1          1               0            0\n",
       "2          0               1            0\n",
       "3          1               0            0\n",
       "4          1               0            0"
      ]
     },
     "execution_count": 14,
     "metadata": {},
     "output_type": "execute_result"
    }
   ],
   "source": [
    "status.head()"
   ]
  },
  {
   "cell_type": "code",
   "execution_count": null,
   "id": "010de844-6586-4960-95b1-789bb1624f5d",
   "metadata": {},
   "outputs": [],
   "source": [
    "# We don't need three columns. We drop the furnished columns, as the type of furnishing\n",
    "# can be identified with just the last two columns where\n",
    "# 00 will correspond to furnished\n",
    "# 01 will correspond to unfurnished\n",
    "# 10 will correspond to semi-furnished"
   ]
  },
  {
   "cell_type": "code",
   "execution_count": 15,
   "id": "20e732ce-df88-47d2-932e-37e27090fd90",
   "metadata": {},
   "outputs": [
    {
     "data": {
      "text/html": [
       "<div>\n",
       "<style scoped>\n",
       "    .dataframe tbody tr th:only-of-type {\n",
       "        vertical-align: middle;\n",
       "    }\n",
       "\n",
       "    .dataframe tbody tr th {\n",
       "        vertical-align: top;\n",
       "    }\n",
       "\n",
       "    .dataframe thead th {\n",
       "        text-align: right;\n",
       "    }\n",
       "</style>\n",
       "<table border=\"1\" class=\"dataframe\">\n",
       "  <thead>\n",
       "    <tr style=\"text-align: right;\">\n",
       "      <th></th>\n",
       "      <th>semi-furnished</th>\n",
       "      <th>unfurnished</th>\n",
       "    </tr>\n",
       "  </thead>\n",
       "  <tbody>\n",
       "    <tr>\n",
       "      <th>0</th>\n",
       "      <td>0</td>\n",
       "      <td>0</td>\n",
       "    </tr>\n",
       "    <tr>\n",
       "      <th>1</th>\n",
       "      <td>0</td>\n",
       "      <td>0</td>\n",
       "    </tr>\n",
       "    <tr>\n",
       "      <th>2</th>\n",
       "      <td>1</td>\n",
       "      <td>0</td>\n",
       "    </tr>\n",
       "    <tr>\n",
       "      <th>3</th>\n",
       "      <td>0</td>\n",
       "      <td>0</td>\n",
       "    </tr>\n",
       "    <tr>\n",
       "      <th>4</th>\n",
       "      <td>0</td>\n",
       "      <td>0</td>\n",
       "    </tr>\n",
       "  </tbody>\n",
       "</table>\n",
       "</div>"
      ],
      "text/plain": [
       "   semi-furnished  unfurnished\n",
       "0               0            0\n",
       "1               0            0\n",
       "2               1            0\n",
       "3               0            0\n",
       "4               0            0"
      ]
     },
     "execution_count": 15,
     "metadata": {},
     "output_type": "execute_result"
    }
   ],
   "source": [
    "# drop first column\n",
    "status = pd.get_dummies(\n",
    "    housing['furnishingstatus'],\n",
    "    drop_first=True,\n",
    "    dtype='int32')\n",
    "status.head()"
   ]
  },
  {
   "cell_type": "code",
   "execution_count": 16,
   "id": "fbf2015e-b384-48d5-a913-045bceec012b",
   "metadata": {},
   "outputs": [],
   "source": [
    "# Add results to the original housing dataframe\n",
    "housing = pd.concat([housing, status], axis=1)"
   ]
  },
  {
   "cell_type": "code",
   "execution_count": 17,
   "id": "9087076a-ff6d-4389-b6a7-1d7f5bf1e462",
   "metadata": {},
   "outputs": [
    {
     "data": {
      "text/html": [
       "<div>\n",
       "<style scoped>\n",
       "    .dataframe tbody tr th:only-of-type {\n",
       "        vertical-align: middle;\n",
       "    }\n",
       "\n",
       "    .dataframe tbody tr th {\n",
       "        vertical-align: top;\n",
       "    }\n",
       "\n",
       "    .dataframe thead th {\n",
       "        text-align: right;\n",
       "    }\n",
       "</style>\n",
       "<table border=\"1\" class=\"dataframe\">\n",
       "  <thead>\n",
       "    <tr style=\"text-align: right;\">\n",
       "      <th></th>\n",
       "      <th>price</th>\n",
       "      <th>area</th>\n",
       "      <th>bedrooms</th>\n",
       "      <th>bathrooms</th>\n",
       "      <th>stories</th>\n",
       "      <th>mainroad</th>\n",
       "      <th>guestroom</th>\n",
       "      <th>basement</th>\n",
       "      <th>hotwaterheating</th>\n",
       "      <th>airconditioning</th>\n",
       "      <th>parking</th>\n",
       "      <th>prefarea</th>\n",
       "      <th>furnishingstatus</th>\n",
       "      <th>semi-furnished</th>\n",
       "      <th>unfurnished</th>\n",
       "    </tr>\n",
       "  </thead>\n",
       "  <tbody>\n",
       "    <tr>\n",
       "      <th>0</th>\n",
       "      <td>13300000</td>\n",
       "      <td>7420</td>\n",
       "      <td>4</td>\n",
       "      <td>2</td>\n",
       "      <td>3</td>\n",
       "      <td>1</td>\n",
       "      <td>0</td>\n",
       "      <td>0</td>\n",
       "      <td>0</td>\n",
       "      <td>1</td>\n",
       "      <td>2</td>\n",
       "      <td>1</td>\n",
       "      <td>furnished</td>\n",
       "      <td>0</td>\n",
       "      <td>0</td>\n",
       "    </tr>\n",
       "    <tr>\n",
       "      <th>1</th>\n",
       "      <td>12250000</td>\n",
       "      <td>8960</td>\n",
       "      <td>4</td>\n",
       "      <td>4</td>\n",
       "      <td>4</td>\n",
       "      <td>1</td>\n",
       "      <td>0</td>\n",
       "      <td>0</td>\n",
       "      <td>0</td>\n",
       "      <td>1</td>\n",
       "      <td>3</td>\n",
       "      <td>0</td>\n",
       "      <td>furnished</td>\n",
       "      <td>0</td>\n",
       "      <td>0</td>\n",
       "    </tr>\n",
       "    <tr>\n",
       "      <th>2</th>\n",
       "      <td>12250000</td>\n",
       "      <td>9960</td>\n",
       "      <td>3</td>\n",
       "      <td>2</td>\n",
       "      <td>2</td>\n",
       "      <td>1</td>\n",
       "      <td>0</td>\n",
       "      <td>1</td>\n",
       "      <td>0</td>\n",
       "      <td>0</td>\n",
       "      <td>2</td>\n",
       "      <td>1</td>\n",
       "      <td>semi-furnished</td>\n",
       "      <td>1</td>\n",
       "      <td>0</td>\n",
       "    </tr>\n",
       "    <tr>\n",
       "      <th>3</th>\n",
       "      <td>12215000</td>\n",
       "      <td>7500</td>\n",
       "      <td>4</td>\n",
       "      <td>2</td>\n",
       "      <td>2</td>\n",
       "      <td>1</td>\n",
       "      <td>0</td>\n",
       "      <td>1</td>\n",
       "      <td>0</td>\n",
       "      <td>1</td>\n",
       "      <td>3</td>\n",
       "      <td>1</td>\n",
       "      <td>furnished</td>\n",
       "      <td>0</td>\n",
       "      <td>0</td>\n",
       "    </tr>\n",
       "    <tr>\n",
       "      <th>4</th>\n",
       "      <td>11410000</td>\n",
       "      <td>7420</td>\n",
       "      <td>4</td>\n",
       "      <td>1</td>\n",
       "      <td>2</td>\n",
       "      <td>1</td>\n",
       "      <td>1</td>\n",
       "      <td>1</td>\n",
       "      <td>0</td>\n",
       "      <td>1</td>\n",
       "      <td>2</td>\n",
       "      <td>0</td>\n",
       "      <td>furnished</td>\n",
       "      <td>0</td>\n",
       "      <td>0</td>\n",
       "    </tr>\n",
       "  </tbody>\n",
       "</table>\n",
       "</div>"
      ],
      "text/plain": [
       "      price  area  bedrooms  bathrooms  stories  mainroad  guestroom  \\\n",
       "0  13300000  7420         4          2        3         1          0   \n",
       "1  12250000  8960         4          4        4         1          0   \n",
       "2  12250000  9960         3          2        2         1          0   \n",
       "3  12215000  7500         4          2        2         1          0   \n",
       "4  11410000  7420         4          1        2         1          1   \n",
       "\n",
       "   basement  hotwaterheating  airconditioning  parking  prefarea  \\\n",
       "0         0                0                1        2         1   \n",
       "1         0                0                1        3         0   \n",
       "2         1                0                0        2         1   \n",
       "3         1                0                1        3         1   \n",
       "4         1                0                1        2         0   \n",
       "\n",
       "  furnishingstatus  semi-furnished  unfurnished  \n",
       "0        furnished               0            0  \n",
       "1        furnished               0            0  \n",
       "2   semi-furnished               1            0  \n",
       "3        furnished               0            0  \n",
       "4        furnished               0            0  "
      ]
     },
     "execution_count": 17,
     "metadata": {},
     "output_type": "execute_result"
    }
   ],
   "source": [
    "housing.head()"
   ]
  },
  {
   "cell_type": "code",
   "execution_count": 18,
   "id": "58426e8e-4fa2-40bb-a726-cd5bb1500a2b",
   "metadata": {},
   "outputs": [],
   "source": [
    "# Drop 'furnishingstatus'\n",
    "housing.drop(\n",
    "    ['furnishingstatus'],\n",
    "    axis=1,\n",
    "    inplace=True)"
   ]
  },
  {
   "cell_type": "code",
   "execution_count": 19,
   "id": "4a9adfc1-6d79-4a7b-9dc6-fd7c7bd4e040",
   "metadata": {},
   "outputs": [
    {
     "data": {
      "text/html": [
       "<div>\n",
       "<style scoped>\n",
       "    .dataframe tbody tr th:only-of-type {\n",
       "        vertical-align: middle;\n",
       "    }\n",
       "\n",
       "    .dataframe tbody tr th {\n",
       "        vertical-align: top;\n",
       "    }\n",
       "\n",
       "    .dataframe thead th {\n",
       "        text-align: right;\n",
       "    }\n",
       "</style>\n",
       "<table border=\"1\" class=\"dataframe\">\n",
       "  <thead>\n",
       "    <tr style=\"text-align: right;\">\n",
       "      <th></th>\n",
       "      <th>price</th>\n",
       "      <th>area</th>\n",
       "      <th>bedrooms</th>\n",
       "      <th>bathrooms</th>\n",
       "      <th>stories</th>\n",
       "      <th>mainroad</th>\n",
       "      <th>guestroom</th>\n",
       "      <th>basement</th>\n",
       "      <th>hotwaterheating</th>\n",
       "      <th>airconditioning</th>\n",
       "      <th>parking</th>\n",
       "      <th>prefarea</th>\n",
       "      <th>semi-furnished</th>\n",
       "      <th>unfurnished</th>\n",
       "    </tr>\n",
       "  </thead>\n",
       "  <tbody>\n",
       "    <tr>\n",
       "      <th>0</th>\n",
       "      <td>13300000</td>\n",
       "      <td>7420</td>\n",
       "      <td>4</td>\n",
       "      <td>2</td>\n",
       "      <td>3</td>\n",
       "      <td>1</td>\n",
       "      <td>0</td>\n",
       "      <td>0</td>\n",
       "      <td>0</td>\n",
       "      <td>1</td>\n",
       "      <td>2</td>\n",
       "      <td>1</td>\n",
       "      <td>0</td>\n",
       "      <td>0</td>\n",
       "    </tr>\n",
       "    <tr>\n",
       "      <th>1</th>\n",
       "      <td>12250000</td>\n",
       "      <td>8960</td>\n",
       "      <td>4</td>\n",
       "      <td>4</td>\n",
       "      <td>4</td>\n",
       "      <td>1</td>\n",
       "      <td>0</td>\n",
       "      <td>0</td>\n",
       "      <td>0</td>\n",
       "      <td>1</td>\n",
       "      <td>3</td>\n",
       "      <td>0</td>\n",
       "      <td>0</td>\n",
       "      <td>0</td>\n",
       "    </tr>\n",
       "    <tr>\n",
       "      <th>2</th>\n",
       "      <td>12250000</td>\n",
       "      <td>9960</td>\n",
       "      <td>3</td>\n",
       "      <td>2</td>\n",
       "      <td>2</td>\n",
       "      <td>1</td>\n",
       "      <td>0</td>\n",
       "      <td>1</td>\n",
       "      <td>0</td>\n",
       "      <td>0</td>\n",
       "      <td>2</td>\n",
       "      <td>1</td>\n",
       "      <td>1</td>\n",
       "      <td>0</td>\n",
       "    </tr>\n",
       "    <tr>\n",
       "      <th>3</th>\n",
       "      <td>12215000</td>\n",
       "      <td>7500</td>\n",
       "      <td>4</td>\n",
       "      <td>2</td>\n",
       "      <td>2</td>\n",
       "      <td>1</td>\n",
       "      <td>0</td>\n",
       "      <td>1</td>\n",
       "      <td>0</td>\n",
       "      <td>1</td>\n",
       "      <td>3</td>\n",
       "      <td>1</td>\n",
       "      <td>0</td>\n",
       "      <td>0</td>\n",
       "    </tr>\n",
       "    <tr>\n",
       "      <th>4</th>\n",
       "      <td>11410000</td>\n",
       "      <td>7420</td>\n",
       "      <td>4</td>\n",
       "      <td>1</td>\n",
       "      <td>2</td>\n",
       "      <td>1</td>\n",
       "      <td>1</td>\n",
       "      <td>1</td>\n",
       "      <td>0</td>\n",
       "      <td>1</td>\n",
       "      <td>2</td>\n",
       "      <td>0</td>\n",
       "      <td>0</td>\n",
       "      <td>0</td>\n",
       "    </tr>\n",
       "  </tbody>\n",
       "</table>\n",
       "</div>"
      ],
      "text/plain": [
       "      price  area  bedrooms  bathrooms  stories  mainroad  guestroom  \\\n",
       "0  13300000  7420         4          2        3         1          0   \n",
       "1  12250000  8960         4          4        4         1          0   \n",
       "2  12250000  9960         3          2        2         1          0   \n",
       "3  12215000  7500         4          2        2         1          0   \n",
       "4  11410000  7420         4          1        2         1          1   \n",
       "\n",
       "   basement  hotwaterheating  airconditioning  parking  prefarea  \\\n",
       "0         0                0                1        2         1   \n",
       "1         0                0                1        3         0   \n",
       "2         1                0                0        2         1   \n",
       "3         1                0                1        3         1   \n",
       "4         1                0                1        2         0   \n",
       "\n",
       "   semi-furnished  unfurnished  \n",
       "0               0            0  \n",
       "1               0            0  \n",
       "2               1            0  \n",
       "3               0            0  \n",
       "4               0            0  "
      ]
     },
     "execution_count": 19,
     "metadata": {},
     "output_type": "execute_result"
    }
   ],
   "source": [
    "housing.head()"
   ]
  },
  {
   "cell_type": "code",
   "execution_count": 20,
   "id": "97a45992-7070-47a4-8c97-7252acd0b86e",
   "metadata": {},
   "outputs": [],
   "source": [
    "# Splitting the data into training and testing sets\n",
    "from sklearn.model_selection import train_test_split\n",
    "\n",
    "np.random.seed(0) # to always have the same rows of train and test dataset respectively\n",
    "df_train, df_test = train_test_split(housing,\n",
    "                                     train_size=.7,\n",
    "                                     test_size=.3,\n",
    "                                     random_state=100\n",
    "                                    )"
   ]
  },
  {
   "cell_type": "code",
   "execution_count": null,
   "id": "7522ab21-687a-4c90-b4da-2265de580bff",
   "metadata": {},
   "outputs": [],
   "source": [
    "# Rescaling the features\n",
    "# Scaling doesn't impact the model. We can see that except for area, all\n",
    "# the other columns have small integer values. If we don't have comparable scales,\n",
    "# then some of the coefficients as obtained by fitting the regression model might be\n",
    "# very large or very small as compared to the other coefficients. This might become very\n",
    "# annoying at the time of model evaluation. So it is advised to use standardization or\n",
    "# normalization so as the units of the coefficients obtained are all on the same scale. There\n",
    "# are two common ways of rescaling;\n",
    "# 1. Min-Max scaling\n",
    "# 2. Standardization (mean-0, sigma-1)"
   ]
  },
  {
   "cell_type": "code",
   "execution_count": null,
   "id": "674502ca-a34f-4cb3-9e2a-9d60397865d4",
   "metadata": {},
   "outputs": [],
   "source": [
    "# y = b_0 + b_1*x_1 + ... + b_n * x_n\n",
    "# price = b_1*area + b_0"
   ]
  },
  {
   "cell_type": "code",
   "execution_count": 21,
   "id": "f96d3a12-4e53-45e7-9f0f-dd0dd2397dcc",
   "metadata": {},
   "outputs": [],
   "source": [
    "from sklearn.preprocessing import MinMaxScaler\n",
    "scaler = MinMaxScaler()"
   ]
  },
  {
   "cell_type": "code",
   "execution_count": 22,
   "id": "01eba3e3-0b8c-4d07-ad74-c62e57519891",
   "metadata": {},
   "outputs": [],
   "source": [
    "# Apply scaler() to all the columns except the 'yes-no' and dummy variables\n",
    "num_vars = ['area', 'bedrooms', 'bathrooms', 'stories', 'parking', 'price']"
   ]
  },
  {
   "cell_type": "code",
   "execution_count": 23,
   "id": "5a58e664-90c0-4dee-b58f-f204267944ac",
   "metadata": {},
   "outputs": [],
   "source": [
    "df_train[num_vars] = scaler.fit_transform(df_train[num_vars])"
   ]
  },
  {
   "cell_type": "code",
   "execution_count": 24,
   "id": "6650c328-dad0-422b-995d-9fb58363be81",
   "metadata": {},
   "outputs": [
    {
     "data": {
      "text/html": [
       "<div>\n",
       "<style scoped>\n",
       "    .dataframe tbody tr th:only-of-type {\n",
       "        vertical-align: middle;\n",
       "    }\n",
       "\n",
       "    .dataframe tbody tr th {\n",
       "        vertical-align: top;\n",
       "    }\n",
       "\n",
       "    .dataframe thead th {\n",
       "        text-align: right;\n",
       "    }\n",
       "</style>\n",
       "<table border=\"1\" class=\"dataframe\">\n",
       "  <thead>\n",
       "    <tr style=\"text-align: right;\">\n",
       "      <th></th>\n",
       "      <th>price</th>\n",
       "      <th>area</th>\n",
       "      <th>bedrooms</th>\n",
       "      <th>bathrooms</th>\n",
       "      <th>stories</th>\n",
       "      <th>mainroad</th>\n",
       "      <th>guestroom</th>\n",
       "      <th>basement</th>\n",
       "      <th>hotwaterheating</th>\n",
       "      <th>airconditioning</th>\n",
       "      <th>parking</th>\n",
       "      <th>prefarea</th>\n",
       "      <th>semi-furnished</th>\n",
       "      <th>unfurnished</th>\n",
       "    </tr>\n",
       "  </thead>\n",
       "  <tbody>\n",
       "    <tr>\n",
       "      <th>359</th>\n",
       "      <td>0.169697</td>\n",
       "      <td>0.155227</td>\n",
       "      <td>0.4</td>\n",
       "      <td>0.0</td>\n",
       "      <td>0.000000</td>\n",
       "      <td>1</td>\n",
       "      <td>0</td>\n",
       "      <td>0</td>\n",
       "      <td>0</td>\n",
       "      <td>0</td>\n",
       "      <td>0.333333</td>\n",
       "      <td>0</td>\n",
       "      <td>0</td>\n",
       "      <td>1</td>\n",
       "    </tr>\n",
       "    <tr>\n",
       "      <th>19</th>\n",
       "      <td>0.615152</td>\n",
       "      <td>0.403379</td>\n",
       "      <td>0.4</td>\n",
       "      <td>0.5</td>\n",
       "      <td>0.333333</td>\n",
       "      <td>1</td>\n",
       "      <td>0</td>\n",
       "      <td>0</td>\n",
       "      <td>0</td>\n",
       "      <td>1</td>\n",
       "      <td>0.333333</td>\n",
       "      <td>1</td>\n",
       "      <td>1</td>\n",
       "      <td>0</td>\n",
       "    </tr>\n",
       "    <tr>\n",
       "      <th>159</th>\n",
       "      <td>0.321212</td>\n",
       "      <td>0.115628</td>\n",
       "      <td>0.4</td>\n",
       "      <td>0.5</td>\n",
       "      <td>0.000000</td>\n",
       "      <td>1</td>\n",
       "      <td>1</td>\n",
       "      <td>1</td>\n",
       "      <td>0</td>\n",
       "      <td>1</td>\n",
       "      <td>0.000000</td>\n",
       "      <td>0</td>\n",
       "      <td>0</td>\n",
       "      <td>0</td>\n",
       "    </tr>\n",
       "    <tr>\n",
       "      <th>35</th>\n",
       "      <td>0.548133</td>\n",
       "      <td>0.454417</td>\n",
       "      <td>0.4</td>\n",
       "      <td>0.5</td>\n",
       "      <td>1.000000</td>\n",
       "      <td>1</td>\n",
       "      <td>0</td>\n",
       "      <td>0</td>\n",
       "      <td>0</td>\n",
       "      <td>1</td>\n",
       "      <td>0.666667</td>\n",
       "      <td>0</td>\n",
       "      <td>0</td>\n",
       "      <td>0</td>\n",
       "    </tr>\n",
       "    <tr>\n",
       "      <th>28</th>\n",
       "      <td>0.575758</td>\n",
       "      <td>0.538015</td>\n",
       "      <td>0.8</td>\n",
       "      <td>0.5</td>\n",
       "      <td>0.333333</td>\n",
       "      <td>1</td>\n",
       "      <td>0</td>\n",
       "      <td>1</td>\n",
       "      <td>1</td>\n",
       "      <td>0</td>\n",
       "      <td>0.666667</td>\n",
       "      <td>0</td>\n",
       "      <td>0</td>\n",
       "      <td>1</td>\n",
       "    </tr>\n",
       "  </tbody>\n",
       "</table>\n",
       "</div>"
      ],
      "text/plain": [
       "        price      area  bedrooms  bathrooms   stories  mainroad  guestroom  \\\n",
       "359  0.169697  0.155227       0.4        0.0  0.000000         1          0   \n",
       "19   0.615152  0.403379       0.4        0.5  0.333333         1          0   \n",
       "159  0.321212  0.115628       0.4        0.5  0.000000         1          1   \n",
       "35   0.548133  0.454417       0.4        0.5  1.000000         1          0   \n",
       "28   0.575758  0.538015       0.8        0.5  0.333333         1          0   \n",
       "\n",
       "     basement  hotwaterheating  airconditioning   parking  prefarea  \\\n",
       "359         0                0                0  0.333333         0   \n",
       "19          0                0                1  0.333333         1   \n",
       "159         1                0                1  0.000000         0   \n",
       "35          0                0                1  0.666667         0   \n",
       "28          1                1                0  0.666667         0   \n",
       "\n",
       "     semi-furnished  unfurnished  \n",
       "359               0            1  \n",
       "19                1            0  \n",
       "159               0            0  \n",
       "35                0            0  \n",
       "28                0            1  "
      ]
     },
     "execution_count": 24,
     "metadata": {},
     "output_type": "execute_result"
    }
   ],
   "source": [
    "df_train.head()"
   ]
  },
  {
   "cell_type": "code",
   "execution_count": 25,
   "id": "2490db1d-7d4f-4166-a172-5fb3cb5df626",
   "metadata": {},
   "outputs": [
    {
     "data": {
      "text/html": [
       "<div>\n",
       "<style scoped>\n",
       "    .dataframe tbody tr th:only-of-type {\n",
       "        vertical-align: middle;\n",
       "    }\n",
       "\n",
       "    .dataframe tbody tr th {\n",
       "        vertical-align: top;\n",
       "    }\n",
       "\n",
       "    .dataframe thead th {\n",
       "        text-align: right;\n",
       "    }\n",
       "</style>\n",
       "<table border=\"1\" class=\"dataframe\">\n",
       "  <thead>\n",
       "    <tr style=\"text-align: right;\">\n",
       "      <th></th>\n",
       "      <th>price</th>\n",
       "      <th>area</th>\n",
       "      <th>bedrooms</th>\n",
       "      <th>bathrooms</th>\n",
       "      <th>stories</th>\n",
       "      <th>mainroad</th>\n",
       "      <th>guestroom</th>\n",
       "      <th>basement</th>\n",
       "      <th>hotwaterheating</th>\n",
       "      <th>airconditioning</th>\n",
       "      <th>parking</th>\n",
       "      <th>prefarea</th>\n",
       "      <th>semi-furnished</th>\n",
       "      <th>unfurnished</th>\n",
       "    </tr>\n",
       "  </thead>\n",
       "  <tbody>\n",
       "    <tr>\n",
       "      <th>count</th>\n",
       "      <td>381.000000</td>\n",
       "      <td>381.000000</td>\n",
       "      <td>381.000000</td>\n",
       "      <td>381.000000</td>\n",
       "      <td>381.000000</td>\n",
       "      <td>381.000000</td>\n",
       "      <td>381.000000</td>\n",
       "      <td>381.000000</td>\n",
       "      <td>381.000000</td>\n",
       "      <td>381.000000</td>\n",
       "      <td>381.000000</td>\n",
       "      <td>381.000000</td>\n",
       "      <td>381.000000</td>\n",
       "      <td>381.000000</td>\n",
       "    </tr>\n",
       "    <tr>\n",
       "      <th>mean</th>\n",
       "      <td>0.260333</td>\n",
       "      <td>0.288710</td>\n",
       "      <td>0.386352</td>\n",
       "      <td>0.136483</td>\n",
       "      <td>0.268591</td>\n",
       "      <td>0.855643</td>\n",
       "      <td>0.170604</td>\n",
       "      <td>0.351706</td>\n",
       "      <td>0.052493</td>\n",
       "      <td>0.299213</td>\n",
       "      <td>0.242345</td>\n",
       "      <td>0.233596</td>\n",
       "      <td>0.414698</td>\n",
       "      <td>0.325459</td>\n",
       "    </tr>\n",
       "    <tr>\n",
       "      <th>std</th>\n",
       "      <td>0.157607</td>\n",
       "      <td>0.181420</td>\n",
       "      <td>0.147336</td>\n",
       "      <td>0.237325</td>\n",
       "      <td>0.295001</td>\n",
       "      <td>0.351913</td>\n",
       "      <td>0.376657</td>\n",
       "      <td>0.478131</td>\n",
       "      <td>0.223313</td>\n",
       "      <td>0.458515</td>\n",
       "      <td>0.285933</td>\n",
       "      <td>0.423674</td>\n",
       "      <td>0.493318</td>\n",
       "      <td>0.469162</td>\n",
       "    </tr>\n",
       "    <tr>\n",
       "      <th>min</th>\n",
       "      <td>0.000000</td>\n",
       "      <td>0.000000</td>\n",
       "      <td>0.000000</td>\n",
       "      <td>0.000000</td>\n",
       "      <td>0.000000</td>\n",
       "      <td>0.000000</td>\n",
       "      <td>0.000000</td>\n",
       "      <td>0.000000</td>\n",
       "      <td>0.000000</td>\n",
       "      <td>0.000000</td>\n",
       "      <td>0.000000</td>\n",
       "      <td>0.000000</td>\n",
       "      <td>0.000000</td>\n",
       "      <td>0.000000</td>\n",
       "    </tr>\n",
       "    <tr>\n",
       "      <th>25%</th>\n",
       "      <td>0.151515</td>\n",
       "      <td>0.155227</td>\n",
       "      <td>0.200000</td>\n",
       "      <td>0.000000</td>\n",
       "      <td>0.000000</td>\n",
       "      <td>1.000000</td>\n",
       "      <td>0.000000</td>\n",
       "      <td>0.000000</td>\n",
       "      <td>0.000000</td>\n",
       "      <td>0.000000</td>\n",
       "      <td>0.000000</td>\n",
       "      <td>0.000000</td>\n",
       "      <td>0.000000</td>\n",
       "      <td>0.000000</td>\n",
       "    </tr>\n",
       "    <tr>\n",
       "      <th>50%</th>\n",
       "      <td>0.221212</td>\n",
       "      <td>0.234424</td>\n",
       "      <td>0.400000</td>\n",
       "      <td>0.000000</td>\n",
       "      <td>0.333333</td>\n",
       "      <td>1.000000</td>\n",
       "      <td>0.000000</td>\n",
       "      <td>0.000000</td>\n",
       "      <td>0.000000</td>\n",
       "      <td>0.000000</td>\n",
       "      <td>0.000000</td>\n",
       "      <td>0.000000</td>\n",
       "      <td>0.000000</td>\n",
       "      <td>0.000000</td>\n",
       "    </tr>\n",
       "    <tr>\n",
       "      <th>75%</th>\n",
       "      <td>0.345455</td>\n",
       "      <td>0.398099</td>\n",
       "      <td>0.400000</td>\n",
       "      <td>0.500000</td>\n",
       "      <td>0.333333</td>\n",
       "      <td>1.000000</td>\n",
       "      <td>0.000000</td>\n",
       "      <td>1.000000</td>\n",
       "      <td>0.000000</td>\n",
       "      <td>1.000000</td>\n",
       "      <td>0.333333</td>\n",
       "      <td>0.000000</td>\n",
       "      <td>1.000000</td>\n",
       "      <td>1.000000</td>\n",
       "    </tr>\n",
       "    <tr>\n",
       "      <th>max</th>\n",
       "      <td>1.000000</td>\n",
       "      <td>1.000000</td>\n",
       "      <td>1.000000</td>\n",
       "      <td>1.000000</td>\n",
       "      <td>1.000000</td>\n",
       "      <td>1.000000</td>\n",
       "      <td>1.000000</td>\n",
       "      <td>1.000000</td>\n",
       "      <td>1.000000</td>\n",
       "      <td>1.000000</td>\n",
       "      <td>1.000000</td>\n",
       "      <td>1.000000</td>\n",
       "      <td>1.000000</td>\n",
       "      <td>1.000000</td>\n",
       "    </tr>\n",
       "  </tbody>\n",
       "</table>\n",
       "</div>"
      ],
      "text/plain": [
       "            price        area    bedrooms   bathrooms     stories    mainroad  \\\n",
       "count  381.000000  381.000000  381.000000  381.000000  381.000000  381.000000   \n",
       "mean     0.260333    0.288710    0.386352    0.136483    0.268591    0.855643   \n",
       "std      0.157607    0.181420    0.147336    0.237325    0.295001    0.351913   \n",
       "min      0.000000    0.000000    0.000000    0.000000    0.000000    0.000000   \n",
       "25%      0.151515    0.155227    0.200000    0.000000    0.000000    1.000000   \n",
       "50%      0.221212    0.234424    0.400000    0.000000    0.333333    1.000000   \n",
       "75%      0.345455    0.398099    0.400000    0.500000    0.333333    1.000000   \n",
       "max      1.000000    1.000000    1.000000    1.000000    1.000000    1.000000   \n",
       "\n",
       "        guestroom    basement  hotwaterheating  airconditioning     parking  \\\n",
       "count  381.000000  381.000000       381.000000       381.000000  381.000000   \n",
       "mean     0.170604    0.351706         0.052493         0.299213    0.242345   \n",
       "std      0.376657    0.478131         0.223313         0.458515    0.285933   \n",
       "min      0.000000    0.000000         0.000000         0.000000    0.000000   \n",
       "25%      0.000000    0.000000         0.000000         0.000000    0.000000   \n",
       "50%      0.000000    0.000000         0.000000         0.000000    0.000000   \n",
       "75%      0.000000    1.000000         0.000000         1.000000    0.333333   \n",
       "max      1.000000    1.000000         1.000000         1.000000    1.000000   \n",
       "\n",
       "         prefarea  semi-furnished  unfurnished  \n",
       "count  381.000000      381.000000   381.000000  \n",
       "mean     0.233596        0.414698     0.325459  \n",
       "std      0.423674        0.493318     0.469162  \n",
       "min      0.000000        0.000000     0.000000  \n",
       "25%      0.000000        0.000000     0.000000  \n",
       "50%      0.000000        0.000000     0.000000  \n",
       "75%      0.000000        1.000000     1.000000  \n",
       "max      1.000000        1.000000     1.000000  "
      ]
     },
     "execution_count": 25,
     "metadata": {},
     "output_type": "execute_result"
    }
   ],
   "source": [
    "df_train.describe()"
   ]
  },
  {
   "cell_type": "code",
   "execution_count": 26,
   "id": "e836e6c1-ab9a-45f5-ad3f-22d9966e0813",
   "metadata": {},
   "outputs": [
    {
     "data": {
      "image/png": "[encoded data removed]",
      "text/plain": [
       "<Figure size 1000x800 with 2 Axes>"
      ]
     },
     "metadata": {},
     "output_type": "display_data"
    }
   ],
   "source": [
    "# Correlation coefficients\n",
    "plt.figure(figsize=(10, 8))\n",
    "sns.heatmap(df_train.corr(),\n",
    "            annot=True,\n",
    "            fmt=\".2f\",\n",
    "            cmap='YlGnBu');\n",
    "plt.show()"
   ]
  },
  {
   "cell_type": "code",
   "execution_count": null,
   "id": "ecc37856-7113-486e-8a1c-05134804a094",
   "metadata": {},
   "outputs": [],
   "source": [
    "# Area correlates to price most"
   ]
  },
  {
   "cell_type": "code",
   "execution_count": 27,
   "id": "fe5a16cd-1fe4-4759-a18c-8297a76ddc07",
   "metadata": {},
   "outputs": [
    {
     "data": {
      "image/png": "[encoded data removed]",
      "text/plain": [
       "<Figure size 600x600 with 1 Axes>"
      ]
     },
     "metadata": {},
     "output_type": "display_data"
    }
   ],
   "source": [
    "# Pairplot of area vs price\n",
    "plt.figure(figsize=[6,6])\n",
    "plt.scatter(df_train.area, df_train.price)\n",
    "plt.show();"
   ]
  },
  {
   "cell_type": "code",
   "execution_count": 28,
   "id": "cc37d83c-9647-4c2c-9e6e-23343cf8222b",
   "metadata": {},
   "outputs": [],
   "source": [
    "# Picking area as the first dependant varible\n",
    "y_train = df_train.pop('price') # target variable\n",
    "X_train = df_train"
   ]
  },
  {
   "cell_type": "code",
   "execution_count": 29,
   "id": "f79d3ea6-e752-402a-ac82-90c4922646e2",
   "metadata": {},
   "outputs": [],
   "source": [
    "# Building a linear model\n",
    "import statsmodels.api as sm\n",
    "\n",
    "# Add constant\n",
    "X_train_lm = sm.add_constant(X_train[['area']])"
   ]
  },
  {
   "cell_type": "code",
   "execution_count": 30,
   "id": "c2a5e774-8b9b-4cd7-b766-446192e13a05",
   "metadata": {},
   "outputs": [
    {
     "data": {
      "text/plain": [
       "const    0.126894\n",
       "area     0.462192\n",
       "dtype: float64"
      ]
     },
     "execution_count": 30,
     "metadata": {},
     "output_type": "execute_result"
    }
   ],
   "source": [
    "# fitted model\n",
    "lr = sm.OLS(y_train, X_train_lm).fit()\n",
    "\n",
    "# check the parameters obtained\n",
    "lr.params"
   ]
  },
  {
   "cell_type": "code",
   "execution_count": 31,
   "id": "5be23ba1-d7f4-4420-bda6-f579467de22c",
   "metadata": {},
   "outputs": [
    {
     "data": {
      "text/plain": [
       "[<matplotlib.lines.Line2D at 0x2047f53c230>]"
      ]
     },
     "execution_count": 31,
     "metadata": {},
     "output_type": "execute_result"
    },
    {
     "data": {
      "image/png": "[encoded data removed]",
      "text/plain": [
       "<Figure size 640x480 with 1 Axes>"
      ]
     },
     "metadata": {},
     "output_type": "display_data"
    }
   ],
   "source": [
    "# Visualization\n",
    "plt.scatter(X_train_lm.iloc[:, 1], y_train)\n",
    "\n",
    "# Prediction line (fitted line)\n",
    "plt.plot(X_train_lm.iloc[:, 1], 0.126894 + 0.462192*X_train_lm.iloc[:, 1], 'r')"
   ]
  },
  {
   "cell_type": "code",
   "execution_count": 32,
   "id": "6ce9045c-745e-45ca-a6b8-30fca5d06dcb",
   "metadata": {},
   "outputs": [
    {
     "name": "stdout",
     "output_type": "stream",
     "text": [
      "                            OLS Regression Results                            \n",
      "==============================================================================\n",
      "Dep. Variable:                  price   R-squared:                       0.283\n",
      "Model:                            OLS   Adj. R-squared:                  0.281\n",
      "Method:                 Least Squares   F-statistic:                     149.6\n",
      "Date:                Mon, 24 Mar 2025   Prob (F-statistic):           3.15e-29\n",
      "Time:                        17:40:54   Log-Likelihood:                 227.23\n",
      "No. Observations:                 381   AIC:                            -450.5\n",
      "Df Residuals:                     379   BIC:                            -442.6\n",
      "Df Model:                           1                                         \n",
      "Covariance Type:            nonrobust                                         \n",
      "==============================================================================\n",
      "                 coef    std err          t      P>|t|      [0.025      0.975]\n",
      "------------------------------------------------------------------------------\n",
      "const          0.1269      0.013      9.853      0.000       0.102       0.152\n",
      "area           0.4622      0.038     12.232      0.000       0.388       0.536\n",
      "==============================================================================\n",
      "Omnibus:                       67.313   Durbin-Watson:                   2.018\n",
      "Prob(Omnibus):                  0.000   Jarque-Bera (JB):              143.063\n",
      "Skew:                           0.925   Prob(JB):                     8.59e-32\n",
      "Kurtosis:                       5.365   Cond. No.                         5.99\n",
      "==============================================================================\n",
      "\n",
      "Notes:\n",
      "[1] Standard Errors assume that the covariance matrix of the errors is correctly specified.\n"
     ]
    }
   ],
   "source": [
    "# summary\n",
    "print(lr.summary())"
   ]
  },
  {
   "cell_type": "code",
   "execution_count": 33,
   "id": "80535a2c-468b-4f26-8986-4ec19743f816",
   "metadata": {},
   "outputs": [],
   "source": [
    "# R-Squared value is 0.283. This is a very low value."
   ]
  },
  {
   "cell_type": "code",
   "execution_count": 34,
   "id": "7651c8cc-74fc-423a-bbdc-9f8da4c5f518",
   "metadata": {},
   "outputs": [],
   "source": [
    "# Adding another variable\n",
    "# Assign all the features variable to X\n",
    "X_train_lm = X_train[['area', 'bathrooms']]"
   ]
  },
  {
   "cell_type": "code",
   "execution_count": 35,
   "id": "d5e25755-a915-44bb-8d1c-b228874e1a6d",
   "metadata": {},
   "outputs": [
    {
     "data": {
      "text/plain": [
       "const        0.104589\n",
       "area         0.398396\n",
       "bathrooms    0.298374\n",
       "dtype: float64"
      ]
     },
     "execution_count": 35,
     "metadata": {},
     "output_type": "execute_result"
    }
   ],
   "source": [
    "# build a linear model\n",
    "X_train_lm = sm.add_constant(X_train_lm)\n",
    "lr = sm.OLS(y_train, X_train_lm).fit()\n",
    "lr.params"
   ]
  },
  {
   "cell_type": "code",
   "execution_count": 36,
   "id": "6e856ec6-6af8-4b63-b586-ed8c1aaf93b6",
   "metadata": {},
   "outputs": [
    {
     "name": "stdout",
     "output_type": "stream",
     "text": [
      "                            OLS Regression Results                            \n",
      "==============================================================================\n",
      "Dep. Variable:                  price   R-squared:                       0.480\n",
      "Model:                            OLS   Adj. R-squared:                  0.477\n",
      "Method:                 Least Squares   F-statistic:                     174.1\n",
      "Date:                Mon, 24 Mar 2025   Prob (F-statistic):           2.51e-54\n",
      "Time:                        17:44:00   Log-Likelihood:                 288.24\n",
      "No. Observations:                 381   AIC:                            -570.5\n",
      "Df Residuals:                     378   BIC:                            -558.6\n",
      "Df Model:                           2                                         \n",
      "Covariance Type:            nonrobust                                         \n",
      "==============================================================================\n",
      "                 coef    std err          t      P>|t|      [0.025      0.975]\n",
      "------------------------------------------------------------------------------\n",
      "const          0.1046      0.011      9.384      0.000       0.083       0.127\n",
      "area           0.3984      0.033     12.192      0.000       0.334       0.463\n",
      "bathrooms      0.2984      0.025     11.945      0.000       0.249       0.347\n",
      "==============================================================================\n",
      "Omnibus:                       62.839   Durbin-Watson:                   2.157\n",
      "Prob(Omnibus):                  0.000   Jarque-Bera (JB):              168.790\n",
      "Skew:                           0.784   Prob(JB):                     2.23e-37\n",
      "Kurtosis:                       5.859   Cond. No.                         6.17\n",
      "==============================================================================\n",
      "\n",
      "Notes:\n",
      "[1] Standard Errors assume that the covariance matrix of the errors is correctly specified.\n"
     ]
    }
   ],
   "source": [
    "# check summary\n",
    "print(lr.summary())"
   ]
  },
  {
   "cell_type": "code",
   "execution_count": 37,
   "id": "6cc62fec-ab95-4496-891d-667c252bacc8",
   "metadata": {},
   "outputs": [],
   "source": [
    "# R-Sqaured value has improved"
   ]
  },
  {
   "cell_type": "code",
   "execution_count": 38,
   "id": "a80d8774-6e9b-4931-91a3-4890a15fb865",
   "metadata": {},
   "outputs": [
    {
     "data": {
      "text/plain": [
       "const        0.041352\n",
       "area         0.392211\n",
       "bathrooms    0.259978\n",
       "bedrooms     0.181863\n",
       "dtype: float64"
      ]
     },
     "execution_count": 38,
     "metadata": {},
     "output_type": "execute_result"
    }
   ],
   "source": [
    "# Add another variable\n",
    "X_train_lm = X_train[['area', 'bathrooms', 'bedrooms']]\n",
    "X_train_lm = sm.add_constant(X_train_lm)\n",
    "lr = sm.OLS(y_train, X_train_lm).fit()\n",
    "lr.params"
   ]
  },
  {
   "cell_type": "code",
   "execution_count": 39,
   "id": "cfccbe9a-9d33-4b33-9de3-0a4179b112d1",
   "metadata": {},
   "outputs": [
    {
     "name": "stdout",
     "output_type": "stream",
     "text": [
      "                            OLS Regression Results                            \n",
      "==============================================================================\n",
      "Dep. Variable:                  price   R-squared:                       0.505\n",
      "Model:                            OLS   Adj. R-squared:                  0.501\n",
      "Method:                 Least Squares   F-statistic:                     128.2\n",
      "Date:                Mon, 24 Mar 2025   Prob (F-statistic):           3.12e-57\n",
      "Time:                        17:44:28   Log-Likelihood:                 297.76\n",
      "No. Observations:                 381   AIC:                            -587.5\n",
      "Df Residuals:                     377   BIC:                            -571.7\n",
      "Df Model:                           3                                         \n",
      "Covariance Type:            nonrobust                                         \n",
      "==============================================================================\n",
      "                 coef    std err          t      P>|t|      [0.025      0.975]\n",
      "------------------------------------------------------------------------------\n",
      "const          0.0414      0.018      2.292      0.022       0.006       0.077\n",
      "area           0.3922      0.032     12.279      0.000       0.329       0.455\n",
      "bathrooms      0.2600      0.026     10.033      0.000       0.209       0.311\n",
      "bedrooms       0.1819      0.041      4.396      0.000       0.101       0.263\n",
      "==============================================================================\n",
      "Omnibus:                       50.037   Durbin-Watson:                   2.136\n",
      "Prob(Omnibus):                  0.000   Jarque-Bera (JB):              124.806\n",
      "Skew:                           0.648   Prob(JB):                     7.92e-28\n",
      "Kurtosis:                       5.487   Cond. No.                         8.87\n",
      "==============================================================================\n",
      "\n",
      "Notes:\n",
      "[1] Standard Errors assume that the covariance matrix of the errors is correctly specified.\n"
     ]
    }
   ],
   "source": [
    "# summary\n",
    "print(lr.summary())"
   ]
  },
  {
   "cell_type": "code",
   "execution_count": null,
   "id": "6cfa5f24-04cf-4d98-89d4-d51891a6eae4",
   "metadata": {},
   "outputs": [],
   "source": [
    "# R-Squared value increases"
   ]
  },
  {
   "cell_type": "code",
   "execution_count": 40,
   "id": "1c9d4c25-4131-4797-ae33-058ed475a590",
   "metadata": {},
   "outputs": [
    {
     "data": {
      "text/plain": [
       "const              0.020033\n",
       "area               0.234664\n",
       "bedrooms           0.046735\n",
       "bathrooms          0.190823\n",
       "stories            0.108516\n",
       "mainroad           0.050441\n",
       "guestroom          0.030428\n",
       "basement           0.021595\n",
       "hotwaterheating    0.084863\n",
       "airconditioning    0.066881\n",
       "parking            0.060735\n",
       "prefarea           0.059428\n",
       "semi-furnished     0.000921\n",
       "unfurnished       -0.031006\n",
       "dtype: float64"
      ]
     },
     "execution_count": 40,
     "metadata": {},
     "output_type": "execute_result"
    }
   ],
   "source": [
    "# Adding all the columns\n",
    "X_train_lm = sm.add_constant(X_train)\n",
    "lr_1 = sm.OLS(y_train, X_train_lm).fit()\n",
    "lr_1.params"
   ]
  },
  {
   "cell_type": "code",
   "execution_count": 41,
   "id": "7bac6284-c238-463e-b177-1d42cf56f89d",
   "metadata": {},
   "outputs": [
    {
     "name": "stdout",
     "output_type": "stream",
     "text": [
      "                            OLS Regression Results                            \n",
      "==============================================================================\n",
      "Dep. Variable:                  price   R-squared:                       0.681\n",
      "Model:                            OLS   Adj. R-squared:                  0.670\n",
      "Method:                 Least Squares   F-statistic:                     60.40\n",
      "Date:                Mon, 24 Mar 2025   Prob (F-statistic):           8.83e-83\n",
      "Time:                        17:45:14   Log-Likelihood:                 381.79\n",
      "No. Observations:                 381   AIC:                            -735.6\n",
      "Df Residuals:                     367   BIC:                            -680.4\n",
      "Df Model:                          13                                         \n",
      "Covariance Type:            nonrobust                                         \n",
      "===================================================================================\n",
      "                      coef    std err          t      P>|t|      [0.025      0.975]\n",
      "-----------------------------------------------------------------------------------\n",
      "const               0.0200      0.021      0.955      0.340      -0.021       0.061\n",
      "area                0.2347      0.030      7.795      0.000       0.175       0.294\n",
      "bedrooms            0.0467      0.037      1.267      0.206      -0.026       0.119\n",
      "bathrooms           0.1908      0.022      8.679      0.000       0.148       0.234\n",
      "stories             0.1085      0.019      5.661      0.000       0.071       0.146\n",
      "mainroad            0.0504      0.014      3.520      0.000       0.022       0.079\n",
      "guestroom           0.0304      0.014      2.233      0.026       0.004       0.057\n",
      "basement            0.0216      0.011      1.943      0.053      -0.000       0.043\n",
      "hotwaterheating     0.0849      0.022      3.934      0.000       0.042       0.127\n",
      "airconditioning     0.0669      0.011      5.899      0.000       0.045       0.089\n",
      "parking             0.0607      0.018      3.365      0.001       0.025       0.096\n",
      "prefarea            0.0594      0.012      5.040      0.000       0.036       0.083\n",
      "semi-furnished      0.0009      0.012      0.078      0.938      -0.022       0.024\n",
      "unfurnished        -0.0310      0.013     -2.440      0.015      -0.056      -0.006\n",
      "==============================================================================\n",
      "Omnibus:                       93.687   Durbin-Watson:                   2.093\n",
      "Prob(Omnibus):                  0.000   Jarque-Bera (JB):              304.917\n",
      "Skew:                           1.091   Prob(JB):                     6.14e-67\n",
      "Kurtosis:                       6.801   Cond. No.                         14.6\n",
      "==============================================================================\n",
      "\n",
      "Notes:\n",
      "[1] Standard Errors assume that the covariance matrix of the errors is correctly specified.\n"
     ]
    }
   ],
   "source": [
    "print(lr_1.summary())"
   ]
  },
  {
   "cell_type": "code",
   "execution_count": null,
   "id": "a94d22e7-aa61-4f50-8550-26614014066b",
   "metadata": {},
   "outputs": [],
   "source": [
    "# R-squared improved to 0.681"
   ]
  },
  {
   "cell_type": "code",
   "execution_count": 42,
   "id": "8da2981b-7090-494a-abce-996a5cab3e20",
   "metadata": {},
   "outputs": [],
   "source": [
    "# Looking at the p-values it looks like some of the variables aren't really significant (in the present of the\n",
    "# other variables)\n",
    "# We can drop varibales with high p-values\n",
    "# A better way would be to supplement this with the Variance Inflation Factor, VIF.\n",
    "\n",
    "# ** VIF gives a basic quantitative idea about how much the feature variables are correlated\n",
    "# with each other. It is an extremely important parameter to test linear models.\n",
    "\n",
    "# VIF = 1 / (1 - R_squared_i)"
   ]
  },
  {
   "cell_type": "code",
   "execution_count": 43,
   "id": "da88dcfd-5ed2-4ff6-b727-2d15539aa879",
   "metadata": {},
   "outputs": [
    {
     "data": {
      "text/html": [
       "<div>\n",
       "<style scoped>\n",
       "    .dataframe tbody tr th:only-of-type {\n",
       "        vertical-align: middle;\n",
       "    }\n",
       "\n",
       "    .dataframe tbody tr th {\n",
       "        vertical-align: top;\n",
       "    }\n",
       "\n",
       "    .dataframe thead th {\n",
       "        text-align: right;\n",
       "    }\n",
       "</style>\n",
       "<table border=\"1\" class=\"dataframe\">\n",
       "  <thead>\n",
       "    <tr style=\"text-align: right;\">\n",
       "      <th></th>\n",
       "      <th>Features</th>\n",
       "      <th>VIF</th>\n",
       "    </tr>\n",
       "  </thead>\n",
       "  <tbody>\n",
       "    <tr>\n",
       "      <th>1</th>\n",
       "      <td>bedrooms</td>\n",
       "      <td>7.33</td>\n",
       "    </tr>\n",
       "    <tr>\n",
       "      <th>4</th>\n",
       "      <td>mainroad</td>\n",
       "      <td>6.02</td>\n",
       "    </tr>\n",
       "    <tr>\n",
       "      <th>0</th>\n",
       "      <td>area</td>\n",
       "      <td>4.67</td>\n",
       "    </tr>\n",
       "    <tr>\n",
       "      <th>3</th>\n",
       "      <td>stories</td>\n",
       "      <td>2.70</td>\n",
       "    </tr>\n",
       "    <tr>\n",
       "      <th>11</th>\n",
       "      <td>semi-furnished</td>\n",
       "      <td>2.19</td>\n",
       "    </tr>\n",
       "    <tr>\n",
       "      <th>9</th>\n",
       "      <td>parking</td>\n",
       "      <td>2.12</td>\n",
       "    </tr>\n",
       "    <tr>\n",
       "      <th>6</th>\n",
       "      <td>basement</td>\n",
       "      <td>2.02</td>\n",
       "    </tr>\n",
       "    <tr>\n",
       "      <th>12</th>\n",
       "      <td>unfurnished</td>\n",
       "      <td>1.82</td>\n",
       "    </tr>\n",
       "    <tr>\n",
       "      <th>8</th>\n",
       "      <td>airconditioning</td>\n",
       "      <td>1.77</td>\n",
       "    </tr>\n",
       "    <tr>\n",
       "      <th>2</th>\n",
       "      <td>bathrooms</td>\n",
       "      <td>1.67</td>\n",
       "    </tr>\n",
       "    <tr>\n",
       "      <th>10</th>\n",
       "      <td>prefarea</td>\n",
       "      <td>1.51</td>\n",
       "    </tr>\n",
       "    <tr>\n",
       "      <th>5</th>\n",
       "      <td>guestroom</td>\n",
       "      <td>1.47</td>\n",
       "    </tr>\n",
       "    <tr>\n",
       "      <th>7</th>\n",
       "      <td>hotwaterheating</td>\n",
       "      <td>1.14</td>\n",
       "    </tr>\n",
       "  </tbody>\n",
       "</table>\n",
       "</div>"
      ],
      "text/plain": [
       "           Features   VIF\n",
       "1          bedrooms  7.33\n",
       "4          mainroad  6.02\n",
       "0              area  4.67\n",
       "3           stories  2.70\n",
       "11   semi-furnished  2.19\n",
       "9           parking  2.12\n",
       "6          basement  2.02\n",
       "12      unfurnished  1.82\n",
       "8   airconditioning  1.77\n",
       "2         bathrooms  1.67\n",
       "10         prefarea  1.51\n",
       "5         guestroom  1.47\n",
       "7   hotwaterheating  1.14"
      ]
     },
     "execution_count": 43,
     "metadata": {},
     "output_type": "execute_result"
    }
   ],
   "source": [
    "# Checking for the VIF of the feature variables\n",
    "from statsmodels.stats.outliers_influence import variance_inflation_factor\n",
    "\n",
    "# Create a dataframe that will contain the names of all the features and their respective VIFs\n",
    "vif = pd.DataFrame()\n",
    "vif['Features'] = X_train.columns\n",
    "vif['VIF'] = [variance_inflation_factor(X_train.values, i) for i in range(X_train.shape[1])]\n",
    "vif['VIF'] = round(vif['VIF'], 2)\n",
    "vif = vif.sort_values(by='VIF', ascending=False)\n",
    "vif"
   ]
  },
  {
   "cell_type": "code",
   "execution_count": 44,
   "id": "cd4cbf5b-3e7b-4e48-860e-5467f952f5e0",
   "metadata": {},
   "outputs": [
    {
     "data": {
      "text/html": [
       "<div>\n",
       "<style scoped>\n",
       "    .dataframe tbody tr th:only-of-type {\n",
       "        vertical-align: middle;\n",
       "    }\n",
       "\n",
       "    .dataframe tbody tr th {\n",
       "        vertical-align: top;\n",
       "    }\n",
       "\n",
       "    .dataframe thead th {\n",
       "        text-align: right;\n",
       "    }\n",
       "</style>\n",
       "<table border=\"1\" class=\"dataframe\">\n",
       "  <thead>\n",
       "    <tr style=\"text-align: right;\">\n",
       "      <th></th>\n",
       "      <th>area</th>\n",
       "      <th>bedrooms</th>\n",
       "      <th>bathrooms</th>\n",
       "      <th>stories</th>\n",
       "      <th>mainroad</th>\n",
       "      <th>guestroom</th>\n",
       "      <th>basement</th>\n",
       "      <th>hotwaterheating</th>\n",
       "      <th>airconditioning</th>\n",
       "      <th>parking</th>\n",
       "      <th>prefarea</th>\n",
       "      <th>unfurnished</th>\n",
       "    </tr>\n",
       "  </thead>\n",
       "  <tbody>\n",
       "    <tr>\n",
       "      <th>359</th>\n",
       "      <td>0.155227</td>\n",
       "      <td>0.4</td>\n",
       "      <td>0.0</td>\n",
       "      <td>0.000000</td>\n",
       "      <td>1</td>\n",
       "      <td>0</td>\n",
       "      <td>0</td>\n",
       "      <td>0</td>\n",
       "      <td>0</td>\n",
       "      <td>0.333333</td>\n",
       "      <td>0</td>\n",
       "      <td>1</td>\n",
       "    </tr>\n",
       "    <tr>\n",
       "      <th>19</th>\n",
       "      <td>0.403379</td>\n",
       "      <td>0.4</td>\n",
       "      <td>0.5</td>\n",
       "      <td>0.333333</td>\n",
       "      <td>1</td>\n",
       "      <td>0</td>\n",
       "      <td>0</td>\n",
       "      <td>0</td>\n",
       "      <td>1</td>\n",
       "      <td>0.333333</td>\n",
       "      <td>1</td>\n",
       "      <td>0</td>\n",
       "    </tr>\n",
       "    <tr>\n",
       "      <th>159</th>\n",
       "      <td>0.115628</td>\n",
       "      <td>0.4</td>\n",
       "      <td>0.5</td>\n",
       "      <td>0.000000</td>\n",
       "      <td>1</td>\n",
       "      <td>1</td>\n",
       "      <td>1</td>\n",
       "      <td>0</td>\n",
       "      <td>1</td>\n",
       "      <td>0.000000</td>\n",
       "      <td>0</td>\n",
       "      <td>0</td>\n",
       "    </tr>\n",
       "    <tr>\n",
       "      <th>35</th>\n",
       "      <td>0.454417</td>\n",
       "      <td>0.4</td>\n",
       "      <td>0.5</td>\n",
       "      <td>1.000000</td>\n",
       "      <td>1</td>\n",
       "      <td>0</td>\n",
       "      <td>0</td>\n",
       "      <td>0</td>\n",
       "      <td>1</td>\n",
       "      <td>0.666667</td>\n",
       "      <td>0</td>\n",
       "      <td>0</td>\n",
       "    </tr>\n",
       "    <tr>\n",
       "      <th>28</th>\n",
       "      <td>0.538015</td>\n",
       "      <td>0.8</td>\n",
       "      <td>0.5</td>\n",
       "      <td>0.333333</td>\n",
       "      <td>1</td>\n",
       "      <td>0</td>\n",
       "      <td>1</td>\n",
       "      <td>1</td>\n",
       "      <td>0</td>\n",
       "      <td>0.666667</td>\n",
       "      <td>0</td>\n",
       "      <td>1</td>\n",
       "    </tr>\n",
       "    <tr>\n",
       "      <th>...</th>\n",
       "      <td>...</td>\n",
       "      <td>...</td>\n",
       "      <td>...</td>\n",
       "      <td>...</td>\n",
       "      <td>...</td>\n",
       "      <td>...</td>\n",
       "      <td>...</td>\n",
       "      <td>...</td>\n",
       "      <td>...</td>\n",
       "      <td>...</td>\n",
       "      <td>...</td>\n",
       "      <td>...</td>\n",
       "    </tr>\n",
       "    <tr>\n",
       "      <th>526</th>\n",
       "      <td>0.118268</td>\n",
       "      <td>0.2</td>\n",
       "      <td>0.0</td>\n",
       "      <td>0.000000</td>\n",
       "      <td>1</td>\n",
       "      <td>0</td>\n",
       "      <td>0</td>\n",
       "      <td>0</td>\n",
       "      <td>0</td>\n",
       "      <td>0.000000</td>\n",
       "      <td>0</td>\n",
       "      <td>1</td>\n",
       "    </tr>\n",
       "    <tr>\n",
       "      <th>53</th>\n",
       "      <td>0.291623</td>\n",
       "      <td>0.4</td>\n",
       "      <td>0.5</td>\n",
       "      <td>1.000000</td>\n",
       "      <td>1</td>\n",
       "      <td>0</td>\n",
       "      <td>0</td>\n",
       "      <td>0</td>\n",
       "      <td>1</td>\n",
       "      <td>0.666667</td>\n",
       "      <td>0</td>\n",
       "      <td>0</td>\n",
       "    </tr>\n",
       "    <tr>\n",
       "      <th>350</th>\n",
       "      <td>0.139388</td>\n",
       "      <td>0.2</td>\n",
       "      <td>0.0</td>\n",
       "      <td>0.333333</td>\n",
       "      <td>1</td>\n",
       "      <td>0</td>\n",
       "      <td>0</td>\n",
       "      <td>1</td>\n",
       "      <td>0</td>\n",
       "      <td>0.333333</td>\n",
       "      <td>0</td>\n",
       "      <td>0</td>\n",
       "    </tr>\n",
       "    <tr>\n",
       "      <th>79</th>\n",
       "      <td>0.366420</td>\n",
       "      <td>0.4</td>\n",
       "      <td>0.5</td>\n",
       "      <td>0.666667</td>\n",
       "      <td>1</td>\n",
       "      <td>1</td>\n",
       "      <td>0</td>\n",
       "      <td>0</td>\n",
       "      <td>1</td>\n",
       "      <td>0.000000</td>\n",
       "      <td>0</td>\n",
       "      <td>0</td>\n",
       "    </tr>\n",
       "    <tr>\n",
       "      <th>520</th>\n",
       "      <td>0.516015</td>\n",
       "      <td>0.2</td>\n",
       "      <td>0.0</td>\n",
       "      <td>0.000000</td>\n",
       "      <td>1</td>\n",
       "      <td>0</td>\n",
       "      <td>0</td>\n",
       "      <td>0</td>\n",
       "      <td>0</td>\n",
       "      <td>0.000000</td>\n",
       "      <td>0</td>\n",
       "      <td>1</td>\n",
       "    </tr>\n",
       "  </tbody>\n",
       "</table>\n",
       "<p>381 rows × 12 columns</p>\n",
       "</div>"
      ],
      "text/plain": [
       "         area  bedrooms  bathrooms   stories  mainroad  guestroom  basement  \\\n",
       "359  0.155227       0.4        0.0  0.000000         1          0         0   \n",
       "19   0.403379       0.4        0.5  0.333333         1          0         0   \n",
       "159  0.115628       0.4        0.5  0.000000         1          1         1   \n",
       "35   0.454417       0.4        0.5  1.000000         1          0         0   \n",
       "28   0.538015       0.8        0.5  0.333333         1          0         1   \n",
       "..        ...       ...        ...       ...       ...        ...       ...   \n",
       "526  0.118268       0.2        0.0  0.000000         1          0         0   \n",
       "53   0.291623       0.4        0.5  1.000000         1          0         0   \n",
       "350  0.139388       0.2        0.0  0.333333         1          0         0   \n",
       "79   0.366420       0.4        0.5  0.666667         1          1         0   \n",
       "520  0.516015       0.2        0.0  0.000000         1          0         0   \n",
       "\n",
       "     hotwaterheating  airconditioning   parking  prefarea  unfurnished  \n",
       "359                0                0  0.333333         0            1  \n",
       "19                 0                1  0.333333         1            0  \n",
       "159                0                1  0.000000         0            0  \n",
       "35                 0                1  0.666667         0            0  \n",
       "28                 1                0  0.666667         0            1  \n",
       "..               ...              ...       ...       ...          ...  \n",
       "526                0                0  0.000000         0            1  \n",
       "53                 0                1  0.666667         0            0  \n",
       "350                1                0  0.333333         0            0  \n",
       "79                 0                1  0.000000         0            0  \n",
       "520                0                0  0.000000         0            1  \n",
       "\n",
       "[381 rows x 12 columns]"
      ]
     },
     "execution_count": 44,
     "metadata": {},
     "output_type": "execute_result"
    }
   ],
   "source": [
    "# We generally want a VIF that is less than 5. So there are clearly some varibles we need to drop.\n",
    "# Dropping variables with high p-values\n",
    "X = X_train.drop('semi-furnished', axis=1)\n",
    "X"
   ]
  },
  {
   "cell_type": "code",
   "execution_count": 45,
   "id": "babbe8e2-9245-4dda-9a26-2881579a805c",
   "metadata": {},
   "outputs": [
    {
     "name": "stdout",
     "output_type": "stream",
     "text": [
      "                            OLS Regression Results                            \n",
      "==============================================================================\n",
      "Dep. Variable:                  price   R-squared:                       0.681\n",
      "Model:                            OLS   Adj. R-squared:                  0.671\n",
      "Method:                 Least Squares   F-statistic:                     65.61\n",
      "Date:                Mon, 24 Mar 2025   Prob (F-statistic):           1.07e-83\n",
      "Time:                        17:59:53   Log-Likelihood:                 381.79\n",
      "No. Observations:                 381   AIC:                            -737.6\n",
      "Df Residuals:                     368   BIC:                            -686.3\n",
      "Df Model:                          12                                         \n",
      "Covariance Type:            nonrobust                                         \n",
      "===================================================================================\n",
      "                      coef    std err          t      P>|t|      [0.025      0.975]\n",
      "-----------------------------------------------------------------------------------\n",
      "const               0.0207      0.019      1.098      0.273      -0.016       0.058\n",
      "area                0.2344      0.030      7.845      0.000       0.176       0.293\n",
      "bedrooms            0.0467      0.037      1.268      0.206      -0.026       0.119\n",
      "bathrooms           0.1909      0.022      8.697      0.000       0.148       0.234\n",
      "stories             0.1085      0.019      5.669      0.000       0.071       0.146\n",
      "mainroad            0.0504      0.014      3.524      0.000       0.022       0.079\n",
      "guestroom           0.0304      0.014      2.238      0.026       0.004       0.057\n",
      "basement            0.0216      0.011      1.946      0.052      -0.000       0.043\n",
      "hotwaterheating     0.0849      0.022      3.941      0.000       0.043       0.127\n",
      "airconditioning     0.0668      0.011      5.923      0.000       0.045       0.089\n",
      "parking             0.0608      0.018      3.372      0.001       0.025       0.096\n",
      "prefarea            0.0594      0.012      5.046      0.000       0.036       0.083\n",
      "unfurnished        -0.0316      0.010     -3.096      0.002      -0.052      -0.012\n",
      "==============================================================================\n",
      "Omnibus:                       93.538   Durbin-Watson:                   2.092\n",
      "Prob(Omnibus):                  0.000   Jarque-Bera (JB):              303.844\n",
      "Skew:                           1.090   Prob(JB):                     1.05e-66\n",
      "Kurtosis:                       6.794   Cond. No.                         14.1\n",
      "==============================================================================\n",
      "\n",
      "Notes:\n",
      "[1] Standard Errors assume that the covariance matrix of the errors is correctly specified.\n"
     ]
    }
   ],
   "source": [
    "# Build a third fitted model\n",
    "X_train_lm = sm.add_constant(X)\n",
    "lr_2 = sm.OLS(y_train, X_train_lm).fit()\n",
    "\n",
    "# Print the summary of the model\n",
    "print(lr_2.summary())"
   ]
  },
  {
   "cell_type": "code",
   "execution_count": null,
   "id": "b84d82f3-bf41-4321-864f-3951bd4a4e85",
   "metadata": {},
   "outputs": [],
   "source": [
    "# Dropping the variable and updating the model\n",
    "# As we can notice, some of the variables have a high VIF values as well as high p-values\n",
    "\n",
    "# Such variables are insignificant and should be dropped. As we might have noticed, the \n",
    "# variable bedroom has a significantly high VIF (6.6) and a high p-value (0.206) as well.\n",
    "# Hence, this isn't of much use and should be dropped."
   ]
  },
  {
   "cell_type": "code",
   "execution_count": 46,
   "id": "0afa37e0-eeb6-47f5-a684-61a125a8a2af",
   "metadata": {},
   "outputs": [
    {
     "name": "stdout",
     "output_type": "stream",
     "text": [
      "                            OLS Regression Results                            \n",
      "==============================================================================\n",
      "Dep. Variable:                  price   R-squared:                       0.680\n",
      "Model:                            OLS   Adj. R-squared:                  0.671\n",
      "Method:                 Least Squares   F-statistic:                     71.31\n",
      "Date:                Mon, 24 Mar 2025   Prob (F-statistic):           2.73e-84\n",
      "Time:                        18:00:33   Log-Likelihood:                 380.96\n",
      "No. Observations:                 381   AIC:                            -737.9\n",
      "Df Residuals:                     369   BIC:                            -690.6\n",
      "Df Model:                          11                                         \n",
      "Covariance Type:            nonrobust                                         \n",
      "===================================================================================\n",
      "                      coef    std err          t      P>|t|      [0.025      0.975]\n",
      "-----------------------------------------------------------------------------------\n",
      "const               0.0357      0.015      2.421      0.016       0.007       0.065\n",
      "area                0.2347      0.030      7.851      0.000       0.176       0.294\n",
      "bathrooms           0.1965      0.022      9.132      0.000       0.154       0.239\n",
      "stories             0.1178      0.018      6.654      0.000       0.083       0.153\n",
      "mainroad            0.0488      0.014      3.423      0.001       0.021       0.077\n",
      "guestroom           0.0301      0.014      2.211      0.028       0.003       0.057\n",
      "basement            0.0239      0.011      2.183      0.030       0.002       0.045\n",
      "hotwaterheating     0.0864      0.022      4.014      0.000       0.044       0.129\n",
      "airconditioning     0.0665      0.011      5.895      0.000       0.044       0.089\n",
      "parking             0.0629      0.018      3.501      0.001       0.028       0.098\n",
      "prefarea            0.0596      0.012      5.061      0.000       0.036       0.083\n",
      "unfurnished        -0.0323      0.010     -3.169      0.002      -0.052      -0.012\n",
      "==============================================================================\n",
      "Omnibus:                       97.661   Durbin-Watson:                   2.097\n",
      "Prob(Omnibus):                  0.000   Jarque-Bera (JB):              325.388\n",
      "Skew:                           1.130   Prob(JB):                     2.20e-71\n",
      "Kurtosis:                       6.923   Cond. No.                         10.6\n",
      "==============================================================================\n",
      "\n",
      "Notes:\n",
      "[1] Standard Errors assume that the covariance matrix of the errors is correctly specified.\n"
     ]
    }
   ],
   "source": [
    "# Dropping highly correlated variables and insignificant variables\n",
    "X = X.drop('bedrooms', axis=1)\n",
    "\n",
    "# Build model\n",
    "X_train_lm = sm.add_constant(X)\n",
    "lr_3 = sm.OLS(y_train, X_train_lm).fit()\n",
    "\n",
    "# Print the summary of the model\n",
    "print(lr_3.summary())"
   ]
  },
  {
   "cell_type": "code",
   "execution_count": 47,
   "id": "9df8a127-9527-4db1-a895-77a75839d2bb",
   "metadata": {},
   "outputs": [
    {
     "data": {
      "text/html": [
       "<div>\n",
       "<style scoped>\n",
       "    .dataframe tbody tr th:only-of-type {\n",
       "        vertical-align: middle;\n",
       "    }\n",
       "\n",
       "    .dataframe tbody tr th {\n",
       "        vertical-align: top;\n",
       "    }\n",
       "\n",
       "    .dataframe thead th {\n",
       "        text-align: right;\n",
       "    }\n",
       "</style>\n",
       "<table border=\"1\" class=\"dataframe\">\n",
       "  <thead>\n",
       "    <tr style=\"text-align: right;\">\n",
       "      <th></th>\n",
       "      <th>Features</th>\n",
       "      <th>VIF</th>\n",
       "    </tr>\n",
       "  </thead>\n",
       "  <tbody>\n",
       "    <tr>\n",
       "      <th>3</th>\n",
       "      <td>mainroad</td>\n",
       "      <td>4.79</td>\n",
       "    </tr>\n",
       "    <tr>\n",
       "      <th>0</th>\n",
       "      <td>area</td>\n",
       "      <td>4.55</td>\n",
       "    </tr>\n",
       "    <tr>\n",
       "      <th>2</th>\n",
       "      <td>stories</td>\n",
       "      <td>2.23</td>\n",
       "    </tr>\n",
       "    <tr>\n",
       "      <th>8</th>\n",
       "      <td>parking</td>\n",
       "      <td>2.10</td>\n",
       "    </tr>\n",
       "    <tr>\n",
       "      <th>5</th>\n",
       "      <td>basement</td>\n",
       "      <td>1.87</td>\n",
       "    </tr>\n",
       "    <tr>\n",
       "      <th>7</th>\n",
       "      <td>airconditioning</td>\n",
       "      <td>1.76</td>\n",
       "    </tr>\n",
       "    <tr>\n",
       "      <th>1</th>\n",
       "      <td>bathrooms</td>\n",
       "      <td>1.61</td>\n",
       "    </tr>\n",
       "    <tr>\n",
       "      <th>9</th>\n",
       "      <td>prefarea</td>\n",
       "      <td>1.50</td>\n",
       "    </tr>\n",
       "    <tr>\n",
       "      <th>4</th>\n",
       "      <td>guestroom</td>\n",
       "      <td>1.46</td>\n",
       "    </tr>\n",
       "    <tr>\n",
       "      <th>10</th>\n",
       "      <td>unfurnished</td>\n",
       "      <td>1.33</td>\n",
       "    </tr>\n",
       "    <tr>\n",
       "      <th>6</th>\n",
       "      <td>hotwaterheating</td>\n",
       "      <td>1.12</td>\n",
       "    </tr>\n",
       "  </tbody>\n",
       "</table>\n",
       "</div>"
      ],
      "text/plain": [
       "           Features   VIF\n",
       "3          mainroad  4.79\n",
       "0              area  4.55\n",
       "2           stories  2.23\n",
       "8           parking  2.10\n",
       "5          basement  1.87\n",
       "7   airconditioning  1.76\n",
       "1         bathrooms  1.61\n",
       "9          prefarea  1.50\n",
       "4         guestroom  1.46\n",
       "10      unfurnished  1.33\n",
       "6   hotwaterheating  1.12"
      ]
     },
     "execution_count": 47,
     "metadata": {},
     "output_type": "execute_result"
    }
   ],
   "source": [
    "# Calculate the VIF again for the new model\n",
    "vif = pd.DataFrame()\n",
    "vif['Features'] = X.columns\n",
    "vif['VIF'] = [variance_inflation_factor(X.values, i) for i in range(X.shape[1])]\n",
    "vif['VIF'] = round(vif['VIF'], 2)\n",
    "vif = vif.sort_values(by='VIF', ascending=False)\n",
    "vif"
   ]
  },
  {
   "cell_type": "code",
   "execution_count": null,
   "id": "3dcfab87-956c-4b72-bf04-724f73a2bf21",
   "metadata": {},
   "outputs": [],
   "source": [
    "# Dropping the variable and updating the model\n",
    "# As we might have noticed, dropping semi-furnished decreased the VIF of mainroad as well such that it is now under\n",
    "# 5. But from the summary, we can still see some of them have a high p-value.\n",
    "# basement for instance, has a p-value of 0.03. We should drop this variable as well.\n",
    "X = X.drop('basement', axis=1)\n",
    "X.head()"
   ]
  },
  {
   "cell_type": "code",
   "execution_count": null,
   "id": "b72eb673-be3d-4b24-a7c6-08938b61eaa2",
   "metadata": {},
   "outputs": [],
   "source": [
    "# Build a fourth fitted model\n",
    "X_train_lm =sm.add_constant(X)\n",
    "lr_4 = sm.OLS(y_train, X_train_lm).fit()\n",
    "print(lr_4.summary())"
   ]
  },
  {
   "cell_type": "code",
   "execution_count": null,
   "id": "45ed2331-3bb9-43d0-81ab-708297e5e931",
   "metadata": {},
   "outputs": [],
   "source": [
    "# Calculate the VIFs again for the model\n",
    "vif = pd.DataFrame()\n",
    "vif['Features'] = X.columns\n",
    "vif['VIF'] = [variance_inflation_factor(X.values, i) for i in range(X.shape[1])]\n",
    "vif['VIF'] = round(vif['VIF'], 2)\n",
    "vif = vif.sort_values(by='VIF', ascending=False)\n",
    "vif"
   ]
  },
  {
   "cell_type": "code",
   "execution_count": null,
   "id": "4325ab6f-c0ca-4841-aa6d-aa8d52ecf060",
   "metadata": {},
   "outputs": [],
   "source": [
    "# Residual Analysis\n",
    "# Checking if the error terms are normally distributed (which is infact, one of the major assumptions of linear\n",
    "# regression)\n",
    "\n",
    "y_train_price = lr_4.predict(X_train_lm)\n",
    "\n",
    "# Plot the histogram of the error terms\n",
    "fig = plt.figure()\n",
    "sns.distplot((y_train - y_train_price),\n",
    "             bins=20)\n",
    "fig.suptitle('Error Terms', fontsize=20);\n",
    "plt.xlabel('Errors', fontsize=18);"
   ]
  },
  {
   "cell_type": "code",
   "execution_count": null,
   "id": "7d6f17d0-3569-4994-beb2-4c311c8224d4",
   "metadata": {},
   "outputs": [],
   "source": [
    "# Making predictions\n",
    "# Appplying the scaling on the test sets\n",
    "num_vars = ['area', 'bedrooms', 'bathrooms', 'stories', 'parking', 'price']\n",
    "df_test[num_vars] = scaler.transform(df_test[num_vars])"
   ]
  },
  {
   "cell_type": "code",
   "execution_count": null,
   "id": "b4f0f7b7-ecb0-4b2b-9865-101e26b73243",
   "metadata": {},
   "outputs": [],
   "source": [
    "df_test.describe()"
   ]
  },
  {
   "cell_type": "code",
   "execution_count": null,
   "id": "c8221a3f-10c5-49e3-ab95-5ad9a360392a",
   "metadata": {},
   "outputs": [],
   "source": [
    "# Dividing into x_test and y_test\n",
    "y_test = df_test.pop('price')\n",
    "X_test = df_test"
   ]
  },
  {
   "cell_type": "code",
   "execution_count": null,
   "id": "38d69086-7ba8-4ce3-a770-f1fb8db7a5f0",
   "metadata": {},
   "outputs": [],
   "source": [
    "# Adding a constant variable to test dataframe\n",
    "X_test_m4 = sm.add_constant(X_test)\n",
    "\n",
    "# Creating X_test_m4 dataframe by dropping variables from X_test_m4\n",
    "X_test_m4 = X_test_m4.drop(['bedrooms', 'semi-furnished', 'basement'], axis=1)\n",
    "\n",
    "# Making predictions using the fourth model\n",
    "y_pred_m4 = lr_4.predict(X_test_m4)"
   ]
  },
  {
   "cell_type": "code",
   "execution_count": null,
   "id": "0e97253a-d1e0-45cf-81fe-878e3111f2dc",
   "metadata": {},
   "outputs": [],
   "source": [
    "y_pred_m4.head()"
   ]
  },
  {
   "cell_type": "code",
   "execution_count": null,
   "id": "3c884f1a-1243-470a-b8ec-065576af962c",
   "metadata": {},
   "outputs": [],
   "source": [
    "y_test.head()"
   ]
  },
  {
   "cell_type": "code",
   "execution_count": null,
   "id": "9048ae88-74c8-4992-8516-a2f2e6806680",
   "metadata": {},
   "outputs": [],
   "source": [
    "# Model evaluation\n",
    "# Plotting the graph for actual versus predicted values\n",
    "\n",
    "fig = plt.figure()\n",
    "plt.scatter(y_test, y_pred_m4)\n",
    "fig.suptitle('y_test Vs y_pred', fontsize=14)\n",
    "plt.xlabel('y_test', fontsize=18)\n",
    "plt.ylabel('y_pred', fontsize=16)"
   ]
  },
  {
   "cell_type": "code",
   "execution_count": null,
   "id": "74a4d248-c04d-447e-9fd4-38dbf4a162db",
   "metadata": {},
   "outputs": [],
   "source": [
    "lr_4.params"
   ]
  },
  {
   "cell_type": "code",
   "execution_count": null,
   "id": "1f5cd6e3-9fcc-49b8-9a72-5af2957c2622",
   "metadata": {},
   "outputs": [],
   "source": [
    "# Overall, we have a descent model but it can be improved with adding features, using a nonlinear model."
   ]
  }
 ],
 "metadata": {
  "kernelspec": {
   "display_name": "Python 3 (ipykernel)",
   "language": "python",
   "name": "python3"
  },
  "language_info": {
   "codemirror_mode": {
    "name": "ipython",
    "version": 3
   },
   "file_extension": ".py",
   "mimetype": "text/x-python",
   "name": "python",
   "nbconvert_exporter": "python",
   "pygments_lexer": "ipython3",
   "version": "3.12.4"
  }
 },
 "nbformat": 4,
 "nbformat_minor": 5
}

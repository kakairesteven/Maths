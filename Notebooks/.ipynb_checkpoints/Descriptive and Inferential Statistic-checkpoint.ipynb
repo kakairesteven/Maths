{
 "cells": [
  {
   "cell_type": "markdown",
   "id": "1b6fb428-a4f0-4f43-b2d9-b8011de49784",
   "metadata": {},
   "source": [
    "<img src=\"../pyDataCover.jpg\"/>"
   ]
  },
  {
   "cell_type": "markdown",
   "id": "a202179f-0a2b-4022-865d-e019de4b128b",
   "metadata": {},
   "source": [
    "<h3>Descriptive and Inferential Statistics</h3>\n",
    "<p>Descriptive Statistics is used to summarize data. Inferential Statistics tries to uncover\n",
    "attributes about a large population, often based on a sample.</p>\n",
    "<p>\n",
    "    What is data?\n",
    "</p>\n",
    "\n",
    "<p>Data and Photographs example</p>"
   ]
  },
  {
   "cell_type": "markdown",
   "id": "441d72d4-c0cb-4fac-99cb-85d23a96c87d",
   "metadata": {},
   "source": [
    "<h3>Population, Samples, Bias</h3>\n",
    "<p>A <strong>population</strong> is a particular group of interest we want to study.</p>\n",
    "<p>A <strong>sample</strong> is a subset of the population that is ideally random and unbiased,\n",
    "which we use to infer attributes about the population.</p>\n",
    "<p>Bias, used to describe inaccurate representation to the population.</p>\n",
    "<p>\n",
    "    A <strong>selection bias</strong>; particular type of bias where\n",
    "    a specific group is more likely to include themselves in a sample\n",
    "</p>\n",
    "\n",
    "<p>\n",
    "    A <strong>confirmation bias</strong>, gathering data that supports your belief, which can even be done\n",
    "    unknowingly. An example is following only social media accounts you politically agree\n",
    "    with, reinforcing your beliefs rather than challenging them.\n",
    "</p>"
   ]
  },
  {
   "cell_type": "markdown",
   "id": "09e53853-ebe9-42e1-bea4-e5580ed4be2e",
   "metadata": {},
   "source": [
    "<h4>Mean and Weighted Mean</h4>"
   ]
  },
  {
   "cell_type": "code",
   "execution_count": 97,
   "id": "ee11f944-0891-402d-9ae2-3de3df40176d",
   "metadata": {},
   "outputs": [],
   "source": [
    "# Weighted Mean, GPA\n",
    "samples = [90, 80, 63, 87]\n",
    "weights = [.20, .20, .20, .40]\n",
    "weighted_mean = sum(s*w for s,w in zip(samples, weights)) / sum(weights)"
   ]
  },
  {
   "cell_type": "code",
   "execution_count": 98,
   "id": "96ab7646-f7ac-465b-9cf2-74ab3b7f8f0d",
   "metadata": {},
   "outputs": [
    {
     "data": {
      "text/plain": [
       "81.4"
      ]
     },
     "execution_count": 98,
     "metadata": {},
     "output_type": "execute_result"
    }
   ],
   "source": [
    "weighted_mean"
   ]
  },
  {
   "cell_type": "code",
   "execution_count": 99,
   "id": "010152ad-6078-42e6-b1ec-9ea678567abe",
   "metadata": {},
   "outputs": [
    {
     "data": {
      "text/plain": [
       "81.4"
      ]
     },
     "execution_count": 99,
     "metadata": {},
     "output_type": "execute_result"
    }
   ],
   "source": [
    "# Weights don't have to be percentages as the numbers will endup being proportionalized.\n",
    "weights = [1.0, 1.0, 1.0, 2.0]\n",
    "weighted_sum = sum(s*w for s,w in zip(samples, weights))/sum(weights)\n",
    "weighted_sum"
   ]
  },
  {
   "cell_type": "code",
   "execution_count": 100,
   "id": "7bb49920-f19d-41e9-b58a-e3deee01399d",
   "metadata": {},
   "outputs": [],
   "source": [
    "# Median\n",
    "# The middlemost value in a set of ordered values\n",
    "def median(values):\n",
    "    ordered = sorted(values)\n",
    "    print(ordered)\n",
    "    n = len(ordered)\n",
    "    mid = int(n/2)-1 if n%2 == 0 else int(n/2)\n",
    "\n",
    "    if n%2 == 0:\n",
    "        return (ordered[mid] + ordered[mid+1])/2.0\n",
    "    else:\n",
    "        return ordered[mid]"
   ]
  },
  {
   "cell_type": "code",
   "execution_count": 101,
   "id": "788b52b1-02ff-4179-bbb2-e2be29e0b7eb",
   "metadata": {},
   "outputs": [
    {
     "name": "stdout",
     "output_type": "stream",
     "text": [
      "[63, 80, 87, 90]\n"
     ]
    },
    {
     "data": {
      "text/plain": [
       "83.5"
      ]
     },
     "execution_count": 101,
     "metadata": {},
     "output_type": "execute_result"
    }
   ],
   "source": [
    "# Median is the preferrable in outlier-heavy situations(such as income related data) over the mean.\n",
    "# Example: Salary of Ugandans without a university degree, there shall be many outliers\n",
    "median(samples)"
   ]
  },
  {
   "cell_type": "code",
   "execution_count": 102,
   "id": "7a91cfae-c26c-4b0b-8032-e943ae4a73e5",
   "metadata": {},
   "outputs": [],
   "source": [
    "# Quartiles\n",
    "# Mode is the most frequently occuring set of values. When two values occur with the same frequency, it is considered\n",
    "# bimodal.\n",
    "# Number of shoes your friends own\n",
    "from collections import defaultdict\n",
    "sample = [1, 3, 2, 5, 7, 4, 2, 3]\n",
    "def mode(values):\n",
    "    counts = defaultdict(lambda:0)\n",
    "    for s in values:\n",
    "        counts[s] += 1\n",
    "    max_count = max(counts.values())\n",
    "    modes = [v for v in set(values) if counts[v] == max_count]\n",
    "    return modes"
   ]
  },
  {
   "cell_type": "code",
   "execution_count": 103,
   "id": "a19647de-f666-4ac4-833a-c22eb9bea78a",
   "metadata": {},
   "outputs": [
    {
     "data": {
      "text/plain": [
       "[2, 3]"
      ]
     },
     "execution_count": 103,
     "metadata": {},
     "output_type": "execute_result"
    }
   ],
   "source": [
    "mode(sample)"
   ]
  },
  {
   "cell_type": "code",
   "execution_count": 104,
   "id": "2ba84432-e494-4504-9237-32aa66a4896a",
   "metadata": {},
   "outputs": [
    {
     "name": "stdout",
     "output_type": "stream",
     "text": [
      "5.387755102040816\n"
     ]
    }
   ],
   "source": [
    "# Variance and Standard Deviation\n",
    "# Population variance is the measure of how data is spreadout\n",
    "# Example number of shoes owned by my friends\n",
    "dataShoes = [2, 3, 6, 3, 7, 2, 8]\n",
    "def variance(values):\n",
    "    mean = sum(values)/len(values)\n",
    "    _variance=sum((v-mean)**2 for v in values)/len(values)\n",
    "    return _variance\n",
    "print(variance(dataShoes))"
   ]
  },
  {
   "cell_type": "code",
   "execution_count": 105,
   "id": "f58c6456-b9f3-4e80-809b-4a2e8c8243b7",
   "metadata": {},
   "outputs": [
    {
     "data": {
      "text/plain": [
       "2.3211538298959886"
      ]
     },
     "execution_count": 105,
     "metadata": {},
     "output_type": "execute_result"
    }
   ],
   "source": [
    "# Standard deviation\n",
    "from math import sqrt\n",
    "def std_dev(values):\n",
    "    return sqrt(variance(values))\n",
    "\n",
    "# Example\n",
    "# Standard devation of dataShoes\n",
    "std_dev(dataShoes)"
   ]
  },
  {
   "cell_type": "code",
   "execution_count": 106,
   "id": "669d94ba-55ab-4514-a8b1-fbaa4ba3e657",
   "metadata": {},
   "outputs": [],
   "source": [
    "# Sample Variance and Stadard Deviation\n",
    "# Qn. Why subtract 1 from sample size\n",
    "\n",
    "def variance(values, is_sample: bool=False):\n",
    "    mean = sum(values) / len(values)\n",
    "    _variance = sum((v-mean)**2 for v in values) / (len(values)-(1 if is_sample else 0))\n",
    "    return _variance\n",
    "\n",
    "def std_dev(values, is_sample:bool=False):\n",
    "    return sqrt(variance(values, is_sample))"
   ]
  },
  {
   "cell_type": "code",
   "execution_count": 107,
   "id": "ec2d6e77-d387-4d4a-9d87-e7ec9732bf06",
   "metadata": {},
   "outputs": [
    {
     "data": {
      "text/plain": [
       "6.285714285714286"
      ]
     },
     "execution_count": 107,
     "metadata": {},
     "output_type": "execute_result"
    }
   ],
   "source": [
    "# Example\n",
    "# Number of shoes each person owns\n",
    "variance(dataShoes, is_sample=True)"
   ]
  },
  {
   "cell_type": "code",
   "execution_count": 108,
   "id": "f79e2095-699b-4197-a6fb-729b38320898",
   "metadata": {},
   "outputs": [
    {
     "data": {
      "text/plain": [
       "2.5071326821120348"
      ]
     },
     "execution_count": 108,
     "metadata": {},
     "output_type": "execute_result"
    }
   ],
   "source": [
    "# Contrast obtained value with variance of population\n",
    "std_dev(dataShoes, is_sample=True)\n",
    "\n",
    "# 2.5071326821120348 for sample\n",
    "# 2.3211538298959886 for population"
   ]
  },
  {
   "cell_type": "markdown",
   "id": "5f9d16e6-fbbb-4a87-8e3d-aadddb985570",
   "metadata": {},
   "source": [
    "<h3>Normal Distribution (Gaussian Distribution) and Probability Density Function</h3>\n",
    "<p>\n",
    "    Normal Distribution is a probability distribution that appears as a \"bell curve\" when graphed.\n",
    "    The normal distribution describes a symmetrical plot of data around its mean value, where width of\n",
    "    the curve is defined by the standard deviation.\n",
    "</p>\n",
    "\n",
    "<h5>Properties of the Normal Distribution</h5>\n",
    "<ul>\n",
    "    <li>Symmetrical; both sides are identically mirrored at the mean, which is the center.</li>\n",
    "    <li>Most mass is at the center around the mean.</li>\n",
    "    <li>It has a spread (being narrow or wide> that is specified by the standard deviation.</li>\n",
    "    <li>The tails are the least likely outcomes and approach zero infinitely but never touch zero.</li>\n",
    "</ul>\n",
    "\n",
    "<h4>The Cummulative Desnsity Function, CDF</h4>\n",
    "<p>\n",
    "    The probability to get a value between x1 and x2, where x1 > x2, is the area under the curve from x1 to x2.\n",
    "</p>"
   ]
  },
  {
   "cell_type": "code",
   "execution_count": 109,
   "id": "4c990d77-7edd-48f1-955f-6af53ef0ca6f",
   "metadata": {},
   "outputs": [],
   "source": [
    "# the Probability Density Function in Python\n",
    "def pdf(x: float,\n",
    "        mean: float,\n",
    "        std_dev: float):\n",
    "    return (1.0/(std_dev*(2.0*math.pi)**0.5)*math.exp((-1.0*((x-mean)/std_dev)**2)/2))"
   ]
  },
  {
   "cell_type": "code",
   "execution_count": 110,
   "id": "dec6b41b-98fb-4c29-9855-9fa9032eb83e",
   "metadata": {},
   "outputs": [
    {
     "data": {
      "image/png": "[encoded data removed]",
      "text/plain": [
       "<Figure size 640x480 with 1 Axes>"
      ]
     },
     "metadata": {},
     "output_type": "display_data"
    }
   ],
   "source": [
    "# Example\n",
    "import matplotlib.pyplot as plt\n",
    "import numpy as np\n",
    "mu, std_dev = 2, 0.3 # mean and standard deviation\n",
    "s = np.random.normal(mu, std_dev, 1_000_000)\n",
    "count, bins, ignored = plt.hist(s, 100, density=True)\n",
    "plt.plot(bins, 1/(std_dev*np.sqrt(2*np.pi))*np.exp(-1*(bins-mu)**2/(2*std_dev**2)),\n",
    "         linewidth=2,\n",
    "         color='g')\n",
    "plt.vlines(2.1, 0, 1.4, \"white\", );\n",
    "plt.vlines(2.5, 0, 0.5, \"white\", );\n",
    "plt.show();"
   ]
  },
  {
   "cell_type": "code",
   "execution_count": 111,
   "id": "a66dae45-59a2-429b-8f4e-d3040f1b6b73",
   "metadata": {},
   "outputs": [
    {
     "data": {
      "text/plain": [
       "np.float64(0.5)"
      ]
     },
     "execution_count": 111,
     "metadata": {},
     "output_type": "execute_result"
    }
   ],
   "source": [
    "# The normal distribution CDF in Python\\\n",
    "# The CDF from negative infinity to the mean, we get 0.5 which half the area of the normal distribution\n",
    "from scipy.stats import norm\n",
    "# mu = 64.43\n",
    "# std_dev = 2.99\n",
    "x = norm.cdf(2, mu, std_dev)\n",
    "x"
   ]
  },
  {
   "cell_type": "code",
   "execution_count": 112,
   "id": "b418e94c-5929-486b-a22e-d5172c1e807a",
   "metadata": {},
   "outputs": [
    {
     "data": {
      "text/plain": [
       "np.float64(0.32165098790894886)"
      ]
     },
     "execution_count": 112,
     "metadata": {},
     "output_type": "execute_result"
    }
   ],
   "source": [
    "# To get the proability of x being between 2.1 and 2.5\n",
    "norm.cdf(2.5, mu, std_dev) - norm.cdf(2.1, mu, std_dev)"
   ]
  },
  {
   "cell_type": "markdown",
   "id": "affcbacc-c473-4478-a09a-b71c8b8345ee",
   "metadata": {},
   "source": [
    "<h3>The Inverse CDF</h3>\n",
    "<p>\n",
    "    It is used to find the x value for a given probability. For example, say you want to find the weight with a probability of 80%.\n",
    "</p>\n",
    "<p>The Inverse CDF can be used in simulation to generate values with proability between 0 and 1. </p>"
   ]
  },
  {
   "cell_type": "code",
   "execution_count": 113,
   "id": "074f20f2-85ef-4e64-ac2d-b89081c450f9",
   "metadata": {},
   "outputs": [
    {
     "data": {
      "text/plain": [
       "np.float64(2.2524863700718742)"
      ]
     },
     "execution_count": 113,
     "metadata": {},
     "output_type": "execute_result"
    }
   ],
   "source": [
    "x = norm.ppf(0.8, mu, std_dev)\n",
    "x"
   ]
  },
  {
   "cell_type": "markdown",
   "id": "895191cc-4ca8-4493-922a-39aa0dd52360",
   "metadata": {},
   "source": [
    "<h4>The Z-Score</h4>\n",
    "<p>\n",
    "    It is used to normalize a normal distribution so as its mean is at 0. The result is a <strong>standard normal distribution</strong>.\n",
    "</p>\n",
    "<p>\n",
    "    The expression below converts an x-value to a z-value.\n",
    "</p>\n",
    "<p>\n",
    "    Example: There are two homes from two different neighborhoods. Neighborhood A has a mean home value of 140,000usd and standard deviation of 3,000usd. Neighborhood B has a mean value of 800,000usd and standard deviation of 10,000usd. There are two home each neighborhood. House A is worth 150,000usd and House B is worth 815,000usd. Which house is more expensive relative to the average home in its neighborhood?\n",
    "</p>"
   ]
  },
  {
   "cell_type": "code",
   "execution_count": 121,
   "id": "73e47fe1-60f2-4cae-813e-efa8e2d159fe",
   "metadata": {},
   "outputs": [
    {
     "data": {
      "text/latex": [
       "$\\displaystyle \\frac{- \\mu + x}{\\sigma}$"
      ],
      "text/plain": [
       "(-mu + x)/sigma"
      ]
     },
     "execution_count": 121,
     "metadata": {},
     "output_type": "execute_result"
    }
   ],
   "source": [
    "from sympy import *\n",
    "x, mu, sigma = symbols('x, mu, sigma')\n",
    "z = (x - mu)/sigma\n",
    "z"
   ]
  },
  {
   "cell_type": "code",
   "execution_count": 122,
   "id": "9f9a2da0-f6d0-4fe1-9c9e-3ba5d9639474",
   "metadata": {},
   "outputs": [
    {
     "data": {
      "text/plain": [
       "(3.3333333333333335, 1.5)"
      ]
     },
     "execution_count": 122,
     "metadata": {},
     "output_type": "execute_result"
    }
   ],
   "source": [
    "# Solution to example problem\n",
    "houseA = (150_000 - 140_000)/3_000\n",
    "houseB = (815_000-800_000)/10_000\n",
    "\n",
    "houseA, houseB\n",
    "# House A is more expensive than house B"
   ]
  },
  {
   "cell_type": "markdown",
   "id": "1aaf07c6-e01f-4a39-a6e8-f6f12333b915",
   "metadata": {},
   "source": [
    "<h4>Coefficeint of Variation</h4>\n",
    "<p>\n",
    "    It helps to measure the spread of variation of a distribution. It is the ratio of standard deviation to mean.\n",
    "</p>"
   ]
  },
  {
   "cell_type": "code",
   "execution_count": null,
   "id": "abf0837a-41c9-4da2-8581-d507affb1b5a",
   "metadata": {},
   "outputs": [],
   "source": []
  }
 ],
 "metadata": {
  "kernelspec": {
   "display_name": "Python 3 (ipykernel)",
   "language": "python",
   "name": "python3"
  },
  "language_info": {
   "codemirror_mode": {
    "name": "ipython",
    "version": 3
   },
   "file_extension": ".py",
   "mimetype": "text/x-python",
   "name": "python",
   "nbconvert_exporter": "python",
   "pygments_lexer": "ipython3",
   "version": "3.12.4"
  }
 },
 "nbformat": 4,
 "nbformat_minor": 5
}

{
 "cells": [
  {
   "cell_type": "markdown",
   "id": "1b6fb428-a4f0-4f43-b2d9-b8011de49784",
   "metadata": {},
   "source": [
    "<img src=\"../pyDataCover.jpg\"/>"
   ]
  },
  {
   "cell_type": "markdown",
   "id": "a202179f-0a2b-4022-865d-e019de4b128b",
   "metadata": {},
   "source": [
    "<h3>Descriptive and Inferential Statistics</h3>\n",
    "<p>Descriptive Statistics is used to summarize data. Inferential Statistics tries to uncover\n",
    "attributes about a large population, often based on a sample.</p>\n",
    "<p>\n",
    "    What is data?\n",
    "</p>\n",
    "\n",
    "<p>Data and Photographs example</p>"
   ]
  },
  {
   "cell_type": "markdown",
   "id": "441d72d4-c0cb-4fac-99cb-85d23a96c87d",
   "metadata": {},
   "source": [
    "<h3>Population, Samples, Bias</h3>\n",
    "<p>A <strong>population</strong> is a particular group of interest we want to study.</p>\n",
    "<p>A <strong>sample</strong> is a subset of the population that is ideally random and unbiased,\n",
    "which we use to infer attributes about the population.</p>\n",
    "<p>Bias, used to describe inaccurate representation to the population.</p>\n",
    "<p>\n",
    "    A <strong>selection bias</strong>; particular type of bias where\n",
    "    a specific group is more likely to include themselves in a sample\n",
    "</p>\n",
    "\n",
    "<p>\n",
    "    A <strong>confirmation bias</strong>, gathering data that supports your belief, which can even be done\n",
    "    unknowingly. An example is following only social media accounts you politically agree\n",
    "    with, reinforcing your beliefs rather than challenging them.\n",
    "</p>"
   ]
  },
  {
   "cell_type": "markdown",
   "id": "09e53853-ebe9-42e1-bea4-e5580ed4be2e",
   "metadata": {},
   "source": [
    "<h4>Mean and Weighted Mean</h4>"
   ]
  },
  {
   "cell_type": "code",
   "execution_count": 1,
   "id": "ee11f944-0891-402d-9ae2-3de3df40176d",
   "metadata": {},
   "outputs": [],
   "source": [
    "# Weighted Mean, GPA\n",
    "samples = [90, 80, 63, 87]\n",
    "weights = [.20, .20, .20, .40]\n",
    "weighted_mean = sum(s*w for s,w in zip(samples, weights)) / sum(weights)"
   ]
  },
  {
   "cell_type": "code",
   "execution_count": 2,
   "id": "96ab7646-f7ac-465b-9cf2-74ab3b7f8f0d",
   "metadata": {},
   "outputs": [
    {
     "data": {
      "text/plain": [
       "81.4"
      ]
     },
     "execution_count": 2,
     "metadata": {},
     "output_type": "execute_result"
    }
   ],
   "source": [
    "weighted_mean"
   ]
  },
  {
   "cell_type": "code",
   "execution_count": 3,
   "id": "010152ad-6078-42e6-b1ec-9ea678567abe",
   "metadata": {},
   "outputs": [
    {
     "data": {
      "text/plain": [
       "81.4"
      ]
     },
     "execution_count": 3,
     "metadata": {},
     "output_type": "execute_result"
    }
   ],
   "source": [
    "# Weights don't have to be percentages as the numbers will endup being proportionalized.\n",
    "weights = [1.0, 1.0, 1.0, 2.0]\n",
    "weighted_sum = sum(s*w for s,w in zip(samples, weights))/sum(weights)\n",
    "weighted_sum"
   ]
  },
  {
   "cell_type": "code",
   "execution_count": 4,
   "id": "7bb49920-f19d-41e9-b58a-e3deee01399d",
   "metadata": {},
   "outputs": [],
   "source": [
    "# Median\n",
    "# The middlemost value in a set of ordered values\n",
    "def median(values):\n",
    "    ordered = sorted(values)\n",
    "    print(ordered)\n",
    "    n = len(ordered)\n",
    "    mid = int(n/2)-1 if n%2 == 0 else int(n/2)\n",
    "\n",
    "    if n%2 == 0:\n",
    "        return (ordered[mid] + ordered[mid+1])/2.0\n",
    "    else:\n",
    "        return ordered[mid]"
   ]
  },
  {
   "cell_type": "code",
   "execution_count": 5,
   "id": "788b52b1-02ff-4179-bbb2-e2be29e0b7eb",
   "metadata": {},
   "outputs": [
    {
     "name": "stdout",
     "output_type": "stream",
     "text": [
      "[63, 80, 87, 90]\n"
     ]
    },
    {
     "data": {
      "text/plain": [
       "83.5"
      ]
     },
     "execution_count": 5,
     "metadata": {},
     "output_type": "execute_result"
    }
   ],
   "source": [
    "# Median is the preferrable in outlier-heavy situations(such as income related data) over the mean.\n",
    "# Example: Salary of Ugandans without a university degree, there shall be many outliers\n",
    "median(samples)"
   ]
  },
  {
   "cell_type": "code",
   "execution_count": 6,
   "id": "7a91cfae-c26c-4b0b-8032-e943ae4a73e5",
   "metadata": {},
   "outputs": [],
   "source": [
    "# Quartiles\n",
    "# Mode is the most frequently occuring set of values. When two values occur with the same frequency, it is considered\n",
    "# bimodal.\n",
    "# Number of shoes your friends own\n",
    "from collections import defaultdict\n",
    "sample = [1, 3, 2, 5, 7, 4, 2, 3]\n",
    "def mode(values):\n",
    "    counts = defaultdict(lambda:0)\n",
    "    for s in values:\n",
    "        counts[s] += 1\n",
    "    max_count = max(counts.values())\n",
    "    modes = [v for v in set(values) if counts[v] == max_count]\n",
    "    return modes"
   ]
  },
  {
   "cell_type": "code",
   "execution_count": 7,
   "id": "a19647de-f666-4ac4-833a-c22eb9bea78a",
   "metadata": {},
   "outputs": [
    {
     "data": {
      "text/plain": [
       "[2, 3]"
      ]
     },
     "execution_count": 7,
     "metadata": {},
     "output_type": "execute_result"
    }
   ],
   "source": [
    "mode(sample)"
   ]
  },
  {
   "cell_type": "code",
   "execution_count": 8,
   "id": "2ba84432-e494-4504-9237-32aa66a4896a",
   "metadata": {},
   "outputs": [
    {
     "name": "stdout",
     "output_type": "stream",
     "text": [
      "5.387755102040816\n"
     ]
    }
   ],
   "source": [
    "# Variance and Standard Deviation\n",
    "# Population variance is the measure of how data is spreadout\n",
    "# Example number of shoes owned by my friends\n",
    "dataShoes = [2, 3, 6, 3, 7, 2, 8]\n",
    "def variance(values):\n",
    "    mean = sum(values)/len(values)\n",
    "    _variance=sum((v-mean)**2 for v in values)/len(values)\n",
    "    return _variance\n",
    "print(variance(dataShoes))"
   ]
  },
  {
   "cell_type": "code",
   "execution_count": 9,
   "id": "f58c6456-b9f3-4e80-809b-4a2e8c8243b7",
   "metadata": {},
   "outputs": [
    {
     "data": {
      "text/plain": [
       "2.3211538298959886"
      ]
     },
     "execution_count": 9,
     "metadata": {},
     "output_type": "execute_result"
    }
   ],
   "source": [
    "# Standard deviation\n",
    "from math import sqrt\n",
    "def std_dev(values):\n",
    "    return sqrt(variance(values))\n",
    "\n",
    "# Example\n",
    "# Standard devation of dataShoes\n",
    "std_dev(dataShoes)"
   ]
  },
  {
   "cell_type": "code",
   "execution_count": 10,
   "id": "669d94ba-55ab-4514-a8b1-fbaa4ba3e657",
   "metadata": {},
   "outputs": [],
   "source": [
    "# Sample Variance and Stadard Deviation\n",
    "# Qn. Why subtract 1 from sample size\n",
    "\n",
    "def variance(values, is_sample: bool=False):\n",
    "    mean = sum(values) / len(values)\n",
    "    _variance = sum((v-mean)**2 for v in values) / (len(values)-(1 if is_sample else 0))\n",
    "    return _variance\n",
    "\n",
    "def std_dev(values, is_sample:bool=False):\n",
    "    return sqrt(variance(values, is_sample))"
   ]
  },
  {
   "cell_type": "code",
   "execution_count": 11,
   "id": "ec2d6e77-d387-4d4a-9d87-e7ec9732bf06",
   "metadata": {},
   "outputs": [
    {
     "data": {
      "text/plain": [
       "6.285714285714286"
      ]
     },
     "execution_count": 11,
     "metadata": {},
     "output_type": "execute_result"
    }
   ],
   "source": [
    "# Example\n",
    "# Number of shoes each person owns\n",
    "variance(dataShoes, is_sample=True)"
   ]
  },
  {
   "cell_type": "code",
   "execution_count": 12,
   "id": "f79e2095-699b-4197-a6fb-729b38320898",
   "metadata": {},
   "outputs": [
    {
     "data": {
      "text/plain": [
       "2.5071326821120348"
      ]
     },
     "execution_count": 12,
     "metadata": {},
     "output_type": "execute_result"
    }
   ],
   "source": [
    "# Contrast obtained value with variance of population\n",
    "std_dev(dataShoes, is_sample=True)\n",
    "\n",
    "# 2.5071326821120348 for sample\n",
    "# 2.3211538298959886 for population"
   ]
  },
  {
   "cell_type": "markdown",
   "id": "5f9d16e6-fbbb-4a87-8e3d-aadddb985570",
   "metadata": {},
   "source": [
    "<h3>Normal Distribution (Gaussian Distribution) and Probability Density Function</h3>\n",
    "<p>\n",
    "    Normal Distribution is a probability distribution that appears as a \"bell curve\" when graphed.\n",
    "    The normal distribution describes a symmetrical plot of data around its mean value, where width of\n",
    "    the curve is defined by the standard deviation.\n",
    "</p>\n",
    "\n",
    "<h5>Properties of the Normal Distribution</h5>\n",
    "<ul>\n",
    "    <li>Symmetrical; both sides are identically mirrored at the mean, which is the center.</li>\n",
    "    <li>Most mass is at the center around the mean.</li>\n",
    "    <li>It has a spread (being narrow or wide> that is specified by the standard deviation.</li>\n",
    "    <li>The tails are the least likely outcomes and approach zero infinitely but never touch zero.</li>\n",
    "</ul>\n",
    "\n",
    "<h4>The Cummulative Desnsity Function, CDF</h4>\n",
    "<p>\n",
    "    The probability to get a value between x1 and x2, where x1 > x2, is the area under the curve from x1 to x2.\n",
    "</p>"
   ]
  },
  {
   "cell_type": "code",
   "execution_count": 13,
   "id": "4c990d77-7edd-48f1-955f-6af53ef0ca6f",
   "metadata": {},
   "outputs": [],
   "source": [
    "# the Probability Density Function in Python\n",
    "def pdf(x: float,\n",
    "        mean: float,\n",
    "        std_dev: float):\n",
    "    return (1.0/(std_dev*(2.0*math.pi)**0.5)*math.exp((-1.0*((x-mean)/std_dev)**2)/2))"
   ]
  },
  {
   "cell_type": "code",
   "execution_count": 14,
   "id": "dec6b41b-98fb-4c29-9855-9fa9032eb83e",
   "metadata": {},
   "outputs": [
    {
     "data": {
      "image/png": "[encoded data removed]",
      "text/plain": [
       "<Figure size 640x480 with 1 Axes>"
      ]
     },
     "metadata": {},
     "output_type": "display_data"
    }
   ],
   "source": [
    "# Example\n",
    "import matplotlib.pyplot as plt\n",
    "import numpy as np\n",
    "mu, std_dev = 2, 0.3 # mean and standard deviation\n",
    "s = np.random.normal(mu, std_dev, 1_000_000)\n",
    "count, bins, ignored = plt.hist(s, 100, density=True)\n",
    "plt.plot(bins, 1/(std_dev*np.sqrt(2*np.pi))*np.exp(-1*(bins-mu)**2/(2*std_dev**2)),\n",
    "         linewidth=2,\n",
    "         color='g')\n",
    "plt.vlines(2.1, 0, 1.4, \"white\", );\n",
    "plt.vlines(2.5, 0, 0.5, \"white\", );\n",
    "plt.show();"
   ]
  },
  {
   "cell_type": "code",
   "execution_count": 15,
   "id": "a66dae45-59a2-429b-8f4e-d3040f1b6b73",
   "metadata": {},
   "outputs": [
    {
     "data": {
      "text/plain": [
       "np.float64(0.5)"
      ]
     },
     "execution_count": 15,
     "metadata": {},
     "output_type": "execute_result"
    }
   ],
   "source": [
    "# The normal distribution CDF in Python\\\n",
    "# The CDF from negative infinity to the mean, we get 0.5 which half the area of the normal distribution\n",
    "from scipy.stats import norm\n",
    "# mu = 64.43\n",
    "# std_dev = 2.99\n",
    "x = norm.cdf(2, mu, std_dev)\n",
    "x"
   ]
  },
  {
   "cell_type": "code",
   "execution_count": 16,
   "id": "b418e94c-5929-486b-a22e-d5172c1e807a",
   "metadata": {},
   "outputs": [
    {
     "data": {
      "text/plain": [
       "np.float64(0.32165098790894886)"
      ]
     },
     "execution_count": 16,
     "metadata": {},
     "output_type": "execute_result"
    }
   ],
   "source": [
    "# To get the proability of x being between 2.1 and 2.5\n",
    "norm.cdf(2.5, mu, std_dev) - norm.cdf(2.1, mu, std_dev)"
   ]
  },
  {
   "cell_type": "markdown",
   "id": "affcbacc-c473-4478-a09a-b71c8b8345ee",
   "metadata": {},
   "source": [
    "<h3>The Inverse CDF</h3>\n",
    "<p>\n",
    "    It is used to find the x value for a given probability. For example, say you want to find the weight with a probability of 80%.\n",
    "</p>\n",
    "<p>The Inverse CDF can be used in simulation to generate values with proability between 0 and 1. </p>"
   ]
  },
  {
   "cell_type": "code",
   "execution_count": 17,
   "id": "074f20f2-85ef-4e64-ac2d-b89081c450f9",
   "metadata": {},
   "outputs": [
    {
     "data": {
      "text/plain": [
       "np.float64(2.2524863700718742)"
      ]
     },
     "execution_count": 17,
     "metadata": {},
     "output_type": "execute_result"
    }
   ],
   "source": [
    "x = norm.ppf(0.8, mu, std_dev)\n",
    "x"
   ]
  },
  {
   "cell_type": "markdown",
   "id": "895191cc-4ca8-4493-922a-39aa0dd52360",
   "metadata": {},
   "source": [
    "<h4>The Z-Score</h4>\n",
    "<p>\n",
    "    It is used to normalize a normal distribution so as its mean is at 0. The result is a <strong>standard normal distribution</strong>.\n",
    "</p>\n",
    "<p>\n",
    "    The expression below converts an x-value to a z-value.\n",
    "</p>\n",
    "<p>\n",
    "    Example: There are two homes from two different neighborhoods. Neighborhood A has a mean home value of 140,000usd and standard deviation of 3,000usd. Neighborhood B has a mean value of 800,000usd and standard deviation of 10,000usd. There are two home each neighborhood. House A is worth 150,000usd and House B is worth 815,000usd. Which house is more expensive relative to the average home in its neighborhood?\n",
    "</p>"
   ]
  },
  {
   "cell_type": "code",
   "execution_count": 18,
   "id": "73e47fe1-60f2-4cae-813e-efa8e2d159fe",
   "metadata": {},
   "outputs": [
    {
     "data": {
      "text/latex": [
       "$\\displaystyle \\frac{- \\mu + x}{\\sigma}$"
      ],
      "text/plain": [
       "(-mu + x)/sigma"
      ]
     },
     "execution_count": 18,
     "metadata": {},
     "output_type": "execute_result"
    }
   ],
   "source": [
    "from sympy import *\n",
    "x, mu, sigma = symbols('x, mu, sigma')\n",
    "z = (x - mu)/sigma\n",
    "z"
   ]
  },
  {
   "cell_type": "code",
   "execution_count": 19,
   "id": "9f9a2da0-f6d0-4fe1-9c9e-3ba5d9639474",
   "metadata": {},
   "outputs": [
    {
     "data": {
      "text/plain": [
       "(3.3333333333333335, 1.5)"
      ]
     },
     "execution_count": 19,
     "metadata": {},
     "output_type": "execute_result"
    }
   ],
   "source": [
    "# Solution to example problem\n",
    "houseA = (150_000 - 140_000)/3_000\n",
    "houseB = (815_000-800_000)/10_000\n",
    "\n",
    "houseA, houseB\n",
    "# House A is more expensive than house B"
   ]
  },
  {
   "cell_type": "markdown",
   "id": "1aaf07c6-e01f-4a39-a6e8-f6f12333b915",
   "metadata": {},
   "source": [
    "<h4>Coefficeint of Variation</h4>\n",
    "<p>\n",
    "    It helps to measure the spread of variation of a distribution. It is the ratio of standard deviation to mean.\n",
    "</p>"
   ]
  },
  {
   "cell_type": "markdown",
   "id": "f0f2fcea-24cb-4a8f-b6b4-ebd205c20be4",
   "metadata": {},
   "source": [
    "<h4>Inferential Statistics</h4>\n",
    "<h5>The Central Limit Theorem</h5>\n",
    "<p>\n",
    "    The Central Limit Theorem states that the sum of a large number of independent random variables has a distribution that is approximately normal.\n",
    "</p>\n",
    "<ul>\n",
    "    <li>It provides a simple method for computing approximate probabilities for sums of independent random variables.</li>\n",
    "    <li>Explains the remarkable fact that the empirical frequencies of so many natural populations exhibit bell-shaped (that is normal) curves.</li>\n",
    "</ul>"
   ]
  },
  {
   "cell_type": "code",
   "execution_count": 28,
   "id": "ec3913f1-bbf4-4459-9ce6-1d104df87c11",
   "metadata": {},
   "outputs": [
    {
     "data": {
      "application/vnd.plotly.v1+json": {
       "config": {
        "plotlyServerURL": "https://plot.ly"
       },
       "data": [
        {
         "alignmentgroup": "True",
         "bingroup": "x",
         "histfunc": "sum",
         "hovertemplate": "x=%{x}<br>sum of y=%{y}<extra></extra>",
         "legendgroup": "",
         "marker": {
          "color": "#636efa",
          "pattern": {
           "shape": ""
          }
         },
         "name": "",
         "nbinsx": 20,
         "offsetgroup": "",
         "orientation": "v",
         "showlegend": false,
         "type": "histogram",
         "x": [
          0.4898029119482188,
          0.5586004110069404,
          0.5267942069904554,
          0.4824423351772985,
          0.5018785683694584,
          0.5204251860589444,
          0.5417927528766069,
          0.5809787200695679,
          0.52264899998348,
          0.5156715730076624,
          0.5754577072120426,
          0.4722062882063517,
          0.5156716898116043,
          0.4895611396720514,
          0.45660595577893254,
          0.4657885607033474,
          0.5282905399488261,
          0.5337176482624384,
          0.49530132270050414,
          0.41264174494416267,
          0.4754993774462254,
          0.5300440571321826,
          0.4913163738725554,
          0.4404007602422538,
          0.5777944716721302,
          0.4036455066986287,
          0.5241069464747703,
          0.46478615312491545,
          0.48504829570550745,
          0.41999158470473424,
          0.4581864463790465,
          0.5316951178619894,
          0.510503152697462,
          0.4410713868214406,
          0.5008717319253264,
          0.4804264251298107,
          0.42533933491393106,
          0.6207407124105958,
          0.5573414235856563,
          0.4971729179476746,
          0.463490426382849,
          0.496466495825182,
          0.4102182026009233,
          0.5414638298716773,
          0.5031157746566185,
          0.5082590268472229,
          0.4287441027903495,
          0.5139622469076941,
          0.5753346293519366,
          0.4988343612614175,
          0.5252131371636399,
          0.48523812564953805,
          0.44414197596115274,
          0.5010551762291893,
          0.44525183511694,
          0.5032593795798304,
          0.4248241268208364,
          0.5663190272363061,
          0.4169511177541527,
          0.5037819324477286,
          0.519839912387663,
          0.5105521383301789,
          0.4517731834551397,
          0.4823697248459282,
          0.5689119467814472,
          0.4862116689768104,
          0.42271728724983504,
          0.47701036945638253,
          0.47765399837035016,
          0.46508238008827774,
          0.5355742863686506,
          0.5090183252372035,
          0.5574621509722878,
          0.4940123327098674,
          0.5103727691343779,
          0.4573869466101491,
          0.4166663081054625,
          0.42827589740640737,
          0.5339800889788899,
          0.4758997528992112,
          0.5026332590434839,
          0.5831358442674939,
          0.4891007194020656,
          0.5158178751083512,
          0.5283383063070957,
          0.4970327185604996,
          0.5035285599623055,
          0.4458830651371871,
          0.5274644257072975,
          0.4549288644559244,
          0.5171165550692336,
          0.4817818456294727,
          0.41840737348957646,
          0.43117317028296737,
          0.6068788549406686,
          0.4237711282118382,
          0.5146509789138649,
          0.5493363646035906,
          0.49475672232069584,
          0.5370873988993123,
          0.5645576479922852,
          0.484429014577848,
          0.5503738225328947,
          0.48309899124094374,
          0.5568932809208279,
          0.528344459699642,
          0.48287503649357194,
          0.5087602374084963,
          0.5152055911656468,
          0.49138607023181125,
          0.4696050834909328,
          0.5247715571657078,
          0.4664779727701441,
          0.4061444985062388,
          0.4814822817592835,
          0.5176020928298907,
          0.5621073628269704,
          0.47025322092416805,
          0.45132383944266363,
          0.4623243536518122,
          0.4963843844987732,
          0.5065716386331889,
          0.43958688269884666,
          0.5418255605623549,
          0.5776164523319971,
          0.5019044865054924,
          0.44038086743226523,
          0.3944291431430465,
          0.4674687544719898,
          0.44405051230423576,
          0.5472970530722078,
          0.4720391171383514,
          0.4270927193338198,
          0.4528272336001746,
          0.6717873673513496,
          0.4748367788765594,
          0.537471541473128,
          0.5035670460087106,
          0.5708384306169204,
          0.5789000000285385,
          0.44182162434640704,
          0.48423144955328257,
          0.4954181268302289,
          0.512458287734173,
          0.6019389165087219,
          0.391032864562481,
          0.5205563055989575,
          0.5678117877691221,
          0.4282813701504651,
          0.6221562333388528,
          0.42747875335140495,
          0.4707884173672267,
          0.6134584440686416,
          0.4391813569904645,
          0.47021110228535656,
          0.5524755763869074,
          0.43022345440739496,
          0.47249560705068466,
          0.5186004257869177,
          0.5175063486432409,
          0.544724808279713,
          0.5222016645128206,
          0.4403046384868678,
          0.46818803449306434,
          0.46812170566204775,
          0.5124978148099937,
          0.550266897930955,
          0.59274177979329,
          0.44817746501650796,
          0.5434149519140578,
          0.4235862938141932,
          0.4705946977033756,
          0.5529132934153244,
          0.41613280430128996,
          0.5595929829054227,
          0.4506143607258947,
          0.6423666798830172,
          0.5652728159137088,
          0.42445129563626216,
          0.4961674653038577,
          0.4775940404902904,
          0.4640396280279754,
          0.4200202898666794,
          0.4825505271292644,
          0.4531725665359034,
          0.4544702735490754,
          0.5366213972431335,
          0.5667430980498573,
          0.41388257761122044,
          0.559568524053902,
          0.5107709411257837,
          0.5251900947956032,
          0.46881045386818654,
          0.4837054450215681,
          0.5222720033700351,
          0.5766583932356355,
          0.6175940317656934,
          0.5932621570841691,
          0.5506402391885992,
          0.4577560932134097,
          0.4918176229479426,
          0.44570746897553176,
          0.5297450691754617,
          0.5064180235746951,
          0.5579926640498996,
          0.4873980571133912,
          0.46557907324207415,
          0.3144776323737525,
          0.42379898861181486,
          0.4955475255391588,
          0.5319203522884292,
          0.5157110147657897,
          0.5232178926418745,
          0.48979057086052763,
          0.5189376353913959,
          0.4674618210036247,
          0.5069664592279568,
          0.5289367558240109,
          0.5246853139065931,
          0.4485700699371498,
          0.5868096117321895,
          0.5434227307832946,
          0.45015787819592434,
          0.47598766827080025,
          0.6323610582132064,
          0.5638881928199727,
          0.5943077988829876,
          0.4885913464846686,
          0.5002622172842778,
          0.5152794709426941,
          0.5714731589884039,
          0.41542391613265556,
          0.44200368882121055,
          0.5405326566415899,
          0.3768130109541556,
          0.5639115116496857,
          0.47461166605071403,
          0.49909243116710955,
          0.516006268686331,
          0.49547615891215896,
          0.44877624495680746,
          0.4676874894388964,
          0.5831010521599812,
          0.561935840618527,
          0.5781448766673543,
          0.5283259865314068,
          0.49240494460494555,
          0.4145696477464958,
          0.5385815860016608,
          0.377721567874903,
          0.5935454928365403,
          0.43241011989117933,
          0.4706532565414715,
          0.5103592810754435,
          0.4810137540844552,
          0.4250716943902542,
          0.41849221885563515,
          0.43003617238197184,
          0.4999391333992192,
          0.4555215447660683,
          0.37708670752205087,
          0.4606120055231918,
          0.5082245344344943,
          0.5265584287997852,
          0.493239456093601,
          0.504565200436485,
          0.5596928317489204,
          0.6201680278696835,
          0.49594036056842106,
          0.46764736238084265,
          0.5229136471783538,
          0.4592609719785401,
          0.4904404863299246,
          0.5167958768195441,
          0.47501927150472656,
          0.5572518336248863,
          0.4311619237735635,
          0.48776886083578774,
          0.576508954229374,
          0.553056710735737,
          0.4293788608375285,
          0.424205655960236,
          0.5309819214777869,
          0.5375798374953384,
          0.4803251352240377,
          0.5153140416776507,
          0.5129766212803244,
          0.5915480636325716,
          0.430458150554506,
          0.5306046509033474,
          0.5190789274740967,
          0.5714587540147512,
          0.5326952451523215,
          0.557569188227741,
          0.4623974038739394,
          0.5186161774575954,
          0.5238642136872778,
          0.5068352461431841,
          0.5559687786506424,
          0.4771184207055276,
          0.44131755131141903,
          0.5060680302389581,
          0.5012084580202104,
          0.5489578276250576,
          0.474084627445767,
          0.5129134263697258,
          0.5024377786171951,
          0.4605829252993844,
          0.5238757437885698,
          0.5616524797811749,
          0.6127114065523375,
          0.5016747626368887,
          0.6068641397155944,
          0.5127122331986893,
          0.4460258232437787,
          0.5629732577116926,
          0.509872416250967,
          0.4230857272845757,
          0.5201561456926741,
          0.45647392633445993,
          0.42393891084467183,
          0.4972054987762526,
          0.4956824840625135,
          0.47006864872159787,
          0.536872831974901,
          0.5274507701591253,
          0.4769709333387655,
          0.5944187568340253,
          0.5366418086100555,
          0.46536540589363445,
          0.521090230735172,
          0.48466949340564586,
          0.4844851080655329,
          0.4512088983218446,
          0.46302874198027283,
          0.48150667855087614,
          0.4893438143833235,
          0.4613990104392285,
          0.49666188490603846,
          0.4574508924462849,
          0.5220352425675612,
          0.5492089859334143,
          0.4946237504906658,
          0.3760913917451352,
          0.46448035508081026,
          0.5506723753425897,
          0.4032225739203544,
          0.52115206150312,
          0.5403090779105522,
          0.4768709666405376,
          0.48543402217278514,
          0.48071173747054635,
          0.517136459597499,
          0.455001480093437,
          0.5317671489544853,
          0.4583164145088755,
          0.5472301387737898,
          0.5755859017487011,
          0.49579955847417756,
          0.5276078452200382,
          0.5110776706449074,
          0.42851746123097206,
          0.4056544223208918,
          0.5213201316881683,
          0.5040184503626832,
          0.5240074266545313,
          0.4922873384344259,
          0.547359598439021,
          0.49242024194453776,
          0.4713958257366732,
          0.49406941681780153,
          0.597067681192525,
          0.45574295494150024,
          0.5427959463508901,
          0.6070690218678003,
          0.42448704051672986,
          0.5352788904774998,
          0.45903537899912983,
          0.5954806266483427,
          0.5027345015730182,
          0.46743881475921456,
          0.4737433021797849,
          0.46598743647995594,
          0.49561977514678146,
          0.4608022639910453,
          0.4182737292948772,
          0.530171178243574,
          0.49458991173311795,
          0.4336863419751839,
          0.5044273642266938,
          0.5207148857159346,
          0.5025976387868724,
          0.4210645649236345,
          0.6087072629709342,
          0.46827464213840014,
          0.45757118276042436,
          0.5481307588394,
          0.4794328283536322,
          0.4577473132094123,
          0.4561512577301409,
          0.443001680947076,
          0.46961014591142897,
          0.5063669618364693,
          0.5753523713456096,
          0.5073380957051855,
          0.48312097969924533,
          0.48102356944185287,
          0.5171538235525452,
          0.4420111398341238,
          0.5069719028035061,
          0.4792771894776021,
          0.5792007820471006,
          0.5196726481211704,
          0.4710061459892718,
          0.5042460391440984,
          0.6071747611650407,
          0.5197484287053675,
          0.5083550439166156,
          0.5646156812702345,
          0.5353975196099746,
          0.5432648572880723,
          0.4512895512532449,
          0.4752021584272863,
          0.5155481783184009,
          0.3856048463711504,
          0.4945096288613268,
          0.46907705143587425,
          0.5675264803453663,
          0.4948335405339674,
          0.5064382273993457,
          0.45051196063497817,
          0.4728931267938621,
          0.621608407465599,
          0.5396925066729311,
          0.5757352752981515,
          0.5499260269126991,
          0.48916914668355066,
          0.5281983507570648,
          0.417177750686177,
          0.516454712362911,
          0.46275275781071096,
          0.4710087496549328,
          0.4849721471176649,
          0.5434382011857362,
          0.42030306649379245,
          0.4699859527830591,
          0.5863869086003104,
          0.5034980986192247,
          0.5001895211555658,
          0.5228604193257369,
          0.4653331785070213,
          0.4524364989967633,
          0.5827939144723944,
          0.5437481517578852,
          0.5263320801560014,
          0.5266591269054983,
          0.5315162651444929,
          0.4866616231633214,
          0.46361059306917,
          0.5247237570650277,
          0.5398978699606941,
          0.5238045064909078,
          0.48144456533101876,
          0.5274381963703633,
          0.3880702694900655,
          0.4484583712336684,
          0.4529252892910342,
          0.47457947655208854,
          0.5727652895051596,
          0.5829856668113869,
          0.47623957904261827,
          0.48296591899989816,
          0.5522117659657406,
          0.5072907654266798,
          0.5143455022554496,
          0.4949509618753896,
          0.49806259119431856,
          0.5699285867633807,
          0.4933319256504569,
          0.46386296852084236,
          0.490145170799339,
          0.42562731503524437,
          0.5123679142405893,
          0.45463241094920975,
          0.4926351414953298,
          0.520409385527387,
          0.5158017952937126,
          0.47619163912891554,
          0.43489720109358,
          0.4573103374108988,
          0.5564608026514306,
          0.4760747765093944,
          0.5712706612704614,
          0.5384107296807792,
          0.45623964995545163,
          0.4216915741953591,
          0.5123378857382396,
          0.444296695558195,
          0.49457046205714766,
          0.579218003148133,
          0.5734668067037397,
          0.5531097309069496,
          0.50584547468556,
          0.5188486619503265,
          0.4739034675589152,
          0.4742024308766477,
          0.49572705474086814,
          0.4581722825769173,
          0.4159010603142457,
          0.569163976455999,
          0.4787456244483568,
          0.5153857842573908,
          0.4984453147261317,
          0.45871150339336775,
          0.3979324739941725,
          0.5619307337259377,
          0.4737837058577262,
          0.46658000812004297,
          0.42193568010613985,
          0.38695732323024157,
          0.3837588849791602,
          0.5389305423147708,
          0.5263919598544956,
          0.5563642842885267,
          0.4765091576643028,
          0.5769067441842763,
          0.5441021698740438,
          0.4788566935838962,
          0.46974424703002027,
          0.49936969476699217,
          0.5020289753773484,
          0.6077868770165519,
          0.47601606333608204,
          0.446013325043763,
          0.4970186246562885,
          0.4199048325598856,
          0.5139357790195114,
          0.5217728818940287,
          0.445988896074723,
          0.6217133885767638,
          0.556566652261437,
          0.5379426619100915,
          0.5607568181220992,
          0.39583786134170407,
          0.6269216475400015,
          0.5229249170970318,
          0.5431940213224058,
          0.41627828576814124,
          0.5197282312257057,
          0.42570985132375844,
          0.5189616261170863,
          0.5105616313152237,
          0.6025701679758803,
          0.5428949618442462,
          0.3963065822904591,
          0.5376584692176621,
          0.49811447236811013,
          0.49332241071996824,
          0.4721698408500944,
          0.5380551201351897,
          0.5498115635221913,
          0.49398454453945795,
          0.49262591344841333,
          0.46667037171701997,
          0.4810541932812566,
          0.5490005033828534,
          0.5398114868355732,
          0.5004014935801385,
          0.5355896343313352,
          0.5133208534809709,
          0.554462617279917,
          0.5806063660226732,
          0.5809829285588822,
          0.4795052079347394,
          0.5387535319175637,
          0.5773922027069655,
          0.5028584337223684,
          0.5111997003983972,
          0.5388941375717878,
          0.49969562182784977,
          0.49340756721563583,
          0.5088037554337365,
          0.4428486142245835,
          0.5379099964283394,
          0.4803448328169172,
          0.4849986515697658,
          0.43839646311045366,
          0.5298228716445371,
          0.5890514686029463,
          0.4548838153180636,
          0.5148150508592362,
          0.5200389465544799,
          0.4457066293652121,
          0.5776192394756945,
          0.5431571132998004,
          0.44115534085410385,
          0.46751182428512206,
          0.4327623087108925,
          0.5143533653159019,
          0.550774324340978,
          0.521757838916805,
          0.377254749120649,
          0.4954570664876577,
          0.4841344494073069,
          0.48176830282430055,
          0.5033070905990754,
          0.42342978140174664,
          0.38363619857647907,
          0.4948260706824404,
          0.45840781785109685,
          0.5011267689649029,
          0.528298780246343,
          0.44565005040297045,
          0.4684875335673778,
          0.5009800834021794,
          0.545350360210611,
          0.5002401792759966,
          0.5195049376684356,
          0.4319677734404628,
          0.4970476775857617,
          0.4826232511341339,
          0.4754032923576408,
          0.3758196381932641,
          0.4549684116341616,
          0.4900942084052964,
          0.4677070837443572,
          0.5082293040955754,
          0.5530545428608216,
          0.5595680102669098,
          0.5275497326426499,
          0.47129032431859513,
          0.5505287694123974,
          0.5188933308715873,
          0.4795607324052875,
          0.4463045454962154,
          0.49407052426505743,
          0.48273645124378606,
          0.4954300785957616,
          0.46993129210653145,
          0.5488696881041321,
          0.5543104461295257,
          0.4793311201276716,
          0.5176924275452869,
          0.5037507431457632,
          0.4845726236548508,
          0.5580614173139907,
          0.43411488645044866,
          0.47617765275617335,
          0.5119406556218572,
          0.4554423798662653,
          0.49285413884136975,
          0.48110985974551934,
          0.5428725215093072,
          0.5106746167014462,
          0.47252125118221777,
          0.5177119071068806,
          0.5133119826362601,
          0.5141492629545676,
          0.6035986596989047,
          0.5087856238013324,
          0.5913994137995171,
          0.5443595090098019,
          0.4086713754080172,
          0.5160762194670777,
          0.490042620319246,
          0.5698188654323303,
          0.5290698692999265,
          0.5074091944962914,
          0.5023747055195521,
          0.49840660651696417,
          0.47881189530669893,
          0.5442295417990096,
          0.47181207031625977,
          0.6042704841255756,
          0.5122007750510041,
          0.5292067344365022,
          0.5258930859725754,
          0.48401003671729703,
          0.45205506725665406,
          0.5717325724682938,
          0.44660841384449385,
          0.5750663268289994,
          0.4731409822661621,
          0.4793039168492675,
          0.5740865602165858,
          0.5882295887892927,
          0.47211595196355627,
          0.45673947319120467,
          0.44194616164230655,
          0.41139798065629996,
          0.5973327172375547,
          0.47529530796617103,
          0.49846172957700047,
          0.47504363761690943,
          0.48929126010508367,
          0.5272560759323485,
          0.5152891836588768,
          0.4854497423252239,
          0.4673317516659331,
          0.6007936800087178,
          0.5042833873151331,
          0.463624398836925,
          0.5121019902666839,
          0.4038743254948396,
          0.5322250571362458,
          0.6022868419559603,
          0.483939513939315,
          0.4095086467329552,
          0.4436072777546635,
          0.4400569438814375,
          0.4449161085604058,
          0.46446763865590296,
          0.4755588791758323,
          0.5406036424844415,
          0.5529163382957981,
          0.5320228602728934,
          0.6041688969320743,
          0.4765662006950265,
          0.5420993815595746,
          0.4431463594242917,
          0.5769941437285006,
          0.5055699348909835,
          0.41971920536921103,
          0.44431053827895184,
          0.5107240812012238,
          0.5071522464398871,
          0.5155651584539838,
          0.5361897210880916,
          0.43843469844758165,
          0.41919189262207907,
          0.4426314111731623,
          0.4110323524295038,
          0.50752601319683,
          0.5685483271321492,
          0.5648038312598713,
          0.5361172848367382,
          0.4161922676436717,
          0.5114271968237386,
          0.5295049962028286,
          0.47111524803975996,
          0.5017049204633477,
          0.5419142356948231,
          0.5281659864079087,
          0.48470528596191254,
          0.4296070055314278,
          0.4934239683355808,
          0.522120263718404,
          0.4376522550049979,
          0.47927388010892213,
          0.5108138731860618,
          0.5284364236709747,
          0.4573115981159202,
          0.43354309263471047,
          0.4181633624871348,
          0.538291507163539,
          0.4975141449194417,
          0.5440698513793506,
          0.5692199405150026,
          0.48794998345603163,
          0.4681566718685683,
          0.41326770407046787,
          0.45548142747518816,
          0.4430584775449796,
          0.5428616066216565,
          0.47590133459961403,
          0.5476600851726989,
          0.475935445183229,
          0.4165396373589978,
          0.4922166048376465,
          0.5434077787387491,
          0.4768494007729687,
          0.5014502776375696,
          0.5072216063533262,
          0.5671739400207245,
          0.5210674511687686,
          0.5134703479598278,
          0.5683790563670216,
          0.46617760629104743,
          0.5679325199828642,
          0.516418193776306,
          0.5026128056968192,
          0.45728770862300483,
          0.49749480302602783,
          0.5809665450591662,
          0.5019646623165316,
          0.5021688818681617,
          0.5655602576858284,
          0.48222312799670675,
          0.5187098096859417,
          0.3666537270140067,
          0.47013864321891263,
          0.3951866346508896,
          0.5333027126175627,
          0.4858510824717883,
          0.5589787243204543,
          0.4719597827609516,
          0.5084325460852493,
          0.47602952547019367,
          0.3958658842192279,
          0.40406679604427337,
          0.49597094186006047,
          0.5616068963554153,
          0.5604074726564279,
          0.4288342848799659,
          0.581554375234752,
          0.42584831739165574,
          0.5058121728534563,
          0.5464144709853441,
          0.5042843493887985,
          0.4038715128089752,
          0.5194523003239364,
          0.6059799587494592,
          0.49611979774435017,
          0.5671879818316372,
          0.44437738476845234,
          0.5112924615537244,
          0.5551155845560888,
          0.47975042282335495,
          0.4748062131913873,
          0.45790428146245277,
          0.5253088173875428,
          0.5213176554772566,
          0.46526627769991424,
          0.41929136389137683,
          0.44544970709617177,
          0.50019231269107,
          0.49878301049733753,
          0.5044143974051465,
          0.4515638603192909,
          0.38279860739305394,
          0.5046853764831019,
          0.44385654219275894,
          0.44282838388480184,
          0.43199751755418403,
          0.5889207308919622,
          0.5124681208570365,
          0.5373372086693077,
          0.5393759485373419,
          0.4257747678897024,
          0.4878820083043808,
          0.5047971975944697,
          0.49991424383456345,
          0.571125276202055,
          0.4877923765398354,
          0.603766517255744,
          0.5474219938085879,
          0.5165595611930595,
          0.5028372250536878,
          0.48152253825746255,
          0.49842025629762754,
          0.5710879647903702,
          0.538848577472582,
          0.5630799453832102,
          0.4852629773599647,
          0.5134616254186606,
          0.4998723799347471,
          0.4252449268064656,
          0.5328279637572433,
          0.4913376911761416,
          0.42803219083790595,
          0.5388629310226457,
          0.47584067681300896,
          0.4987029603574784,
          0.5051119564207135,
          0.5194401029847326,
          0.5072744794474128,
          0.44029134250606367,
          0.44106663998982026,
          0.5089794796378796,
          0.4228393039510433,
          0.4930804689341478,
          0.5341496156980885,
          0.49977752173859574,
          0.48253097661356753,
          0.4299234855964139,
          0.4920084480061253,
          0.5102131420915622,
          0.5169092786919471,
          0.5362853218962191,
          0.48042522604803783,
          0.4867799207765917,
          0.47494730799281737,
          0.5467262835212431,
          0.4823457231735255,
          0.4506668944520291,
          0.5399521122173447,
          0.48611695447341935,
          0.5427963731956025,
          0.4591493618204842,
          0.47297957067751095,
          0.5521685112193133,
          0.4145136064244885,
          0.4590141969657546,
          0.5742864589436768,
          0.4871156935732504,
          0.5189062059597553,
          0.4356630011351837,
          0.5766629658647229,
          0.4932762817471196,
          0.43403955628695773,
          0.4809051830923799,
          0.38751348806659275,
          0.5718914830904752,
          0.5137293087561217,
          0.459738427761335,
          0.48010469764662356,
          0.45511020734358737,
          0.4632646771886304,
          0.4452546240825063,
          0.5120537861325022,
          0.5647521390644188,
          0.4632654818853291,
          0.5059108145895238,
          0.43048988045774916,
          0.5441202235911126,
          0.48972814869118314,
          0.5111715974168616,
          0.4964398943318525,
          0.5588695669373307,
          0.36536885403015557,
          0.5578894528065493,
          0.5022769635696851,
          0.5265865324931114,
          0.3887934436452544,
          0.5467702093233158,
          0.5924371245913218,
          0.4965776738179238,
          0.4528730428626529,
          0.39467253619329384,
          0.5234221538994218,
          0.48263973335486005,
          0.5834299192219029,
          0.5526678180332001,
          0.4588393262792458,
          0.5075761492043563,
          0.5608492774466373,
          0.4796071584866257,
          0.5076388972834607,
          0.5641912157826594,
          0.43169272064552505,
          0.5527640201860077,
          0.47577170412930025,
          0.5546448057304995,
          0.46160746397267766,
          0.5804991678841706,
          0.5960047986415433,
          0.47943301077077505,
          0.46480316565040974,
          0.4690245974509471,
          0.5417213962764097,
          0.4227081089379581,
          0.4831643139344925,
          0.4686804619917854,
          0.505773294592982,
          0.6445481509443426,
          0.5123307045185471,
          0.5371456636684145,
          0.4610078078535989,
          0.4876259456790878,
          0.5337367773928247,
          0.49213937669595825,
          0.4670534325111869,
          0.5125911222926168,
          0.5634449573396281,
          0.46032674419240543,
          0.4512691857509597,
          0.6011134109715187,
          0.43956186483844695,
          0.46386393271606075,
          0.5138487534878707,
          0.5049124351854426,
          0.5281179327260787,
          0.5315733929805248,
          0.6170577371566697,
          0.4434867520292065,
          0.49960066463827413,
          0.46329141068020524,
          0.490671338493684,
          0.42012665476302025,
          0.5174656504475316,
          0.46749028528001324,
          0.5046778045849301,
          0.5000586050306717,
          0.4735241383997011,
          0.4582918580453051,
          0.505314069906753,
          0.45767724925130876,
          0.5219236661644007,
          0.5465933620687298,
          0.49748833521491626,
          0.39268585163492425,
          0.5147628838667029,
          0.4764804954871616,
          0.47406726380433445,
          0.46365329280732065,
          0.6048192360522694,
          0.5268719581120966,
          0.39007427861399546,
          0.4667872003680348,
          0.490893781637715
         ],
         "xaxis": "x",
         "y": [
          1,
          1,
          1,
          1,
          1,
          1,
          1,
          1,
          1,
          1,
          1,
          1,
          1,
          1,
          1,
          1,
          1,
          1,
          1,
          1,
          1,
          1,
          1,
          1,
          1,
          1,
          1,
          1,
          1,
          1,
          1,
          1,
          1,
          1,
          1,
          1,
          1,
          1,
          1,
          1,
          1,
          1,
          1,
          1,
          1,
          1,
          1,
          1,
          1,
          1,
          1,
          1,
          1,
          1,
          1,
          1,
          1,
          1,
          1,
          1,
          1,
          1,
          1,
          1,
          1,
          1,
          1,
          1,
          1,
          1,
          1,
          1,
          1,
          1,
          1,
          1,
          1,
          1,
          1,
          1,
          1,
          1,
          1,
          1,
          1,
          1,
          1,
          1,
          1,
          1,
          1,
          1,
          1,
          1,
          1,
          1,
          1,
          1,
          1,
          1,
          1,
          1,
          1,
          1,
          1,
          1,
          1,
          1,
          1,
          1,
          1,
          1,
          1,
          1,
          1,
          1,
          1,
          1,
          1,
          1,
          1,
          1,
          1,
          1,
          1,
          1,
          1,
          1,
          1,
          1,
          1,
          1,
          1,
          1,
          1,
          1,
          1,
          1,
          1,
          1,
          1,
          1,
          1,
          1,
          1,
          1,
          1,
          1,
          1,
          1,
          1,
          1,
          1,
          1,
          1,
          1,
          1,
          1,
          1,
          1,
          1,
          1,
          1,
          1,
          1,
          1,
          1,
          1,
          1,
          1,
          1,
          1,
          1,
          1,
          1,
          1,
          1,
          1,
          1,
          1,
          1,
          1,
          1,
          1,
          1,
          1,
          1,
          1,
          1,
          1,
          1,
          1,
          1,
          1,
          1,
          1,
          1,
          1,
          1,
          1,
          1,
          1,
          1,
          1,
          1,
          1,
          1,
          1,
          1,
          1,
          1,
          1,
          1,
          1,
          1,
          1,
          1,
          1,
          1,
          1,
          1,
          1,
          1,
          1,
          1,
          1,
          1,
          1,
          1,
          1,
          1,
          1,
          1,
          1,
          1,
          1,
          1,
          1,
          1,
          1,
          1,
          1,
          1,
          1,
          1,
          1,
          1,
          1,
          1,
          1,
          1,
          1,
          1,
          1,
          1,
          1,
          1,
          1,
          1,
          1,
          1,
          1,
          1,
          1,
          1,
          1,
          1,
          1,
          1,
          1,
          1,
          1,
          1,
          1,
          1,
          1,
          1,
          1,
          1,
          1,
          1,
          1,
          1,
          1,
          1,
          1,
          1,
          1,
          1,
          1,
          1,
          1,
          1,
          1,
          1,
          1,
          1,
          1,
          1,
          1,
          1,
          1,
          1,
          1,
          1,
          1,
          1,
          1,
          1,
          1,
          1,
          1,
          1,
          1,
          1,
          1,
          1,
          1,
          1,
          1,
          1,
          1,
          1,
          1,
          1,
          1,
          1,
          1,
          1,
          1,
          1,
          1,
          1,
          1,
          1,
          1,
          1,
          1,
          1,
          1,
          1,
          1,
          1,
          1,
          1,
          1,
          1,
          1,
          1,
          1,
          1,
          1,
          1,
          1,
          1,
          1,
          1,
          1,
          1,
          1,
          1,
          1,
          1,
          1,
          1,
          1,
          1,
          1,
          1,
          1,
          1,
          1,
          1,
          1,
          1,
          1,
          1,
          1,
          1,
          1,
          1,
          1,
          1,
          1,
          1,
          1,
          1,
          1,
          1,
          1,
          1,
          1,
          1,
          1,
          1,
          1,
          1,
          1,
          1,
          1,
          1,
          1,
          1,
          1,
          1,
          1,
          1,
          1,
          1,
          1,
          1,
          1,
          1,
          1,
          1,
          1,
          1,
          1,
          1,
          1,
          1,
          1,
          1,
          1,
          1,
          1,
          1,
          1,
          1,
          1,
          1,
          1,
          1,
          1,
          1,
          1,
          1,
          1,
          1,
          1,
          1,
          1,
          1,
          1,
          1,
          1,
          1,
          1,
          1,
          1,
          1,
          1,
          1,
          1,
          1,
          1,
          1,
          1,
          1,
          1,
          1,
          1,
          1,
          1,
          1,
          1,
          1,
          1,
          1,
          1,
          1,
          1,
          1,
          1,
          1,
          1,
          1,
          1,
          1,
          1,
          1,
          1,
          1,
          1,
          1,
          1,
          1,
          1,
          1,
          1,
          1,
          1,
          1,
          1,
          1,
          1,
          1,
          1,
          1,
          1,
          1,
          1,
          1,
          1,
          1,
          1,
          1,
          1,
          1,
          1,
          1,
          1,
          1,
          1,
          1,
          1,
          1,
          1,
          1,
          1,
          1,
          1,
          1,
          1,
          1,
          1,
          1,
          1,
          1,
          1,
          1,
          1,
          1,
          1,
          1,
          1,
          1,
          1,
          1,
          1,
          1,
          1,
          1,
          1,
          1,
          1,
          1,
          1,
          1,
          1,
          1,
          1,
          1,
          1,
          1,
          1,
          1,
          1,
          1,
          1,
          1,
          1,
          1,
          1,
          1,
          1,
          1,
          1,
          1,
          1,
          1,
          1,
          1,
          1,
          1,
          1,
          1,
          1,
          1,
          1,
          1,
          1,
          1,
          1,
          1,
          1,
          1,
          1,
          1,
          1,
          1,
          1,
          1,
          1,
          1,
          1,
          1,
          1,
          1,
          1,
          1,
          1,
          1,
          1,
          1,
          1,
          1,
          1,
          1,
          1,
          1,
          1,
          1,
          1,
          1,
          1,
          1,
          1,
          1,
          1,
          1,
          1,
          1,
          1,
          1,
          1,
          1,
          1,
          1,
          1,
          1,
          1,
          1,
          1,
          1,
          1,
          1,
          1,
          1,
          1,
          1,
          1,
          1,
          1,
          1,
          1,
          1,
          1,
          1,
          1,
          1,
          1,
          1,
          1,
          1,
          1,
          1,
          1,
          1,
          1,
          1,
          1,
          1,
          1,
          1,
          1,
          1,
          1,
          1,
          1,
          1,
          1,
          1,
          1,
          1,
          1,
          1,
          1,
          1,
          1,
          1,
          1,
          1,
          1,
          1,
          1,
          1,
          1,
          1,
          1,
          1,
          1,
          1,
          1,
          1,
          1,
          1,
          1,
          1,
          1,
          1,
          1,
          1,
          1,
          1,
          1,
          1,
          1,
          1,
          1,
          1,
          1,
          1,
          1,
          1,
          1,
          1,
          1,
          1,
          1,
          1,
          1,
          1,
          1,
          1,
          1,
          1,
          1,
          1,
          1,
          1,
          1,
          1,
          1,
          1,
          1,
          1,
          1,
          1,
          1,
          1,
          1,
          1,
          1,
          1,
          1,
          1,
          1,
          1,
          1,
          1,
          1,
          1,
          1,
          1,
          1,
          1,
          1,
          1,
          1,
          1,
          1,
          1,
          1,
          1,
          1,
          1,
          1,
          1,
          1,
          1,
          1,
          1,
          1,
          1,
          1,
          1,
          1,
          1,
          1,
          1,
          1,
          1,
          1,
          1,
          1,
          1,
          1,
          1,
          1,
          1,
          1,
          1,
          1,
          1,
          1,
          1,
          1,
          1,
          1,
          1,
          1,
          1,
          1,
          1,
          1,
          1,
          1,
          1,
          1,
          1,
          1,
          1,
          1,
          1,
          1,
          1,
          1,
          1,
          1,
          1,
          1,
          1,
          1,
          1,
          1,
          1,
          1,
          1,
          1,
          1,
          1,
          1,
          1,
          1,
          1,
          1,
          1,
          1,
          1,
          1,
          1,
          1,
          1,
          1,
          1,
          1,
          1,
          1,
          1,
          1,
          1,
          1,
          1,
          1,
          1,
          1,
          1,
          1,
          1,
          1,
          1,
          1,
          1,
          1,
          1,
          1,
          1,
          1,
          1,
          1,
          1,
          1,
          1,
          1,
          1,
          1,
          1,
          1,
          1,
          1,
          1,
          1,
          1,
          1,
          1,
          1,
          1,
          1,
          1,
          1,
          1,
          1,
          1,
          1,
          1,
          1,
          1,
          1,
          1,
          1,
          1,
          1,
          1,
          1,
          1,
          1,
          1,
          1,
          1,
          1,
          1,
          1,
          1,
          1,
          1,
          1,
          1,
          1,
          1,
          1,
          1,
          1,
          1,
          1,
          1,
          1,
          1,
          1,
          1,
          1,
          1,
          1,
          1,
          1,
          1,
          1,
          1,
          1,
          1,
          1,
          1,
          1,
          1,
          1,
          1,
          1,
          1,
          1,
          1,
          1,
          1,
          1,
          1,
          1,
          1,
          1,
          1,
          1,
          1,
          1,
          1,
          1,
          1,
          1,
          1,
          1,
          1,
          1,
          1,
          1,
          1,
          1,
          1,
          1,
          1,
          1,
          1,
          1,
          1,
          1,
          1,
          1,
          1,
          1,
          1,
          1,
          1,
          1,
          1,
          1,
          1,
          1,
          1,
          1,
          1,
          1,
          1,
          1,
          1
         ],
         "yaxis": "y"
        }
       ],
       "layout": {
        "autosize": true,
        "barmode": "relative",
        "legend": {
         "tracegroupgap": 0
        },
        "margin": {
         "t": 60
        },
        "template": {
         "data": {
          "bar": [
           {
            "error_x": {
             "color": "#2a3f5f"
            },
            "error_y": {
             "color": "#2a3f5f"
            },
            "marker": {
             "line": {
              "color": "#E5ECF6",
              "width": 0.5
             },
             "pattern": {
              "fillmode": "overlay",
              "size": 10,
              "solidity": 0.2
             }
            },
            "type": "bar"
           }
          ],
          "barpolar": [
           {
            "marker": {
             "line": {
              "color": "#E5ECF6",
              "width": 0.5
             },
             "pattern": {
              "fillmode": "overlay",
              "size": 10,
              "solidity": 0.2
             }
            },
            "type": "barpolar"
           }
          ],
          "carpet": [
           {
            "aaxis": {
             "endlinecolor": "#2a3f5f",
             "gridcolor": "white",
             "linecolor": "white",
             "minorgridcolor": "white",
             "startlinecolor": "#2a3f5f"
            },
            "baxis": {
             "endlinecolor": "#2a3f5f",
             "gridcolor": "white",
             "linecolor": "white",
             "minorgridcolor": "white",
             "startlinecolor": "#2a3f5f"
            },
            "type": "carpet"
           }
          ],
          "choropleth": [
           {
            "colorbar": {
             "outlinewidth": 0,
             "ticks": ""
            },
            "type": "choropleth"
           }
          ],
          "contour": [
           {
            "colorbar": {
             "outlinewidth": 0,
             "ticks": ""
            },
            "colorscale": [
             [
              0,
              "#0d0887"
             ],
             [
              0.1111111111111111,
              "#46039f"
             ],
             [
              0.2222222222222222,
              "#7201a8"
             ],
             [
              0.3333333333333333,
              "#9c179e"
             ],
             [
              0.4444444444444444,
              "#bd3786"
             ],
             [
              0.5555555555555556,
              "#d8576b"
             ],
             [
              0.6666666666666666,
              "#ed7953"
             ],
             [
              0.7777777777777778,
              "#fb9f3a"
             ],
             [
              0.8888888888888888,
              "#fdca26"
             ],
             [
              1,
              "#f0f921"
             ]
            ],
            "type": "contour"
           }
          ],
          "contourcarpet": [
           {
            "colorbar": {
             "outlinewidth": 0,
             "ticks": ""
            },
            "type": "contourcarpet"
           }
          ],
          "heatmap": [
           {
            "colorbar": {
             "outlinewidth": 0,
             "ticks": ""
            },
            "colorscale": [
             [
              0,
              "#0d0887"
             ],
             [
              0.1111111111111111,
              "#46039f"
             ],
             [
              0.2222222222222222,
              "#7201a8"
             ],
             [
              0.3333333333333333,
              "#9c179e"
             ],
             [
              0.4444444444444444,
              "#bd3786"
             ],
             [
              0.5555555555555556,
              "#d8576b"
             ],
             [
              0.6666666666666666,
              "#ed7953"
             ],
             [
              0.7777777777777778,
              "#fb9f3a"
             ],
             [
              0.8888888888888888,
              "#fdca26"
             ],
             [
              1,
              "#f0f921"
             ]
            ],
            "type": "heatmap"
           }
          ],
          "heatmapgl": [
           {
            "colorbar": {
             "outlinewidth": 0,
             "ticks": ""
            },
            "colorscale": [
             [
              0,
              "#0d0887"
             ],
             [
              0.1111111111111111,
              "#46039f"
             ],
             [
              0.2222222222222222,
              "#7201a8"
             ],
             [
              0.3333333333333333,
              "#9c179e"
             ],
             [
              0.4444444444444444,
              "#bd3786"
             ],
             [
              0.5555555555555556,
              "#d8576b"
             ],
             [
              0.6666666666666666,
              "#ed7953"
             ],
             [
              0.7777777777777778,
              "#fb9f3a"
             ],
             [
              0.8888888888888888,
              "#fdca26"
             ],
             [
              1,
              "#f0f921"
             ]
            ],
            "type": "heatmapgl"
           }
          ],
          "histogram": [
           {
            "marker": {
             "pattern": {
              "fillmode": "overlay",
              "size": 10,
              "solidity": 0.2
             }
            },
            "type": "histogram"
           }
          ],
          "histogram2d": [
           {
            "colorbar": {
             "outlinewidth": 0,
             "ticks": ""
            },
            "colorscale": [
             [
              0,
              "#0d0887"
             ],
             [
              0.1111111111111111,
              "#46039f"
             ],
             [
              0.2222222222222222,
              "#7201a8"
             ],
             [
              0.3333333333333333,
              "#9c179e"
             ],
             [
              0.4444444444444444,
              "#bd3786"
             ],
             [
              0.5555555555555556,
              "#d8576b"
             ],
             [
              0.6666666666666666,
              "#ed7953"
             ],
             [
              0.7777777777777778,
              "#fb9f3a"
             ],
             [
              0.8888888888888888,
              "#fdca26"
             ],
             [
              1,
              "#f0f921"
             ]
            ],
            "type": "histogram2d"
           }
          ],
          "histogram2dcontour": [
           {
            "colorbar": {
             "outlinewidth": 0,
             "ticks": ""
            },
            "colorscale": [
             [
              0,
              "#0d0887"
             ],
             [
              0.1111111111111111,
              "#46039f"
             ],
             [
              0.2222222222222222,
              "#7201a8"
             ],
             [
              0.3333333333333333,
              "#9c179e"
             ],
             [
              0.4444444444444444,
              "#bd3786"
             ],
             [
              0.5555555555555556,
              "#d8576b"
             ],
             [
              0.6666666666666666,
              "#ed7953"
             ],
             [
              0.7777777777777778,
              "#fb9f3a"
             ],
             [
              0.8888888888888888,
              "#fdca26"
             ],
             [
              1,
              "#f0f921"
             ]
            ],
            "type": "histogram2dcontour"
           }
          ],
          "mesh3d": [
           {
            "colorbar": {
             "outlinewidth": 0,
             "ticks": ""
            },
            "type": "mesh3d"
           }
          ],
          "parcoords": [
           {
            "line": {
             "colorbar": {
              "outlinewidth": 0,
              "ticks": ""
             }
            },
            "type": "parcoords"
           }
          ],
          "pie": [
           {
            "automargin": true,
            "type": "pie"
           }
          ],
          "scatter": [
           {
            "fillpattern": {
             "fillmode": "overlay",
             "size": 10,
             "solidity": 0.2
            },
            "type": "scatter"
           }
          ],
          "scatter3d": [
           {
            "line": {
             "colorbar": {
              "outlinewidth": 0,
              "ticks": ""
             }
            },
            "marker": {
             "colorbar": {
              "outlinewidth": 0,
              "ticks": ""
             }
            },
            "type": "scatter3d"
           }
          ],
          "scattercarpet": [
           {
            "marker": {
             "colorbar": {
              "outlinewidth": 0,
              "ticks": ""
             }
            },
            "type": "scattercarpet"
           }
          ],
          "scattergeo": [
           {
            "marker": {
             "colorbar": {
              "outlinewidth": 0,
              "ticks": ""
             }
            },
            "type": "scattergeo"
           }
          ],
          "scattergl": [
           {
            "marker": {
             "colorbar": {
              "outlinewidth": 0,
              "ticks": ""
             }
            },
            "type": "scattergl"
           }
          ],
          "scattermapbox": [
           {
            "marker": {
             "colorbar": {
              "outlinewidth": 0,
              "ticks": ""
             }
            },
            "type": "scattermapbox"
           }
          ],
          "scatterpolar": [
           {
            "marker": {
             "colorbar": {
              "outlinewidth": 0,
              "ticks": ""
             }
            },
            "type": "scatterpolar"
           }
          ],
          "scatterpolargl": [
           {
            "marker": {
             "colorbar": {
              "outlinewidth": 0,
              "ticks": ""
             }
            },
            "type": "scatterpolargl"
           }
          ],
          "scatterternary": [
           {
            "marker": {
             "colorbar": {
              "outlinewidth": 0,
              "ticks": ""
             }
            },
            "type": "scatterternary"
           }
          ],
          "surface": [
           {
            "colorbar": {
             "outlinewidth": 0,
             "ticks": ""
            },
            "colorscale": [
             [
              0,
              "#0d0887"
             ],
             [
              0.1111111111111111,
              "#46039f"
             ],
             [
              0.2222222222222222,
              "#7201a8"
             ],
             [
              0.3333333333333333,
              "#9c179e"
             ],
             [
              0.4444444444444444,
              "#bd3786"
             ],
             [
              0.5555555555555556,
              "#d8576b"
             ],
             [
              0.6666666666666666,
              "#ed7953"
             ],
             [
              0.7777777777777778,
              "#fb9f3a"
             ],
             [
              0.8888888888888888,
              "#fdca26"
             ],
             [
              1,
              "#f0f921"
             ]
            ],
            "type": "surface"
           }
          ],
          "table": [
           {
            "cells": {
             "fill": {
              "color": "#EBF0F8"
             },
             "line": {
              "color": "white"
             }
            },
            "header": {
             "fill": {
              "color": "#C8D4E3"
             },
             "line": {
              "color": "white"
             }
            },
            "type": "table"
           }
          ]
         },
         "layout": {
          "annotationdefaults": {
           "arrowcolor": "#2a3f5f",
           "arrowhead": 0,
           "arrowwidth": 1
          },
          "autotypenumbers": "strict",
          "coloraxis": {
           "colorbar": {
            "outlinewidth": 0,
            "ticks": ""
           }
          },
          "colorscale": {
           "diverging": [
            [
             0,
             "#8e0152"
            ],
            [
             0.1,
             "#c51b7d"
            ],
            [
             0.2,
             "#de77ae"
            ],
            [
             0.3,
             "#f1b6da"
            ],
            [
             0.4,
             "#fde0ef"
            ],
            [
             0.5,
             "#f7f7f7"
            ],
            [
             0.6,
             "#e6f5d0"
            ],
            [
             0.7,
             "#b8e186"
            ],
            [
             0.8,
             "#7fbc41"
            ],
            [
             0.9,
             "#4d9221"
            ],
            [
             1,
             "#276419"
            ]
           ],
           "sequential": [
            [
             0,
             "#0d0887"
            ],
            [
             0.1111111111111111,
             "#46039f"
            ],
            [
             0.2222222222222222,
             "#7201a8"
            ],
            [
             0.3333333333333333,
             "#9c179e"
            ],
            [
             0.4444444444444444,
             "#bd3786"
            ],
            [
             0.5555555555555556,
             "#d8576b"
            ],
            [
             0.6666666666666666,
             "#ed7953"
            ],
            [
             0.7777777777777778,
             "#fb9f3a"
            ],
            [
             0.8888888888888888,
             "#fdca26"
            ],
            [
             1,
             "#f0f921"
            ]
           ],
           "sequentialminus": [
            [
             0,
             "#0d0887"
            ],
            [
             0.1111111111111111,
             "#46039f"
            ],
            [
             0.2222222222222222,
             "#7201a8"
            ],
            [
             0.3333333333333333,
             "#9c179e"
            ],
            [
             0.4444444444444444,
             "#bd3786"
            ],
            [
             0.5555555555555556,
             "#d8576b"
            ],
            [
             0.6666666666666666,
             "#ed7953"
            ],
            [
             0.7777777777777778,
             "#fb9f3a"
            ],
            [
             0.8888888888888888,
             "#fdca26"
            ],
            [
             1,
             "#f0f921"
            ]
           ]
          },
          "colorway": [
           "#636efa",
           "#EF553B",
           "#00cc96",
           "#ab63fa",
           "#FFA15A",
           "#19d3f3",
           "#FF6692",
           "#B6E880",
           "#FF97FF",
           "#FECB52"
          ],
          "font": {
           "color": "#2a3f5f"
          },
          "geo": {
           "bgcolor": "white",
           "lakecolor": "white",
           "landcolor": "#E5ECF6",
           "showlakes": true,
           "showland": true,
           "subunitcolor": "white"
          },
          "hoverlabel": {
           "align": "left"
          },
          "hovermode": "closest",
          "mapbox": {
           "style": "light"
          },
          "paper_bgcolor": "white",
          "plot_bgcolor": "#E5ECF6",
          "polar": {
           "angularaxis": {
            "gridcolor": "white",
            "linecolor": "white",
            "ticks": ""
           },
           "bgcolor": "#E5ECF6",
           "radialaxis": {
            "gridcolor": "white",
            "linecolor": "white",
            "ticks": ""
           }
          },
          "scene": {
           "xaxis": {
            "backgroundcolor": "#E5ECF6",
            "gridcolor": "white",
            "gridwidth": 2,
            "linecolor": "white",
            "showbackground": true,
            "ticks": "",
            "zerolinecolor": "white"
           },
           "yaxis": {
            "backgroundcolor": "#E5ECF6",
            "gridcolor": "white",
            "gridwidth": 2,
            "linecolor": "white",
            "showbackground": true,
            "ticks": "",
            "zerolinecolor": "white"
           },
           "zaxis": {
            "backgroundcolor": "#E5ECF6",
            "gridcolor": "white",
            "gridwidth": 2,
            "linecolor": "white",
            "showbackground": true,
            "ticks": "",
            "zerolinecolor": "white"
           }
          },
          "shapedefaults": {
           "line": {
            "color": "#2a3f5f"
           }
          },
          "ternary": {
           "aaxis": {
            "gridcolor": "white",
            "linecolor": "white",
            "ticks": ""
           },
           "baxis": {
            "gridcolor": "white",
            "linecolor": "white",
            "ticks": ""
           },
           "bgcolor": "#E5ECF6",
           "caxis": {
            "gridcolor": "white",
            "linecolor": "white",
            "ticks": ""
           }
          },
          "title": {
           "x": 0.05
          },
          "xaxis": {
           "automargin": true,
           "gridcolor": "white",
           "linecolor": "white",
           "ticks": "",
           "title": {
            "standoff": 15
           },
           "zerolinecolor": "white",
           "zerolinewidth": 2
          },
          "yaxis": {
           "automargin": true,
           "gridcolor": "white",
           "linecolor": "white",
           "ticks": "",
           "title": {
            "standoff": 15
           },
           "zerolinecolor": "white",
           "zerolinewidth": 2
          }
         }
        },
        "xaxis": {
         "anchor": "y",
         "autorange": true,
         "domain": [
          0,
          1
         ],
         "range": [
          0.30000000000000004,
          0.6799999999999999
         ],
         "title": {
          "text": "x"
         },
         "type": "linear"
        },
        "yaxis": {
         "anchor": "x",
         "autorange": true,
         "domain": [
          0,
          1
         ],
         "range": [
          0,
          176.8421052631579
         ],
         "title": {
          "text": "sum of y"
         },
         "type": "linear"
        }
       }
      },
      "image/png": "[encoded data removed]",
      "text/html": [
       "<div>                            <div id=\"0e1983c0-e0a0-496d-9fbd-90416588b969\" class=\"plotly-graph-div\" style=\"height:525px; width:100%;\"></div>            <script type=\"text/javascript\">                require([\"plotly\"], function(Plotly) {                    window.PLOTLYENV=window.PLOTLYENV || {};                                    if (document.getElementById(\"0e1983c0-e0a0-496d-9fbd-90416588b969\")) {                    Plotly.newPlot(                        \"0e1983c0-e0a0-496d-9fbd-90416588b969\",                        [{\"alignmentgroup\":\"True\",\"bingroup\":\"x\",\"histfunc\":\"sum\",\"hovertemplate\":\"x=%{x}\\u003cbr\\u003esum of y=%{y}\\u003cextra\\u003e\\u003c\\u002fextra\\u003e\",\"legendgroup\":\"\",\"marker\":{\"color\":\"#636efa\",\"pattern\":{\"shape\":\"\"}},\"name\":\"\",\"nbinsx\":20,\"offsetgroup\":\"\",\"orientation\":\"v\",\"showlegend\":false,\"x\":[0.4898029119482188,0.5586004110069404,0.5267942069904554,0.4824423351772985,0.5018785683694584,0.5204251860589444,0.5417927528766069,0.5809787200695679,0.52264899998348,0.5156715730076624,0.5754577072120426,0.4722062882063517,0.5156716898116043,0.4895611396720514,0.45660595577893254,0.4657885607033474,0.5282905399488261,0.5337176482624384,0.49530132270050414,0.41264174494416267,0.4754993774462254,0.5300440571321826,0.4913163738725554,0.4404007602422538,0.5777944716721302,0.4036455066986287,0.5241069464747703,0.46478615312491545,0.48504829570550745,0.41999158470473424,0.4581864463790465,0.5316951178619894,0.510503152697462,0.4410713868214406,0.5008717319253264,0.4804264251298107,0.42533933491393106,0.6207407124105958,0.5573414235856563,0.4971729179476746,0.463490426382849,0.496466495825182,0.4102182026009233,0.5414638298716773,0.5031157746566185,0.5082590268472229,0.4287441027903495,0.5139622469076941,0.5753346293519366,0.4988343612614175,0.5252131371636399,0.48523812564953805,0.44414197596115274,0.5010551762291893,0.44525183511694,0.5032593795798304,0.4248241268208364,0.5663190272363061,0.4169511177541527,0.5037819324477286,0.519839912387663,0.5105521383301789,0.4517731834551397,0.4823697248459282,0.5689119467814472,0.4862116689768104,0.42271728724983504,0.47701036945638253,0.47765399837035016,0.46508238008827774,0.5355742863686506,0.5090183252372035,0.5574621509722878,0.4940123327098674,0.5103727691343779,0.4573869466101491,0.4166663081054625,0.42827589740640737,0.5339800889788899,0.4758997528992112,0.5026332590434839,0.5831358442674939,0.4891007194020656,0.5158178751083512,0.5283383063070957,0.4970327185604996,0.5035285599623055,0.4458830651371871,0.5274644257072975,0.4549288644559244,0.5171165550692336,0.4817818456294727,0.41840737348957646,0.43117317028296737,0.6068788549406686,0.4237711282118382,0.5146509789138649,0.5493363646035906,0.49475672232069584,0.5370873988993123,0.5645576479922852,0.484429014577848,0.5503738225328947,0.48309899124094374,0.5568932809208279,0.528344459699642,0.48287503649357194,0.5087602374084963,0.5152055911656468,0.49138607023181125,0.4696050834909328,0.5247715571657078,0.4664779727701441,0.4061444985062388,0.4814822817592835,0.5176020928298907,0.5621073628269704,0.47025322092416805,0.45132383944266363,0.4623243536518122,0.4963843844987732,0.5065716386331889,0.43958688269884666,0.5418255605623549,0.5776164523319971,0.5019044865054924,0.44038086743226523,0.3944291431430465,0.4674687544719898,0.44405051230423576,0.5472970530722078,0.4720391171383514,0.4270927193338198,0.4528272336001746,0.6717873673513496,0.4748367788765594,0.537471541473128,0.5035670460087106,0.5708384306169204,0.5789000000285385,0.44182162434640704,0.48423144955328257,0.4954181268302289,0.512458287734173,0.6019389165087219,0.391032864562481,0.5205563055989575,0.5678117877691221,0.4282813701504651,0.6221562333388528,0.42747875335140495,0.4707884173672267,0.6134584440686416,0.4391813569904645,0.47021110228535656,0.5524755763869074,0.43022345440739496,0.47249560705068466,0.5186004257869177,0.5175063486432409,0.544724808279713,0.5222016645128206,0.4403046384868678,0.46818803449306434,0.46812170566204775,0.5124978148099937,0.550266897930955,0.59274177979329,0.44817746501650796,0.5434149519140578,0.4235862938141932,0.4705946977033756,0.5529132934153244,0.41613280430128996,0.5595929829054227,0.4506143607258947,0.6423666798830172,0.5652728159137088,0.42445129563626216,0.4961674653038577,0.4775940404902904,0.4640396280279754,0.4200202898666794,0.4825505271292644,0.4531725665359034,0.4544702735490754,0.5366213972431335,0.5667430980498573,0.41388257761122044,0.559568524053902,0.5107709411257837,0.5251900947956032,0.46881045386818654,0.4837054450215681,0.5222720033700351,0.5766583932356355,0.6175940317656934,0.5932621570841691,0.5506402391885992,0.4577560932134097,0.4918176229479426,0.44570746897553176,0.5297450691754617,0.5064180235746951,0.5579926640498996,0.4873980571133912,0.46557907324207415,0.3144776323737525,0.42379898861181486,0.4955475255391588,0.5319203522884292,0.5157110147657897,0.5232178926418745,0.48979057086052763,0.5189376353913959,0.4674618210036247,0.5069664592279568,0.5289367558240109,0.5246853139065931,0.4485700699371498,0.5868096117321895,0.5434227307832946,0.45015787819592434,0.47598766827080025,0.6323610582132064,0.5638881928199727,0.5943077988829876,0.4885913464846686,0.5002622172842778,0.5152794709426941,0.5714731589884039,0.41542391613265556,0.44200368882121055,0.5405326566415899,0.3768130109541556,0.5639115116496857,0.47461166605071403,0.49909243116710955,0.516006268686331,0.49547615891215896,0.44877624495680746,0.4676874894388964,0.5831010521599812,0.561935840618527,0.5781448766673543,0.5283259865314068,0.49240494460494555,0.4145696477464958,0.5385815860016608,0.377721567874903,0.5935454928365403,0.43241011989117933,0.4706532565414715,0.5103592810754435,0.4810137540844552,0.4250716943902542,0.41849221885563515,0.43003617238197184,0.4999391333992192,0.4555215447660683,0.37708670752205087,0.4606120055231918,0.5082245344344943,0.5265584287997852,0.493239456093601,0.504565200436485,0.5596928317489204,0.6201680278696835,0.49594036056842106,0.46764736238084265,0.5229136471783538,0.4592609719785401,0.4904404863299246,0.5167958768195441,0.47501927150472656,0.5572518336248863,0.4311619237735635,0.48776886083578774,0.576508954229374,0.553056710735737,0.4293788608375285,0.424205655960236,0.5309819214777869,0.5375798374953384,0.4803251352240377,0.5153140416776507,0.5129766212803244,0.5915480636325716,0.430458150554506,0.5306046509033474,0.5190789274740967,0.5714587540147512,0.5326952451523215,0.557569188227741,0.4623974038739394,0.5186161774575954,0.5238642136872778,0.5068352461431841,0.5559687786506424,0.4771184207055276,0.44131755131141903,0.5060680302389581,0.5012084580202104,0.5489578276250576,0.474084627445767,0.5129134263697258,0.5024377786171951,0.4605829252993844,0.5238757437885698,0.5616524797811749,0.6127114065523375,0.5016747626368887,0.6068641397155944,0.5127122331986893,0.4460258232437787,0.5629732577116926,0.509872416250967,0.4230857272845757,0.5201561456926741,0.45647392633445993,0.42393891084467183,0.4972054987762526,0.4956824840625135,0.47006864872159787,0.536872831974901,0.5274507701591253,0.4769709333387655,0.5944187568340253,0.5366418086100555,0.46536540589363445,0.521090230735172,0.48466949340564586,0.4844851080655329,0.4512088983218446,0.46302874198027283,0.48150667855087614,0.4893438143833235,0.4613990104392285,0.49666188490603846,0.4574508924462849,0.5220352425675612,0.5492089859334143,0.4946237504906658,0.3760913917451352,0.46448035508081026,0.5506723753425897,0.4032225739203544,0.52115206150312,0.5403090779105522,0.4768709666405376,0.48543402217278514,0.48071173747054635,0.517136459597499,0.455001480093437,0.5317671489544853,0.4583164145088755,0.5472301387737898,0.5755859017487011,0.49579955847417756,0.5276078452200382,0.5110776706449074,0.42851746123097206,0.4056544223208918,0.5213201316881683,0.5040184503626832,0.5240074266545313,0.4922873384344259,0.547359598439021,0.49242024194453776,0.4713958257366732,0.49406941681780153,0.597067681192525,0.45574295494150024,0.5427959463508901,0.6070690218678003,0.42448704051672986,0.5352788904774998,0.45903537899912983,0.5954806266483427,0.5027345015730182,0.46743881475921456,0.4737433021797849,0.46598743647995594,0.49561977514678146,0.4608022639910453,0.4182737292948772,0.530171178243574,0.49458991173311795,0.4336863419751839,0.5044273642266938,0.5207148857159346,0.5025976387868724,0.4210645649236345,0.6087072629709342,0.46827464213840014,0.45757118276042436,0.5481307588394,0.4794328283536322,0.4577473132094123,0.4561512577301409,0.443001680947076,0.46961014591142897,0.5063669618364693,0.5753523713456096,0.5073380957051855,0.48312097969924533,0.48102356944185287,0.5171538235525452,0.4420111398341238,0.5069719028035061,0.4792771894776021,0.5792007820471006,0.5196726481211704,0.4710061459892718,0.5042460391440984,0.6071747611650407,0.5197484287053675,0.5083550439166156,0.5646156812702345,0.5353975196099746,0.5432648572880723,0.4512895512532449,0.4752021584272863,0.5155481783184009,0.3856048463711504,0.4945096288613268,0.46907705143587425,0.5675264803453663,0.4948335405339674,0.5064382273993457,0.45051196063497817,0.4728931267938621,0.621608407465599,0.5396925066729311,0.5757352752981515,0.5499260269126991,0.48916914668355066,0.5281983507570648,0.417177750686177,0.516454712362911,0.46275275781071096,0.4710087496549328,0.4849721471176649,0.5434382011857362,0.42030306649379245,0.4699859527830591,0.5863869086003104,0.5034980986192247,0.5001895211555658,0.5228604193257369,0.4653331785070213,0.4524364989967633,0.5827939144723944,0.5437481517578852,0.5263320801560014,0.5266591269054983,0.5315162651444929,0.4866616231633214,0.46361059306917,0.5247237570650277,0.5398978699606941,0.5238045064909078,0.48144456533101876,0.5274381963703633,0.3880702694900655,0.4484583712336684,0.4529252892910342,0.47457947655208854,0.5727652895051596,0.5829856668113869,0.47623957904261827,0.48296591899989816,0.5522117659657406,0.5072907654266798,0.5143455022554496,0.4949509618753896,0.49806259119431856,0.5699285867633807,0.4933319256504569,0.46386296852084236,0.490145170799339,0.42562731503524437,0.5123679142405893,0.45463241094920975,0.4926351414953298,0.520409385527387,0.5158017952937126,0.47619163912891554,0.43489720109358,0.4573103374108988,0.5564608026514306,0.4760747765093944,0.5712706612704614,0.5384107296807792,0.45623964995545163,0.4216915741953591,0.5123378857382396,0.444296695558195,0.49457046205714766,0.579218003148133,0.5734668067037397,0.5531097309069496,0.50584547468556,0.5188486619503265,0.4739034675589152,0.4742024308766477,0.49572705474086814,0.4581722825769173,0.4159010603142457,0.569163976455999,0.4787456244483568,0.5153857842573908,0.4984453147261317,0.45871150339336775,0.3979324739941725,0.5619307337259377,0.4737837058577262,0.46658000812004297,0.42193568010613985,0.38695732323024157,0.3837588849791602,0.5389305423147708,0.5263919598544956,0.5563642842885267,0.4765091576643028,0.5769067441842763,0.5441021698740438,0.4788566935838962,0.46974424703002027,0.49936969476699217,0.5020289753773484,0.6077868770165519,0.47601606333608204,0.446013325043763,0.4970186246562885,0.4199048325598856,0.5139357790195114,0.5217728818940287,0.445988896074723,0.6217133885767638,0.556566652261437,0.5379426619100915,0.5607568181220992,0.39583786134170407,0.6269216475400015,0.5229249170970318,0.5431940213224058,0.41627828576814124,0.5197282312257057,0.42570985132375844,0.5189616261170863,0.5105616313152237,0.6025701679758803,0.5428949618442462,0.3963065822904591,0.5376584692176621,0.49811447236811013,0.49332241071996824,0.4721698408500944,0.5380551201351897,0.5498115635221913,0.49398454453945795,0.49262591344841333,0.46667037171701997,0.4810541932812566,0.5490005033828534,0.5398114868355732,0.5004014935801385,0.5355896343313352,0.5133208534809709,0.554462617279917,0.5806063660226732,0.5809829285588822,0.4795052079347394,0.5387535319175637,0.5773922027069655,0.5028584337223684,0.5111997003983972,0.5388941375717878,0.49969562182784977,0.49340756721563583,0.5088037554337365,0.4428486142245835,0.5379099964283394,0.4803448328169172,0.4849986515697658,0.43839646311045366,0.5298228716445371,0.5890514686029463,0.4548838153180636,0.5148150508592362,0.5200389465544799,0.4457066293652121,0.5776192394756945,0.5431571132998004,0.44115534085410385,0.46751182428512206,0.4327623087108925,0.5143533653159019,0.550774324340978,0.521757838916805,0.377254749120649,0.4954570664876577,0.4841344494073069,0.48176830282430055,0.5033070905990754,0.42342978140174664,0.38363619857647907,0.4948260706824404,0.45840781785109685,0.5011267689649029,0.528298780246343,0.44565005040297045,0.4684875335673778,0.5009800834021794,0.545350360210611,0.5002401792759966,0.5195049376684356,0.4319677734404628,0.4970476775857617,0.4826232511341339,0.4754032923576408,0.3758196381932641,0.4549684116341616,0.4900942084052964,0.4677070837443572,0.5082293040955754,0.5530545428608216,0.5595680102669098,0.5275497326426499,0.47129032431859513,0.5505287694123974,0.5188933308715873,0.4795607324052875,0.4463045454962154,0.49407052426505743,0.48273645124378606,0.4954300785957616,0.46993129210653145,0.5488696881041321,0.5543104461295257,0.4793311201276716,0.5176924275452869,0.5037507431457632,0.4845726236548508,0.5580614173139907,0.43411488645044866,0.47617765275617335,0.5119406556218572,0.4554423798662653,0.49285413884136975,0.48110985974551934,0.5428725215093072,0.5106746167014462,0.47252125118221777,0.5177119071068806,0.5133119826362601,0.5141492629545676,0.6035986596989047,0.5087856238013324,0.5913994137995171,0.5443595090098019,0.4086713754080172,0.5160762194670777,0.490042620319246,0.5698188654323303,0.5290698692999265,0.5074091944962914,0.5023747055195521,0.49840660651696417,0.47881189530669893,0.5442295417990096,0.47181207031625977,0.6042704841255756,0.5122007750510041,0.5292067344365022,0.5258930859725754,0.48401003671729703,0.45205506725665406,0.5717325724682938,0.44660841384449385,0.5750663268289994,0.4731409822661621,0.4793039168492675,0.5740865602165858,0.5882295887892927,0.47211595196355627,0.45673947319120467,0.44194616164230655,0.41139798065629996,0.5973327172375547,0.47529530796617103,0.49846172957700047,0.47504363761690943,0.48929126010508367,0.5272560759323485,0.5152891836588768,0.4854497423252239,0.4673317516659331,0.6007936800087178,0.5042833873151331,0.463624398836925,0.5121019902666839,0.4038743254948396,0.5322250571362458,0.6022868419559603,0.483939513939315,0.4095086467329552,0.4436072777546635,0.4400569438814375,0.4449161085604058,0.46446763865590296,0.4755588791758323,0.5406036424844415,0.5529163382957981,0.5320228602728934,0.6041688969320743,0.4765662006950265,0.5420993815595746,0.4431463594242917,0.5769941437285006,0.5055699348909835,0.41971920536921103,0.44431053827895184,0.5107240812012238,0.5071522464398871,0.5155651584539838,0.5361897210880916,0.43843469844758165,0.41919189262207907,0.4426314111731623,0.4110323524295038,0.50752601319683,0.5685483271321492,0.5648038312598713,0.5361172848367382,0.4161922676436717,0.5114271968237386,0.5295049962028286,0.47111524803975996,0.5017049204633477,0.5419142356948231,0.5281659864079087,0.48470528596191254,0.4296070055314278,0.4934239683355808,0.522120263718404,0.4376522550049979,0.47927388010892213,0.5108138731860618,0.5284364236709747,0.4573115981159202,0.43354309263471047,0.4181633624871348,0.538291507163539,0.4975141449194417,0.5440698513793506,0.5692199405150026,0.48794998345603163,0.4681566718685683,0.41326770407046787,0.45548142747518816,0.4430584775449796,0.5428616066216565,0.47590133459961403,0.5476600851726989,0.475935445183229,0.4165396373589978,0.4922166048376465,0.5434077787387491,0.4768494007729687,0.5014502776375696,0.5072216063533262,0.5671739400207245,0.5210674511687686,0.5134703479598278,0.5683790563670216,0.46617760629104743,0.5679325199828642,0.516418193776306,0.5026128056968192,0.45728770862300483,0.49749480302602783,0.5809665450591662,0.5019646623165316,0.5021688818681617,0.5655602576858284,0.48222312799670675,0.5187098096859417,0.3666537270140067,0.47013864321891263,0.3951866346508896,0.5333027126175627,0.4858510824717883,0.5589787243204543,0.4719597827609516,0.5084325460852493,0.47602952547019367,0.3958658842192279,0.40406679604427337,0.49597094186006047,0.5616068963554153,0.5604074726564279,0.4288342848799659,0.581554375234752,0.42584831739165574,0.5058121728534563,0.5464144709853441,0.5042843493887985,0.4038715128089752,0.5194523003239364,0.6059799587494592,0.49611979774435017,0.5671879818316372,0.44437738476845234,0.5112924615537244,0.5551155845560888,0.47975042282335495,0.4748062131913873,0.45790428146245277,0.5253088173875428,0.5213176554772566,0.46526627769991424,0.41929136389137683,0.44544970709617177,0.50019231269107,0.49878301049733753,0.5044143974051465,0.4515638603192909,0.38279860739305394,0.5046853764831019,0.44385654219275894,0.44282838388480184,0.43199751755418403,0.5889207308919622,0.5124681208570365,0.5373372086693077,0.5393759485373419,0.4257747678897024,0.4878820083043808,0.5047971975944697,0.49991424383456345,0.571125276202055,0.4877923765398354,0.603766517255744,0.5474219938085879,0.5165595611930595,0.5028372250536878,0.48152253825746255,0.49842025629762754,0.5710879647903702,0.538848577472582,0.5630799453832102,0.4852629773599647,0.5134616254186606,0.4998723799347471,0.4252449268064656,0.5328279637572433,0.4913376911761416,0.42803219083790595,0.5388629310226457,0.47584067681300896,0.4987029603574784,0.5051119564207135,0.5194401029847326,0.5072744794474128,0.44029134250606367,0.44106663998982026,0.5089794796378796,0.4228393039510433,0.4930804689341478,0.5341496156980885,0.49977752173859574,0.48253097661356753,0.4299234855964139,0.4920084480061253,0.5102131420915622,0.5169092786919471,0.5362853218962191,0.48042522604803783,0.4867799207765917,0.47494730799281737,0.5467262835212431,0.4823457231735255,0.4506668944520291,0.5399521122173447,0.48611695447341935,0.5427963731956025,0.4591493618204842,0.47297957067751095,0.5521685112193133,0.4145136064244885,0.4590141969657546,0.5742864589436768,0.4871156935732504,0.5189062059597553,0.4356630011351837,0.5766629658647229,0.4932762817471196,0.43403955628695773,0.4809051830923799,0.38751348806659275,0.5718914830904752,0.5137293087561217,0.459738427761335,0.48010469764662356,0.45511020734358737,0.4632646771886304,0.4452546240825063,0.5120537861325022,0.5647521390644188,0.4632654818853291,0.5059108145895238,0.43048988045774916,0.5441202235911126,0.48972814869118314,0.5111715974168616,0.4964398943318525,0.5588695669373307,0.36536885403015557,0.5578894528065493,0.5022769635696851,0.5265865324931114,0.3887934436452544,0.5467702093233158,0.5924371245913218,0.4965776738179238,0.4528730428626529,0.39467253619329384,0.5234221538994218,0.48263973335486005,0.5834299192219029,0.5526678180332001,0.4588393262792458,0.5075761492043563,0.5608492774466373,0.4796071584866257,0.5076388972834607,0.5641912157826594,0.43169272064552505,0.5527640201860077,0.47577170412930025,0.5546448057304995,0.46160746397267766,0.5804991678841706,0.5960047986415433,0.47943301077077505,0.46480316565040974,0.4690245974509471,0.5417213962764097,0.4227081089379581,0.4831643139344925,0.4686804619917854,0.505773294592982,0.6445481509443426,0.5123307045185471,0.5371456636684145,0.4610078078535989,0.4876259456790878,0.5337367773928247,0.49213937669595825,0.4670534325111869,0.5125911222926168,0.5634449573396281,0.46032674419240543,0.4512691857509597,0.6011134109715187,0.43956186483844695,0.46386393271606075,0.5138487534878707,0.5049124351854426,0.5281179327260787,0.5315733929805248,0.6170577371566697,0.4434867520292065,0.49960066463827413,0.46329141068020524,0.490671338493684,0.42012665476302025,0.5174656504475316,0.46749028528001324,0.5046778045849301,0.5000586050306717,0.4735241383997011,0.4582918580453051,0.505314069906753,0.45767724925130876,0.5219236661644007,0.5465933620687298,0.49748833521491626,0.39268585163492425,0.5147628838667029,0.4764804954871616,0.47406726380433445,0.46365329280732065,0.6048192360522694,0.5268719581120966,0.39007427861399546,0.4667872003680348,0.490893781637715],\"xaxis\":\"x\",\"y\":[1,1,1,1,1,1,1,1,1,1,1,1,1,1,1,1,1,1,1,1,1,1,1,1,1,1,1,1,1,1,1,1,1,1,1,1,1,1,1,1,1,1,1,1,1,1,1,1,1,1,1,1,1,1,1,1,1,1,1,1,1,1,1,1,1,1,1,1,1,1,1,1,1,1,1,1,1,1,1,1,1,1,1,1,1,1,1,1,1,1,1,1,1,1,1,1,1,1,1,1,1,1,1,1,1,1,1,1,1,1,1,1,1,1,1,1,1,1,1,1,1,1,1,1,1,1,1,1,1,1,1,1,1,1,1,1,1,1,1,1,1,1,1,1,1,1,1,1,1,1,1,1,1,1,1,1,1,1,1,1,1,1,1,1,1,1,1,1,1,1,1,1,1,1,1,1,1,1,1,1,1,1,1,1,1,1,1,1,1,1,1,1,1,1,1,1,1,1,1,1,1,1,1,1,1,1,1,1,1,1,1,1,1,1,1,1,1,1,1,1,1,1,1,1,1,1,1,1,1,1,1,1,1,1,1,1,1,1,1,1,1,1,1,1,1,1,1,1,1,1,1,1,1,1,1,1,1,1,1,1,1,1,1,1,1,1,1,1,1,1,1,1,1,1,1,1,1,1,1,1,1,1,1,1,1,1,1,1,1,1,1,1,1,1,1,1,1,1,1,1,1,1,1,1,1,1,1,1,1,1,1,1,1,1,1,1,1,1,1,1,1,1,1,1,1,1,1,1,1,1,1,1,1,1,1,1,1,1,1,1,1,1,1,1,1,1,1,1,1,1,1,1,1,1,1,1,1,1,1,1,1,1,1,1,1,1,1,1,1,1,1,1,1,1,1,1,1,1,1,1,1,1,1,1,1,1,1,1,1,1,1,1,1,1,1,1,1,1,1,1,1,1,1,1,1,1,1,1,1,1,1,1,1,1,1,1,1,1,1,1,1,1,1,1,1,1,1,1,1,1,1,1,1,1,1,1,1,1,1,1,1,1,1,1,1,1,1,1,1,1,1,1,1,1,1,1,1,1,1,1,1,1,1,1,1,1,1,1,1,1,1,1,1,1,1,1,1,1,1,1,1,1,1,1,1,1,1,1,1,1,1,1,1,1,1,1,1,1,1,1,1,1,1,1,1,1,1,1,1,1,1,1,1,1,1,1,1,1,1,1,1,1,1,1,1,1,1,1,1,1,1,1,1,1,1,1,1,1,1,1,1,1,1,1,1,1,1,1,1,1,1,1,1,1,1,1,1,1,1,1,1,1,1,1,1,1,1,1,1,1,1,1,1,1,1,1,1,1,1,1,1,1,1,1,1,1,1,1,1,1,1,1,1,1,1,1,1,1,1,1,1,1,1,1,1,1,1,1,1,1,1,1,1,1,1,1,1,1,1,1,1,1,1,1,1,1,1,1,1,1,1,1,1,1,1,1,1,1,1,1,1,1,1,1,1,1,1,1,1,1,1,1,1,1,1,1,1,1,1,1,1,1,1,1,1,1,1,1,1,1,1,1,1,1,1,1,1,1,1,1,1,1,1,1,1,1,1,1,1,1,1,1,1,1,1,1,1,1,1,1,1,1,1,1,1,1,1,1,1,1,1,1,1,1,1,1,1,1,1,1,1,1,1,1,1,1,1,1,1,1,1,1,1,1,1,1,1,1,1,1,1,1,1,1,1,1,1,1,1,1,1,1,1,1,1,1,1,1,1,1,1,1,1,1,1,1,1,1,1,1,1,1,1,1,1,1,1,1,1,1,1,1,1,1,1,1,1,1,1,1,1,1,1,1,1,1,1,1,1,1,1,1,1,1,1,1,1,1,1,1,1,1,1,1,1,1,1,1,1,1,1,1,1,1,1,1,1,1,1,1,1,1,1,1,1,1,1,1,1,1,1,1,1,1,1,1,1,1,1,1,1,1,1,1,1,1,1,1,1,1,1,1,1,1,1,1,1,1,1,1,1,1,1,1,1,1,1,1,1,1,1,1,1,1,1,1,1,1,1,1,1,1,1,1,1,1,1,1,1,1,1,1,1,1,1,1,1,1,1,1,1,1,1,1,1,1,1,1,1,1,1,1,1,1,1,1,1,1,1,1,1,1,1,1,1,1,1,1,1,1,1,1,1,1,1,1,1,1,1,1,1,1,1,1,1,1,1,1,1,1,1,1,1,1,1,1,1,1,1,1,1,1,1,1,1,1,1,1,1,1,1,1,1,1,1,1,1,1,1,1,1,1,1,1,1,1,1,1,1,1],\"yaxis\":\"y\",\"type\":\"histogram\"}],                        {\"template\":{\"data\":{\"histogram2dcontour\":[{\"type\":\"histogram2dcontour\",\"colorbar\":{\"outlinewidth\":0,\"ticks\":\"\"},\"colorscale\":[[0.0,\"#0d0887\"],[0.1111111111111111,\"#46039f\"],[0.2222222222222222,\"#7201a8\"],[0.3333333333333333,\"#9c179e\"],[0.4444444444444444,\"#bd3786\"],[0.5555555555555556,\"#d8576b\"],[0.6666666666666666,\"#ed7953\"],[0.7777777777777778,\"#fb9f3a\"],[0.8888888888888888,\"#fdca26\"],[1.0,\"#f0f921\"]]}],\"choropleth\":[{\"type\":\"choropleth\",\"colorbar\":{\"outlinewidth\":0,\"ticks\":\"\"}}],\"histogram2d\":[{\"type\":\"histogram2d\",\"colorbar\":{\"outlinewidth\":0,\"ticks\":\"\"},\"colorscale\":[[0.0,\"#0d0887\"],[0.1111111111111111,\"#46039f\"],[0.2222222222222222,\"#7201a8\"],[0.3333333333333333,\"#9c179e\"],[0.4444444444444444,\"#bd3786\"],[0.5555555555555556,\"#d8576b\"],[0.6666666666666666,\"#ed7953\"],[0.7777777777777778,\"#fb9f3a\"],[0.8888888888888888,\"#fdca26\"],[1.0,\"#f0f921\"]]}],\"heatmap\":[{\"type\":\"heatmap\",\"colorbar\":{\"outlinewidth\":0,\"ticks\":\"\"},\"colorscale\":[[0.0,\"#0d0887\"],[0.1111111111111111,\"#46039f\"],[0.2222222222222222,\"#7201a8\"],[0.3333333333333333,\"#9c179e\"],[0.4444444444444444,\"#bd3786\"],[0.5555555555555556,\"#d8576b\"],[0.6666666666666666,\"#ed7953\"],[0.7777777777777778,\"#fb9f3a\"],[0.8888888888888888,\"#fdca26\"],[1.0,\"#f0f921\"]]}],\"heatmapgl\":[{\"type\":\"heatmapgl\",\"colorbar\":{\"outlinewidth\":0,\"ticks\":\"\"},\"colorscale\":[[0.0,\"#0d0887\"],[0.1111111111111111,\"#46039f\"],[0.2222222222222222,\"#7201a8\"],[0.3333333333333333,\"#9c179e\"],[0.4444444444444444,\"#bd3786\"],[0.5555555555555556,\"#d8576b\"],[0.6666666666666666,\"#ed7953\"],[0.7777777777777778,\"#fb9f3a\"],[0.8888888888888888,\"#fdca26\"],[1.0,\"#f0f921\"]]}],\"contourcarpet\":[{\"type\":\"contourcarpet\",\"colorbar\":{\"outlinewidth\":0,\"ticks\":\"\"}}],\"contour\":[{\"type\":\"contour\",\"colorbar\":{\"outlinewidth\":0,\"ticks\":\"\"},\"colorscale\":[[0.0,\"#0d0887\"],[0.1111111111111111,\"#46039f\"],[0.2222222222222222,\"#7201a8\"],[0.3333333333333333,\"#9c179e\"],[0.4444444444444444,\"#bd3786\"],[0.5555555555555556,\"#d8576b\"],[0.6666666666666666,\"#ed7953\"],[0.7777777777777778,\"#fb9f3a\"],[0.8888888888888888,\"#fdca26\"],[1.0,\"#f0f921\"]]}],\"surface\":[{\"type\":\"surface\",\"colorbar\":{\"outlinewidth\":0,\"ticks\":\"\"},\"colorscale\":[[0.0,\"#0d0887\"],[0.1111111111111111,\"#46039f\"],[0.2222222222222222,\"#7201a8\"],[0.3333333333333333,\"#9c179e\"],[0.4444444444444444,\"#bd3786\"],[0.5555555555555556,\"#d8576b\"],[0.6666666666666666,\"#ed7953\"],[0.7777777777777778,\"#fb9f3a\"],[0.8888888888888888,\"#fdca26\"],[1.0,\"#f0f921\"]]}],\"mesh3d\":[{\"type\":\"mesh3d\",\"colorbar\":{\"outlinewidth\":0,\"ticks\":\"\"}}],\"scatter\":[{\"fillpattern\":{\"fillmode\":\"overlay\",\"size\":10,\"solidity\":0.2},\"type\":\"scatter\"}],\"parcoords\":[{\"type\":\"parcoords\",\"line\":{\"colorbar\":{\"outlinewidth\":0,\"ticks\":\"\"}}}],\"scatterpolargl\":[{\"type\":\"scatterpolargl\",\"marker\":{\"colorbar\":{\"outlinewidth\":0,\"ticks\":\"\"}}}],\"bar\":[{\"error_x\":{\"color\":\"#2a3f5f\"},\"error_y\":{\"color\":\"#2a3f5f\"},\"marker\":{\"line\":{\"color\":\"#E5ECF6\",\"width\":0.5},\"pattern\":{\"fillmode\":\"overlay\",\"size\":10,\"solidity\":0.2}},\"type\":\"bar\"}],\"scattergeo\":[{\"type\":\"scattergeo\",\"marker\":{\"colorbar\":{\"outlinewidth\":0,\"ticks\":\"\"}}}],\"scatterpolar\":[{\"type\":\"scatterpolar\",\"marker\":{\"colorbar\":{\"outlinewidth\":0,\"ticks\":\"\"}}}],\"histogram\":[{\"marker\":{\"pattern\":{\"fillmode\":\"overlay\",\"size\":10,\"solidity\":0.2}},\"type\":\"histogram\"}],\"scattergl\":[{\"type\":\"scattergl\",\"marker\":{\"colorbar\":{\"outlinewidth\":0,\"ticks\":\"\"}}}],\"scatter3d\":[{\"type\":\"scatter3d\",\"line\":{\"colorbar\":{\"outlinewidth\":0,\"ticks\":\"\"}},\"marker\":{\"colorbar\":{\"outlinewidth\":0,\"ticks\":\"\"}}}],\"scattermapbox\":[{\"type\":\"scattermapbox\",\"marker\":{\"colorbar\":{\"outlinewidth\":0,\"ticks\":\"\"}}}],\"scatterternary\":[{\"type\":\"scatterternary\",\"marker\":{\"colorbar\":{\"outlinewidth\":0,\"ticks\":\"\"}}}],\"scattercarpet\":[{\"type\":\"scattercarpet\",\"marker\":{\"colorbar\":{\"outlinewidth\":0,\"ticks\":\"\"}}}],\"carpet\":[{\"aaxis\":{\"endlinecolor\":\"#2a3f5f\",\"gridcolor\":\"white\",\"linecolor\":\"white\",\"minorgridcolor\":\"white\",\"startlinecolor\":\"#2a3f5f\"},\"baxis\":{\"endlinecolor\":\"#2a3f5f\",\"gridcolor\":\"white\",\"linecolor\":\"white\",\"minorgridcolor\":\"white\",\"startlinecolor\":\"#2a3f5f\"},\"type\":\"carpet\"}],\"table\":[{\"cells\":{\"fill\":{\"color\":\"#EBF0F8\"},\"line\":{\"color\":\"white\"}},\"header\":{\"fill\":{\"color\":\"#C8D4E3\"},\"line\":{\"color\":\"white\"}},\"type\":\"table\"}],\"barpolar\":[{\"marker\":{\"line\":{\"color\":\"#E5ECF6\",\"width\":0.5},\"pattern\":{\"fillmode\":\"overlay\",\"size\":10,\"solidity\":0.2}},\"type\":\"barpolar\"}],\"pie\":[{\"automargin\":true,\"type\":\"pie\"}]},\"layout\":{\"autotypenumbers\":\"strict\",\"colorway\":[\"#636efa\",\"#EF553B\",\"#00cc96\",\"#ab63fa\",\"#FFA15A\",\"#19d3f3\",\"#FF6692\",\"#B6E880\",\"#FF97FF\",\"#FECB52\"],\"font\":{\"color\":\"#2a3f5f\"},\"hovermode\":\"closest\",\"hoverlabel\":{\"align\":\"left\"},\"paper_bgcolor\":\"white\",\"plot_bgcolor\":\"#E5ECF6\",\"polar\":{\"bgcolor\":\"#E5ECF6\",\"angularaxis\":{\"gridcolor\":\"white\",\"linecolor\":\"white\",\"ticks\":\"\"},\"radialaxis\":{\"gridcolor\":\"white\",\"linecolor\":\"white\",\"ticks\":\"\"}},\"ternary\":{\"bgcolor\":\"#E5ECF6\",\"aaxis\":{\"gridcolor\":\"white\",\"linecolor\":\"white\",\"ticks\":\"\"},\"baxis\":{\"gridcolor\":\"white\",\"linecolor\":\"white\",\"ticks\":\"\"},\"caxis\":{\"gridcolor\":\"white\",\"linecolor\":\"white\",\"ticks\":\"\"}},\"coloraxis\":{\"colorbar\":{\"outlinewidth\":0,\"ticks\":\"\"}},\"colorscale\":{\"sequential\":[[0.0,\"#0d0887\"],[0.1111111111111111,\"#46039f\"],[0.2222222222222222,\"#7201a8\"],[0.3333333333333333,\"#9c179e\"],[0.4444444444444444,\"#bd3786\"],[0.5555555555555556,\"#d8576b\"],[0.6666666666666666,\"#ed7953\"],[0.7777777777777778,\"#fb9f3a\"],[0.8888888888888888,\"#fdca26\"],[1.0,\"#f0f921\"]],\"sequentialminus\":[[0.0,\"#0d0887\"],[0.1111111111111111,\"#46039f\"],[0.2222222222222222,\"#7201a8\"],[0.3333333333333333,\"#9c179e\"],[0.4444444444444444,\"#bd3786\"],[0.5555555555555556,\"#d8576b\"],[0.6666666666666666,\"#ed7953\"],[0.7777777777777778,\"#fb9f3a\"],[0.8888888888888888,\"#fdca26\"],[1.0,\"#f0f921\"]],\"diverging\":[[0,\"#8e0152\"],[0.1,\"#c51b7d\"],[0.2,\"#de77ae\"],[0.3,\"#f1b6da\"],[0.4,\"#fde0ef\"],[0.5,\"#f7f7f7\"],[0.6,\"#e6f5d0\"],[0.7,\"#b8e186\"],[0.8,\"#7fbc41\"],[0.9,\"#4d9221\"],[1,\"#276419\"]]},\"xaxis\":{\"gridcolor\":\"white\",\"linecolor\":\"white\",\"ticks\":\"\",\"title\":{\"standoff\":15},\"zerolinecolor\":\"white\",\"automargin\":true,\"zerolinewidth\":2},\"yaxis\":{\"gridcolor\":\"white\",\"linecolor\":\"white\",\"ticks\":\"\",\"title\":{\"standoff\":15},\"zerolinecolor\":\"white\",\"automargin\":true,\"zerolinewidth\":2},\"scene\":{\"xaxis\":{\"backgroundcolor\":\"#E5ECF6\",\"gridcolor\":\"white\",\"linecolor\":\"white\",\"showbackground\":true,\"ticks\":\"\",\"zerolinecolor\":\"white\",\"gridwidth\":2},\"yaxis\":{\"backgroundcolor\":\"#E5ECF6\",\"gridcolor\":\"white\",\"linecolor\":\"white\",\"showbackground\":true,\"ticks\":\"\",\"zerolinecolor\":\"white\",\"gridwidth\":2},\"zaxis\":{\"backgroundcolor\":\"#E5ECF6\",\"gridcolor\":\"white\",\"linecolor\":\"white\",\"showbackground\":true,\"ticks\":\"\",\"zerolinecolor\":\"white\",\"gridwidth\":2}},\"shapedefaults\":{\"line\":{\"color\":\"#2a3f5f\"}},\"annotationdefaults\":{\"arrowcolor\":\"#2a3f5f\",\"arrowhead\":0,\"arrowwidth\":1},\"geo\":{\"bgcolor\":\"white\",\"landcolor\":\"#E5ECF6\",\"subunitcolor\":\"white\",\"showland\":true,\"showlakes\":true,\"lakecolor\":\"white\"},\"title\":{\"x\":0.05},\"mapbox\":{\"style\":\"light\"}}},\"xaxis\":{\"anchor\":\"y\",\"domain\":[0.0,1.0],\"title\":{\"text\":\"x\"}},\"yaxis\":{\"anchor\":\"x\",\"domain\":[0.0,1.0],\"title\":{\"text\":\"sum of y\"}},\"legend\":{\"tracegroupgap\":0},\"margin\":{\"t\":60},\"barmode\":\"relative\"},                        {\"responsive\": true}                    ).then(function(){\n",
       "                            \n",
       "var gd = document.getElementById('0e1983c0-e0a0-496d-9fbd-90416588b969');\n",
       "var x = new MutationObserver(function (mutations, observer) {{\n",
       "        var display = window.getComputedStyle(gd).display;\n",
       "        if (!display || display === 'none') {{\n",
       "            console.log([gd, 'removed!']);\n",
       "            Plotly.purge(gd);\n",
       "            observer.disconnect();\n",
       "        }}\n",
       "}});\n",
       "\n",
       "// Listen for the removal of the full notebook cells\n",
       "var notebookContainer = gd.closest('#notebook-container');\n",
       "if (notebookContainer) {{\n",
       "    x.observe(notebookContainer, {childList: true});\n",
       "}}\n",
       "\n",
       "// Listen for the clearing of the current output cell\n",
       "var outputEl = gd.closest('.output');\n",
       "if (outputEl) {{\n",
       "    x.observe(outputEl, {childList: true});\n",
       "}}\n",
       "\n",
       "                        })                };                });            </script>        </div>"
      ]
     },
     "metadata": {},
     "output_type": "display_data"
    }
   ],
   "source": [
    "# Example\n",
    "import random\n",
    "import plotly.express as px\n",
    "sample_size = 31\n",
    "sample_count = 1000\n",
    "# central limit theorem, 1000 samples each with 31 random numbers between 0.0 and 1.0\n",
    "x_values = [(sum([random.uniform(0.0, 1.0) for i in range(sample_size)])/sample_size) for _ in range(sample_count)]\n",
    "y_values = [1 for _ in range(sample_count)]\n",
    "px.histogram(x=x_values, y=y_values, nbins=20).show();"
   ]
  },
  {
   "cell_type": "markdown",
   "id": "4f924baa-09e9-4918-aee8-83312944f0a3",
   "metadata": {},
   "source": [
    "<h4>The Confidence Interval</h4>\n",
    "<p>\n",
    "    A range calculation showing how confidently we believe a sample mean (or other parameter) falls in a range for the population mean.\n",
    "</p>"
   ]
  },
  {
   "cell_type": "code",
   "execution_count": 31,
   "id": "c2efc043-8941-4311-8e40-1467af506b15",
   "metadata": {},
   "outputs": [
    {
     "data": {
      "text/plain": [
       "(np.float64(-1.959963984540054), np.float64(1.959963984540054))"
      ]
     },
     "execution_count": 31,
     "metadata": {},
     "output_type": "execute_result"
    }
   ],
   "source": [
    "# Calculating the confidence interval for .95, sample mean = 64.408 and sample standard deviation = 2.05\n",
    "from scipy.stats import norm\n",
    "def critical_z_value(p):\n",
    "    norm_dist = norm(loc=0.0, scale=1.0)\n",
    "    left_tail_area = (1.0-p)/2.0\n",
    "    upper_area = 1.0 - ((1.0-p)/2.0)\n",
    "    return norm_dist.ppf(left_tail_area), norm_dist.ppf(upper_area)\n",
    "critical_z_value(p=.95)"
   ]
  },
  {
   "cell_type": "code",
   "execution_count": 36,
   "id": "4da42c30-d744-4336-9d67-82c0f2a307f4",
   "metadata": {},
   "outputs": [
    {
     "data": {
      "text/plain": [
       "(64.408 - 0.129610521558294*sqrt(31), 0.129610521558294*sqrt(31) + 64.408)"
      ]
     },
     "execution_count": 36,
     "metadata": {},
     "output_type": "execute_result"
    }
   ],
   "source": [
    "# Margin of Error\n",
    "# Margin of Error (E) is the range around the sample mean that contains the population mean at that level of confidence.\n",
    "\n",
    "def confidence_interval(p, sample_mean, sample_std, n):\n",
    "    # sample size must be greater than 30\n",
    "    lower, upper = critical_z_value(p)\n",
    "    lower_ci = lower*(sample_std/sqrt(n))\n",
    "    upper_ci = upper*(sample_std/sqrt(n))\n",
    "    return sample_mean + lower_ci, sample_mean + upper_ci\n",
    "confidence_interval(p=0.95, sample_mean=64.408, sample_std=2.05, n=31)"
   ]
  },
  {
   "cell_type": "markdown",
   "id": "de05ae36-c3ed-4ae4-8adb-1284cbc9f665",
   "metadata": {},
   "source": [
    "<h4>Understanding p-value</h4>\n",
    "<p>\n",
    "    P-value is the probability of something occuring by chance rather than because a hypothesized explanation.\n",
    "</p>\n",
    "<p>\n",
    "    Null hypothesis, H0 poses that the variable in question had no impact on the experiment and any positive results are just random luck.\n",
    "</p>\n",
    "\n",
    "<p>\n",
    "    Alternative hypothesis, H1 poses that a variable in question (called the controlled variable) is causing a positive result.\n",
    "</p>"
   ]
  },
  {
   "cell_type": "code",
   "execution_count": null,
   "id": "cabd25b6-7ec0-4800-8cb6-b74e7861d586",
   "metadata": {},
   "outputs": [],
   "source": []
  }
 ],
 "metadata": {
  "kernelspec": {
   "display_name": "Python 3 (ipykernel)",
   "language": "python",
   "name": "python3"
  },
  "language_info": {
   "codemirror_mode": {
    "name": "ipython",
    "version": 3
   },
   "file_extension": ".py",
   "mimetype": "text/x-python",
   "name": "python",
   "nbconvert_exporter": "python",
   "pygments_lexer": "ipython3",
   "version": "3.12.4"
  }
 },
 "nbformat": 4,
 "nbformat_minor": 5
}

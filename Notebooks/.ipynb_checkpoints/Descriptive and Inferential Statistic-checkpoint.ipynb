{
 "cells": [
  {
   "cell_type": "markdown",
   "id": "1b6fb428-a4f0-4f43-b2d9-b8011de49784",
   "metadata": {},
   "source": [
    "<img src=\"../pyDataCover.jpg\"/>"
   ]
  },
  {
   "cell_type": "markdown",
   "id": "a202179f-0a2b-4022-865d-e019de4b128b",
   "metadata": {},
   "source": [
    "<h3>Descriptive and Inferential Statistics</h3>\n",
    "<p>Descriptive Statistics is used to summarize data. Inferential Statistics tries to uncover\n",
    "attributes about a large population, often based on a sample.</p>\n",
    "<p>\n",
    "    What is data?\n",
    "</p>\n",
    "\n",
    "<p>Data and Photographs example</p>"
   ]
  },
  {
   "cell_type": "markdown",
   "id": "441d72d4-c0cb-4fac-99cb-85d23a96c87d",
   "metadata": {},
   "source": [
    "<h3>Population, Samples, Bias</h3>\n",
    "<p>A <strong>population</strong> is a particular group of interest we want to study.</p>\n",
    "<p>A <strong>sample</strong> is a subset of the population that is ideally random and unbiased,\n",
    "which we use to infer attributes about the population.</p>\n",
    "<p>Bias, used to describe inaccurate representation to the population.</p>\n",
    "<p>\n",
    "    A <strong>selection bias</strong>; particular type of bias where\n",
    "    a specific group is more likely to include themselves in a sample\n",
    "</p>\n",
    "\n",
    "<p>\n",
    "    A <strong>confirmation bias</strong>, gathering data that supports your belief, which can even be done\n",
    "    unknowingly. An example is following only social media accounts you politically agree\n",
    "    with, reinforcing your beliefs rather than challenging them.\n",
    "</p>"
   ]
  },
  {
   "cell_type": "markdown",
   "id": "09e53853-ebe9-42e1-bea4-e5580ed4be2e",
   "metadata": {},
   "source": [
    "<h4>Mean and Weighted Mean</h4>"
   ]
  },
  {
   "cell_type": "code",
   "execution_count": 148,
   "id": "ee11f944-0891-402d-9ae2-3de3df40176d",
   "metadata": {},
   "outputs": [],
   "source": [
    "# Weighted Mean, GPA\n",
    "samples = [90, 80, 63, 87]\n",
    "weights = [.20, .20, .20, .40]\n",
    "weighted_mean = sum(s*w for s,w in zip(samples, weights)) / sum(weights)"
   ]
  },
  {
   "cell_type": "code",
   "execution_count": 149,
   "id": "96ab7646-f7ac-465b-9cf2-74ab3b7f8f0d",
   "metadata": {},
   "outputs": [
    {
     "data": {
      "text/plain": [
       "81.4"
      ]
     },
     "execution_count": 149,
     "metadata": {},
     "output_type": "execute_result"
    }
   ],
   "source": [
    "weighted_mean"
   ]
  },
  {
   "cell_type": "code",
   "execution_count": 150,
   "id": "010152ad-6078-42e6-b1ec-9ea678567abe",
   "metadata": {},
   "outputs": [
    {
     "data": {
      "text/plain": [
       "81.4"
      ]
     },
     "execution_count": 150,
     "metadata": {},
     "output_type": "execute_result"
    }
   ],
   "source": [
    "# Weights don't have to be percentages as the numbers will endup being proportionalized.\n",
    "weights = [1.0, 1.0, 1.0, 2.0]\n",
    "weighted_sum = sum(s*w for s,w in zip(samples, weights))/sum(weights)\n",
    "weighted_sum"
   ]
  },
  {
   "cell_type": "code",
   "execution_count": 151,
   "id": "7bb49920-f19d-41e9-b58a-e3deee01399d",
   "metadata": {},
   "outputs": [],
   "source": [
    "# Median\n",
    "# The middlemost value in a set of ordered values\n",
    "def median(values):\n",
    "    ordered = sorted(values)\n",
    "    print(ordered)\n",
    "    n = len(ordered)\n",
    "    mid = int(n/2)-1 if n%2 == 0 else int(n/2)\n",
    "\n",
    "    if n%2 == 0:\n",
    "        return (ordered[mid] + ordered[mid+1])/2.0\n",
    "    else:\n",
    "        return ordered[mid]"
   ]
  },
  {
   "cell_type": "code",
   "execution_count": 152,
   "id": "788b52b1-02ff-4179-bbb2-e2be29e0b7eb",
   "metadata": {},
   "outputs": [
    {
     "name": "stdout",
     "output_type": "stream",
     "text": [
      "[63, 80, 87, 90]\n"
     ]
    },
    {
     "data": {
      "text/plain": [
       "83.5"
      ]
     },
     "execution_count": 152,
     "metadata": {},
     "output_type": "execute_result"
    }
   ],
   "source": [
    "# Median is the preferrable in outlier-heavy situations(such as income related data) over the mean.\n",
    "# Example: Salary of Ugandans without a university degree, there shall be many outliers\n",
    "median(samples)"
   ]
  },
  {
   "cell_type": "code",
   "execution_count": 153,
   "id": "7a91cfae-c26c-4b0b-8032-e943ae4a73e5",
   "metadata": {},
   "outputs": [],
   "source": [
    "# Quartiles\n",
    "# Mode is the most frequently occuring set of values. When two values occur with the same frequency, it is considered\n",
    "# bimodal.\n",
    "# Number of shoes your friends own\n",
    "from collections import defaultdict\n",
    "sample = [1, 3, 2, 5, 7, 4, 2, 3]\n",
    "def mode(values):\n",
    "    counts = defaultdict(lambda:0)\n",
    "    for s in values:\n",
    "        counts[s] += 1\n",
    "    max_count = max(counts.values())\n",
    "    modes = [v for v in set(values) if counts[v] == max_count]\n",
    "    return modes"
   ]
  },
  {
   "cell_type": "code",
   "execution_count": 154,
   "id": "a19647de-f666-4ac4-833a-c22eb9bea78a",
   "metadata": {},
   "outputs": [
    {
     "data": {
      "text/plain": [
       "[2, 3]"
      ]
     },
     "execution_count": 154,
     "metadata": {},
     "output_type": "execute_result"
    }
   ],
   "source": [
    "mode(sample)"
   ]
  },
  {
   "cell_type": "code",
   "execution_count": 155,
   "id": "2ba84432-e494-4504-9237-32aa66a4896a",
   "metadata": {},
   "outputs": [
    {
     "name": "stdout",
     "output_type": "stream",
     "text": [
      "5.387755102040816\n"
     ]
    }
   ],
   "source": [
    "# Variance and Standard Deviation\n",
    "# Population variance is the measure of how data is spreadout\n",
    "# Example number of shoes owned by my friends\n",
    "dataShoes = [2, 3, 6, 3, 7, 2, 8]\n",
    "def variance(values):\n",
    "    mean = sum(values)/len(values)\n",
    "    _variance=sum((v-mean)**2 for v in values)/len(values)\n",
    "    return _variance\n",
    "print(variance(dataShoes))"
   ]
  },
  {
   "cell_type": "code",
   "execution_count": 156,
   "id": "f58c6456-b9f3-4e80-809b-4a2e8c8243b7",
   "metadata": {},
   "outputs": [
    {
     "data": {
      "text/plain": [
       "2.3211538298959886"
      ]
     },
     "execution_count": 156,
     "metadata": {},
     "output_type": "execute_result"
    }
   ],
   "source": [
    "# Standard deviation\n",
    "from math import sqrt\n",
    "def std_dev(values):\n",
    "    return sqrt(variance(values))\n",
    "\n",
    "# Example\n",
    "# Standard devation of dataShoes\n",
    "std_dev(dataShoes)"
   ]
  },
  {
   "cell_type": "code",
   "execution_count": 157,
   "id": "669d94ba-55ab-4514-a8b1-fbaa4ba3e657",
   "metadata": {},
   "outputs": [],
   "source": [
    "# Sample Variance and Stadard Deviation\n",
    "# Qn. Why subtract 1 from sample size\n",
    "\n",
    "def variance(values, is_sample: bool=False):\n",
    "    mean = sum(values) / len(values)\n",
    "    _variance = sum((v-mean)**2 for v in values) / (len(values)-(1 if is_sample else 0))\n",
    "    return _variance\n",
    "\n",
    "def std_dev(values, is_sample:bool=False):\n",
    "    return sqrt(variance(values, is_sample))"
   ]
  },
  {
   "cell_type": "code",
   "execution_count": 158,
   "id": "ec2d6e77-d387-4d4a-9d87-e7ec9732bf06",
   "metadata": {},
   "outputs": [
    {
     "data": {
      "text/plain": [
       "6.285714285714286"
      ]
     },
     "execution_count": 158,
     "metadata": {},
     "output_type": "execute_result"
    }
   ],
   "source": [
    "# Example\n",
    "# Number of shoes each person owns\n",
    "variance(dataShoes, is_sample=True)"
   ]
  },
  {
   "cell_type": "code",
   "execution_count": 159,
   "id": "f79e2095-699b-4197-a6fb-729b38320898",
   "metadata": {},
   "outputs": [
    {
     "data": {
      "text/plain": [
       "2.5071326821120348"
      ]
     },
     "execution_count": 159,
     "metadata": {},
     "output_type": "execute_result"
    }
   ],
   "source": [
    "# Contrast obtained value with variance of population\n",
    "std_dev(dataShoes, is_sample=True)\n",
    "\n",
    "# 2.5071326821120348 for sample\n",
    "# 2.3211538298959886 for population"
   ]
  },
  {
   "cell_type": "markdown",
   "id": "5f9d16e6-fbbb-4a87-8e3d-aadddb985570",
   "metadata": {},
   "source": [
    "<h3>Normal Distribution (Gaussian Distribution) and Probability Density Function</h3>\n",
    "<p>\n",
    "    Normal Distribution is a probability distribution that appears as a \"bell curve\" when graphed.\n",
    "    The normal distribution describes a symmetrical plot of data around its mean value, where width of\n",
    "    the curve is defined by the standard deviation.\n",
    "</p>\n",
    "\n",
    "<h5>Properties of the Normal Distribution</h5>\n",
    "<ul>\n",
    "    <li>Symmetrical; both sides are identically mirrored at the mean, which is the center.</li>\n",
    "    <li>Most mass is at the center around the mean.</li>\n",
    "    <li>It has a spread (being narrow or wide> that is specified by the standard deviation.</li>\n",
    "    <li>The tails are the least likely outcomes and approach zero infinitely but never touch zero.</li>\n",
    "</ul>\n",
    "\n",
    "<h4>The Cummulative Desnsity Function, CDF</h4>\n",
    "<p>\n",
    "    The probability to get a value between x1 and x2, where x1 > x2, is the area under the curve from x1 to x2.\n",
    "</p>"
   ]
  },
  {
   "cell_type": "code",
   "execution_count": 160,
   "id": "4c990d77-7edd-48f1-955f-6af53ef0ca6f",
   "metadata": {},
   "outputs": [],
   "source": [
    "# the Probability Density Function in Python\n",
    "def pdf(x: float,\n",
    "        mean: float,\n",
    "        std_dev: float):\n",
    "    return (1.0/(std_dev*(2.0*math.pi)**0.5)*math.exp((-1.0*((x-mean)/std_dev)**2)/2))"
   ]
  },
  {
   "cell_type": "code",
   "execution_count": 161,
   "id": "dec6b41b-98fb-4c29-9855-9fa9032eb83e",
   "metadata": {},
   "outputs": [
    {
     "data": {
      "image/png": "[encoded data removed]",
      "text/plain": [
       "<Figure size 640x480 with 1 Axes>"
      ]
     },
     "metadata": {},
     "output_type": "display_data"
    }
   ],
   "source": [
    "# Example\n",
    "import matplotlib.pyplot as plt\n",
    "import numpy as np\n",
    "mu, std_dev = 2, 0.3 # mean and standard deviation\n",
    "s = np.random.normal(mu, std_dev, 1_000_000)\n",
    "count, bins, ignored = plt.hist(s, 100, density=True)\n",
    "plt.plot(bins, 1/(std_dev*np.sqrt(2*np.pi))*np.exp(-1*(bins-mu)**2/(2*std_dev**2)),\n",
    "         linewidth=2,\n",
    "         color='g')\n",
    "plt.vlines(2.1, 0, 1.4, \"white\", );\n",
    "plt.vlines(2.5, 0, 0.5, \"white\", );\n",
    "plt.show();"
   ]
  },
  {
   "cell_type": "code",
   "execution_count": 162,
   "id": "a66dae45-59a2-429b-8f4e-d3040f1b6b73",
   "metadata": {},
   "outputs": [
    {
     "data": {
      "text/plain": [
       "np.float64(0.5)"
      ]
     },
     "execution_count": 162,
     "metadata": {},
     "output_type": "execute_result"
    }
   ],
   "source": [
    "# The normal distribution CDF in Python\\\n",
    "# The CDF from negative infinity to the mean, we get 0.5 which half the area of the normal distribution\n",
    "from scipy.stats import norm\n",
    "# mu = 64.43\n",
    "# std_dev = 2.99\n",
    "x = norm.cdf(2, mu, std_dev)\n",
    "x"
   ]
  },
  {
   "cell_type": "code",
   "execution_count": 163,
   "id": "b418e94c-5929-486b-a22e-d5172c1e807a",
   "metadata": {},
   "outputs": [
    {
     "data": {
      "text/plain": [
       "np.float64(0.32165098790894886)"
      ]
     },
     "execution_count": 163,
     "metadata": {},
     "output_type": "execute_result"
    }
   ],
   "source": [
    "# To get the proability of x being between 2.1 and 2.5\n",
    "norm.cdf(2.5, mu, std_dev) - norm.cdf(2.1, mu, std_dev)"
   ]
  },
  {
   "cell_type": "markdown",
   "id": "affcbacc-c473-4478-a09a-b71c8b8345ee",
   "metadata": {},
   "source": [
    "<h3>The Inverse CDF</h3>\n",
    "<p>\n",
    "    It is used to find the x value for a given probability. For example, say you want to find the weight with a probability of 80%.\n",
    "</p>\n",
    "<p>The Inverse CDF can be used in simulation to generate values with proability between 0 and 1. </p>"
   ]
  },
  {
   "cell_type": "code",
   "execution_count": 164,
   "id": "074f20f2-85ef-4e64-ac2d-b89081c450f9",
   "metadata": {},
   "outputs": [
    {
     "data": {
      "text/plain": [
       "np.float64(2.2524863700718742)"
      ]
     },
     "execution_count": 164,
     "metadata": {},
     "output_type": "execute_result"
    }
   ],
   "source": [
    "x = norm.ppf(0.8, mu, std_dev)\n",
    "x"
   ]
  },
  {
   "cell_type": "markdown",
   "id": "895191cc-4ca8-4493-922a-39aa0dd52360",
   "metadata": {},
   "source": [
    "<h4>The Z-Score</h4>\n",
    "<p>\n",
    "    It is used to normalize a normal distribution so as its mean is at 0. The result is a <strong>standard normal distribution</strong>.\n",
    "</p>\n",
    "<p>\n",
    "    The expression below converts an x-value to a z-value.\n",
    "</p>\n",
    "<p>\n",
    "    Example: There are two homes from two different neighborhoods. Neighborhood A has a mean home value of 140,000usd and standard deviation of 3,000usd. Neighborhood B has a mean value of 800,000usd and standard deviation of 10,000usd. There are two home each neighborhood. House A is worth 150,000usd and House B is worth 815,000usd. Which house is more expensive relative to the average home in its neighborhood?\n",
    "</p>"
   ]
  },
  {
   "cell_type": "code",
   "execution_count": 165,
   "id": "73e47fe1-60f2-4cae-813e-efa8e2d159fe",
   "metadata": {},
   "outputs": [
    {
     "data": {
      "text/latex": [
       "$\\displaystyle \\frac{- \\mu + x}{\\sigma}$"
      ],
      "text/plain": [
       "(-mu + x)/sigma"
      ]
     },
     "execution_count": 165,
     "metadata": {},
     "output_type": "execute_result"
    }
   ],
   "source": [
    "from sympy import *\n",
    "x, mu, sigma = symbols('x, mu, sigma')\n",
    "z = (x - mu)/sigma\n",
    "z"
   ]
  },
  {
   "cell_type": "code",
   "execution_count": 166,
   "id": "9f9a2da0-f6d0-4fe1-9c9e-3ba5d9639474",
   "metadata": {},
   "outputs": [
    {
     "data": {
      "text/plain": [
       "(3.3333333333333335, 1.5)"
      ]
     },
     "execution_count": 166,
     "metadata": {},
     "output_type": "execute_result"
    }
   ],
   "source": [
    "# Solution to example problem\n",
    "houseA = (150_000 - 140_000)/3_000\n",
    "houseB = (815_000-800_000)/10_000\n",
    "\n",
    "houseA, houseB\n",
    "# House A is more expensive than house B"
   ]
  },
  {
   "cell_type": "markdown",
   "id": "1aaf07c6-e01f-4a39-a6e8-f6f12333b915",
   "metadata": {},
   "source": [
    "<h4>Coefficeint of Variation</h4>\n",
    "<p>\n",
    "    It helps to measure the spread of variation of a distribution. It is the ratio of standard deviation to mean.\n",
    "</p>"
   ]
  },
  {
   "cell_type": "markdown",
   "id": "f0f2fcea-24cb-4a8f-b6b4-ebd205c20be4",
   "metadata": {},
   "source": [
    "<h4>Inferential Statistics</h4>\n",
    "<h5>The Central Limit THeorem</h5>"
   ]
  },
  {
   "cell_type": "code",
   "execution_count": 168,
   "id": "ec3913f1-bbf4-4459-9ce6-1d104df87c11",
   "metadata": {},
   "outputs": [
    {
     "data": {
      "application/vnd.plotly.v1+json": {
       "config": {
        "plotlyServerURL": "https://plot.ly"
       },
       "data": [
        {
         "alignmentgroup": "True",
         "bingroup": "x",
         "histfunc": "sum",
         "hovertemplate": "x=%{x}<br>sum of y=%{y}<extra></extra>",
         "legendgroup": "",
         "marker": {
          "color": "#636efa",
          "pattern": {
           "shape": ""
          }
         },
         "name": "",
         "nbinsx": 20,
         "offsetgroup": "",
         "orientation": "v",
         "showlegend": false,
         "type": "histogram",
         "x": [
          0.48503430020589966,
          0.5824599825764581,
          0.5791992058814581,
          0.4380801844508154,
          0.47746351059073683,
          0.48955067933091495,
          0.44935450205391286,
          0.5233474228205399,
          0.553314420215292,
          0.5244892415688066,
          0.5453015920436749,
          0.4756858362563192,
          0.43384770266389255,
          0.5817527027063519,
          0.5021367706403763,
          0.5531225581595285,
          0.49523831748754715,
          0.5615183780758037,
          0.431672048626748,
          0.5301205675248257,
          0.5454894703357318,
          0.47534569635946333,
          0.5525211939120801,
          0.4774798823893304,
          0.38638525085189146,
          0.510965978782033,
          0.44865659035529476,
          0.5963358780939932,
          0.4746245341295361,
          0.4959818126111276,
          0.5483381585582271,
          0.4784908021924988,
          0.5076853738072445,
          0.565764197799854,
          0.49691044685483554,
          0.5876582099529706,
          0.48301078019577837,
          0.5035016070181842,
          0.5594849745347181,
          0.507216271538735,
          0.4336433116827606,
          0.5248734302832092,
          0.4749716408064535,
          0.48992548171670725,
          0.5063640038480068,
          0.4652802369928944,
          0.4607965444288377,
          0.5519469651500866,
          0.4387816030182418,
          0.4708337240404314,
          0.5017288045332041,
          0.5417428323877569,
          0.4349019060343597,
          0.49068486422165564,
          0.5392354258904882,
          0.554053513867332,
          0.5269209598278296,
          0.4464209884245444,
          0.5364158393622637,
          0.5188427782570256,
          0.5267822606509533,
          0.5190661036958061,
          0.5024887246426764,
          0.5243247388832643,
          0.4451334241004232,
          0.4825594847105845,
          0.45881639627763676,
          0.5718716042878987,
          0.42851621981445437,
          0.4811290869372033,
          0.5669459451841067,
          0.5620070998762305,
          0.48705042776657737,
          0.484366678860497,
          0.4648205923378327,
          0.4588862177262686,
          0.48500396290386594,
          0.5432319839934187,
          0.5323202993997057,
          0.5039209200238931,
          0.5019389279409209,
          0.4137295614620494,
          0.5399047068759908,
          0.4959283609682859,
          0.5743911426432524,
          0.5738789444916712,
          0.44789384663937926,
          0.47149298198209955,
          0.4122324399920927,
          0.47558488649099084,
          0.5016669581507294,
          0.5862947306626949,
          0.5480676585582364,
          0.4879814279637407,
          0.5685836495575641,
          0.5007599173090359,
          0.5150108795264344,
          0.4923010749170526,
          0.47960294795370667,
          0.506528472997984,
          0.4675029101109597,
          0.5018731667822847,
          0.45170395218925413,
          0.5672873312983788,
          0.4767166713819814,
          0.5198526589524252,
          0.5098698069418335,
          0.4742584591630375,
          0.5530411566260472,
          0.5174091390554673,
          0.4623334055140222,
          0.5805084653834554,
          0.5402857802327062,
          0.5095448770476305,
          0.5224931906193822,
          0.4412508975119778,
          0.47401283883350565,
          0.5329875939762091,
          0.39323495905207434,
          0.43108107952224217,
          0.4852408057213713,
          0.5131933067138964,
          0.5184874399119485,
          0.5019167298502063,
          0.5599462835883411,
          0.5427302406740937,
          0.48610082420304856,
          0.34648759809181395,
          0.6016548861972513,
          0.5090504419050629,
          0.5744450639101281,
          0.5403718062437834,
          0.49007389771041593,
          0.5317699385953532,
          0.5423588372077661,
          0.5079257604876658,
          0.5197836939302879,
          0.6139016644818555,
          0.5149280311544052,
          0.5072260875476381,
          0.4871774262973831,
          0.5227824402135414,
          0.3919978487763801,
          0.4624031395474101,
          0.5416615863054395,
          0.4893612977992609,
          0.4966792408558612,
          0.5819182230087995,
          0.5050134407097292,
          0.4656356500988929,
          0.5993236575968401,
          0.500264641383681,
          0.6340765820765449,
          0.5630528743815274,
          0.5096081641628647,
          0.42093936812190524,
          0.4783635253588568,
          0.5249671064943644,
          0.5314519601113986,
          0.4848590157406568,
          0.5123818052357051,
          0.5738575276969454,
          0.5476980627397723,
          0.4885043201104037,
          0.5230335860868542,
          0.4218303424138786,
          0.5703662611814032,
          0.5025879916622841,
          0.48583222027543477,
          0.5762899139041447,
          0.4921027447017094,
          0.5307188039459896,
          0.5848443094176584,
          0.5390618278854051,
          0.5372755048606118,
          0.5689821732166844,
          0.5096567224372298,
          0.4731443488337416,
          0.5097592806768999,
          0.4448517615350703,
          0.4711765691309371,
          0.5135957760775047,
          0.5235358459272849,
          0.5519218928300301,
          0.49496244231421743,
          0.5168952802615452,
          0.6163529132237023,
          0.45522514665375113,
          0.504564892610063,
          0.49247892166634955,
          0.510307515590256,
          0.5330614743057921,
          0.5302422788393583,
          0.44431670372529053,
          0.5016466295383126,
          0.5070649692889718,
          0.48249312225866836,
          0.5541884540325546,
          0.5256065653025068,
          0.5190695888040245,
          0.6063529279640262,
          0.44182071949486745,
          0.4729994076241718,
          0.5044936455001197,
          0.49704492645817683,
          0.41806897126913334,
          0.6485877050538994,
          0.4475690055096941,
          0.5337985224332489,
          0.4508738711658503,
          0.4111308283348835,
          0.48527237299189674,
          0.4582864115644344,
          0.4593249112539463,
          0.5715785005030343,
          0.5376505118938227,
          0.5147233511176174,
          0.5468730049528185,
          0.49589291324994816,
          0.5052205433100607,
          0.5407621472694365,
          0.4993542463218096,
          0.4594565654759936,
          0.46597253870236616,
          0.38782498255400066,
          0.503180357075225,
          0.5276321051903434,
          0.48292566771647044,
          0.5715652709977019,
          0.5117229326806434,
          0.48399896331148895,
          0.5072633659361269,
          0.46845913642140385,
          0.5074770897063983,
          0.48993448949245905,
          0.4595655658309322,
          0.45530086922164054,
          0.47224045388582414,
          0.4954894982336896,
          0.5491954303528113,
          0.5387919538922882,
          0.5033519461318869,
          0.5826191336231713,
          0.47284555216651725,
          0.4511971834217688,
          0.4380460916918786,
          0.5257863108532818,
          0.45017594764708535,
          0.391756195903858,
          0.5249958171945354,
          0.4393747716215646,
          0.3974842978076228,
          0.43388380947693334,
          0.5529623350591251,
          0.48836497303649085,
          0.5368840929729672,
          0.4408920049421689,
          0.5051620038744455,
          0.40300229357970396,
          0.496421795097718,
          0.566992934386984,
          0.5133910280018404,
          0.549646057545169,
          0.5766923083410356,
          0.5679715582392044,
          0.5102852725163404,
          0.5120922152474701,
          0.5810551701543807,
          0.5930352854595149,
          0.5121968542060598,
          0.4393714571961597,
          0.45994764892663104,
          0.49453381944999486,
          0.48675593743524437,
          0.4999909601948422,
          0.42437384946481344,
          0.5540946607442824,
          0.4835823535743517,
          0.5595259439819277,
          0.5678664002067697,
          0.4964449335473213,
          0.406204098092734,
          0.573633932927998,
          0.5135290157471585,
          0.4024364371791748,
          0.5374919404464601,
          0.49870666220000787,
          0.4923795340445965,
          0.5515996828350926,
          0.488482933662591,
          0.5826815677283473,
          0.4821796629090731,
          0.4108504084287753,
          0.4792863026081285,
          0.5113911812964352,
          0.5221192113626549,
          0.4650929979736762,
          0.5039723308527595,
          0.47826671062667153,
          0.43790719920750715,
          0.43643201724275527,
          0.5840619963191604,
          0.5922981472913733,
          0.43527154648627797,
          0.4763096821144077,
          0.43697888417022446,
          0.5450967404055403,
          0.5139235222649722,
          0.5416940569269835,
          0.5266333408792234,
          0.517713773248133,
          0.57284404101159,
          0.5012934185525026,
          0.5142210092090403,
          0.5428967906939546,
          0.49164729835428717,
          0.4461970594620686,
          0.5224779217222361,
          0.5241030378028484,
          0.5051794614386522,
          0.4999706870953836,
          0.5224275787164941,
          0.5966769991657314,
          0.4366572121454608,
          0.5505537432005322,
          0.4449503959805159,
          0.5527246489347666,
          0.5634456349327847,
          0.5706523515110375,
          0.4657047451692685,
          0.4435278800230561,
          0.5205307527962,
          0.4778120035351855,
          0.5126458671352522,
          0.5333564513402683,
          0.42866129723318025,
          0.4943786054413712,
          0.5088118496815429,
          0.42617819031435034,
          0.47783546747878575,
          0.5437861956610485,
          0.4719260929148436,
          0.4385287460331974,
          0.5048153152364194,
          0.4205174461567253,
          0.5206929746908019,
          0.4259618770090387,
          0.398339705509404,
          0.554017910887385,
          0.5178215562060114,
          0.5196210001896197,
          0.567622163626063,
          0.4699714705417597,
          0.4875093404041234,
          0.5141181234928226,
          0.4544458314153804,
          0.5210104909927264,
          0.6067198853785659,
          0.4693156809712484,
          0.4568878714451042,
          0.6007203378987237,
          0.5599404482672863,
          0.527267414278659,
          0.519224401989294,
          0.5541676045417293,
          0.5240022068563664,
          0.4793960125677674,
          0.47353899338930416,
          0.4997753260777892,
          0.41377462235194984,
          0.519337641782189,
          0.47737253049870515,
          0.594674584920919,
          0.5484912666786491,
          0.5198297771126625,
          0.48499399749999017,
          0.4032854744771088,
          0.4739177097215425,
          0.5611639734350519,
          0.5092622069150681,
          0.5136768781020371,
          0.43255620031987085,
          0.5162931512896438,
          0.47986687460467237,
          0.533365988131446,
          0.42346739355031265,
          0.5380473967917492,
          0.39542647837349737,
          0.47580395063164616,
          0.5287461593443239,
          0.5855027427983559,
          0.46016538477414626,
          0.5259757880247989,
          0.46026517876893047,
          0.4890648191396992,
          0.5167302695666883,
          0.5558348345986418,
          0.6005402959777599,
          0.47904119308982074,
          0.5158578454186009,
          0.47540117356481737,
          0.5100527388403315,
          0.5301936877868273,
          0.45863002069192005,
          0.41622278473253493,
          0.4608746091716041,
          0.45570778586075866,
          0.48422107400850356,
          0.47127307066362073,
          0.5058651315380052,
          0.4789518591214899,
          0.48503551569980285,
          0.5112751877293235,
          0.48404886819110177,
          0.4380289900609257,
          0.5674873163347854,
          0.5178441330958253,
          0.471987206492658,
          0.4441321296641342,
          0.6090157241942077,
          0.5799295204863013,
          0.4343309804266899,
          0.44693214967465755,
          0.4338393335044167,
          0.5304833503692762,
          0.5129760520252149,
          0.4330045300482713,
          0.41491619484580256,
          0.5243627485367204,
          0.5107628154153215,
          0.6226597408836672,
          0.4745985148418161,
          0.5278343168370881,
          0.4367947267159621,
          0.43847761133344226,
          0.4435066174364111,
          0.5746717114964526,
          0.4473837635669775,
          0.52236990883264,
          0.41150411393013897,
          0.5123755935496672,
          0.4690010297203444,
          0.46161826886829554,
          0.5006675481432082,
          0.5212336923219181,
          0.5647245475652121,
          0.6214770555293933,
          0.5193249163388015,
          0.5500266317606822,
          0.5785603506209229,
          0.4708322183626785,
          0.493571217608648,
          0.5481549562119952,
          0.41829590305004855,
          0.5494751607165858,
          0.47156411910863627,
          0.45159487534736836,
          0.48391536493451126,
          0.5023594278292528,
          0.5126272738688353,
          0.43397191019944076,
          0.48115288326958966,
          0.4413539949104143,
          0.43683284290715346,
          0.52883710639297,
          0.5207172154290294,
          0.4854998183148304,
          0.4242746558645918,
          0.47336248446507556,
          0.5563555328386178,
          0.5597670787752135,
          0.5216207462982501,
          0.526947984030144,
          0.4863512723808725,
          0.4745420195809523,
          0.6295772803945545,
          0.5198654375246761,
          0.4571896727924175,
          0.5152541997504855,
          0.4859466520817058,
          0.4843678536248508,
          0.5415510288052607,
          0.5125237003747113,
          0.5504518900897021,
          0.49100013069473636,
          0.5114050896086009,
          0.5717162415370687,
          0.4382410536729534,
          0.4770119237733365,
          0.5277773736930625,
          0.5058595967645887,
          0.5050940532736792,
          0.5010438639083963,
          0.4995218637678261,
          0.49835696715778793,
          0.5010222400649865,
          0.49072883934898964,
          0.5082756680764868,
          0.4605706519841589,
          0.39987639928425556,
          0.4672638447116223,
          0.44512497594215655,
          0.38002462363955175,
          0.381671055862842,
          0.5833922775319897,
          0.5614613574992076,
          0.48529017985612183,
          0.5461262199634977,
          0.4699876480811638,
          0.538123277884915,
          0.578174194016634,
          0.5275503312430561,
          0.49473612994036303,
          0.44877327208195383,
          0.4800562669526683,
          0.5735646125256484,
          0.5416178027760513,
          0.48879119501741736,
          0.47270983316389353,
          0.5196110290319074,
          0.5484569317954092,
          0.5366843065218012,
          0.47886075880573886,
          0.46101655371888894,
          0.4893045335878425,
          0.45588613206078926,
          0.4355993776902399,
          0.5471248103133038,
          0.5092890405958349,
          0.4503890295607848,
          0.4580253591480323,
          0.49400227697867366,
          0.6100645789360363,
          0.5928206318403016,
          0.5568915796370904,
          0.5105884473507927,
          0.417542605813371,
          0.45848911019480576,
          0.45422634861501254,
          0.49247439568546075,
          0.5056982182806571,
          0.5581745694377477,
          0.44515669406166497,
          0.4711940473804626,
          0.4940591471423844,
          0.5107153774522007,
          0.5457503684753687,
          0.5063715865570699,
          0.5130979358263558,
          0.5433413358208392,
          0.4938314111476644,
          0.5131287668795197,
          0.5742541085543705,
          0.5160710225277197,
          0.5696403315687782,
          0.5505813629260633,
          0.5070949127175506,
          0.5048726896339952,
          0.4202031272195437,
          0.4633833125080208,
          0.4398828082104258,
          0.5367792014689524,
          0.45974658138517527,
          0.38025011263332315,
          0.4432682770682835,
          0.46836203842864027,
          0.5415032587161792,
          0.5473660455490993,
          0.4471351370870169,
          0.5073062514443386,
          0.5709165006182394,
          0.4914980090972018,
          0.6004242701514073,
          0.5694853140890929,
          0.4565238834785112,
          0.4958474171747049,
          0.514508730805939,
          0.5557135899284853,
          0.48033849336759926,
          0.5253816093522933,
          0.5068265908468984,
          0.5126454763469948,
          0.5414882985679212,
          0.44870209681821166,
          0.5326397069083668,
          0.5239097057300289,
          0.5621008880748954,
          0.45749287152745205,
          0.5001330803420998,
          0.5602394547748992,
          0.42172662096142083,
          0.5453663997067157,
          0.5404842309616712,
          0.44395357593564166,
          0.4876621451314029,
          0.49235300182017866,
          0.4544714051367988,
          0.4853411259282048,
          0.4951700568597246,
          0.4670933912650892,
          0.4528920623612696,
          0.4429555677488603,
          0.37750474778056076,
          0.46311527467839386,
          0.5473944808237965,
          0.4487776199188927,
          0.4888034840913759,
          0.5861560187703211,
          0.432818130192425,
          0.47836897769072145,
          0.4573586054362751,
          0.5194461596563523,
          0.495982363419248,
          0.4484403541067762,
          0.46677664720780104,
          0.4987588691149595,
          0.5001188112341913,
          0.5954454835515013,
          0.5933261450412132,
          0.612054335908182,
          0.4588422449355523,
          0.5411594771782223,
          0.5413531400589267,
          0.5680329565551477,
          0.4882903598119958,
          0.5602438076691078,
          0.48984445338608545,
          0.46998350959221497,
          0.4975435864936657,
          0.41346200551211015,
          0.44222425626767253,
          0.599252490081821,
          0.4469581043349135,
          0.5428460524633147,
          0.5193309052293165,
          0.46420592596079957,
          0.402907795164317,
          0.5416364019939778,
          0.42962676335581285,
          0.4395789255553821,
          0.3790968827806995,
          0.4455524941996344,
          0.46107180242344875,
          0.4662233838445199,
          0.4985455672855147,
          0.4969166857854557,
          0.5023189016093821,
          0.4576389778203305,
          0.510478278349962,
          0.5013779232340203,
          0.5214668164573647,
          0.5535471604347332,
          0.5978174643857166,
          0.3897030722332576,
          0.5421296517690543,
          0.5457449024142058,
          0.5480825918640991,
          0.49464399333927256,
          0.4305462826038343,
          0.5332464876796588,
          0.5178123161905295,
          0.3898837778693305,
          0.4517773340679351,
          0.4653932431030854,
          0.44541898491135806,
          0.4486193756350259,
          0.5239823357597118,
          0.435332314302756,
          0.5820674980838013,
          0.5204169636154158,
          0.5745449728639146,
          0.49206221650562315,
          0.4664671549567222,
          0.5419104303167017,
          0.5197592102783523,
          0.5098648749545537,
          0.5030544050482039,
          0.4638491827484673,
          0.5318928371471462,
          0.6201941341821847,
          0.43717717003345347,
          0.5227823828430276,
          0.4887272539999717,
          0.4647280775174597,
          0.48798251630629075,
          0.47856751975110656,
          0.44861429627225435,
          0.5360481168182127,
          0.5456654654854409,
          0.48704304350283417,
          0.4383964108586235,
          0.48914669996258436,
          0.5733514059808295,
          0.536433878396649,
          0.4296074607998063,
          0.5252805290598215,
          0.468136014335871,
          0.5047336310279094,
          0.5479259243574108,
          0.5232471947376409,
          0.5018439160214103,
          0.6181172990289242,
          0.5020081468134706,
          0.5217545649958294,
          0.5811819408263815,
          0.4954087717010584,
          0.584438997615761,
          0.6122985769748729,
          0.6354397851438853,
          0.5267398471660372,
          0.518040002632997,
          0.40425471019287346,
          0.580262686468974,
          0.46186521350893306,
          0.3671453667725015,
          0.5200030263927926,
          0.41221409046630525,
          0.5188547610729692,
          0.41648728081882747,
          0.5073360097331459,
          0.622476451279032,
          0.4413111509293158,
          0.5087009703431925,
          0.5441530814145518,
          0.5693983997993902,
          0.560137610745787,
          0.4673147336651683,
          0.5322613020395719,
          0.5203700773389186,
          0.4932752293811898,
          0.43221924836445935,
          0.45859962902701307,
          0.4228818403909191,
          0.5686949437945958,
          0.55999920862153,
          0.5515464585185336,
          0.5256372349205061,
          0.40699063338788116,
          0.502958512229108,
          0.5416984162414228,
          0.47353025565482065,
          0.42860383775789124,
          0.5016303006953894,
          0.5090608278224487,
          0.5339461805153607,
          0.4800705178554634,
          0.5390825475000969,
          0.5606828828193366,
          0.6187532729299491,
          0.47642001116740107,
          0.5695878132560858,
          0.5169640802771368,
          0.5835475340779167,
          0.5279359702800427,
          0.5357957686649875,
          0.44384896953187053,
          0.34717464972689577,
          0.5582571922644842,
          0.49249130824115767,
          0.5532509483862721,
          0.3467386199417287,
          0.4633523265418073,
          0.4590544083433518,
          0.4833939376755579,
          0.5165632312453545,
          0.4981955432086934,
          0.490270001934145,
          0.4588716822945914,
          0.5174755442520925,
          0.570982555283993,
          0.4843239676404253,
          0.4320404335100458,
          0.4972691502555462,
          0.45407955934438937,
          0.5131524522796425,
          0.4795097144632834,
          0.3578102904195381,
          0.5016953209602532,
          0.4798047512080045,
          0.46924124625931474,
          0.6031367210993701,
          0.5407748968251471,
          0.5381122235082154,
          0.3977390972172792,
          0.45602816753277003,
          0.4455915986993028,
          0.5722942245563929,
          0.5163644981841293,
          0.48336340374520664,
          0.5058558049896912,
          0.5109343307404288,
          0.5472858051054453,
          0.4999115806529989,
          0.4578833336512718,
          0.53696001752298,
          0.5372086617913339,
          0.4521550941670035,
          0.472228829212033,
          0.3926794833782706,
          0.5171175057076794,
          0.44988920378739194,
          0.5182341983975671,
          0.5097589765361991,
          0.5440279148647539,
          0.39757014311155925,
          0.49296911607340516,
          0.49978022929053806,
          0.5749389141968536,
          0.5451263232438301,
          0.4717763331586273,
          0.5523382279489466,
          0.5137243460782952,
          0.5158194444101684,
          0.5135228153486762,
          0.49656646051214687,
          0.4904731551375755,
          0.5722953503043219,
          0.5382920123065819,
          0.48180757314500905,
          0.4324571156670385,
          0.5154780645041883,
          0.48876882260599924,
          0.590932669936993,
          0.4210608240133696,
          0.4619103810137576,
          0.4760063296358431,
          0.47227320059552486,
          0.48575837461569343,
          0.4434223662414965,
          0.3639997302808332,
          0.4798718362632395,
          0.47126108649920684,
          0.5512833959333602,
          0.4325165943775076,
          0.4437617106721263,
          0.3905935743520699,
          0.5231295974876606,
          0.4606063786083892,
          0.49150645128979076,
          0.4142840770541998,
          0.44670184636035093,
          0.5546598961071576,
          0.5438097393096848,
          0.45123383352209084,
          0.5359355868155526,
          0.42112631900387676,
          0.5068760280046406,
          0.46643586221066236,
          0.44409976915339516,
          0.461775752209086,
          0.5168354110529947,
          0.43195455618972245,
          0.6373953900452443,
          0.5400551499151425,
          0.47533536403809695,
          0.48537197248704583,
          0.5580701797791924,
          0.4660073427778554,
          0.5536725334076553,
          0.5812496813994621,
          0.39982403841915853,
          0.5106637745149483,
          0.5414257463161318,
          0.569343698515049,
          0.4983379208819063,
          0.5428946448626921,
          0.5461505643406876,
          0.5191712799299821,
          0.48178395202146196,
          0.5647804745860615,
          0.570996875594009,
          0.5164214055373043,
          0.5948827844355408,
          0.5485962164509004,
          0.47489298679751396,
          0.5361670269565381,
          0.5579929848462346,
          0.5543632871702268,
          0.47574216241063066,
          0.47768392066565946,
          0.5302532048073728,
          0.43822598944548913,
          0.5175079846434971,
          0.5115499795481927,
          0.5295137644450256,
          0.5771658983530066,
          0.4782769894517973,
          0.557751335499843,
          0.6047549892711702,
          0.5431008749483924,
          0.4729519589646214,
          0.47756156167826025,
          0.4470575263133669,
          0.5736829992028276,
          0.5535310273937697,
          0.4944783001506309,
          0.4921780095993937,
          0.4470217740487436,
          0.45431778305136983,
          0.47354152147061684,
          0.5450518897800082,
          0.4709258189879882,
          0.505283221496813,
          0.4570014022247546,
          0.4701081799810621,
          0.5137450176449762,
          0.48209613137704166,
          0.5024130136409206,
          0.4776195571808238,
          0.5268874779146443,
          0.41926300842338465,
          0.5146514898581053,
          0.5090072163017539,
          0.4702877037410722,
          0.4799194883744191,
          0.4980792192470517,
          0.5281027679749775,
          0.47362555102046067,
          0.39493368412994456,
          0.5325638764822537,
          0.470402817544527,
          0.4664769629515738,
          0.5561108099166059,
          0.4900128751858206,
          0.4921015208906489,
          0.5146677454775347,
          0.5218638986517544,
          0.6280101606400701,
          0.513991705457856,
          0.4235566031709015,
          0.6002093260203696,
          0.5195174802183837,
          0.48949987000775175,
          0.51776212758809,
          0.5372378453398144,
          0.46471680009592425,
          0.5703806687770846,
          0.577931767493577,
          0.47358713991275303,
          0.5112854061588475,
          0.5010827693195897,
          0.5204922987406749,
          0.3983330559993295,
          0.4592217847302501,
          0.5225495729283591,
          0.4951063469266423,
          0.501487369252381,
          0.5079949402579502,
          0.467006664844768,
          0.4717341376006947,
          0.5349198461663961,
          0.4593174392159414,
          0.450662749981747,
          0.48825235532309247,
          0.41882691391602733,
          0.4845646575635146,
          0.5219124950277613,
          0.5307601387796432,
          0.4807353180279039,
          0.468910824324123,
          0.5750480714723408,
          0.5115009625450416,
          0.44944901437865814,
          0.5676267432820832,
          0.5198866908734289,
          0.4109741226337307,
          0.4258297717969301,
          0.451578392276915,
          0.5003083431084822,
          0.4656316510518088,
          0.5460567779292816,
          0.4559173637411141,
          0.5669428697150726,
          0.4756346965704044,
          0.5116819426776155,
          0.48630557377074485,
          0.4925705942663083,
          0.510348320903221,
          0.5939456157405545,
          0.5609218044287657,
          0.5574947070671655,
          0.47734295974695323,
          0.3669911644502795,
          0.5154603603035816,
          0.561781791622805,
          0.4946305379635104,
          0.6124402450485298,
          0.5326810739488914,
          0.5316404817170015,
          0.4220919970631228,
          0.4808592323288306,
          0.547685828992506,
          0.5130178178505804,
          0.5116038463624066,
          0.5120763311855334,
          0.5718058832590881,
          0.53075453904229,
          0.4731878875547595,
          0.47400147989753116,
          0.414004359977549
         ],
         "xaxis": "x",
         "y": [
          1,
          1,
          1,
          1,
          1,
          1,
          1,
          1,
          1,
          1,
          1,
          1,
          1,
          1,
          1,
          1,
          1,
          1,
          1,
          1,
          1,
          1,
          1,
          1,
          1,
          1,
          1,
          1,
          1,
          1,
          1,
          1,
          1,
          1,
          1,
          1,
          1,
          1,
          1,
          1,
          1,
          1,
          1,
          1,
          1,
          1,
          1,
          1,
          1,
          1,
          1,
          1,
          1,
          1,
          1,
          1,
          1,
          1,
          1,
          1,
          1,
          1,
          1,
          1,
          1,
          1,
          1,
          1,
          1,
          1,
          1,
          1,
          1,
          1,
          1,
          1,
          1,
          1,
          1,
          1,
          1,
          1,
          1,
          1,
          1,
          1,
          1,
          1,
          1,
          1,
          1,
          1,
          1,
          1,
          1,
          1,
          1,
          1,
          1,
          1,
          1,
          1,
          1,
          1,
          1,
          1,
          1,
          1,
          1,
          1,
          1,
          1,
          1,
          1,
          1,
          1,
          1,
          1,
          1,
          1,
          1,
          1,
          1,
          1,
          1,
          1,
          1,
          1,
          1,
          1,
          1,
          1,
          1,
          1,
          1,
          1,
          1,
          1,
          1,
          1,
          1,
          1,
          1,
          1,
          1,
          1,
          1,
          1,
          1,
          1,
          1,
          1,
          1,
          1,
          1,
          1,
          1,
          1,
          1,
          1,
          1,
          1,
          1,
          1,
          1,
          1,
          1,
          1,
          1,
          1,
          1,
          1,
          1,
          1,
          1,
          1,
          1,
          1,
          1,
          1,
          1,
          1,
          1,
          1,
          1,
          1,
          1,
          1,
          1,
          1,
          1,
          1,
          1,
          1,
          1,
          1,
          1,
          1,
          1,
          1,
          1,
          1,
          1,
          1,
          1,
          1,
          1,
          1,
          1,
          1,
          1,
          1,
          1,
          1,
          1,
          1,
          1,
          1,
          1,
          1,
          1,
          1,
          1,
          1,
          1,
          1,
          1,
          1,
          1,
          1,
          1,
          1,
          1,
          1,
          1,
          1,
          1,
          1,
          1,
          1,
          1,
          1,
          1,
          1,
          1,
          1,
          1,
          1,
          1,
          1,
          1,
          1,
          1,
          1,
          1,
          1,
          1,
          1,
          1,
          1,
          1,
          1,
          1,
          1,
          1,
          1,
          1,
          1,
          1,
          1,
          1,
          1,
          1,
          1,
          1,
          1,
          1,
          1,
          1,
          1,
          1,
          1,
          1,
          1,
          1,
          1,
          1,
          1,
          1,
          1,
          1,
          1,
          1,
          1,
          1,
          1,
          1,
          1,
          1,
          1,
          1,
          1,
          1,
          1,
          1,
          1,
          1,
          1,
          1,
          1,
          1,
          1,
          1,
          1,
          1,
          1,
          1,
          1,
          1,
          1,
          1,
          1,
          1,
          1,
          1,
          1,
          1,
          1,
          1,
          1,
          1,
          1,
          1,
          1,
          1,
          1,
          1,
          1,
          1,
          1,
          1,
          1,
          1,
          1,
          1,
          1,
          1,
          1,
          1,
          1,
          1,
          1,
          1,
          1,
          1,
          1,
          1,
          1,
          1,
          1,
          1,
          1,
          1,
          1,
          1,
          1,
          1,
          1,
          1,
          1,
          1,
          1,
          1,
          1,
          1,
          1,
          1,
          1,
          1,
          1,
          1,
          1,
          1,
          1,
          1,
          1,
          1,
          1,
          1,
          1,
          1,
          1,
          1,
          1,
          1,
          1,
          1,
          1,
          1,
          1,
          1,
          1,
          1,
          1,
          1,
          1,
          1,
          1,
          1,
          1,
          1,
          1,
          1,
          1,
          1,
          1,
          1,
          1,
          1,
          1,
          1,
          1,
          1,
          1,
          1,
          1,
          1,
          1,
          1,
          1,
          1,
          1,
          1,
          1,
          1,
          1,
          1,
          1,
          1,
          1,
          1,
          1,
          1,
          1,
          1,
          1,
          1,
          1,
          1,
          1,
          1,
          1,
          1,
          1,
          1,
          1,
          1,
          1,
          1,
          1,
          1,
          1,
          1,
          1,
          1,
          1,
          1,
          1,
          1,
          1,
          1,
          1,
          1,
          1,
          1,
          1,
          1,
          1,
          1,
          1,
          1,
          1,
          1,
          1,
          1,
          1,
          1,
          1,
          1,
          1,
          1,
          1,
          1,
          1,
          1,
          1,
          1,
          1,
          1,
          1,
          1,
          1,
          1,
          1,
          1,
          1,
          1,
          1,
          1,
          1,
          1,
          1,
          1,
          1,
          1,
          1,
          1,
          1,
          1,
          1,
          1,
          1,
          1,
          1,
          1,
          1,
          1,
          1,
          1,
          1,
          1,
          1,
          1,
          1,
          1,
          1,
          1,
          1,
          1,
          1,
          1,
          1,
          1,
          1,
          1,
          1,
          1,
          1,
          1,
          1,
          1,
          1,
          1,
          1,
          1,
          1,
          1,
          1,
          1,
          1,
          1,
          1,
          1,
          1,
          1,
          1,
          1,
          1,
          1,
          1,
          1,
          1,
          1,
          1,
          1,
          1,
          1,
          1,
          1,
          1,
          1,
          1,
          1,
          1,
          1,
          1,
          1,
          1,
          1,
          1,
          1,
          1,
          1,
          1,
          1,
          1,
          1,
          1,
          1,
          1,
          1,
          1,
          1,
          1,
          1,
          1,
          1,
          1,
          1,
          1,
          1,
          1,
          1,
          1,
          1,
          1,
          1,
          1,
          1,
          1,
          1,
          1,
          1,
          1,
          1,
          1,
          1,
          1,
          1,
          1,
          1,
          1,
          1,
          1,
          1,
          1,
          1,
          1,
          1,
          1,
          1,
          1,
          1,
          1,
          1,
          1,
          1,
          1,
          1,
          1,
          1,
          1,
          1,
          1,
          1,
          1,
          1,
          1,
          1,
          1,
          1,
          1,
          1,
          1,
          1,
          1,
          1,
          1,
          1,
          1,
          1,
          1,
          1,
          1,
          1,
          1,
          1,
          1,
          1,
          1,
          1,
          1,
          1,
          1,
          1,
          1,
          1,
          1,
          1,
          1,
          1,
          1,
          1,
          1,
          1,
          1,
          1,
          1,
          1,
          1,
          1,
          1,
          1,
          1,
          1,
          1,
          1,
          1,
          1,
          1,
          1,
          1,
          1,
          1,
          1,
          1,
          1,
          1,
          1,
          1,
          1,
          1,
          1,
          1,
          1,
          1,
          1,
          1,
          1,
          1,
          1,
          1,
          1,
          1,
          1,
          1,
          1,
          1,
          1,
          1,
          1,
          1,
          1,
          1,
          1,
          1,
          1,
          1,
          1,
          1,
          1,
          1,
          1,
          1,
          1,
          1,
          1,
          1,
          1,
          1,
          1,
          1,
          1,
          1,
          1,
          1,
          1,
          1,
          1,
          1,
          1,
          1,
          1,
          1,
          1,
          1,
          1,
          1,
          1,
          1,
          1,
          1,
          1,
          1,
          1,
          1,
          1,
          1,
          1,
          1,
          1,
          1,
          1,
          1,
          1,
          1,
          1,
          1,
          1,
          1,
          1,
          1,
          1,
          1,
          1,
          1,
          1,
          1,
          1,
          1,
          1,
          1,
          1,
          1,
          1,
          1,
          1,
          1,
          1,
          1,
          1,
          1,
          1,
          1,
          1,
          1,
          1,
          1,
          1,
          1,
          1,
          1,
          1,
          1,
          1,
          1,
          1,
          1,
          1,
          1,
          1,
          1,
          1,
          1,
          1,
          1,
          1,
          1,
          1,
          1,
          1,
          1,
          1,
          1,
          1,
          1,
          1,
          1,
          1,
          1,
          1,
          1,
          1,
          1,
          1,
          1,
          1,
          1,
          1,
          1,
          1,
          1,
          1,
          1,
          1,
          1,
          1,
          1,
          1,
          1,
          1,
          1,
          1,
          1,
          1,
          1,
          1,
          1,
          1,
          1,
          1,
          1,
          1,
          1,
          1,
          1,
          1,
          1,
          1,
          1,
          1,
          1,
          1,
          1,
          1,
          1,
          1,
          1,
          1,
          1,
          1,
          1,
          1,
          1,
          1,
          1,
          1,
          1,
          1,
          1,
          1,
          1,
          1,
          1,
          1,
          1,
          1,
          1,
          1,
          1,
          1,
          1,
          1,
          1,
          1,
          1,
          1,
          1,
          1,
          1,
          1,
          1,
          1,
          1,
          1,
          1,
          1,
          1,
          1,
          1,
          1,
          1,
          1,
          1,
          1,
          1,
          1,
          1,
          1,
          1,
          1,
          1,
          1,
          1,
          1,
          1,
          1,
          1,
          1,
          1,
          1,
          1,
          1,
          1,
          1,
          1,
          1,
          1,
          1,
          1,
          1,
          1,
          1,
          1,
          1,
          1,
          1,
          1,
          1,
          1,
          1,
          1,
          1,
          1,
          1,
          1,
          1,
          1,
          1,
          1
         ],
         "yaxis": "y"
        }
       ],
       "layout": {
        "barmode": "relative",
        "legend": {
         "tracegroupgap": 0
        },
        "margin": {
         "t": 60
        },
        "template": {
         "data": {
          "bar": [
           {
            "error_x": {
             "color": "#2a3f5f"
            },
            "error_y": {
             "color": "#2a3f5f"
            },
            "marker": {
             "line": {
              "color": "#E5ECF6",
              "width": 0.5
             },
             "pattern": {
              "fillmode": "overlay",
              "size": 10,
              "solidity": 0.2
             }
            },
            "type": "bar"
           }
          ],
          "barpolar": [
           {
            "marker": {
             "line": {
              "color": "#E5ECF6",
              "width": 0.5
             },
             "pattern": {
              "fillmode": "overlay",
              "size": 10,
              "solidity": 0.2
             }
            },
            "type": "barpolar"
           }
          ],
          "carpet": [
           {
            "aaxis": {
             "endlinecolor": "#2a3f5f",
             "gridcolor": "white",
             "linecolor": "white",
             "minorgridcolor": "white",
             "startlinecolor": "#2a3f5f"
            },
            "baxis": {
             "endlinecolor": "#2a3f5f",
             "gridcolor": "white",
             "linecolor": "white",
             "minorgridcolor": "white",
             "startlinecolor": "#2a3f5f"
            },
            "type": "carpet"
           }
          ],
          "choropleth": [
           {
            "colorbar": {
             "outlinewidth": 0,
             "ticks": ""
            },
            "type": "choropleth"
           }
          ],
          "contour": [
           {
            "colorbar": {
             "outlinewidth": 0,
             "ticks": ""
            },
            "colorscale": [
             [
              0,
              "#0d0887"
             ],
             [
              0.1111111111111111,
              "#46039f"
             ],
             [
              0.2222222222222222,
              "#7201a8"
             ],
             [
              0.3333333333333333,
              "#9c179e"
             ],
             [
              0.4444444444444444,
              "#bd3786"
             ],
             [
              0.5555555555555556,
              "#d8576b"
             ],
             [
              0.6666666666666666,
              "#ed7953"
             ],
             [
              0.7777777777777778,
              "#fb9f3a"
             ],
             [
              0.8888888888888888,
              "#fdca26"
             ],
             [
              1,
              "#f0f921"
             ]
            ],
            "type": "contour"
           }
          ],
          "contourcarpet": [
           {
            "colorbar": {
             "outlinewidth": 0,
             "ticks": ""
            },
            "type": "contourcarpet"
           }
          ],
          "heatmap": [
           {
            "colorbar": {
             "outlinewidth": 0,
             "ticks": ""
            },
            "colorscale": [
             [
              0,
              "#0d0887"
             ],
             [
              0.1111111111111111,
              "#46039f"
             ],
             [
              0.2222222222222222,
              "#7201a8"
             ],
             [
              0.3333333333333333,
              "#9c179e"
             ],
             [
              0.4444444444444444,
              "#bd3786"
             ],
             [
              0.5555555555555556,
              "#d8576b"
             ],
             [
              0.6666666666666666,
              "#ed7953"
             ],
             [
              0.7777777777777778,
              "#fb9f3a"
             ],
             [
              0.8888888888888888,
              "#fdca26"
             ],
             [
              1,
              "#f0f921"
             ]
            ],
            "type": "heatmap"
           }
          ],
          "heatmapgl": [
           {
            "colorbar": {
             "outlinewidth": 0,
             "ticks": ""
            },
            "colorscale": [
             [
              0,
              "#0d0887"
             ],
             [
              0.1111111111111111,
              "#46039f"
             ],
             [
              0.2222222222222222,
              "#7201a8"
             ],
             [
              0.3333333333333333,
              "#9c179e"
             ],
             [
              0.4444444444444444,
              "#bd3786"
             ],
             [
              0.5555555555555556,
              "#d8576b"
             ],
             [
              0.6666666666666666,
              "#ed7953"
             ],
             [
              0.7777777777777778,
              "#fb9f3a"
             ],
             [
              0.8888888888888888,
              "#fdca26"
             ],
             [
              1,
              "#f0f921"
             ]
            ],
            "type": "heatmapgl"
           }
          ],
          "histogram": [
           {
            "marker": {
             "pattern": {
              "fillmode": "overlay",
              "size": 10,
              "solidity": 0.2
             }
            },
            "type": "histogram"
           }
          ],
          "histogram2d": [
           {
            "colorbar": {
             "outlinewidth": 0,
             "ticks": ""
            },
            "colorscale": [
             [
              0,
              "#0d0887"
             ],
             [
              0.1111111111111111,
              "#46039f"
             ],
             [
              0.2222222222222222,
              "#7201a8"
             ],
             [
              0.3333333333333333,
              "#9c179e"
             ],
             [
              0.4444444444444444,
              "#bd3786"
             ],
             [
              0.5555555555555556,
              "#d8576b"
             ],
             [
              0.6666666666666666,
              "#ed7953"
             ],
             [
              0.7777777777777778,
              "#fb9f3a"
             ],
             [
              0.8888888888888888,
              "#fdca26"
             ],
             [
              1,
              "#f0f921"
             ]
            ],
            "type": "histogram2d"
           }
          ],
          "histogram2dcontour": [
           {
            "colorbar": {
             "outlinewidth": 0,
             "ticks": ""
            },
            "colorscale": [
             [
              0,
              "#0d0887"
             ],
             [
              0.1111111111111111,
              "#46039f"
             ],
             [
              0.2222222222222222,
              "#7201a8"
             ],
             [
              0.3333333333333333,
              "#9c179e"
             ],
             [
              0.4444444444444444,
              "#bd3786"
             ],
             [
              0.5555555555555556,
              "#d8576b"
             ],
             [
              0.6666666666666666,
              "#ed7953"
             ],
             [
              0.7777777777777778,
              "#fb9f3a"
             ],
             [
              0.8888888888888888,
              "#fdca26"
             ],
             [
              1,
              "#f0f921"
             ]
            ],
            "type": "histogram2dcontour"
           }
          ],
          "mesh3d": [
           {
            "colorbar": {
             "outlinewidth": 0,
             "ticks": ""
            },
            "type": "mesh3d"
           }
          ],
          "parcoords": [
           {
            "line": {
             "colorbar": {
              "outlinewidth": 0,
              "ticks": ""
             }
            },
            "type": "parcoords"
           }
          ],
          "pie": [
           {
            "automargin": true,
            "type": "pie"
           }
          ],
          "scatter": [
           {
            "fillpattern": {
             "fillmode": "overlay",
             "size": 10,
             "solidity": 0.2
            },
            "type": "scatter"
           }
          ],
          "scatter3d": [
           {
            "line": {
             "colorbar": {
              "outlinewidth": 0,
              "ticks": ""
             }
            },
            "marker": {
             "colorbar": {
              "outlinewidth": 0,
              "ticks": ""
             }
            },
            "type": "scatter3d"
           }
          ],
          "scattercarpet": [
           {
            "marker": {
             "colorbar": {
              "outlinewidth": 0,
              "ticks": ""
             }
            },
            "type": "scattercarpet"
           }
          ],
          "scattergeo": [
           {
            "marker": {
             "colorbar": {
              "outlinewidth": 0,
              "ticks": ""
             }
            },
            "type": "scattergeo"
           }
          ],
          "scattergl": [
           {
            "marker": {
             "colorbar": {
              "outlinewidth": 0,
              "ticks": ""
             }
            },
            "type": "scattergl"
           }
          ],
          "scattermapbox": [
           {
            "marker": {
             "colorbar": {
              "outlinewidth": 0,
              "ticks": ""
             }
            },
            "type": "scattermapbox"
           }
          ],
          "scatterpolar": [
           {
            "marker": {
             "colorbar": {
              "outlinewidth": 0,
              "ticks": ""
             }
            },
            "type": "scatterpolar"
           }
          ],
          "scatterpolargl": [
           {
            "marker": {
             "colorbar": {
              "outlinewidth": 0,
              "ticks": ""
             }
            },
            "type": "scatterpolargl"
           }
          ],
          "scatterternary": [
           {
            "marker": {
             "colorbar": {
              "outlinewidth": 0,
              "ticks": ""
             }
            },
            "type": "scatterternary"
           }
          ],
          "surface": [
           {
            "colorbar": {
             "outlinewidth": 0,
             "ticks": ""
            },
            "colorscale": [
             [
              0,
              "#0d0887"
             ],
             [
              0.1111111111111111,
              "#46039f"
             ],
             [
              0.2222222222222222,
              "#7201a8"
             ],
             [
              0.3333333333333333,
              "#9c179e"
             ],
             [
              0.4444444444444444,
              "#bd3786"
             ],
             [
              0.5555555555555556,
              "#d8576b"
             ],
             [
              0.6666666666666666,
              "#ed7953"
             ],
             [
              0.7777777777777778,
              "#fb9f3a"
             ],
             [
              0.8888888888888888,
              "#fdca26"
             ],
             [
              1,
              "#f0f921"
             ]
            ],
            "type": "surface"
           }
          ],
          "table": [
           {
            "cells": {
             "fill": {
              "color": "#EBF0F8"
             },
             "line": {
              "color": "white"
             }
            },
            "header": {
             "fill": {
              "color": "#C8D4E3"
             },
             "line": {
              "color": "white"
             }
            },
            "type": "table"
           }
          ]
         },
         "layout": {
          "annotationdefaults": {
           "arrowcolor": "#2a3f5f",
           "arrowhead": 0,
           "arrowwidth": 1
          },
          "autotypenumbers": "strict",
          "coloraxis": {
           "colorbar": {
            "outlinewidth": 0,
            "ticks": ""
           }
          },
          "colorscale": {
           "diverging": [
            [
             0,
             "#8e0152"
            ],
            [
             0.1,
             "#c51b7d"
            ],
            [
             0.2,
             "#de77ae"
            ],
            [
             0.3,
             "#f1b6da"
            ],
            [
             0.4,
             "#fde0ef"
            ],
            [
             0.5,
             "#f7f7f7"
            ],
            [
             0.6,
             "#e6f5d0"
            ],
            [
             0.7,
             "#b8e186"
            ],
            [
             0.8,
             "#7fbc41"
            ],
            [
             0.9,
             "#4d9221"
            ],
            [
             1,
             "#276419"
            ]
           ],
           "sequential": [
            [
             0,
             "#0d0887"
            ],
            [
             0.1111111111111111,
             "#46039f"
            ],
            [
             0.2222222222222222,
             "#7201a8"
            ],
            [
             0.3333333333333333,
             "#9c179e"
            ],
            [
             0.4444444444444444,
             "#bd3786"
            ],
            [
             0.5555555555555556,
             "#d8576b"
            ],
            [
             0.6666666666666666,
             "#ed7953"
            ],
            [
             0.7777777777777778,
             "#fb9f3a"
            ],
            [
             0.8888888888888888,
             "#fdca26"
            ],
            [
             1,
             "#f0f921"
            ]
           ],
           "sequentialminus": [
            [
             0,
             "#0d0887"
            ],
            [
             0.1111111111111111,
             "#46039f"
            ],
            [
             0.2222222222222222,
             "#7201a8"
            ],
            [
             0.3333333333333333,
             "#9c179e"
            ],
            [
             0.4444444444444444,
             "#bd3786"
            ],
            [
             0.5555555555555556,
             "#d8576b"
            ],
            [
             0.6666666666666666,
             "#ed7953"
            ],
            [
             0.7777777777777778,
             "#fb9f3a"
            ],
            [
             0.8888888888888888,
             "#fdca26"
            ],
            [
             1,
             "#f0f921"
            ]
           ]
          },
          "colorway": [
           "#636efa",
           "#EF553B",
           "#00cc96",
           "#ab63fa",
           "#FFA15A",
           "#19d3f3",
           "#FF6692",
           "#B6E880",
           "#FF97FF",
           "#FECB52"
          ],
          "font": {
           "color": "#2a3f5f"
          },
          "geo": {
           "bgcolor": "white",
           "lakecolor": "white",
           "landcolor": "#E5ECF6",
           "showlakes": true,
           "showland": true,
           "subunitcolor": "white"
          },
          "hoverlabel": {
           "align": "left"
          },
          "hovermode": "closest",
          "mapbox": {
           "style": "light"
          },
          "paper_bgcolor": "white",
          "plot_bgcolor": "#E5ECF6",
          "polar": {
           "angularaxis": {
            "gridcolor": "white",
            "linecolor": "white",
            "ticks": ""
           },
           "bgcolor": "#E5ECF6",
           "radialaxis": {
            "gridcolor": "white",
            "linecolor": "white",
            "ticks": ""
           }
          },
          "scene": {
           "xaxis": {
            "backgroundcolor": "#E5ECF6",
            "gridcolor": "white",
            "gridwidth": 2,
            "linecolor": "white",
            "showbackground": true,
            "ticks": "",
            "zerolinecolor": "white"
           },
           "yaxis": {
            "backgroundcolor": "#E5ECF6",
            "gridcolor": "white",
            "gridwidth": 2,
            "linecolor": "white",
            "showbackground": true,
            "ticks": "",
            "zerolinecolor": "white"
           },
           "zaxis": {
            "backgroundcolor": "#E5ECF6",
            "gridcolor": "white",
            "gridwidth": 2,
            "linecolor": "white",
            "showbackground": true,
            "ticks": "",
            "zerolinecolor": "white"
           }
          },
          "shapedefaults": {
           "line": {
            "color": "#2a3f5f"
           }
          },
          "ternary": {
           "aaxis": {
            "gridcolor": "white",
            "linecolor": "white",
            "ticks": ""
           },
           "baxis": {
            "gridcolor": "white",
            "linecolor": "white",
            "ticks": ""
           },
           "bgcolor": "#E5ECF6",
           "caxis": {
            "gridcolor": "white",
            "linecolor": "white",
            "ticks": ""
           }
          },
          "title": {
           "x": 0.05
          },
          "xaxis": {
           "automargin": true,
           "gridcolor": "white",
           "linecolor": "white",
           "ticks": "",
           "title": {
            "standoff": 15
           },
           "zerolinecolor": "white",
           "zerolinewidth": 2
          },
          "yaxis": {
           "automargin": true,
           "gridcolor": "white",
           "linecolor": "white",
           "ticks": "",
           "title": {
            "standoff": 15
           },
           "zerolinecolor": "white",
           "zerolinewidth": 2
          }
         }
        },
        "xaxis": {
         "anchor": "y",
         "domain": [
          0,
          1
         ],
         "title": {
          "text": "x"
         }
        },
        "yaxis": {
         "anchor": "x",
         "domain": [
          0,
          1
         ],
         "title": {
          "text": "sum of y"
         }
        }
       }
      },
      "text/html": [
       "<div>                            <div id=\"91f27b5d-369f-4beb-a5e1-0004aea28a18\" class=\"plotly-graph-div\" style=\"height:525px; width:100%;\"></div>            <script type=\"text/javascript\">                require([\"plotly\"], function(Plotly) {                    window.PLOTLYENV=window.PLOTLYENV || {};                                    if (document.getElementById(\"91f27b5d-369f-4beb-a5e1-0004aea28a18\")) {                    Plotly.newPlot(                        \"91f27b5d-369f-4beb-a5e1-0004aea28a18\",                        [{\"alignmentgroup\":\"True\",\"bingroup\":\"x\",\"histfunc\":\"sum\",\"hovertemplate\":\"x=%{x}\\u003cbr\\u003esum of y=%{y}\\u003cextra\\u003e\\u003c\\u002fextra\\u003e\",\"legendgroup\":\"\",\"marker\":{\"color\":\"#636efa\",\"pattern\":{\"shape\":\"\"}},\"name\":\"\",\"nbinsx\":20,\"offsetgroup\":\"\",\"orientation\":\"v\",\"showlegend\":false,\"x\":[0.48503430020589966,0.5824599825764581,0.5791992058814581,0.4380801844508154,0.47746351059073683,0.48955067933091495,0.44935450205391286,0.5233474228205399,0.553314420215292,0.5244892415688066,0.5453015920436749,0.4756858362563192,0.43384770266389255,0.5817527027063519,0.5021367706403763,0.5531225581595285,0.49523831748754715,0.5615183780758037,0.431672048626748,0.5301205675248257,0.5454894703357318,0.47534569635946333,0.5525211939120801,0.4774798823893304,0.38638525085189146,0.510965978782033,0.44865659035529476,0.5963358780939932,0.4746245341295361,0.4959818126111276,0.5483381585582271,0.4784908021924988,0.5076853738072445,0.565764197799854,0.49691044685483554,0.5876582099529706,0.48301078019577837,0.5035016070181842,0.5594849745347181,0.507216271538735,0.4336433116827606,0.5248734302832092,0.4749716408064535,0.48992548171670725,0.5063640038480068,0.4652802369928944,0.4607965444288377,0.5519469651500866,0.4387816030182418,0.4708337240404314,0.5017288045332041,0.5417428323877569,0.4349019060343597,0.49068486422165564,0.5392354258904882,0.554053513867332,0.5269209598278296,0.4464209884245444,0.5364158393622637,0.5188427782570256,0.5267822606509533,0.5190661036958061,0.5024887246426764,0.5243247388832643,0.4451334241004232,0.4825594847105845,0.45881639627763676,0.5718716042878987,0.42851621981445437,0.4811290869372033,0.5669459451841067,0.5620070998762305,0.48705042776657737,0.484366678860497,0.4648205923378327,0.4588862177262686,0.48500396290386594,0.5432319839934187,0.5323202993997057,0.5039209200238931,0.5019389279409209,0.4137295614620494,0.5399047068759908,0.4959283609682859,0.5743911426432524,0.5738789444916712,0.44789384663937926,0.47149298198209955,0.4122324399920927,0.47558488649099084,0.5016669581507294,0.5862947306626949,0.5480676585582364,0.4879814279637407,0.5685836495575641,0.5007599173090359,0.5150108795264344,0.4923010749170526,0.47960294795370667,0.506528472997984,0.4675029101109597,0.5018731667822847,0.45170395218925413,0.5672873312983788,0.4767166713819814,0.5198526589524252,0.5098698069418335,0.4742584591630375,0.5530411566260472,0.5174091390554673,0.4623334055140222,0.5805084653834554,0.5402857802327062,0.5095448770476305,0.5224931906193822,0.4412508975119778,0.47401283883350565,0.5329875939762091,0.39323495905207434,0.43108107952224217,0.4852408057213713,0.5131933067138964,0.5184874399119485,0.5019167298502063,0.5599462835883411,0.5427302406740937,0.48610082420304856,0.34648759809181395,0.6016548861972513,0.5090504419050629,0.5744450639101281,0.5403718062437834,0.49007389771041593,0.5317699385953532,0.5423588372077661,0.5079257604876658,0.5197836939302879,0.6139016644818555,0.5149280311544052,0.5072260875476381,0.4871774262973831,0.5227824402135414,0.3919978487763801,0.4624031395474101,0.5416615863054395,0.4893612977992609,0.4966792408558612,0.5819182230087995,0.5050134407097292,0.4656356500988929,0.5993236575968401,0.500264641383681,0.6340765820765449,0.5630528743815274,0.5096081641628647,0.42093936812190524,0.4783635253588568,0.5249671064943644,0.5314519601113986,0.4848590157406568,0.5123818052357051,0.5738575276969454,0.5476980627397723,0.4885043201104037,0.5230335860868542,0.4218303424138786,0.5703662611814032,0.5025879916622841,0.48583222027543477,0.5762899139041447,0.4921027447017094,0.5307188039459896,0.5848443094176584,0.5390618278854051,0.5372755048606118,0.5689821732166844,0.5096567224372298,0.4731443488337416,0.5097592806768999,0.4448517615350703,0.4711765691309371,0.5135957760775047,0.5235358459272849,0.5519218928300301,0.49496244231421743,0.5168952802615452,0.6163529132237023,0.45522514665375113,0.504564892610063,0.49247892166634955,0.510307515590256,0.5330614743057921,0.5302422788393583,0.44431670372529053,0.5016466295383126,0.5070649692889718,0.48249312225866836,0.5541884540325546,0.5256065653025068,0.5190695888040245,0.6063529279640262,0.44182071949486745,0.4729994076241718,0.5044936455001197,0.49704492645817683,0.41806897126913334,0.6485877050538994,0.4475690055096941,0.5337985224332489,0.4508738711658503,0.4111308283348835,0.48527237299189674,0.4582864115644344,0.4593249112539463,0.5715785005030343,0.5376505118938227,0.5147233511176174,0.5468730049528185,0.49589291324994816,0.5052205433100607,0.5407621472694365,0.4993542463218096,0.4594565654759936,0.46597253870236616,0.38782498255400066,0.503180357075225,0.5276321051903434,0.48292566771647044,0.5715652709977019,0.5117229326806434,0.48399896331148895,0.5072633659361269,0.46845913642140385,0.5074770897063983,0.48993448949245905,0.4595655658309322,0.45530086922164054,0.47224045388582414,0.4954894982336896,0.5491954303528113,0.5387919538922882,0.5033519461318869,0.5826191336231713,0.47284555216651725,0.4511971834217688,0.4380460916918786,0.5257863108532818,0.45017594764708535,0.391756195903858,0.5249958171945354,0.4393747716215646,0.3974842978076228,0.43388380947693334,0.5529623350591251,0.48836497303649085,0.5368840929729672,0.4408920049421689,0.5051620038744455,0.40300229357970396,0.496421795097718,0.566992934386984,0.5133910280018404,0.549646057545169,0.5766923083410356,0.5679715582392044,0.5102852725163404,0.5120922152474701,0.5810551701543807,0.5930352854595149,0.5121968542060598,0.4393714571961597,0.45994764892663104,0.49453381944999486,0.48675593743524437,0.4999909601948422,0.42437384946481344,0.5540946607442824,0.4835823535743517,0.5595259439819277,0.5678664002067697,0.4964449335473213,0.406204098092734,0.573633932927998,0.5135290157471585,0.4024364371791748,0.5374919404464601,0.49870666220000787,0.4923795340445965,0.5515996828350926,0.488482933662591,0.5826815677283473,0.4821796629090731,0.4108504084287753,0.4792863026081285,0.5113911812964352,0.5221192113626549,0.4650929979736762,0.5039723308527595,0.47826671062667153,0.43790719920750715,0.43643201724275527,0.5840619963191604,0.5922981472913733,0.43527154648627797,0.4763096821144077,0.43697888417022446,0.5450967404055403,0.5139235222649722,0.5416940569269835,0.5266333408792234,0.517713773248133,0.57284404101159,0.5012934185525026,0.5142210092090403,0.5428967906939546,0.49164729835428717,0.4461970594620686,0.5224779217222361,0.5241030378028484,0.5051794614386522,0.4999706870953836,0.5224275787164941,0.5966769991657314,0.4366572121454608,0.5505537432005322,0.4449503959805159,0.5527246489347666,0.5634456349327847,0.5706523515110375,0.4657047451692685,0.4435278800230561,0.5205307527962,0.4778120035351855,0.5126458671352522,0.5333564513402683,0.42866129723318025,0.4943786054413712,0.5088118496815429,0.42617819031435034,0.47783546747878575,0.5437861956610485,0.4719260929148436,0.4385287460331974,0.5048153152364194,0.4205174461567253,0.5206929746908019,0.4259618770090387,0.398339705509404,0.554017910887385,0.5178215562060114,0.5196210001896197,0.567622163626063,0.4699714705417597,0.4875093404041234,0.5141181234928226,0.4544458314153804,0.5210104909927264,0.6067198853785659,0.4693156809712484,0.4568878714451042,0.6007203378987237,0.5599404482672863,0.527267414278659,0.519224401989294,0.5541676045417293,0.5240022068563664,0.4793960125677674,0.47353899338930416,0.4997753260777892,0.41377462235194984,0.519337641782189,0.47737253049870515,0.594674584920919,0.5484912666786491,0.5198297771126625,0.48499399749999017,0.4032854744771088,0.4739177097215425,0.5611639734350519,0.5092622069150681,0.5136768781020371,0.43255620031987085,0.5162931512896438,0.47986687460467237,0.533365988131446,0.42346739355031265,0.5380473967917492,0.39542647837349737,0.47580395063164616,0.5287461593443239,0.5855027427983559,0.46016538477414626,0.5259757880247989,0.46026517876893047,0.4890648191396992,0.5167302695666883,0.5558348345986418,0.6005402959777599,0.47904119308982074,0.5158578454186009,0.47540117356481737,0.5100527388403315,0.5301936877868273,0.45863002069192005,0.41622278473253493,0.4608746091716041,0.45570778586075866,0.48422107400850356,0.47127307066362073,0.5058651315380052,0.4789518591214899,0.48503551569980285,0.5112751877293235,0.48404886819110177,0.4380289900609257,0.5674873163347854,0.5178441330958253,0.471987206492658,0.4441321296641342,0.6090157241942077,0.5799295204863013,0.4343309804266899,0.44693214967465755,0.4338393335044167,0.5304833503692762,0.5129760520252149,0.4330045300482713,0.41491619484580256,0.5243627485367204,0.5107628154153215,0.6226597408836672,0.4745985148418161,0.5278343168370881,0.4367947267159621,0.43847761133344226,0.4435066174364111,0.5746717114964526,0.4473837635669775,0.52236990883264,0.41150411393013897,0.5123755935496672,0.4690010297203444,0.46161826886829554,0.5006675481432082,0.5212336923219181,0.5647245475652121,0.6214770555293933,0.5193249163388015,0.5500266317606822,0.5785603506209229,0.4708322183626785,0.493571217608648,0.5481549562119952,0.41829590305004855,0.5494751607165858,0.47156411910863627,0.45159487534736836,0.48391536493451126,0.5023594278292528,0.5126272738688353,0.43397191019944076,0.48115288326958966,0.4413539949104143,0.43683284290715346,0.52883710639297,0.5207172154290294,0.4854998183148304,0.4242746558645918,0.47336248446507556,0.5563555328386178,0.5597670787752135,0.5216207462982501,0.526947984030144,0.4863512723808725,0.4745420195809523,0.6295772803945545,0.5198654375246761,0.4571896727924175,0.5152541997504855,0.4859466520817058,0.4843678536248508,0.5415510288052607,0.5125237003747113,0.5504518900897021,0.49100013069473636,0.5114050896086009,0.5717162415370687,0.4382410536729534,0.4770119237733365,0.5277773736930625,0.5058595967645887,0.5050940532736792,0.5010438639083963,0.4995218637678261,0.49835696715778793,0.5010222400649865,0.49072883934898964,0.5082756680764868,0.4605706519841589,0.39987639928425556,0.4672638447116223,0.44512497594215655,0.38002462363955175,0.381671055862842,0.5833922775319897,0.5614613574992076,0.48529017985612183,0.5461262199634977,0.4699876480811638,0.538123277884915,0.578174194016634,0.5275503312430561,0.49473612994036303,0.44877327208195383,0.4800562669526683,0.5735646125256484,0.5416178027760513,0.48879119501741736,0.47270983316389353,0.5196110290319074,0.5484569317954092,0.5366843065218012,0.47886075880573886,0.46101655371888894,0.4893045335878425,0.45588613206078926,0.4355993776902399,0.5471248103133038,0.5092890405958349,0.4503890295607848,0.4580253591480323,0.49400227697867366,0.6100645789360363,0.5928206318403016,0.5568915796370904,0.5105884473507927,0.417542605813371,0.45848911019480576,0.45422634861501254,0.49247439568546075,0.5056982182806571,0.5581745694377477,0.44515669406166497,0.4711940473804626,0.4940591471423844,0.5107153774522007,0.5457503684753687,0.5063715865570699,0.5130979358263558,0.5433413358208392,0.4938314111476644,0.5131287668795197,0.5742541085543705,0.5160710225277197,0.5696403315687782,0.5505813629260633,0.5070949127175506,0.5048726896339952,0.4202031272195437,0.4633833125080208,0.4398828082104258,0.5367792014689524,0.45974658138517527,0.38025011263332315,0.4432682770682835,0.46836203842864027,0.5415032587161792,0.5473660455490993,0.4471351370870169,0.5073062514443386,0.5709165006182394,0.4914980090972018,0.6004242701514073,0.5694853140890929,0.4565238834785112,0.4958474171747049,0.514508730805939,0.5557135899284853,0.48033849336759926,0.5253816093522933,0.5068265908468984,0.5126454763469948,0.5414882985679212,0.44870209681821166,0.5326397069083668,0.5239097057300289,0.5621008880748954,0.45749287152745205,0.5001330803420998,0.5602394547748992,0.42172662096142083,0.5453663997067157,0.5404842309616712,0.44395357593564166,0.4876621451314029,0.49235300182017866,0.4544714051367988,0.4853411259282048,0.4951700568597246,0.4670933912650892,0.4528920623612696,0.4429555677488603,0.37750474778056076,0.46311527467839386,0.5473944808237965,0.4487776199188927,0.4888034840913759,0.5861560187703211,0.432818130192425,0.47836897769072145,0.4573586054362751,0.5194461596563523,0.495982363419248,0.4484403541067762,0.46677664720780104,0.4987588691149595,0.5001188112341913,0.5954454835515013,0.5933261450412132,0.612054335908182,0.4588422449355523,0.5411594771782223,0.5413531400589267,0.5680329565551477,0.4882903598119958,0.5602438076691078,0.48984445338608545,0.46998350959221497,0.4975435864936657,0.41346200551211015,0.44222425626767253,0.599252490081821,0.4469581043349135,0.5428460524633147,0.5193309052293165,0.46420592596079957,0.402907795164317,0.5416364019939778,0.42962676335581285,0.4395789255553821,0.3790968827806995,0.4455524941996344,0.46107180242344875,0.4662233838445199,0.4985455672855147,0.4969166857854557,0.5023189016093821,0.4576389778203305,0.510478278349962,0.5013779232340203,0.5214668164573647,0.5535471604347332,0.5978174643857166,0.3897030722332576,0.5421296517690543,0.5457449024142058,0.5480825918640991,0.49464399333927256,0.4305462826038343,0.5332464876796588,0.5178123161905295,0.3898837778693305,0.4517773340679351,0.4653932431030854,0.44541898491135806,0.4486193756350259,0.5239823357597118,0.435332314302756,0.5820674980838013,0.5204169636154158,0.5745449728639146,0.49206221650562315,0.4664671549567222,0.5419104303167017,0.5197592102783523,0.5098648749545537,0.5030544050482039,0.4638491827484673,0.5318928371471462,0.6201941341821847,0.43717717003345347,0.5227823828430276,0.4887272539999717,0.4647280775174597,0.48798251630629075,0.47856751975110656,0.44861429627225435,0.5360481168182127,0.5456654654854409,0.48704304350283417,0.4383964108586235,0.48914669996258436,0.5733514059808295,0.536433878396649,0.4296074607998063,0.5252805290598215,0.468136014335871,0.5047336310279094,0.5479259243574108,0.5232471947376409,0.5018439160214103,0.6181172990289242,0.5020081468134706,0.5217545649958294,0.5811819408263815,0.4954087717010584,0.584438997615761,0.6122985769748729,0.6354397851438853,0.5267398471660372,0.518040002632997,0.40425471019287346,0.580262686468974,0.46186521350893306,0.3671453667725015,0.5200030263927926,0.41221409046630525,0.5188547610729692,0.41648728081882747,0.5073360097331459,0.622476451279032,0.4413111509293158,0.5087009703431925,0.5441530814145518,0.5693983997993902,0.560137610745787,0.4673147336651683,0.5322613020395719,0.5203700773389186,0.4932752293811898,0.43221924836445935,0.45859962902701307,0.4228818403909191,0.5686949437945958,0.55999920862153,0.5515464585185336,0.5256372349205061,0.40699063338788116,0.502958512229108,0.5416984162414228,0.47353025565482065,0.42860383775789124,0.5016303006953894,0.5090608278224487,0.5339461805153607,0.4800705178554634,0.5390825475000969,0.5606828828193366,0.6187532729299491,0.47642001116740107,0.5695878132560858,0.5169640802771368,0.5835475340779167,0.5279359702800427,0.5357957686649875,0.44384896953187053,0.34717464972689577,0.5582571922644842,0.49249130824115767,0.5532509483862721,0.3467386199417287,0.4633523265418073,0.4590544083433518,0.4833939376755579,0.5165632312453545,0.4981955432086934,0.490270001934145,0.4588716822945914,0.5174755442520925,0.570982555283993,0.4843239676404253,0.4320404335100458,0.4972691502555462,0.45407955934438937,0.5131524522796425,0.4795097144632834,0.3578102904195381,0.5016953209602532,0.4798047512080045,0.46924124625931474,0.6031367210993701,0.5407748968251471,0.5381122235082154,0.3977390972172792,0.45602816753277003,0.4455915986993028,0.5722942245563929,0.5163644981841293,0.48336340374520664,0.5058558049896912,0.5109343307404288,0.5472858051054453,0.4999115806529989,0.4578833336512718,0.53696001752298,0.5372086617913339,0.4521550941670035,0.472228829212033,0.3926794833782706,0.5171175057076794,0.44988920378739194,0.5182341983975671,0.5097589765361991,0.5440279148647539,0.39757014311155925,0.49296911607340516,0.49978022929053806,0.5749389141968536,0.5451263232438301,0.4717763331586273,0.5523382279489466,0.5137243460782952,0.5158194444101684,0.5135228153486762,0.49656646051214687,0.4904731551375755,0.5722953503043219,0.5382920123065819,0.48180757314500905,0.4324571156670385,0.5154780645041883,0.48876882260599924,0.590932669936993,0.4210608240133696,0.4619103810137576,0.4760063296358431,0.47227320059552486,0.48575837461569343,0.4434223662414965,0.3639997302808332,0.4798718362632395,0.47126108649920684,0.5512833959333602,0.4325165943775076,0.4437617106721263,0.3905935743520699,0.5231295974876606,0.4606063786083892,0.49150645128979076,0.4142840770541998,0.44670184636035093,0.5546598961071576,0.5438097393096848,0.45123383352209084,0.5359355868155526,0.42112631900387676,0.5068760280046406,0.46643586221066236,0.44409976915339516,0.461775752209086,0.5168354110529947,0.43195455618972245,0.6373953900452443,0.5400551499151425,0.47533536403809695,0.48537197248704583,0.5580701797791924,0.4660073427778554,0.5536725334076553,0.5812496813994621,0.39982403841915853,0.5106637745149483,0.5414257463161318,0.569343698515049,0.4983379208819063,0.5428946448626921,0.5461505643406876,0.5191712799299821,0.48178395202146196,0.5647804745860615,0.570996875594009,0.5164214055373043,0.5948827844355408,0.5485962164509004,0.47489298679751396,0.5361670269565381,0.5579929848462346,0.5543632871702268,0.47574216241063066,0.47768392066565946,0.5302532048073728,0.43822598944548913,0.5175079846434971,0.5115499795481927,0.5295137644450256,0.5771658983530066,0.4782769894517973,0.557751335499843,0.6047549892711702,0.5431008749483924,0.4729519589646214,0.47756156167826025,0.4470575263133669,0.5736829992028276,0.5535310273937697,0.4944783001506309,0.4921780095993937,0.4470217740487436,0.45431778305136983,0.47354152147061684,0.5450518897800082,0.4709258189879882,0.505283221496813,0.4570014022247546,0.4701081799810621,0.5137450176449762,0.48209613137704166,0.5024130136409206,0.4776195571808238,0.5268874779146443,0.41926300842338465,0.5146514898581053,0.5090072163017539,0.4702877037410722,0.4799194883744191,0.4980792192470517,0.5281027679749775,0.47362555102046067,0.39493368412994456,0.5325638764822537,0.470402817544527,0.4664769629515738,0.5561108099166059,0.4900128751858206,0.4921015208906489,0.5146677454775347,0.5218638986517544,0.6280101606400701,0.513991705457856,0.4235566031709015,0.6002093260203696,0.5195174802183837,0.48949987000775175,0.51776212758809,0.5372378453398144,0.46471680009592425,0.5703806687770846,0.577931767493577,0.47358713991275303,0.5112854061588475,0.5010827693195897,0.5204922987406749,0.3983330559993295,0.4592217847302501,0.5225495729283591,0.4951063469266423,0.501487369252381,0.5079949402579502,0.467006664844768,0.4717341376006947,0.5349198461663961,0.4593174392159414,0.450662749981747,0.48825235532309247,0.41882691391602733,0.4845646575635146,0.5219124950277613,0.5307601387796432,0.4807353180279039,0.468910824324123,0.5750480714723408,0.5115009625450416,0.44944901437865814,0.5676267432820832,0.5198866908734289,0.4109741226337307,0.4258297717969301,0.451578392276915,0.5003083431084822,0.4656316510518088,0.5460567779292816,0.4559173637411141,0.5669428697150726,0.4756346965704044,0.5116819426776155,0.48630557377074485,0.4925705942663083,0.510348320903221,0.5939456157405545,0.5609218044287657,0.5574947070671655,0.47734295974695323,0.3669911644502795,0.5154603603035816,0.561781791622805,0.4946305379635104,0.6124402450485298,0.5326810739488914,0.5316404817170015,0.4220919970631228,0.4808592323288306,0.547685828992506,0.5130178178505804,0.5116038463624066,0.5120763311855334,0.5718058832590881,0.53075453904229,0.4731878875547595,0.47400147989753116,0.414004359977549],\"xaxis\":\"x\",\"y\":[1,1,1,1,1,1,1,1,1,1,1,1,1,1,1,1,1,1,1,1,1,1,1,1,1,1,1,1,1,1,1,1,1,1,1,1,1,1,1,1,1,1,1,1,1,1,1,1,1,1,1,1,1,1,1,1,1,1,1,1,1,1,1,1,1,1,1,1,1,1,1,1,1,1,1,1,1,1,1,1,1,1,1,1,1,1,1,1,1,1,1,1,1,1,1,1,1,1,1,1,1,1,1,1,1,1,1,1,1,1,1,1,1,1,1,1,1,1,1,1,1,1,1,1,1,1,1,1,1,1,1,1,1,1,1,1,1,1,1,1,1,1,1,1,1,1,1,1,1,1,1,1,1,1,1,1,1,1,1,1,1,1,1,1,1,1,1,1,1,1,1,1,1,1,1,1,1,1,1,1,1,1,1,1,1,1,1,1,1,1,1,1,1,1,1,1,1,1,1,1,1,1,1,1,1,1,1,1,1,1,1,1,1,1,1,1,1,1,1,1,1,1,1,1,1,1,1,1,1,1,1,1,1,1,1,1,1,1,1,1,1,1,1,1,1,1,1,1,1,1,1,1,1,1,1,1,1,1,1,1,1,1,1,1,1,1,1,1,1,1,1,1,1,1,1,1,1,1,1,1,1,1,1,1,1,1,1,1,1,1,1,1,1,1,1,1,1,1,1,1,1,1,1,1,1,1,1,1,1,1,1,1,1,1,1,1,1,1,1,1,1,1,1,1,1,1,1,1,1,1,1,1,1,1,1,1,1,1,1,1,1,1,1,1,1,1,1,1,1,1,1,1,1,1,1,1,1,1,1,1,1,1,1,1,1,1,1,1,1,1,1,1,1,1,1,1,1,1,1,1,1,1,1,1,1,1,1,1,1,1,1,1,1,1,1,1,1,1,1,1,1,1,1,1,1,1,1,1,1,1,1,1,1,1,1,1,1,1,1,1,1,1,1,1,1,1,1,1,1,1,1,1,1,1,1,1,1,1,1,1,1,1,1,1,1,1,1,1,1,1,1,1,1,1,1,1,1,1,1,1,1,1,1,1,1,1,1,1,1,1,1,1,1,1,1,1,1,1,1,1,1,1,1,1,1,1,1,1,1,1,1,1,1,1,1,1,1,1,1,1,1,1,1,1,1,1,1,1,1,1,1,1,1,1,1,1,1,1,1,1,1,1,1,1,1,1,1,1,1,1,1,1,1,1,1,1,1,1,1,1,1,1,1,1,1,1,1,1,1,1,1,1,1,1,1,1,1,1,1,1,1,1,1,1,1,1,1,1,1,1,1,1,1,1,1,1,1,1,1,1,1,1,1,1,1,1,1,1,1,1,1,1,1,1,1,1,1,1,1,1,1,1,1,1,1,1,1,1,1,1,1,1,1,1,1,1,1,1,1,1,1,1,1,1,1,1,1,1,1,1,1,1,1,1,1,1,1,1,1,1,1,1,1,1,1,1,1,1,1,1,1,1,1,1,1,1,1,1,1,1,1,1,1,1,1,1,1,1,1,1,1,1,1,1,1,1,1,1,1,1,1,1,1,1,1,1,1,1,1,1,1,1,1,1,1,1,1,1,1,1,1,1,1,1,1,1,1,1,1,1,1,1,1,1,1,1,1,1,1,1,1,1,1,1,1,1,1,1,1,1,1,1,1,1,1,1,1,1,1,1,1,1,1,1,1,1,1,1,1,1,1,1,1,1,1,1,1,1,1,1,1,1,1,1,1,1,1,1,1,1,1,1,1,1,1,1,1,1,1,1,1,1,1,1,1,1,1,1,1,1,1,1,1,1,1,1,1,1,1,1,1,1,1,1,1,1,1,1,1,1,1,1,1,1,1,1,1,1,1,1,1,1,1,1,1,1,1,1,1,1,1,1,1,1,1,1,1,1,1,1,1,1,1,1,1,1,1,1,1,1,1,1,1,1,1,1,1,1,1,1,1,1,1,1,1,1,1,1,1,1,1,1,1,1,1,1,1,1,1,1,1,1,1,1,1,1,1,1,1,1,1,1,1,1,1,1,1,1,1,1,1,1,1,1,1,1,1,1,1,1,1,1,1,1,1,1,1,1,1,1,1,1,1,1,1,1,1,1,1,1,1,1,1,1,1,1,1,1,1,1,1,1,1,1,1,1,1,1,1,1,1,1,1,1,1,1,1,1,1,1,1,1,1,1,1,1,1,1,1,1,1,1,1,1,1,1,1,1,1,1,1,1,1,1,1,1,1,1,1,1,1,1,1,1,1,1,1,1,1,1],\"yaxis\":\"y\",\"type\":\"histogram\"}],                        {\"template\":{\"data\":{\"histogram2dcontour\":[{\"type\":\"histogram2dcontour\",\"colorbar\":{\"outlinewidth\":0,\"ticks\":\"\"},\"colorscale\":[[0.0,\"#0d0887\"],[0.1111111111111111,\"#46039f\"],[0.2222222222222222,\"#7201a8\"],[0.3333333333333333,\"#9c179e\"],[0.4444444444444444,\"#bd3786\"],[0.5555555555555556,\"#d8576b\"],[0.6666666666666666,\"#ed7953\"],[0.7777777777777778,\"#fb9f3a\"],[0.8888888888888888,\"#fdca26\"],[1.0,\"#f0f921\"]]}],\"choropleth\":[{\"type\":\"choropleth\",\"colorbar\":{\"outlinewidth\":0,\"ticks\":\"\"}}],\"histogram2d\":[{\"type\":\"histogram2d\",\"colorbar\":{\"outlinewidth\":0,\"ticks\":\"\"},\"colorscale\":[[0.0,\"#0d0887\"],[0.1111111111111111,\"#46039f\"],[0.2222222222222222,\"#7201a8\"],[0.3333333333333333,\"#9c179e\"],[0.4444444444444444,\"#bd3786\"],[0.5555555555555556,\"#d8576b\"],[0.6666666666666666,\"#ed7953\"],[0.7777777777777778,\"#fb9f3a\"],[0.8888888888888888,\"#fdca26\"],[1.0,\"#f0f921\"]]}],\"heatmap\":[{\"type\":\"heatmap\",\"colorbar\":{\"outlinewidth\":0,\"ticks\":\"\"},\"colorscale\":[[0.0,\"#0d0887\"],[0.1111111111111111,\"#46039f\"],[0.2222222222222222,\"#7201a8\"],[0.3333333333333333,\"#9c179e\"],[0.4444444444444444,\"#bd3786\"],[0.5555555555555556,\"#d8576b\"],[0.6666666666666666,\"#ed7953\"],[0.7777777777777778,\"#fb9f3a\"],[0.8888888888888888,\"#fdca26\"],[1.0,\"#f0f921\"]]}],\"heatmapgl\":[{\"type\":\"heatmapgl\",\"colorbar\":{\"outlinewidth\":0,\"ticks\":\"\"},\"colorscale\":[[0.0,\"#0d0887\"],[0.1111111111111111,\"#46039f\"],[0.2222222222222222,\"#7201a8\"],[0.3333333333333333,\"#9c179e\"],[0.4444444444444444,\"#bd3786\"],[0.5555555555555556,\"#d8576b\"],[0.6666666666666666,\"#ed7953\"],[0.7777777777777778,\"#fb9f3a\"],[0.8888888888888888,\"#fdca26\"],[1.0,\"#f0f921\"]]}],\"contourcarpet\":[{\"type\":\"contourcarpet\",\"colorbar\":{\"outlinewidth\":0,\"ticks\":\"\"}}],\"contour\":[{\"type\":\"contour\",\"colorbar\":{\"outlinewidth\":0,\"ticks\":\"\"},\"colorscale\":[[0.0,\"#0d0887\"],[0.1111111111111111,\"#46039f\"],[0.2222222222222222,\"#7201a8\"],[0.3333333333333333,\"#9c179e\"],[0.4444444444444444,\"#bd3786\"],[0.5555555555555556,\"#d8576b\"],[0.6666666666666666,\"#ed7953\"],[0.7777777777777778,\"#fb9f3a\"],[0.8888888888888888,\"#fdca26\"],[1.0,\"#f0f921\"]]}],\"surface\":[{\"type\":\"surface\",\"colorbar\":{\"outlinewidth\":0,\"ticks\":\"\"},\"colorscale\":[[0.0,\"#0d0887\"],[0.1111111111111111,\"#46039f\"],[0.2222222222222222,\"#7201a8\"],[0.3333333333333333,\"#9c179e\"],[0.4444444444444444,\"#bd3786\"],[0.5555555555555556,\"#d8576b\"],[0.6666666666666666,\"#ed7953\"],[0.7777777777777778,\"#fb9f3a\"],[0.8888888888888888,\"#fdca26\"],[1.0,\"#f0f921\"]]}],\"mesh3d\":[{\"type\":\"mesh3d\",\"colorbar\":{\"outlinewidth\":0,\"ticks\":\"\"}}],\"scatter\":[{\"fillpattern\":{\"fillmode\":\"overlay\",\"size\":10,\"solidity\":0.2},\"type\":\"scatter\"}],\"parcoords\":[{\"type\":\"parcoords\",\"line\":{\"colorbar\":{\"outlinewidth\":0,\"ticks\":\"\"}}}],\"scatterpolargl\":[{\"type\":\"scatterpolargl\",\"marker\":{\"colorbar\":{\"outlinewidth\":0,\"ticks\":\"\"}}}],\"bar\":[{\"error_x\":{\"color\":\"#2a3f5f\"},\"error_y\":{\"color\":\"#2a3f5f\"},\"marker\":{\"line\":{\"color\":\"#E5ECF6\",\"width\":0.5},\"pattern\":{\"fillmode\":\"overlay\",\"size\":10,\"solidity\":0.2}},\"type\":\"bar\"}],\"scattergeo\":[{\"type\":\"scattergeo\",\"marker\":{\"colorbar\":{\"outlinewidth\":0,\"ticks\":\"\"}}}],\"scatterpolar\":[{\"type\":\"scatterpolar\",\"marker\":{\"colorbar\":{\"outlinewidth\":0,\"ticks\":\"\"}}}],\"histogram\":[{\"marker\":{\"pattern\":{\"fillmode\":\"overlay\",\"size\":10,\"solidity\":0.2}},\"type\":\"histogram\"}],\"scattergl\":[{\"type\":\"scattergl\",\"marker\":{\"colorbar\":{\"outlinewidth\":0,\"ticks\":\"\"}}}],\"scatter3d\":[{\"type\":\"scatter3d\",\"line\":{\"colorbar\":{\"outlinewidth\":0,\"ticks\":\"\"}},\"marker\":{\"colorbar\":{\"outlinewidth\":0,\"ticks\":\"\"}}}],\"scattermapbox\":[{\"type\":\"scattermapbox\",\"marker\":{\"colorbar\":{\"outlinewidth\":0,\"ticks\":\"\"}}}],\"scatterternary\":[{\"type\":\"scatterternary\",\"marker\":{\"colorbar\":{\"outlinewidth\":0,\"ticks\":\"\"}}}],\"scattercarpet\":[{\"type\":\"scattercarpet\",\"marker\":{\"colorbar\":{\"outlinewidth\":0,\"ticks\":\"\"}}}],\"carpet\":[{\"aaxis\":{\"endlinecolor\":\"#2a3f5f\",\"gridcolor\":\"white\",\"linecolor\":\"white\",\"minorgridcolor\":\"white\",\"startlinecolor\":\"#2a3f5f\"},\"baxis\":{\"endlinecolor\":\"#2a3f5f\",\"gridcolor\":\"white\",\"linecolor\":\"white\",\"minorgridcolor\":\"white\",\"startlinecolor\":\"#2a3f5f\"},\"type\":\"carpet\"}],\"table\":[{\"cells\":{\"fill\":{\"color\":\"#EBF0F8\"},\"line\":{\"color\":\"white\"}},\"header\":{\"fill\":{\"color\":\"#C8D4E3\"},\"line\":{\"color\":\"white\"}},\"type\":\"table\"}],\"barpolar\":[{\"marker\":{\"line\":{\"color\":\"#E5ECF6\",\"width\":0.5},\"pattern\":{\"fillmode\":\"overlay\",\"size\":10,\"solidity\":0.2}},\"type\":\"barpolar\"}],\"pie\":[{\"automargin\":true,\"type\":\"pie\"}]},\"layout\":{\"autotypenumbers\":\"strict\",\"colorway\":[\"#636efa\",\"#EF553B\",\"#00cc96\",\"#ab63fa\",\"#FFA15A\",\"#19d3f3\",\"#FF6692\",\"#B6E880\",\"#FF97FF\",\"#FECB52\"],\"font\":{\"color\":\"#2a3f5f\"},\"hovermode\":\"closest\",\"hoverlabel\":{\"align\":\"left\"},\"paper_bgcolor\":\"white\",\"plot_bgcolor\":\"#E5ECF6\",\"polar\":{\"bgcolor\":\"#E5ECF6\",\"angularaxis\":{\"gridcolor\":\"white\",\"linecolor\":\"white\",\"ticks\":\"\"},\"radialaxis\":{\"gridcolor\":\"white\",\"linecolor\":\"white\",\"ticks\":\"\"}},\"ternary\":{\"bgcolor\":\"#E5ECF6\",\"aaxis\":{\"gridcolor\":\"white\",\"linecolor\":\"white\",\"ticks\":\"\"},\"baxis\":{\"gridcolor\":\"white\",\"linecolor\":\"white\",\"ticks\":\"\"},\"caxis\":{\"gridcolor\":\"white\",\"linecolor\":\"white\",\"ticks\":\"\"}},\"coloraxis\":{\"colorbar\":{\"outlinewidth\":0,\"ticks\":\"\"}},\"colorscale\":{\"sequential\":[[0.0,\"#0d0887\"],[0.1111111111111111,\"#46039f\"],[0.2222222222222222,\"#7201a8\"],[0.3333333333333333,\"#9c179e\"],[0.4444444444444444,\"#bd3786\"],[0.5555555555555556,\"#d8576b\"],[0.6666666666666666,\"#ed7953\"],[0.7777777777777778,\"#fb9f3a\"],[0.8888888888888888,\"#fdca26\"],[1.0,\"#f0f921\"]],\"sequentialminus\":[[0.0,\"#0d0887\"],[0.1111111111111111,\"#46039f\"],[0.2222222222222222,\"#7201a8\"],[0.3333333333333333,\"#9c179e\"],[0.4444444444444444,\"#bd3786\"],[0.5555555555555556,\"#d8576b\"],[0.6666666666666666,\"#ed7953\"],[0.7777777777777778,\"#fb9f3a\"],[0.8888888888888888,\"#fdca26\"],[1.0,\"#f0f921\"]],\"diverging\":[[0,\"#8e0152\"],[0.1,\"#c51b7d\"],[0.2,\"#de77ae\"],[0.3,\"#f1b6da\"],[0.4,\"#fde0ef\"],[0.5,\"#f7f7f7\"],[0.6,\"#e6f5d0\"],[0.7,\"#b8e186\"],[0.8,\"#7fbc41\"],[0.9,\"#4d9221\"],[1,\"#276419\"]]},\"xaxis\":{\"gridcolor\":\"white\",\"linecolor\":\"white\",\"ticks\":\"\",\"title\":{\"standoff\":15},\"zerolinecolor\":\"white\",\"automargin\":true,\"zerolinewidth\":2},\"yaxis\":{\"gridcolor\":\"white\",\"linecolor\":\"white\",\"ticks\":\"\",\"title\":{\"standoff\":15},\"zerolinecolor\":\"white\",\"automargin\":true,\"zerolinewidth\":2},\"scene\":{\"xaxis\":{\"backgroundcolor\":\"#E5ECF6\",\"gridcolor\":\"white\",\"linecolor\":\"white\",\"showbackground\":true,\"ticks\":\"\",\"zerolinecolor\":\"white\",\"gridwidth\":2},\"yaxis\":{\"backgroundcolor\":\"#E5ECF6\",\"gridcolor\":\"white\",\"linecolor\":\"white\",\"showbackground\":true,\"ticks\":\"\",\"zerolinecolor\":\"white\",\"gridwidth\":2},\"zaxis\":{\"backgroundcolor\":\"#E5ECF6\",\"gridcolor\":\"white\",\"linecolor\":\"white\",\"showbackground\":true,\"ticks\":\"\",\"zerolinecolor\":\"white\",\"gridwidth\":2}},\"shapedefaults\":{\"line\":{\"color\":\"#2a3f5f\"}},\"annotationdefaults\":{\"arrowcolor\":\"#2a3f5f\",\"arrowhead\":0,\"arrowwidth\":1},\"geo\":{\"bgcolor\":\"white\",\"landcolor\":\"#E5ECF6\",\"subunitcolor\":\"white\",\"showland\":true,\"showlakes\":true,\"lakecolor\":\"white\"},\"title\":{\"x\":0.05},\"mapbox\":{\"style\":\"light\"}}},\"xaxis\":{\"anchor\":\"y\",\"domain\":[0.0,1.0],\"title\":{\"text\":\"x\"}},\"yaxis\":{\"anchor\":\"x\",\"domain\":[0.0,1.0],\"title\":{\"text\":\"sum of y\"}},\"legend\":{\"tracegroupgap\":0},\"margin\":{\"t\":60},\"barmode\":\"relative\"},                        {\"responsive\": true}                    ).then(function(){\n",
       "                            \n",
       "var gd = document.getElementById('91f27b5d-369f-4beb-a5e1-0004aea28a18');\n",
       "var x = new MutationObserver(function (mutations, observer) {{\n",
       "        var display = window.getComputedStyle(gd).display;\n",
       "        if (!display || display === 'none') {{\n",
       "            console.log([gd, 'removed!']);\n",
       "            Plotly.purge(gd);\n",
       "            observer.disconnect();\n",
       "        }}\n",
       "}});\n",
       "\n",
       "// Listen for the removal of the full notebook cells\n",
       "var notebookContainer = gd.closest('#notebook-container');\n",
       "if (notebookContainer) {{\n",
       "    x.observe(notebookContainer, {childList: true});\n",
       "}}\n",
       "\n",
       "// Listen for the clearing of the current output cell\n",
       "var outputEl = gd.closest('.output');\n",
       "if (outputEl) {{\n",
       "    x.observe(outputEl, {childList: true});\n",
       "}}\n",
       "\n",
       "                        })                };                });            </script>        </div>"
      ]
     },
     "metadata": {},
     "output_type": "display_data"
    }
   ],
   "source": [
    "# Example\n",
    "# Histogram doesn't show in Jupyter notebook. View in VS Code.\n",
    "import random\n",
    "import plotly.express as px\n",
    "sample_size = 31\n",
    "sample_count = 1000\n",
    "# central limit theorem, 1000 samples each with 31 random numbers between 0.0 and 1.0\n",
    "x_values = [(sum([random.uniform(0.0, 1.0) for i in range(sample_size)])/sample_size) for _ in range(sample_count)]\n",
    "y_values = [1 for _ in range(sample_count)]\n",
    "px.histogram(x=x_values, y=y_values, nbins=20).show();"
   ]
  }
 ],
 "metadata": {
  "kernelspec": {
   "display_name": "Python 3 (ipykernel)",
   "language": "python",
   "name": "python3"
  },
  "language_info": {
   "codemirror_mode": {
    "name": "ipython",
    "version": 3
   },
   "file_extension": ".py",
   "mimetype": "text/x-python",
   "name": "python",
   "nbconvert_exporter": "python",
   "pygments_lexer": "ipython3",
   "version": "3.12.4"
  }
 },
 "nbformat": 4,
 "nbformat_minor": 5
}

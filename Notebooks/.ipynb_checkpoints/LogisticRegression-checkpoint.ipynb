{
 "cells": [
  {
   "cell_type": "code",
   "execution_count": 1,
   "metadata": {
    "vscode": {
     "languageId": "plaintext"
    }
   },
   "outputs": [],
   "source": [
    "# Logistic Regression\n",
    "# Logistic regression is a type of regression that predicts a probability of an outcome\n",
    "# given one or more independent variables.\n",
    "\n",
    "# This in turn can be used for classification (predicting categories)\n",
    "# Logistic regression is trained on an output variable that is discrete (a binary 1 or 0) or a \n",
    "# categorical number (which is a whole number)"
   ]
  },
  {
   "cell_type": "code",
   "execution_count": 2,
   "metadata": {},
   "outputs": [],
   "source": [
    "# Performing a logistic regression\n",
    "# The logistic regression is an S-shaped curve (also known as a sigmoid curve)\n",
    "# that, for a given set of input variable between 0 and 1.\n",
    "# Because the output variable is between 0 and 1 it can be used to represent a probability.\n",
    "\n",
    "# The (b0 + b1x) component in the logistic function is known as a log-odds function."
   ]
  },
  {
   "cell_type": "code",
   "execution_count": null,
   "metadata": {},
   "outputs": [],
   "source": []
  }
 ],
 "metadata": {
  "kernelspec": {
   "display_name": "Python 3 (ipykernel)",
   "language": "python",
   "name": "python3"
  },
  "language_info": {
   "codemirror_mode": {
    "name": "ipython",
    "version": 3
   },
   "file_extension": ".py",
   "mimetype": "text/x-python",
   "name": "python",
   "nbconvert_exporter": "python",
   "pygments_lexer": "ipython3",
   "version": "3.12.4"
  }
 },
 "nbformat": 4,
 "nbformat_minor": 4
}

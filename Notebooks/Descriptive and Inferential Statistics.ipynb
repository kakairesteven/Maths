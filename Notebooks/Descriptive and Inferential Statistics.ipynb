{
 "cells": [
  {
   "cell_type": "markdown",
   "id": "1b6fb428-a4f0-4f43-b2d9-b8011de49784",
   "metadata": {},
   "source": [
    "<img src=\"../pyDataCover.jpg\"/>"
   ]
  },
  {
   "cell_type": "markdown",
   "id": "a202179f-0a2b-4022-865d-e019de4b128b",
   "metadata": {},
   "source": [
    "<h3>Descriptive and Inferential Statistics</h3>\n",
    "<p>Descriptive Statistics is used to summarize data. Inferential Statistics tries to uncover\n",
    "attributes about a large population, often based on a sample.</p>\n",
    "<p>\n",
    "    What is data?\n",
    "</p>\n",
    "\n",
    "<p>Data and Photographs example</p>"
   ]
  },
  {
   "cell_type": "markdown",
   "id": "441d72d4-c0cb-4fac-99cb-85d23a96c87d",
   "metadata": {},
   "source": [
    "<h3>Population, Samples, Bias</h3>\n",
    "<p>A <strong>population</strong> is a particular group of interest we want to study.</p>\n",
    "<p>A <strong>sample</strong> is a subset of the population that is ideally random and unbiased,\n",
    "which we use to infer attributes about the population.</p>\n",
    "<p>Bias, used to describe inaccurate representation to the population.</p>\n",
    "<p>\n",
    "    A <strong>selection bias</strong>; particular type of bias where\n",
    "    a specific group is more likely to include themselves in a sample\n",
    "</p>\n",
    "\n",
    "<p>\n",
    "    A <strong>confirmation bias</strong>, gathering data that supports your belief, which can even be done\n",
    "    unknowingly. An example is following only social media accounts you politically agree\n",
    "    with, reinforcing your beliefs rather than challenging them.\n",
    "</p>"
   ]
  },
  {
   "cell_type": "markdown",
   "id": "09e53853-ebe9-42e1-bea4-e5580ed4be2e",
   "metadata": {},
   "source": [
    "<h4>Mean and Weighted Mean</h4>"
   ]
  },
  {
   "cell_type": "code",
   "execution_count": 144,
   "id": "ee11f944-0891-402d-9ae2-3de3df40176d",
   "metadata": {},
   "outputs": [],
   "source": [
    "# Weighted Mean, GPA\n",
    "samples = [90, 80, 63, 87]\n",
    "weights = [.20, .20, .20, .40]\n",
    "weighted_mean = sum(s*w for s,w in zip(samples, weights)) / sum(weights)"
   ]
  },
  {
   "cell_type": "code",
   "execution_count": 145,
   "id": "96ab7646-f7ac-465b-9cf2-74ab3b7f8f0d",
   "metadata": {},
   "outputs": [
    {
     "data": {
      "text/plain": [
       "81.4"
      ]
     },
     "execution_count": 145,
     "metadata": {},
     "output_type": "execute_result"
    }
   ],
   "source": [
    "weighted_mean"
   ]
  },
  {
   "cell_type": "code",
   "execution_count": 146,
   "id": "010152ad-6078-42e6-b1ec-9ea678567abe",
   "metadata": {},
   "outputs": [
    {
     "data": {
      "text/plain": [
       "81.4"
      ]
     },
     "execution_count": 146,
     "metadata": {},
     "output_type": "execute_result"
    }
   ],
   "source": [
    "# Weights don't have to be percentages as the numbers will endup being proportionalized.\n",
    "weights = [1.0, 1.0, 1.0, 2.0]\n",
    "weighted_sum = sum(s*w for s,w in zip(samples, weights))/sum(weights)\n",
    "weighted_sum"
   ]
  },
  {
   "cell_type": "code",
   "execution_count": 147,
   "id": "7bb49920-f19d-41e9-b58a-e3deee01399d",
   "metadata": {},
   "outputs": [],
   "source": [
    "# Median\n",
    "# The middlemost value in a set of ordered values\n",
    "def median(values):\n",
    "    ordered = sorted(values)\n",
    "    print(ordered)\n",
    "    n = len(ordered)\n",
    "    mid = int(n/2)-1 if n%2 == 0 else int(n/2)\n",
    "\n",
    "    if n%2 == 0:\n",
    "        return (ordered[mid] + ordered[mid+1])/2.0\n",
    "    else:\n",
    "        return ordered[mid]"
   ]
  },
  {
   "cell_type": "code",
   "execution_count": 148,
   "id": "788b52b1-02ff-4179-bbb2-e2be29e0b7eb",
   "metadata": {},
   "outputs": [
    {
     "name": "stdout",
     "output_type": "stream",
     "text": [
      "[63, 80, 87, 90]\n"
     ]
    },
    {
     "data": {
      "text/plain": [
       "83.5"
      ]
     },
     "execution_count": 148,
     "metadata": {},
     "output_type": "execute_result"
    }
   ],
   "source": [
    "# Median is the preferrable in outlier-heavy situations(such as income related data) over the mean.\n",
    "# Example: Salary of Ugandans without a university degree, there shall be many outliers\n",
    "median(samples)"
   ]
  },
  {
   "cell_type": "code",
   "execution_count": 149,
   "id": "7a91cfae-c26c-4b0b-8032-e943ae4a73e5",
   "metadata": {},
   "outputs": [],
   "source": [
    "# Quartiles\n",
    "# Mode is the most frequently occuring set of values. When two values occur with the same frequency, it is considered\n",
    "# bimodal.\n",
    "# Number of shoes your friends own\n",
    "from collections import defaultdict\n",
    "sample = [1, 3, 2, 5, 7, 4, 2, 3]\n",
    "def mode(values):\n",
    "    counts = defaultdict(lambda:0)\n",
    "    for s in values:\n",
    "        counts[s] += 1\n",
    "    max_count = max(counts.values())\n",
    "    modes = [v for v in set(values) if counts[v] == max_count]\n",
    "    return modes"
   ]
  },
  {
   "cell_type": "code",
   "execution_count": 150,
   "id": "a19647de-f666-4ac4-833a-c22eb9bea78a",
   "metadata": {},
   "outputs": [
    {
     "data": {
      "text/plain": [
       "[2, 3]"
      ]
     },
     "execution_count": 150,
     "metadata": {},
     "output_type": "execute_result"
    }
   ],
   "source": [
    "mode(sample)"
   ]
  },
  {
   "cell_type": "code",
   "execution_count": 151,
   "id": "2ba84432-e494-4504-9237-32aa66a4896a",
   "metadata": {},
   "outputs": [
    {
     "name": "stdout",
     "output_type": "stream",
     "text": [
      "5.387755102040816\n"
     ]
    }
   ],
   "source": [
    "# Variance and Standard Deviation\n",
    "# Population variance is the measure of how data is spreadout\n",
    "# Example number of shoes owned by my friends\n",
    "dataShoes = [2, 3, 6, 3, 7, 2, 8]\n",
    "def variance(values):\n",
    "    mean = sum(values)/len(values)\n",
    "    _variance=sum((v-mean)**2 for v in values)/len(values)\n",
    "    return _variance\n",
    "print(variance(dataShoes))"
   ]
  },
  {
   "cell_type": "code",
   "execution_count": 152,
   "id": "f58c6456-b9f3-4e80-809b-4a2e8c8243b7",
   "metadata": {},
   "outputs": [
    {
     "data": {
      "text/plain": [
       "2.3211538298959886"
      ]
     },
     "execution_count": 152,
     "metadata": {},
     "output_type": "execute_result"
    }
   ],
   "source": [
    "# Standard deviation\n",
    "from math import sqrt\n",
    "def std_dev(values):\n",
    "    return sqrt(variance(values))\n",
    "\n",
    "# Example\n",
    "# Standard devation of dataShoes\n",
    "std_dev(dataShoes)"
   ]
  },
  {
   "cell_type": "code",
   "execution_count": 153,
   "id": "669d94ba-55ab-4514-a8b1-fbaa4ba3e657",
   "metadata": {},
   "outputs": [],
   "source": [
    "# Sample Variance and Stadard Deviation\n",
    "# Qn. Why subtract 1 from sample size\n",
    "\n",
    "def variance(values, is_sample: bool=False):\n",
    "    mean = sum(values) / len(values)\n",
    "    _variance = sum((v-mean)**2 for v in values) / (len(values)-(1 if is_sample else 0))\n",
    "    return _variance\n",
    "\n",
    "def std_dev(values, is_sample:bool=False):\n",
    "    return sqrt(variance(values, is_sample))"
   ]
  },
  {
   "cell_type": "code",
   "execution_count": 154,
   "id": "ec2d6e77-d387-4d4a-9d87-e7ec9732bf06",
   "metadata": {},
   "outputs": [
    {
     "data": {
      "text/plain": [
       "6.285714285714286"
      ]
     },
     "execution_count": 154,
     "metadata": {},
     "output_type": "execute_result"
    }
   ],
   "source": [
    "# Example\n",
    "# Number of shoes each person owns\n",
    "variance(dataShoes, is_sample=True)"
   ]
  },
  {
   "cell_type": "code",
   "execution_count": 155,
   "id": "f79e2095-699b-4197-a6fb-729b38320898",
   "metadata": {},
   "outputs": [
    {
     "data": {
      "text/plain": [
       "2.5071326821120348"
      ]
     },
     "execution_count": 155,
     "metadata": {},
     "output_type": "execute_result"
    }
   ],
   "source": [
    "# Contrast obtained value with variance of population\n",
    "std_dev(dataShoes, is_sample=True)\n",
    "\n",
    "# 2.5071326821120348 for sample\n",
    "# 2.3211538298959886 for population"
   ]
  },
  {
   "cell_type": "markdown",
   "id": "5f9d16e6-fbbb-4a87-8e3d-aadddb985570",
   "metadata": {},
   "source": [
    "<h3>Normal Distribution (Gaussian Distribution) and Probability Density Function</h3>\n",
    "<p>\n",
    "    Normal Distribution is a probability distribution that appears as a \"bell curve\" when graphed.\n",
    "    The normal distribution describes a symmetrical plot of data around its mean value, where width of\n",
    "    the curve is defined by the standard deviation.\n",
    "</p>\n",
    "\n",
    "<h5>Properties of the Normal Distribution</h5>\n",
    "<ul>\n",
    "    <li>Symmetrical; both sides are identically mirrored at the mean, which is the center.</li>\n",
    "    <li>Most mass is at the center around the mean.</li>\n",
    "    <li>It has a spread (being narrow or wide> that is specified by the standard deviation.</li>\n",
    "    <li>The tails are the least likely outcomes and approach zero infinitely but never touch zero.</li>\n",
    "</ul>\n",
    "\n",
    "<h4>The Cummulative Desnsity Function, CDF</h4>\n",
    "<p>\n",
    "    The probability to get a value between x1 and x2, where x1 > x2, is the area under the curve from x1 to x2.\n",
    "</p>"
   ]
  },
  {
   "cell_type": "code",
   "execution_count": 156,
   "id": "4c990d77-7edd-48f1-955f-6af53ef0ca6f",
   "metadata": {},
   "outputs": [],
   "source": [
    "# the Probability Density Function in Python\n",
    "def pdf(x: float,\n",
    "        mean: float,\n",
    "        std_dev: float):\n",
    "    return (1.0/(std_dev*(2.0*math.pi)**0.5)*math.exp((-1.0*((x-mean)/std_dev)**2)/2))"
   ]
  },
  {
   "cell_type": "code",
   "execution_count": 157,
   "id": "dec6b41b-98fb-4c29-9855-9fa9032eb83e",
   "metadata": {},
   "outputs": [
    {
     "data": {
      "image/png": "[encoded data removed]",
      "text/plain": [
       "<Figure size 640x480 with 1 Axes>"
      ]
     },
     "metadata": {},
     "output_type": "display_data"
    }
   ],
   "source": [
    "# Example\n",
    "import matplotlib.pyplot as plt\n",
    "import numpy as np\n",
    "mu, std_dev = 2, 0.3 # mean and standard deviation\n",
    "s = np.random.normal(mu, std_dev, 1_000_000)\n",
    "count, bins, ignored = plt.hist(s, 100, density=True)\n",
    "plt.plot(bins, 1/(std_dev*np.sqrt(2*np.pi))*np.exp(-1*(bins-mu)**2/(2*std_dev**2)),\n",
    "         linewidth=2,\n",
    "         color='g')\n",
    "plt.vlines(2.1, 0, 1.4, \"white\", );\n",
    "plt.vlines(2.5, 0, 0.5, \"white\", );\n",
    "plt.show();"
   ]
  },
  {
   "cell_type": "code",
   "execution_count": 158,
   "id": "a66dae45-59a2-429b-8f4e-d3040f1b6b73",
   "metadata": {},
   "outputs": [
    {
     "data": {
      "text/plain": [
       "np.float64(0.5)"
      ]
     },
     "execution_count": 158,
     "metadata": {},
     "output_type": "execute_result"
    }
   ],
   "source": [
    "# The normal distribution CDF in Python\\\n",
    "# The CDF from negative infinity to the mean, we get 0.5 which half the area of the normal distribution\n",
    "from scipy.stats import norm\n",
    "# mu = 64.43\n",
    "# std_dev = 2.99\n",
    "x = norm.cdf(2, mu, std_dev)\n",
    "x"
   ]
  },
  {
   "cell_type": "code",
   "execution_count": 159,
   "id": "b418e94c-5929-486b-a22e-d5172c1e807a",
   "metadata": {},
   "outputs": [
    {
     "data": {
      "text/plain": [
       "np.float64(0.32165098790894886)"
      ]
     },
     "execution_count": 159,
     "metadata": {},
     "output_type": "execute_result"
    }
   ],
   "source": [
    "# To get the proability of x being between 2.1 and 2.5\n",
    "norm.cdf(2.5, mu, std_dev) - norm.cdf(2.1, mu, std_dev)"
   ]
  },
  {
   "cell_type": "markdown",
   "id": "affcbacc-c473-4478-a09a-b71c8b8345ee",
   "metadata": {},
   "source": [
    "<h3>The Inverse CDF</h3>\n",
    "<p>\n",
    "    It is used to find the x value for a given probability. For example, say you want to find the weight with a probability of 80%.\n",
    "</p>\n",
    "<p>The Inverse CDF can be used in simulation to generate values with proability between 0 and 1. </p>"
   ]
  },
  {
   "cell_type": "code",
   "execution_count": 160,
   "id": "074f20f2-85ef-4e64-ac2d-b89081c450f9",
   "metadata": {},
   "outputs": [
    {
     "data": {
      "text/plain": [
       "np.float64(2.2524863700718742)"
      ]
     },
     "execution_count": 160,
     "metadata": {},
     "output_type": "execute_result"
    }
   ],
   "source": [
    "x = norm.ppf(0.8, mu, std_dev)\n",
    "x"
   ]
  },
  {
   "cell_type": "markdown",
   "id": "895191cc-4ca8-4493-922a-39aa0dd52360",
   "metadata": {},
   "source": [
    "<h4>The Z-Score</h4>\n",
    "<p>\n",
    "    It is used to normalize a normal distribution so as its mean is at 0. The result is a <strong>standard normal distribution</strong>.\n",
    "</p>\n",
    "<p>\n",
    "    The expression below converts an x-value to a z-value.\n",
    "</p>\n",
    "<p>\n",
    "    Example: There are two homes from two different neighborhoods. Neighborhood A has a mean home value of 140,000usd and standard deviation of 3,000usd. Neighborhood B has a mean value of 800,000usd and standard deviation of 10,000usd. There are two home each neighborhood. House A is worth 150,000usd and House B is worth 815,000usd. Which house is more expensive relative to the average home in its neighborhood?\n",
    "</p>"
   ]
  },
  {
   "cell_type": "code",
   "execution_count": 161,
   "id": "73e47fe1-60f2-4cae-813e-efa8e2d159fe",
   "metadata": {},
   "outputs": [
    {
     "data": {
      "text/latex": [
       "$\\displaystyle \\frac{- \\mu + x}{\\sigma}$"
      ],
      "text/plain": [
       "(-mu + x)/sigma"
      ]
     },
     "execution_count": 161,
     "metadata": {},
     "output_type": "execute_result"
    }
   ],
   "source": [
    "from sympy import *\n",
    "x, mu, sigma = symbols('x, mu, sigma')\n",
    "z = (x - mu)/sigma\n",
    "z"
   ]
  },
  {
   "cell_type": "code",
   "execution_count": 162,
   "id": "9f9a2da0-f6d0-4fe1-9c9e-3ba5d9639474",
   "metadata": {},
   "outputs": [
    {
     "data": {
      "text/plain": [
       "(3.3333333333333335, 1.5)"
      ]
     },
     "execution_count": 162,
     "metadata": {},
     "output_type": "execute_result"
    }
   ],
   "source": [
    "# Solution to example problem\n",
    "houseA = (150_000 - 140_000)/3_000\n",
    "houseB = (815_000-800_000)/10_000\n",
    "\n",
    "houseA, houseB\n",
    "# House A is more expensive than house B"
   ]
  },
  {
   "cell_type": "markdown",
   "id": "1aaf07c6-e01f-4a39-a6e8-f6f12333b915",
   "metadata": {},
   "source": [
    "<h4>Coefficeint of Variation</h4>\n",
    "<p>\n",
    "    It helps to measure the spread of variation of a distribution. It is the ratio of standard deviation to mean.\n",
    "</p>"
   ]
  },
  {
   "cell_type": "markdown",
   "id": "f0f2fcea-24cb-4a8f-b6b4-ebd205c20be4",
   "metadata": {},
   "source": [
    "<h3>Inferential Statistics</h3>\n",
    "<h5>The Central Limit Theorem</h5>\n",
    "<p>\n",
    "    The Central Limit Theorem states that the sum of a large number of independent random variables has a distribution that is approximately normal.\n",
    "</p>\n",
    "<ul>\n",
    "    <li>It provides a simple method for computing approximate probabilities for sums of independent random variables.</li>\n",
    "    <li>Explains the remarkable fact that the empirical frequencies of so many natural populations exhibit bell-shaped (that is normal) curves.</li>\n",
    "</ul>"
   ]
  },
  {
   "cell_type": "code",
   "execution_count": 163,
   "id": "ec3913f1-bbf4-4459-9ce6-1d104df87c11",
   "metadata": {},
   "outputs": [
    {
     "data": {
      "application/vnd.plotly.v1+json": {
       "config": {
        "plotlyServerURL": "https://plot.ly"
       },
       "data": [
        {
         "alignmentgroup": "True",
         "bingroup": "x",
         "histfunc": "sum",
         "hovertemplate": "x=%{x}<br>sum of y=%{y}<extra></extra>",
         "legendgroup": "",
         "marker": {
          "color": "#636efa",
          "pattern": {
           "shape": ""
          }
         },
         "name": "",
         "nbinsx": 20,
         "offsetgroup": "",
         "orientation": "v",
         "showlegend": false,
         "type": "histogram",
         "x": [
          0.5180398845226952,
          0.5137242919702316,
          0.4725819334621073,
          0.4701398652313606,
          0.5051449828519968,
          0.46950163363269093,
          0.5580679247439341,
          0.5608790750535662,
          0.5918244757212776,
          0.46724591361591655,
          0.40636930305505836,
          0.5126053396704314,
          0.4927821255519889,
          0.5187615926751257,
          0.4672778683396779,
          0.4414408381763452,
          0.4801993517883954,
          0.6065374381599944,
          0.5631343667522051,
          0.5911800181839585,
          0.5313745981814226,
          0.47770633200567475,
          0.5424626173092022,
          0.6179573056440587,
          0.6155568114646434,
          0.4967799821992328,
          0.5351800598109971,
          0.4792153728006038,
          0.4630897191214001,
          0.4229465863977456,
          0.4892862001221118,
          0.5037586876029062,
          0.5343879819057116,
          0.44765539158693607,
          0.4738786690113012,
          0.4774386205266569,
          0.5000320755881539,
          0.5777505704865706,
          0.46652268759176124,
          0.4967776601803517,
          0.39859179982007054,
          0.39560269351333566,
          0.36247558175115957,
          0.41908834043318566,
          0.5302480774916953,
          0.4715898834718275,
          0.5292213002460135,
          0.4611180720570681,
          0.6150313811991036,
          0.40779307118725694,
          0.45526866347183553,
          0.6334461680748822,
          0.4450560008392251,
          0.507327267844318,
          0.49049530241077155,
          0.4295012289378335,
          0.5749366896633008,
          0.46722017687594847,
          0.48931499956032815,
          0.5532022339802369,
          0.5461404732080039,
          0.5506895831474075,
          0.6018942714619632,
          0.4571394553037139,
          0.5029764918378339,
          0.4560112111020677,
          0.4624305285273017,
          0.4349958448102194,
          0.5092954117966837,
          0.5807884284245365,
          0.4211401152893679,
          0.5475812003565608,
          0.45328650634315915,
          0.5611708161569038,
          0.48938166426516566,
          0.5147768662478165,
          0.4979719979275221,
          0.5075155757809716,
          0.4200159443079807,
          0.5441322584314188,
          0.5348560529875728,
          0.38035254328438056,
          0.5849909548411484,
          0.5484520513735811,
          0.4626342763084014,
          0.5128304598020433,
          0.5375424635761699,
          0.4277740497771021,
          0.4842408707936576,
          0.5182306488254844,
          0.5034333256742095,
          0.5528777306859721,
          0.4547082691348036,
          0.5074565489619919,
          0.39360912247694785,
          0.4783595470783469,
          0.47719655337092026,
          0.6219240055773873,
          0.48096034187583664,
          0.41477640192276016,
          0.42370346572753964,
          0.45919211609930566,
          0.6025884745287908,
          0.41634791878624894,
          0.43764896057789426,
          0.4873389371000596,
          0.4771267479724978,
          0.4661778152408884,
          0.445108477202858,
          0.4878629702590089,
          0.46085363447115396,
          0.5174290746211802,
          0.5421159785311122,
          0.4965004420272214,
          0.5293140821460057,
          0.4749132872505632,
          0.4348190787635782,
          0.46969906206044937,
          0.5248682353201215,
          0.38251062144055237,
          0.5292254121544978,
          0.508483158020811,
          0.5209452274316684,
          0.5450336465153824,
          0.521970934137449,
          0.5128004529374441,
          0.4818556880344859,
          0.5902946126418744,
          0.5203546189316527,
          0.5491946508568123,
          0.47179604850231505,
          0.47904057634924097,
          0.4059508328756549,
          0.5426835304160769,
          0.597309888428014,
          0.45571112979202294,
          0.5518353108090037,
          0.5774850972700839,
          0.37646684009042053,
          0.49676869481904057,
          0.509275943404876,
          0.6191513299534878,
          0.5173457097197662,
          0.4886875662136252,
          0.5738751322547287,
          0.589253803091513,
          0.4396881364416653,
          0.4475480713508435,
          0.49353344414814365,
          0.5395265670929621,
          0.5455418528007426,
          0.41294674227218886,
          0.4457401646595038,
          0.49857109088480744,
          0.3823250601453335,
          0.46981151355703465,
          0.513649000947462,
          0.5124485587506761,
          0.4858038318679844,
          0.521574987205229,
          0.6000011074262264,
          0.5049303164721582,
          0.5114458723859262,
          0.520891063894467,
          0.5114914469376994,
          0.4890154869543165,
          0.4686238728081967,
          0.5157440923392167,
          0.5418256056062771,
          0.5092551966546842,
          0.5828890743191061,
          0.38015634190010833,
          0.5204333331313552,
          0.5112946746382744,
          0.5896672528448338,
          0.5328616456583788,
          0.4509604240147971,
          0.5658708455872303,
          0.45538866778485776,
          0.48945448386382145,
          0.4174646411946224,
          0.5336664857663344,
          0.4936896139945136,
          0.5183539899413756,
          0.4542422833196732,
          0.4628821746747448,
          0.47289627350406116,
          0.5147308794724984,
          0.543546554887073,
          0.5465857381582777,
          0.48946180820066526,
          0.4730740079738156,
          0.4671546560866988,
          0.4543317332213728,
          0.5017281980118773,
          0.5816154597567889,
          0.47878527905549884,
          0.4790143503535462,
          0.5013781313637022,
          0.5099505996469545,
          0.48617158029203394,
          0.45239684527243895,
          0.4648840482908753,
          0.45376946102679333,
          0.5450638496751071,
          0.48001549318060965,
          0.48918880114734536,
          0.5069840959591073,
          0.49852013438747284,
          0.46325657482811927,
          0.5471786915998921,
          0.4955377667822858,
          0.44212782793113614,
          0.5230999140772707,
          0.45274672760786555,
          0.3886031662611002,
          0.555195510774916,
          0.4686366172104797,
          0.4793302028469727,
          0.5173892372565194,
          0.49237078185012195,
          0.44270969719376363,
          0.49692899244685956,
          0.5067655815238714,
          0.5737357939835701,
          0.45643523394758745,
          0.46908897923799475,
          0.43862851243457573,
          0.5383012398519988,
          0.41051511987347805,
          0.6197518458232736,
          0.4460894978328852,
          0.3906327227433383,
          0.4290275144565874,
          0.4842626004013686,
          0.3358688887523805,
          0.4432271756182513,
          0.5255124024649893,
          0.49598268970634196,
          0.5369959776811335,
          0.530553083297511,
          0.49216152226437687,
          0.5453205990341474,
          0.4725970069295073,
          0.4789561521170365,
          0.4654170113865426,
          0.48942155437208257,
          0.5838790166491707,
          0.5638463058159143,
          0.39364259854527867,
          0.4399364495453574,
          0.44794506547135066,
          0.46420496159427527,
          0.526468995984938,
          0.5244422080074554,
          0.4866298820215506,
          0.5804556577130932,
          0.5192500636764242,
          0.468976093825382,
          0.5178190898421237,
          0.49991597140956356,
          0.46024137910666446,
          0.3962806000160707,
          0.5893279056233723,
          0.523139048455157,
          0.4564713034609085,
          0.5322520554415198,
          0.4895831027936444,
          0.44231240432062197,
          0.5339533349520482,
          0.5263472922514282,
          0.5123841790144352,
          0.5739565150239617,
          0.4668944391324742,
          0.4242762967527376,
          0.4643064569839412,
          0.5405223035037366,
          0.5241087908317242,
          0.42810294077844613,
          0.4954143067002513,
          0.5525861889554172,
          0.4965208580363268,
          0.42565381477301306,
          0.5105158301115543,
          0.5453548343011331,
          0.5171983939165598,
          0.42314188566878386,
          0.5313825583502156,
          0.524998945864184,
          0.4999378810008934,
          0.5762169584519389,
          0.5770312598843791,
          0.5524439266309911,
          0.471563201712443,
          0.38585295231168404,
          0.44738434613200656,
          0.443022912960059,
          0.4949569320220119,
          0.5139322302055036,
          0.5344100928795081,
          0.49540607908549256,
          0.4580234044863804,
          0.4009164971461384,
          0.5070094562031782,
          0.550205659561795,
          0.5325436169080496,
          0.45564659636055277,
          0.4760933651378552,
          0.4311532134451952,
          0.4678896170958679,
          0.4442789145738681,
          0.4618400572448402,
          0.49149998953253565,
          0.45942411432634045,
          0.4909734465063879,
          0.43848433473172743,
          0.6256289950405609,
          0.4790060265357694,
          0.5761156297751028,
          0.4572084396789901,
          0.4577913307083081,
          0.461335691446279,
          0.45650919644264476,
          0.5609318553792274,
          0.5287217216934197,
          0.5130910224096548,
          0.5571626543121998,
          0.5976729865947601,
          0.4590666186759239,
          0.5095510002051397,
          0.6152523337415068,
          0.5264197827478154,
          0.4217874134318043,
          0.568772002193177,
          0.4566142771146502,
          0.48509974895450547,
          0.6203960182245588,
          0.5676641891015006,
          0.4701064991375585,
          0.36397108163949077,
          0.5558905414845329,
          0.5000502246051749,
          0.47793196441174773,
          0.4498367600643393,
          0.5607865367723788,
          0.4388866710646175,
          0.4207090359147049,
          0.41824078179383695,
          0.4074969566163668,
          0.4518722490659409,
          0.48676020308990997,
          0.5116059262422213,
          0.47223062896451345,
          0.5613001548496532,
          0.4576412746151141,
          0.4661819173547587,
          0.6202609684148224,
          0.4632556599877528,
          0.5429544576272475,
          0.4975375619311535,
          0.5146783845118525,
          0.5203842949915471,
          0.5653580708056206,
          0.5102816871093849,
          0.5031057650376393,
          0.5613910028260186,
          0.524660741181234,
          0.4739529333440499,
          0.507901085745836,
          0.38447773661821294,
          0.4917072498268091,
          0.5386305988302872,
          0.47966754123045197,
          0.4509904858023351,
          0.5072514193160028,
          0.5282257054914945,
          0.5017775768163519,
          0.5089133832701429,
          0.4366971060908182,
          0.4442368412939772,
          0.48608307653280813,
          0.4828297486770576,
          0.5968017672513405,
          0.4189730508778646,
          0.5446959363386249,
          0.47341657231772594,
          0.5184012291522119,
          0.48453948572133154,
          0.48385883589852763,
          0.45759463740900996,
          0.5101132264091129,
          0.49272976478425706,
          0.46788203073626344,
          0.4798076542849225,
          0.5215182082772382,
          0.5461636248973764,
          0.5436233600042508,
          0.5342947824982734,
          0.5374042631659084,
          0.5608256317420961,
          0.4918213401871049,
          0.5293112381378234,
          0.5483388086693415,
          0.44803518576040896,
          0.4180695699243147,
          0.4810482461306381,
          0.5450860155339738,
          0.43774701934111154,
          0.5001325957734529,
          0.5364932235392941,
          0.4974360694661038,
          0.5816138139435186,
          0.5703308534809054,
          0.4812465887243508,
          0.46072163599648686,
          0.5778280293893326,
          0.49823554295363,
          0.4501001211163413,
          0.5501878816836973,
          0.46722254649360856,
          0.5553102229322849,
          0.6180518502436176,
          0.48742395139002326,
          0.49410410331577964,
          0.48502246485696254,
          0.5584189270549162,
          0.503442912861383,
          0.5030392443067211,
          0.5147481372883107,
          0.5627800704534655,
          0.5483332845790502,
          0.5065404056484814,
          0.5378535245029602,
          0.4691881202449937,
          0.47837677925431593,
          0.5992296201348755,
          0.4817519740879507,
          0.5600038615208988,
          0.46684658189471756,
          0.5442247096968655,
          0.6083309309569609,
          0.43182596511242083,
          0.4942951118696218,
          0.595405153423289,
          0.528900166328313,
          0.492210792627562,
          0.5171274074551576,
          0.4190815171319416,
          0.4725545168242566,
          0.5228740282641404,
          0.35155649824341,
          0.5449499073768753,
          0.43782393408022274,
          0.5409868671026455,
          0.5091618752759395,
          0.4587692310174436,
          0.5259305696135945,
          0.4637832765891384,
          0.4840972671080009,
          0.45969132368793386,
          0.4956315061450365,
          0.4967350450654196,
          0.4319232600844644,
          0.5369685489341129,
          0.586662471690682,
          0.4868246270923259,
          0.4850973985746327,
          0.42931555511260344,
          0.552336062889851,
          0.44652378740042736,
          0.5059572545458509,
          0.41565044829176234,
          0.38231125663480003,
          0.524247889910336,
          0.46767655605019687,
          0.37723041812749963,
          0.4962652621971237,
          0.621639166266902,
          0.4381920057609789,
          0.5193528574835249,
          0.5310866475479629,
          0.5511842341475817,
          0.5731214168279554,
          0.5058437383582247,
          0.4833038380335674,
          0.4372137404929187,
          0.5419984448886003,
          0.43342263872423475,
          0.5371974295220877,
          0.4452394737337753,
          0.5634669959279363,
          0.43218279058770565,
          0.5196604271343952,
          0.527626414582545,
          0.5420506353672222,
          0.5437775686867423,
          0.3780010315006947,
          0.5819139370503096,
          0.508216329639062,
          0.5955812785580136,
          0.5535385327656779,
          0.5377696726473279,
          0.5069497783662731,
          0.5369960286088343,
          0.530879682182178,
          0.5413139878997957,
          0.5158429580139794,
          0.4945559071568418,
          0.5361029962239676,
          0.5283406339288725,
          0.49431565759948437,
          0.4058043169672422,
          0.6010020259110177,
          0.43271133991411986,
          0.5317571719015909,
          0.47683006599664945,
          0.5892773568814185,
          0.527679269477318,
          0.5660774228093373,
          0.5167020403658862,
          0.4536564050313623,
          0.4543410632883344,
          0.47472652507958635,
          0.44853491553956704,
          0.467412213960557,
          0.5162585054297711,
          0.5802023236599475,
          0.5473067297045555,
          0.5136147879001067,
          0.5107469822390127,
          0.4614222468581729,
          0.47092821061134094,
          0.5066818376358075,
          0.5095465457179404,
          0.5231867070902994,
          0.5156579847922069,
          0.5837176763598403,
          0.4747589385013237,
          0.4469655277137387,
          0.4110933350418022,
          0.5372040156593676,
          0.503263248247342,
          0.5047892584011981,
          0.455866002988144,
          0.49753400033257783,
          0.5213966628563313,
          0.507482213971225,
          0.4374493118233516,
          0.4923500182068371,
          0.44067078153632855,
          0.5105889671318494,
          0.5832516702519497,
          0.4951750296421239,
          0.523617978625321,
          0.45354226963781413,
          0.4513281398909903,
          0.5309542320279325,
          0.48100655423347805,
          0.5638939163169685,
          0.5171042101353729,
          0.5093092005144644,
          0.5393741398800859,
          0.48000954924022293,
          0.5563556243198597,
          0.6685796029327798,
          0.5127440154409354,
          0.534367545613386,
          0.47495573868605623,
          0.5595861458948024,
          0.4880973835866194,
          0.5390775860810874,
          0.5046452954915918,
          0.35664619568362926,
          0.5146845826651298,
          0.4958310931080592,
          0.5273915924210699,
          0.3980931725722177,
          0.4578327538547605,
          0.5038788200802319,
          0.5338838578158672,
          0.5895578236437167,
          0.4984928146547681,
          0.5082288270649953,
          0.5091531597807921,
          0.5299620446094577,
          0.44284719643046444,
          0.377357937778788,
          0.4474592458283177,
          0.49028980114225795,
          0.47741013562390533,
          0.5487458233026081,
          0.5471144637785903,
          0.5205389823485117,
          0.47475656778171665,
          0.4912997214663973,
          0.4883533366328557,
          0.43358964584993187,
          0.4700169750916279,
          0.5539507277440644,
          0.4642883628744323,
          0.447028626316113,
          0.47361296777060735,
          0.38186706707747425,
          0.4743529237342426,
          0.4816690402867603,
          0.41517556259740884,
          0.4569875019675166,
          0.4425721455923889,
          0.48860867630252797,
          0.45103023370214745,
          0.549447198543996,
          0.5494865657318903,
          0.4740935427913195,
          0.5902753325616991,
          0.5193672096282221,
          0.44526084898281115,
          0.4647980342210793,
          0.41635955554375675,
          0.5473702093493064,
          0.5471989085701764,
          0.4764245870185247,
          0.4680237369386496,
          0.4939518430313629,
          0.4706311119931594,
          0.45839892174398833,
          0.47227293844256063,
          0.5829281557787135,
          0.5323382615403991,
          0.4797469932424695,
          0.42525569448424033,
          0.5297071511642054,
          0.5406519672931789,
          0.4546695047361737,
          0.6142375331913618,
          0.46775005241356377,
          0.5328298709100309,
          0.5468907857410366,
          0.4630385631721542,
          0.5676953538388467,
          0.5413937879965899,
          0.47890877105053997,
          0.44805012585230897,
          0.48071579117731095,
          0.49641586268174664,
          0.43422286616340006,
          0.5291914133941215,
          0.559256038994517,
          0.532894007246236,
          0.4557955027803391,
          0.5640175870701153,
          0.4986473212543554,
          0.458003495757855,
          0.511996261860306,
          0.47688962149542896,
          0.5621544843192071,
          0.47687771252643524,
          0.5307964319140529,
          0.5579683485313158,
          0.5482898976589056,
          0.4680347831108733,
          0.5215915370636984,
          0.5220330829835331,
          0.535243897882499,
          0.4920166934278572,
          0.49863822917017664,
          0.495867704217235,
          0.5008127137986768,
          0.41370037416740213,
          0.5111113324809193,
          0.43553289726277244,
          0.5721055408750055,
          0.4333491007422872,
          0.5555399684799295,
          0.5465892414866503,
          0.5276494319983304,
          0.5570811749197331,
          0.4793823417708455,
          0.45157419131931165,
          0.5427197217082851,
          0.538368987578063,
          0.5200542175035328,
          0.4737915550955776,
          0.5170714190020599,
          0.4683367227182111,
          0.4554257072776154,
          0.5056261174446495,
          0.46926663321085743,
          0.4910111191425037,
          0.4960845772053761,
          0.40864428883566234,
          0.5004023427954425,
          0.4550492099589274,
          0.4901361793609678,
          0.5617312412465628,
          0.47716344873507116,
          0.6153148873133698,
          0.526611087118845,
          0.50972272840036,
          0.4755406208156617,
          0.4315008012574366,
          0.46164424049208014,
          0.5070778439547798,
          0.4072012326575683,
          0.4388178510984488,
          0.4803640985915819,
          0.6106943622542597,
          0.4807007700205168,
          0.494909504615779,
          0.5460408686948374,
          0.5240531135194243,
          0.48492958140938874,
          0.4891246044851909,
          0.42041092200559044,
          0.5481063142635528,
          0.47991530354621215,
          0.5119805721985168,
          0.4786139977558311,
          0.40434593833984167,
          0.5490612605536664,
          0.5249277913243992,
          0.5267296589874728,
          0.6135591747505282,
          0.5431811264496621,
          0.5717084655162606,
          0.5529485714380514,
          0.44543485330638305,
          0.49820630714211517,
          0.47771904809098553,
          0.558371406912761,
          0.5511011726717676,
          0.4962021886345801,
          0.5403288924137144,
          0.47014069018907106,
          0.5301429463508675,
          0.5346526018334183,
          0.539023431009294,
          0.44022169178276677,
          0.5567839294665538,
          0.5115056112421602,
          0.5424362650299916,
          0.5366216471047428,
          0.4639503539955104,
          0.6390713102197824,
          0.46228448617993834,
          0.49646133185643065,
          0.5600667453210955,
          0.5006174475254644,
          0.5470224808274862,
          0.5188760038817001,
          0.515218977171334,
          0.5514721327415895,
          0.525425070566096,
          0.47381916750526143,
          0.4726095957370443,
          0.5191787082449975,
          0.5393592519389933,
          0.5623799160671057,
          0.5767248809816746,
          0.4700807764364433,
          0.545301102163207,
          0.6027062669322045,
          0.5123136501907252,
          0.601956504236474,
          0.46305875497398397,
          0.4561333537421294,
          0.47651808849889954,
          0.5671249975718307,
          0.5173133109688157,
          0.5560514907299876,
          0.517240753529879,
          0.5543662693830063,
          0.4166837746161295,
          0.44258145102052737,
          0.4152621859788961,
          0.4818226804308085,
          0.5550025273185542,
          0.5202986960063899,
          0.4860809489980975,
          0.5129075155143515,
          0.43059102584388653,
          0.5090323879140085,
          0.4871314800889868,
          0.5177782240123963,
          0.39338616830923306,
          0.46177766344893234,
          0.5418942644487695,
          0.5454773821095215,
          0.47095626161959653,
          0.5494314149357027,
          0.44422560761640634,
          0.48244817245126537,
          0.5455229380104675,
          0.5494360760936953,
          0.46647750541195343,
          0.5357403114895039,
          0.41758176803247177,
          0.47176527461003154,
          0.46971384926590526,
          0.5300418827626341,
          0.49654709094405436,
          0.6247586129045033,
          0.5330074632219516,
          0.49015490703146153,
          0.5258701265648266,
          0.4691362316910042,
          0.4306028814933119,
          0.5979596095572892,
          0.4952566755834669,
          0.6009647963882975,
          0.5260855656872342,
          0.41396717413603157,
          0.4456696753425881,
          0.5532536449011287,
          0.43777298940622,
          0.447043684367282,
          0.50006228141828,
          0.5037244758296345,
          0.5331839744277731,
          0.47831312507280216,
          0.5360100628542319,
          0.4659650849448865,
          0.4960214512467745,
          0.5159358577706581,
          0.4774786716519915,
          0.4591702526375696,
          0.5325308790501557,
          0.5353344614860862,
          0.45204962473947796,
          0.4700603453327761,
          0.4794352459137578,
          0.5418383563772647,
          0.44974936449431463,
          0.48150229139486433,
          0.5147708175843455,
          0.4651048797697342,
          0.5105922085178045,
          0.5595272024575372,
          0.48195336305501596,
          0.514611597193171,
          0.44941574444513366,
          0.4903289758901134,
          0.4382224228766705,
          0.4750970998426223,
          0.4983137508636765,
          0.45451610559358757,
          0.4496111050797821,
          0.5234086824948089,
          0.47162628293976977,
          0.4597370616429526,
          0.4999864912794934,
          0.49811658642374107,
          0.4749172861967565,
          0.5266473859010548,
          0.5742560220763812,
          0.443293146965804,
          0.5326315794239965,
          0.4401984555605447,
          0.5558108529570099,
          0.437551941000153,
          0.6186425257398775,
          0.450975566783807,
          0.42979927507070126,
          0.507451839676357,
          0.5299486718605858,
          0.49893195568032106,
          0.49370345028616686,
          0.4830218729654548,
          0.5419827315541221,
          0.4535118535816854,
          0.47249574596041843,
          0.4302093190143452,
          0.5062297930539089,
          0.5118580678433682,
          0.5032135735743958,
          0.4619067057480106,
          0.5214932494546823,
          0.4510011444644737,
          0.4837508069411858,
          0.5118350910750094,
          0.5435422011765981,
          0.4801674680081506,
          0.5037457716588519,
          0.38373495979991545,
          0.48523265838949436,
          0.43326656807538255,
          0.5139797671971252,
          0.45789834896434883,
          0.48925574395964555,
          0.46370221458215694,
          0.4940232100869059,
          0.4215390755306479,
          0.5376460790482569,
          0.5254490909712775,
          0.4654487199255971,
          0.5357103475212864,
          0.46790072539966077,
          0.5031056610427574,
          0.4381999834008408,
          0.4557404314937506,
          0.5304078979085064,
          0.5499201693415631,
          0.5189383810688057,
          0.5392613693288185,
          0.5355459005227751,
          0.43722294876645573,
          0.5317430596430567,
          0.49165979630074724,
          0.5322087232587112,
          0.4983942762180231,
          0.48361458660370205,
          0.42900416007216086,
          0.5506315949241554,
          0.46686088677501686,
          0.48294027474848905,
          0.4781591394996465,
          0.49403908328181967,
          0.4385844432158923,
          0.46625983539613797,
          0.4657953193760536,
          0.43330459792355375,
          0.5362222945062867,
          0.4972645495465102,
          0.5478891959845661,
          0.5031891269172987,
          0.5810976925538577,
          0.4527902378216413,
          0.4942578428939171,
          0.4987874250821528,
          0.53926499612661,
          0.47113864967292357,
          0.5290294345393648,
          0.5396511089979676,
          0.4937261228698872,
          0.5184289609916292,
          0.4544585599770756,
          0.5235962602788964,
          0.47420710490388496,
          0.4491501962772119,
          0.46716658063509003,
          0.4584487294437648,
          0.5205929268566913,
          0.5580645780910377,
          0.5170428914669449,
          0.40486675065587696,
          0.5656843080850232,
          0.5453574462433958,
          0.44753117496305783,
          0.5549574014818035,
          0.41437280123320497,
          0.4210823359635216,
          0.44136003680270997,
          0.6121463832468248,
          0.45080731114278455,
          0.44071204534757574,
          0.46806182482927094,
          0.48637723010804607,
          0.5269487238814535,
          0.5014312926080631,
          0.466221302581082,
          0.503204701518442,
          0.5349968575684226,
          0.5365210995246185,
          0.5076207704507568,
          0.44572141265619875,
          0.5253252228780999,
          0.3816190203947234,
          0.50292463669894,
          0.4820271894798862,
          0.45232433234700553,
          0.4603309536760087,
          0.5169145267330716,
          0.5173194398065835,
          0.4905590616640043,
          0.3613429587573935,
          0.5338401014482946,
          0.551544231616073,
          0.4976917048024718,
          0.39070952072126824,
          0.4626243123646293,
          0.4346825197715233,
          0.474787657833133,
          0.48657366529893764,
          0.5104062418238262,
          0.5425195368810211,
          0.4844678106825083,
          0.413960151553218,
          0.4759390012740611,
          0.5510437567858637,
          0.4683894523991492,
          0.42848278857615635,
          0.5799864307064093,
          0.5854864030557849,
          0.4967118191537824,
          0.537049627241404,
          0.49264884407757376,
          0.4405956399002454,
          0.5620520100939251,
          0.4322990442252485,
          0.5290144323636589,
          0.42784125931114503
         ],
         "xaxis": "x",
         "y": [
          1,
          1,
          1,
          1,
          1,
          1,
          1,
          1,
          1,
          1,
          1,
          1,
          1,
          1,
          1,
          1,
          1,
          1,
          1,
          1,
          1,
          1,
          1,
          1,
          1,
          1,
          1,
          1,
          1,
          1,
          1,
          1,
          1,
          1,
          1,
          1,
          1,
          1,
          1,
          1,
          1,
          1,
          1,
          1,
          1,
          1,
          1,
          1,
          1,
          1,
          1,
          1,
          1,
          1,
          1,
          1,
          1,
          1,
          1,
          1,
          1,
          1,
          1,
          1,
          1,
          1,
          1,
          1,
          1,
          1,
          1,
          1,
          1,
          1,
          1,
          1,
          1,
          1,
          1,
          1,
          1,
          1,
          1,
          1,
          1,
          1,
          1,
          1,
          1,
          1,
          1,
          1,
          1,
          1,
          1,
          1,
          1,
          1,
          1,
          1,
          1,
          1,
          1,
          1,
          1,
          1,
          1,
          1,
          1,
          1,
          1,
          1,
          1,
          1,
          1,
          1,
          1,
          1,
          1,
          1,
          1,
          1,
          1,
          1,
          1,
          1,
          1,
          1,
          1,
          1,
          1,
          1,
          1,
          1,
          1,
          1,
          1,
          1,
          1,
          1,
          1,
          1,
          1,
          1,
          1,
          1,
          1,
          1,
          1,
          1,
          1,
          1,
          1,
          1,
          1,
          1,
          1,
          1,
          1,
          1,
          1,
          1,
          1,
          1,
          1,
          1,
          1,
          1,
          1,
          1,
          1,
          1,
          1,
          1,
          1,
          1,
          1,
          1,
          1,
          1,
          1,
          1,
          1,
          1,
          1,
          1,
          1,
          1,
          1,
          1,
          1,
          1,
          1,
          1,
          1,
          1,
          1,
          1,
          1,
          1,
          1,
          1,
          1,
          1,
          1,
          1,
          1,
          1,
          1,
          1,
          1,
          1,
          1,
          1,
          1,
          1,
          1,
          1,
          1,
          1,
          1,
          1,
          1,
          1,
          1,
          1,
          1,
          1,
          1,
          1,
          1,
          1,
          1,
          1,
          1,
          1,
          1,
          1,
          1,
          1,
          1,
          1,
          1,
          1,
          1,
          1,
          1,
          1,
          1,
          1,
          1,
          1,
          1,
          1,
          1,
          1,
          1,
          1,
          1,
          1,
          1,
          1,
          1,
          1,
          1,
          1,
          1,
          1,
          1,
          1,
          1,
          1,
          1,
          1,
          1,
          1,
          1,
          1,
          1,
          1,
          1,
          1,
          1,
          1,
          1,
          1,
          1,
          1,
          1,
          1,
          1,
          1,
          1,
          1,
          1,
          1,
          1,
          1,
          1,
          1,
          1,
          1,
          1,
          1,
          1,
          1,
          1,
          1,
          1,
          1,
          1,
          1,
          1,
          1,
          1,
          1,
          1,
          1,
          1,
          1,
          1,
          1,
          1,
          1,
          1,
          1,
          1,
          1,
          1,
          1,
          1,
          1,
          1,
          1,
          1,
          1,
          1,
          1,
          1,
          1,
          1,
          1,
          1,
          1,
          1,
          1,
          1,
          1,
          1,
          1,
          1,
          1,
          1,
          1,
          1,
          1,
          1,
          1,
          1,
          1,
          1,
          1,
          1,
          1,
          1,
          1,
          1,
          1,
          1,
          1,
          1,
          1,
          1,
          1,
          1,
          1,
          1,
          1,
          1,
          1,
          1,
          1,
          1,
          1,
          1,
          1,
          1,
          1,
          1,
          1,
          1,
          1,
          1,
          1,
          1,
          1,
          1,
          1,
          1,
          1,
          1,
          1,
          1,
          1,
          1,
          1,
          1,
          1,
          1,
          1,
          1,
          1,
          1,
          1,
          1,
          1,
          1,
          1,
          1,
          1,
          1,
          1,
          1,
          1,
          1,
          1,
          1,
          1,
          1,
          1,
          1,
          1,
          1,
          1,
          1,
          1,
          1,
          1,
          1,
          1,
          1,
          1,
          1,
          1,
          1,
          1,
          1,
          1,
          1,
          1,
          1,
          1,
          1,
          1,
          1,
          1,
          1,
          1,
          1,
          1,
          1,
          1,
          1,
          1,
          1,
          1,
          1,
          1,
          1,
          1,
          1,
          1,
          1,
          1,
          1,
          1,
          1,
          1,
          1,
          1,
          1,
          1,
          1,
          1,
          1,
          1,
          1,
          1,
          1,
          1,
          1,
          1,
          1,
          1,
          1,
          1,
          1,
          1,
          1,
          1,
          1,
          1,
          1,
          1,
          1,
          1,
          1,
          1,
          1,
          1,
          1,
          1,
          1,
          1,
          1,
          1,
          1,
          1,
          1,
          1,
          1,
          1,
          1,
          1,
          1,
          1,
          1,
          1,
          1,
          1,
          1,
          1,
          1,
          1,
          1,
          1,
          1,
          1,
          1,
          1,
          1,
          1,
          1,
          1,
          1,
          1,
          1,
          1,
          1,
          1,
          1,
          1,
          1,
          1,
          1,
          1,
          1,
          1,
          1,
          1,
          1,
          1,
          1,
          1,
          1,
          1,
          1,
          1,
          1,
          1,
          1,
          1,
          1,
          1,
          1,
          1,
          1,
          1,
          1,
          1,
          1,
          1,
          1,
          1,
          1,
          1,
          1,
          1,
          1,
          1,
          1,
          1,
          1,
          1,
          1,
          1,
          1,
          1,
          1,
          1,
          1,
          1,
          1,
          1,
          1,
          1,
          1,
          1,
          1,
          1,
          1,
          1,
          1,
          1,
          1,
          1,
          1,
          1,
          1,
          1,
          1,
          1,
          1,
          1,
          1,
          1,
          1,
          1,
          1,
          1,
          1,
          1,
          1,
          1,
          1,
          1,
          1,
          1,
          1,
          1,
          1,
          1,
          1,
          1,
          1,
          1,
          1,
          1,
          1,
          1,
          1,
          1,
          1,
          1,
          1,
          1,
          1,
          1,
          1,
          1,
          1,
          1,
          1,
          1,
          1,
          1,
          1,
          1,
          1,
          1,
          1,
          1,
          1,
          1,
          1,
          1,
          1,
          1,
          1,
          1,
          1,
          1,
          1,
          1,
          1,
          1,
          1,
          1,
          1,
          1,
          1,
          1,
          1,
          1,
          1,
          1,
          1,
          1,
          1,
          1,
          1,
          1,
          1,
          1,
          1,
          1,
          1,
          1,
          1,
          1,
          1,
          1,
          1,
          1,
          1,
          1,
          1,
          1,
          1,
          1,
          1,
          1,
          1,
          1,
          1,
          1,
          1,
          1,
          1,
          1,
          1,
          1,
          1,
          1,
          1,
          1,
          1,
          1,
          1,
          1,
          1,
          1,
          1,
          1,
          1,
          1,
          1,
          1,
          1,
          1,
          1,
          1,
          1,
          1,
          1,
          1,
          1,
          1,
          1,
          1,
          1,
          1,
          1,
          1,
          1,
          1,
          1,
          1,
          1,
          1,
          1,
          1,
          1,
          1,
          1,
          1,
          1,
          1,
          1,
          1,
          1,
          1,
          1,
          1,
          1,
          1,
          1,
          1,
          1,
          1,
          1,
          1,
          1,
          1,
          1,
          1,
          1,
          1,
          1,
          1,
          1,
          1,
          1,
          1,
          1,
          1,
          1,
          1,
          1,
          1,
          1,
          1,
          1,
          1,
          1,
          1,
          1,
          1,
          1,
          1,
          1,
          1,
          1,
          1,
          1,
          1,
          1,
          1,
          1,
          1,
          1,
          1,
          1,
          1,
          1,
          1,
          1,
          1,
          1,
          1,
          1,
          1,
          1,
          1,
          1,
          1,
          1,
          1,
          1,
          1,
          1,
          1,
          1,
          1,
          1,
          1,
          1,
          1,
          1,
          1,
          1,
          1,
          1,
          1,
          1,
          1,
          1,
          1,
          1,
          1,
          1,
          1,
          1,
          1,
          1,
          1,
          1,
          1,
          1,
          1,
          1,
          1,
          1,
          1,
          1,
          1,
          1,
          1,
          1,
          1,
          1,
          1,
          1,
          1,
          1,
          1,
          1,
          1,
          1,
          1,
          1,
          1,
          1,
          1,
          1,
          1,
          1,
          1,
          1,
          1,
          1,
          1,
          1,
          1,
          1,
          1,
          1,
          1,
          1,
          1,
          1,
          1,
          1,
          1,
          1,
          1,
          1,
          1,
          1,
          1,
          1,
          1,
          1,
          1,
          1,
          1,
          1,
          1,
          1,
          1,
          1,
          1,
          1,
          1,
          1,
          1,
          1,
          1,
          1,
          1,
          1,
          1,
          1,
          1,
          1,
          1,
          1,
          1,
          1,
          1,
          1,
          1,
          1,
          1,
          1,
          1,
          1,
          1,
          1,
          1,
          1,
          1,
          1,
          1,
          1,
          1,
          1,
          1,
          1,
          1,
          1,
          1,
          1,
          1,
          1,
          1,
          1,
          1,
          1,
          1,
          1,
          1,
          1,
          1,
          1,
          1,
          1,
          1,
          1,
          1
         ],
         "yaxis": "y"
        }
       ],
       "layout": {
        "autosize": true,
        "barmode": "relative",
        "legend": {
         "tracegroupgap": 0
        },
        "margin": {
         "t": 60
        },
        "template": {
         "data": {
          "bar": [
           {
            "error_x": {
             "color": "#2a3f5f"
            },
            "error_y": {
             "color": "#2a3f5f"
            },
            "marker": {
             "line": {
              "color": "#E5ECF6",
              "width": 0.5
             },
             "pattern": {
              "fillmode": "overlay",
              "size": 10,
              "solidity": 0.2
             }
            },
            "type": "bar"
           }
          ],
          "barpolar": [
           {
            "marker": {
             "line": {
              "color": "#E5ECF6",
              "width": 0.5
             },
             "pattern": {
              "fillmode": "overlay",
              "size": 10,
              "solidity": 0.2
             }
            },
            "type": "barpolar"
           }
          ],
          "carpet": [
           {
            "aaxis": {
             "endlinecolor": "#2a3f5f",
             "gridcolor": "white",
             "linecolor": "white",
             "minorgridcolor": "white",
             "startlinecolor": "#2a3f5f"
            },
            "baxis": {
             "endlinecolor": "#2a3f5f",
             "gridcolor": "white",
             "linecolor": "white",
             "minorgridcolor": "white",
             "startlinecolor": "#2a3f5f"
            },
            "type": "carpet"
           }
          ],
          "choropleth": [
           {
            "colorbar": {
             "outlinewidth": 0,
             "ticks": ""
            },
            "type": "choropleth"
           }
          ],
          "contour": [
           {
            "colorbar": {
             "outlinewidth": 0,
             "ticks": ""
            },
            "colorscale": [
             [
              0,
              "#0d0887"
             ],
             [
              0.1111111111111111,
              "#46039f"
             ],
             [
              0.2222222222222222,
              "#7201a8"
             ],
             [
              0.3333333333333333,
              "#9c179e"
             ],
             [
              0.4444444444444444,
              "#bd3786"
             ],
             [
              0.5555555555555556,
              "#d8576b"
             ],
             [
              0.6666666666666666,
              "#ed7953"
             ],
             [
              0.7777777777777778,
              "#fb9f3a"
             ],
             [
              0.8888888888888888,
              "#fdca26"
             ],
             [
              1,
              "#f0f921"
             ]
            ],
            "type": "contour"
           }
          ],
          "contourcarpet": [
           {
            "colorbar": {
             "outlinewidth": 0,
             "ticks": ""
            },
            "type": "contourcarpet"
           }
          ],
          "heatmap": [
           {
            "colorbar": {
             "outlinewidth": 0,
             "ticks": ""
            },
            "colorscale": [
             [
              0,
              "#0d0887"
             ],
             [
              0.1111111111111111,
              "#46039f"
             ],
             [
              0.2222222222222222,
              "#7201a8"
             ],
             [
              0.3333333333333333,
              "#9c179e"
             ],
             [
              0.4444444444444444,
              "#bd3786"
             ],
             [
              0.5555555555555556,
              "#d8576b"
             ],
             [
              0.6666666666666666,
              "#ed7953"
             ],
             [
              0.7777777777777778,
              "#fb9f3a"
             ],
             [
              0.8888888888888888,
              "#fdca26"
             ],
             [
              1,
              "#f0f921"
             ]
            ],
            "type": "heatmap"
           }
          ],
          "heatmapgl": [
           {
            "colorbar": {
             "outlinewidth": 0,
             "ticks": ""
            },
            "colorscale": [
             [
              0,
              "#0d0887"
             ],
             [
              0.1111111111111111,
              "#46039f"
             ],
             [
              0.2222222222222222,
              "#7201a8"
             ],
             [
              0.3333333333333333,
              "#9c179e"
             ],
             [
              0.4444444444444444,
              "#bd3786"
             ],
             [
              0.5555555555555556,
              "#d8576b"
             ],
             [
              0.6666666666666666,
              "#ed7953"
             ],
             [
              0.7777777777777778,
              "#fb9f3a"
             ],
             [
              0.8888888888888888,
              "#fdca26"
             ],
             [
              1,
              "#f0f921"
             ]
            ],
            "type": "heatmapgl"
           }
          ],
          "histogram": [
           {
            "marker": {
             "pattern": {
              "fillmode": "overlay",
              "size": 10,
              "solidity": 0.2
             }
            },
            "type": "histogram"
           }
          ],
          "histogram2d": [
           {
            "colorbar": {
             "outlinewidth": 0,
             "ticks": ""
            },
            "colorscale": [
             [
              0,
              "#0d0887"
             ],
             [
              0.1111111111111111,
              "#46039f"
             ],
             [
              0.2222222222222222,
              "#7201a8"
             ],
             [
              0.3333333333333333,
              "#9c179e"
             ],
             [
              0.4444444444444444,
              "#bd3786"
             ],
             [
              0.5555555555555556,
              "#d8576b"
             ],
             [
              0.6666666666666666,
              "#ed7953"
             ],
             [
              0.7777777777777778,
              "#fb9f3a"
             ],
             [
              0.8888888888888888,
              "#fdca26"
             ],
             [
              1,
              "#f0f921"
             ]
            ],
            "type": "histogram2d"
           }
          ],
          "histogram2dcontour": [
           {
            "colorbar": {
             "outlinewidth": 0,
             "ticks": ""
            },
            "colorscale": [
             [
              0,
              "#0d0887"
             ],
             [
              0.1111111111111111,
              "#46039f"
             ],
             [
              0.2222222222222222,
              "#7201a8"
             ],
             [
              0.3333333333333333,
              "#9c179e"
             ],
             [
              0.4444444444444444,
              "#bd3786"
             ],
             [
              0.5555555555555556,
              "#d8576b"
             ],
             [
              0.6666666666666666,
              "#ed7953"
             ],
             [
              0.7777777777777778,
              "#fb9f3a"
             ],
             [
              0.8888888888888888,
              "#fdca26"
             ],
             [
              1,
              "#f0f921"
             ]
            ],
            "type": "histogram2dcontour"
           }
          ],
          "mesh3d": [
           {
            "colorbar": {
             "outlinewidth": 0,
             "ticks": ""
            },
            "type": "mesh3d"
           }
          ],
          "parcoords": [
           {
            "line": {
             "colorbar": {
              "outlinewidth": 0,
              "ticks": ""
             }
            },
            "type": "parcoords"
           }
          ],
          "pie": [
           {
            "automargin": true,
            "type": "pie"
           }
          ],
          "scatter": [
           {
            "fillpattern": {
             "fillmode": "overlay",
             "size": 10,
             "solidity": 0.2
            },
            "type": "scatter"
           }
          ],
          "scatter3d": [
           {
            "line": {
             "colorbar": {
              "outlinewidth": 0,
              "ticks": ""
             }
            },
            "marker": {
             "colorbar": {
              "outlinewidth": 0,
              "ticks": ""
             }
            },
            "type": "scatter3d"
           }
          ],
          "scattercarpet": [
           {
            "marker": {
             "colorbar": {
              "outlinewidth": 0,
              "ticks": ""
             }
            },
            "type": "scattercarpet"
           }
          ],
          "scattergeo": [
           {
            "marker": {
             "colorbar": {
              "outlinewidth": 0,
              "ticks": ""
             }
            },
            "type": "scattergeo"
           }
          ],
          "scattergl": [
           {
            "marker": {
             "colorbar": {
              "outlinewidth": 0,
              "ticks": ""
             }
            },
            "type": "scattergl"
           }
          ],
          "scattermapbox": [
           {
            "marker": {
             "colorbar": {
              "outlinewidth": 0,
              "ticks": ""
             }
            },
            "type": "scattermapbox"
           }
          ],
          "scatterpolar": [
           {
            "marker": {
             "colorbar": {
              "outlinewidth": 0,
              "ticks": ""
             }
            },
            "type": "scatterpolar"
           }
          ],
          "scatterpolargl": [
           {
            "marker": {
             "colorbar": {
              "outlinewidth": 0,
              "ticks": ""
             }
            },
            "type": "scatterpolargl"
           }
          ],
          "scatterternary": [
           {
            "marker": {
             "colorbar": {
              "outlinewidth": 0,
              "ticks": ""
             }
            },
            "type": "scatterternary"
           }
          ],
          "surface": [
           {
            "colorbar": {
             "outlinewidth": 0,
             "ticks": ""
            },
            "colorscale": [
             [
              0,
              "#0d0887"
             ],
             [
              0.1111111111111111,
              "#46039f"
             ],
             [
              0.2222222222222222,
              "#7201a8"
             ],
             [
              0.3333333333333333,
              "#9c179e"
             ],
             [
              0.4444444444444444,
              "#bd3786"
             ],
             [
              0.5555555555555556,
              "#d8576b"
             ],
             [
              0.6666666666666666,
              "#ed7953"
             ],
             [
              0.7777777777777778,
              "#fb9f3a"
             ],
             [
              0.8888888888888888,
              "#fdca26"
             ],
             [
              1,
              "#f0f921"
             ]
            ],
            "type": "surface"
           }
          ],
          "table": [
           {
            "cells": {
             "fill": {
              "color": "#EBF0F8"
             },
             "line": {
              "color": "white"
             }
            },
            "header": {
             "fill": {
              "color": "#C8D4E3"
             },
             "line": {
              "color": "white"
             }
            },
            "type": "table"
           }
          ]
         },
         "layout": {
          "annotationdefaults": {
           "arrowcolor": "#2a3f5f",
           "arrowhead": 0,
           "arrowwidth": 1
          },
          "autotypenumbers": "strict",
          "coloraxis": {
           "colorbar": {
            "outlinewidth": 0,
            "ticks": ""
           }
          },
          "colorscale": {
           "diverging": [
            [
             0,
             "#8e0152"
            ],
            [
             0.1,
             "#c51b7d"
            ],
            [
             0.2,
             "#de77ae"
            ],
            [
             0.3,
             "#f1b6da"
            ],
            [
             0.4,
             "#fde0ef"
            ],
            [
             0.5,
             "#f7f7f7"
            ],
            [
             0.6,
             "#e6f5d0"
            ],
            [
             0.7,
             "#b8e186"
            ],
            [
             0.8,
             "#7fbc41"
            ],
            [
             0.9,
             "#4d9221"
            ],
            [
             1,
             "#276419"
            ]
           ],
           "sequential": [
            [
             0,
             "#0d0887"
            ],
            [
             0.1111111111111111,
             "#46039f"
            ],
            [
             0.2222222222222222,
             "#7201a8"
            ],
            [
             0.3333333333333333,
             "#9c179e"
            ],
            [
             0.4444444444444444,
             "#bd3786"
            ],
            [
             0.5555555555555556,
             "#d8576b"
            ],
            [
             0.6666666666666666,
             "#ed7953"
            ],
            [
             0.7777777777777778,
             "#fb9f3a"
            ],
            [
             0.8888888888888888,
             "#fdca26"
            ],
            [
             1,
             "#f0f921"
            ]
           ],
           "sequentialminus": [
            [
             0,
             "#0d0887"
            ],
            [
             0.1111111111111111,
             "#46039f"
            ],
            [
             0.2222222222222222,
             "#7201a8"
            ],
            [
             0.3333333333333333,
             "#9c179e"
            ],
            [
             0.4444444444444444,
             "#bd3786"
            ],
            [
             0.5555555555555556,
             "#d8576b"
            ],
            [
             0.6666666666666666,
             "#ed7953"
            ],
            [
             0.7777777777777778,
             "#fb9f3a"
            ],
            [
             0.8888888888888888,
             "#fdca26"
            ],
            [
             1,
             "#f0f921"
            ]
           ]
          },
          "colorway": [
           "#636efa",
           "#EF553B",
           "#00cc96",
           "#ab63fa",
           "#FFA15A",
           "#19d3f3",
           "#FF6692",
           "#B6E880",
           "#FF97FF",
           "#FECB52"
          ],
          "font": {
           "color": "#2a3f5f"
          },
          "geo": {
           "bgcolor": "white",
           "lakecolor": "white",
           "landcolor": "#E5ECF6",
           "showlakes": true,
           "showland": true,
           "subunitcolor": "white"
          },
          "hoverlabel": {
           "align": "left"
          },
          "hovermode": "closest",
          "mapbox": {
           "style": "light"
          },
          "paper_bgcolor": "white",
          "plot_bgcolor": "#E5ECF6",
          "polar": {
           "angularaxis": {
            "gridcolor": "white",
            "linecolor": "white",
            "ticks": ""
           },
           "bgcolor": "#E5ECF6",
           "radialaxis": {
            "gridcolor": "white",
            "linecolor": "white",
            "ticks": ""
           }
          },
          "scene": {
           "xaxis": {
            "backgroundcolor": "#E5ECF6",
            "gridcolor": "white",
            "gridwidth": 2,
            "linecolor": "white",
            "showbackground": true,
            "ticks": "",
            "zerolinecolor": "white"
           },
           "yaxis": {
            "backgroundcolor": "#E5ECF6",
            "gridcolor": "white",
            "gridwidth": 2,
            "linecolor": "white",
            "showbackground": true,
            "ticks": "",
            "zerolinecolor": "white"
           },
           "zaxis": {
            "backgroundcolor": "#E5ECF6",
            "gridcolor": "white",
            "gridwidth": 2,
            "linecolor": "white",
            "showbackground": true,
            "ticks": "",
            "zerolinecolor": "white"
           }
          },
          "shapedefaults": {
           "line": {
            "color": "#2a3f5f"
           }
          },
          "ternary": {
           "aaxis": {
            "gridcolor": "white",
            "linecolor": "white",
            "ticks": ""
           },
           "baxis": {
            "gridcolor": "white",
            "linecolor": "white",
            "ticks": ""
           },
           "bgcolor": "#E5ECF6",
           "caxis": {
            "gridcolor": "white",
            "linecolor": "white",
            "ticks": ""
           }
          },
          "title": {
           "x": 0.05
          },
          "xaxis": {
           "automargin": true,
           "gridcolor": "white",
           "linecolor": "white",
           "ticks": "",
           "title": {
            "standoff": 15
           },
           "zerolinecolor": "white",
           "zerolinewidth": 2
          },
          "yaxis": {
           "automargin": true,
           "gridcolor": "white",
           "linecolor": "white",
           "ticks": "",
           "title": {
            "standoff": 15
           },
           "zerolinecolor": "white",
           "zerolinewidth": 2
          }
         }
        },
        "xaxis": {
         "anchor": "y",
         "autorange": true,
         "domain": [
          0,
          1
         ],
         "range": [
          0.32000000000000006,
          0.6799999999999999
         ],
         "title": {
          "text": "x"
         },
         "type": "linear"
        },
        "yaxis": {
         "anchor": "x",
         "autorange": true,
         "domain": [
          0,
          1
         ],
         "range": [
          0,
          155.78947368421052
         ],
         "title": {
          "text": "sum of y"
         },
         "type": "linear"
        }
       }
      },
      "text/html": [
       "<div>                            <div id=\"0182f5a5-3ed7-4f2d-ab56-4ac6e3d961f7\" class=\"plotly-graph-div\" style=\"height:525px; width:100%;\"></div>            <script type=\"text/javascript\">                require([\"plotly\"], function(Plotly) {                    window.PLOTLYENV=window.PLOTLYENV || {};                                    if (document.getElementById(\"0182f5a5-3ed7-4f2d-ab56-4ac6e3d961f7\")) {                    Plotly.newPlot(                        \"0182f5a5-3ed7-4f2d-ab56-4ac6e3d961f7\",                        [{\"alignmentgroup\":\"True\",\"bingroup\":\"x\",\"histfunc\":\"sum\",\"hovertemplate\":\"x=%{x}\\u003cbr\\u003esum of y=%{y}\\u003cextra\\u003e\\u003c\\u002fextra\\u003e\",\"legendgroup\":\"\",\"marker\":{\"color\":\"#636efa\",\"pattern\":{\"shape\":\"\"}},\"name\":\"\",\"nbinsx\":20,\"offsetgroup\":\"\",\"orientation\":\"v\",\"showlegend\":false,\"x\":[0.5180398845226952,0.5137242919702316,0.4725819334621073,0.4701398652313606,0.5051449828519968,0.46950163363269093,0.5580679247439341,0.5608790750535662,0.5918244757212776,0.46724591361591655,0.40636930305505836,0.5126053396704314,0.4927821255519889,0.5187615926751257,0.4672778683396779,0.4414408381763452,0.4801993517883954,0.6065374381599944,0.5631343667522051,0.5911800181839585,0.5313745981814226,0.47770633200567475,0.5424626173092022,0.6179573056440587,0.6155568114646434,0.4967799821992328,0.5351800598109971,0.4792153728006038,0.4630897191214001,0.4229465863977456,0.4892862001221118,0.5037586876029062,0.5343879819057116,0.44765539158693607,0.4738786690113012,0.4774386205266569,0.5000320755881539,0.5777505704865706,0.46652268759176124,0.4967776601803517,0.39859179982007054,0.39560269351333566,0.36247558175115957,0.41908834043318566,0.5302480774916953,0.4715898834718275,0.5292213002460135,0.4611180720570681,0.6150313811991036,0.40779307118725694,0.45526866347183553,0.6334461680748822,0.4450560008392251,0.507327267844318,0.49049530241077155,0.4295012289378335,0.5749366896633008,0.46722017687594847,0.48931499956032815,0.5532022339802369,0.5461404732080039,0.5506895831474075,0.6018942714619632,0.4571394553037139,0.5029764918378339,0.4560112111020677,0.4624305285273017,0.4349958448102194,0.5092954117966837,0.5807884284245365,0.4211401152893679,0.5475812003565608,0.45328650634315915,0.5611708161569038,0.48938166426516566,0.5147768662478165,0.4979719979275221,0.5075155757809716,0.4200159443079807,0.5441322584314188,0.5348560529875728,0.38035254328438056,0.5849909548411484,0.5484520513735811,0.4626342763084014,0.5128304598020433,0.5375424635761699,0.4277740497771021,0.4842408707936576,0.5182306488254844,0.5034333256742095,0.5528777306859721,0.4547082691348036,0.5074565489619919,0.39360912247694785,0.4783595470783469,0.47719655337092026,0.6219240055773873,0.48096034187583664,0.41477640192276016,0.42370346572753964,0.45919211609930566,0.6025884745287908,0.41634791878624894,0.43764896057789426,0.4873389371000596,0.4771267479724978,0.4661778152408884,0.445108477202858,0.4878629702590089,0.46085363447115396,0.5174290746211802,0.5421159785311122,0.4965004420272214,0.5293140821460057,0.4749132872505632,0.4348190787635782,0.46969906206044937,0.5248682353201215,0.38251062144055237,0.5292254121544978,0.508483158020811,0.5209452274316684,0.5450336465153824,0.521970934137449,0.5128004529374441,0.4818556880344859,0.5902946126418744,0.5203546189316527,0.5491946508568123,0.47179604850231505,0.47904057634924097,0.4059508328756549,0.5426835304160769,0.597309888428014,0.45571112979202294,0.5518353108090037,0.5774850972700839,0.37646684009042053,0.49676869481904057,0.509275943404876,0.6191513299534878,0.5173457097197662,0.4886875662136252,0.5738751322547287,0.589253803091513,0.4396881364416653,0.4475480713508435,0.49353344414814365,0.5395265670929621,0.5455418528007426,0.41294674227218886,0.4457401646595038,0.49857109088480744,0.3823250601453335,0.46981151355703465,0.513649000947462,0.5124485587506761,0.4858038318679844,0.521574987205229,0.6000011074262264,0.5049303164721582,0.5114458723859262,0.520891063894467,0.5114914469376994,0.4890154869543165,0.4686238728081967,0.5157440923392167,0.5418256056062771,0.5092551966546842,0.5828890743191061,0.38015634190010833,0.5204333331313552,0.5112946746382744,0.5896672528448338,0.5328616456583788,0.4509604240147971,0.5658708455872303,0.45538866778485776,0.48945448386382145,0.4174646411946224,0.5336664857663344,0.4936896139945136,0.5183539899413756,0.4542422833196732,0.4628821746747448,0.47289627350406116,0.5147308794724984,0.543546554887073,0.5465857381582777,0.48946180820066526,0.4730740079738156,0.4671546560866988,0.4543317332213728,0.5017281980118773,0.5816154597567889,0.47878527905549884,0.4790143503535462,0.5013781313637022,0.5099505996469545,0.48617158029203394,0.45239684527243895,0.4648840482908753,0.45376946102679333,0.5450638496751071,0.48001549318060965,0.48918880114734536,0.5069840959591073,0.49852013438747284,0.46325657482811927,0.5471786915998921,0.4955377667822858,0.44212782793113614,0.5230999140772707,0.45274672760786555,0.3886031662611002,0.555195510774916,0.4686366172104797,0.4793302028469727,0.5173892372565194,0.49237078185012195,0.44270969719376363,0.49692899244685956,0.5067655815238714,0.5737357939835701,0.45643523394758745,0.46908897923799475,0.43862851243457573,0.5383012398519988,0.41051511987347805,0.6197518458232736,0.4460894978328852,0.3906327227433383,0.4290275144565874,0.4842626004013686,0.3358688887523805,0.4432271756182513,0.5255124024649893,0.49598268970634196,0.5369959776811335,0.530553083297511,0.49216152226437687,0.5453205990341474,0.4725970069295073,0.4789561521170365,0.4654170113865426,0.48942155437208257,0.5838790166491707,0.5638463058159143,0.39364259854527867,0.4399364495453574,0.44794506547135066,0.46420496159427527,0.526468995984938,0.5244422080074554,0.4866298820215506,0.5804556577130932,0.5192500636764242,0.468976093825382,0.5178190898421237,0.49991597140956356,0.46024137910666446,0.3962806000160707,0.5893279056233723,0.523139048455157,0.4564713034609085,0.5322520554415198,0.4895831027936444,0.44231240432062197,0.5339533349520482,0.5263472922514282,0.5123841790144352,0.5739565150239617,0.4668944391324742,0.4242762967527376,0.4643064569839412,0.5405223035037366,0.5241087908317242,0.42810294077844613,0.4954143067002513,0.5525861889554172,0.4965208580363268,0.42565381477301306,0.5105158301115543,0.5453548343011331,0.5171983939165598,0.42314188566878386,0.5313825583502156,0.524998945864184,0.4999378810008934,0.5762169584519389,0.5770312598843791,0.5524439266309911,0.471563201712443,0.38585295231168404,0.44738434613200656,0.443022912960059,0.4949569320220119,0.5139322302055036,0.5344100928795081,0.49540607908549256,0.4580234044863804,0.4009164971461384,0.5070094562031782,0.550205659561795,0.5325436169080496,0.45564659636055277,0.4760933651378552,0.4311532134451952,0.4678896170958679,0.4442789145738681,0.4618400572448402,0.49149998953253565,0.45942411432634045,0.4909734465063879,0.43848433473172743,0.6256289950405609,0.4790060265357694,0.5761156297751028,0.4572084396789901,0.4577913307083081,0.461335691446279,0.45650919644264476,0.5609318553792274,0.5287217216934197,0.5130910224096548,0.5571626543121998,0.5976729865947601,0.4590666186759239,0.5095510002051397,0.6152523337415068,0.5264197827478154,0.4217874134318043,0.568772002193177,0.4566142771146502,0.48509974895450547,0.6203960182245588,0.5676641891015006,0.4701064991375585,0.36397108163949077,0.5558905414845329,0.5000502246051749,0.47793196441174773,0.4498367600643393,0.5607865367723788,0.4388866710646175,0.4207090359147049,0.41824078179383695,0.4074969566163668,0.4518722490659409,0.48676020308990997,0.5116059262422213,0.47223062896451345,0.5613001548496532,0.4576412746151141,0.4661819173547587,0.6202609684148224,0.4632556599877528,0.5429544576272475,0.4975375619311535,0.5146783845118525,0.5203842949915471,0.5653580708056206,0.5102816871093849,0.5031057650376393,0.5613910028260186,0.524660741181234,0.4739529333440499,0.507901085745836,0.38447773661821294,0.4917072498268091,0.5386305988302872,0.47966754123045197,0.4509904858023351,0.5072514193160028,0.5282257054914945,0.5017775768163519,0.5089133832701429,0.4366971060908182,0.4442368412939772,0.48608307653280813,0.4828297486770576,0.5968017672513405,0.4189730508778646,0.5446959363386249,0.47341657231772594,0.5184012291522119,0.48453948572133154,0.48385883589852763,0.45759463740900996,0.5101132264091129,0.49272976478425706,0.46788203073626344,0.4798076542849225,0.5215182082772382,0.5461636248973764,0.5436233600042508,0.5342947824982734,0.5374042631659084,0.5608256317420961,0.4918213401871049,0.5293112381378234,0.5483388086693415,0.44803518576040896,0.4180695699243147,0.4810482461306381,0.5450860155339738,0.43774701934111154,0.5001325957734529,0.5364932235392941,0.4974360694661038,0.5816138139435186,0.5703308534809054,0.4812465887243508,0.46072163599648686,0.5778280293893326,0.49823554295363,0.4501001211163413,0.5501878816836973,0.46722254649360856,0.5553102229322849,0.6180518502436176,0.48742395139002326,0.49410410331577964,0.48502246485696254,0.5584189270549162,0.503442912861383,0.5030392443067211,0.5147481372883107,0.5627800704534655,0.5483332845790502,0.5065404056484814,0.5378535245029602,0.4691881202449937,0.47837677925431593,0.5992296201348755,0.4817519740879507,0.5600038615208988,0.46684658189471756,0.5442247096968655,0.6083309309569609,0.43182596511242083,0.4942951118696218,0.595405153423289,0.528900166328313,0.492210792627562,0.5171274074551576,0.4190815171319416,0.4725545168242566,0.5228740282641404,0.35155649824341,0.5449499073768753,0.43782393408022274,0.5409868671026455,0.5091618752759395,0.4587692310174436,0.5259305696135945,0.4637832765891384,0.4840972671080009,0.45969132368793386,0.4956315061450365,0.4967350450654196,0.4319232600844644,0.5369685489341129,0.586662471690682,0.4868246270923259,0.4850973985746327,0.42931555511260344,0.552336062889851,0.44652378740042736,0.5059572545458509,0.41565044829176234,0.38231125663480003,0.524247889910336,0.46767655605019687,0.37723041812749963,0.4962652621971237,0.621639166266902,0.4381920057609789,0.5193528574835249,0.5310866475479629,0.5511842341475817,0.5731214168279554,0.5058437383582247,0.4833038380335674,0.4372137404929187,0.5419984448886003,0.43342263872423475,0.5371974295220877,0.4452394737337753,0.5634669959279363,0.43218279058770565,0.5196604271343952,0.527626414582545,0.5420506353672222,0.5437775686867423,0.3780010315006947,0.5819139370503096,0.508216329639062,0.5955812785580136,0.5535385327656779,0.5377696726473279,0.5069497783662731,0.5369960286088343,0.530879682182178,0.5413139878997957,0.5158429580139794,0.4945559071568418,0.5361029962239676,0.5283406339288725,0.49431565759948437,0.4058043169672422,0.6010020259110177,0.43271133991411986,0.5317571719015909,0.47683006599664945,0.5892773568814185,0.527679269477318,0.5660774228093373,0.5167020403658862,0.4536564050313623,0.4543410632883344,0.47472652507958635,0.44853491553956704,0.467412213960557,0.5162585054297711,0.5802023236599475,0.5473067297045555,0.5136147879001067,0.5107469822390127,0.4614222468581729,0.47092821061134094,0.5066818376358075,0.5095465457179404,0.5231867070902994,0.5156579847922069,0.5837176763598403,0.4747589385013237,0.4469655277137387,0.4110933350418022,0.5372040156593676,0.503263248247342,0.5047892584011981,0.455866002988144,0.49753400033257783,0.5213966628563313,0.507482213971225,0.4374493118233516,0.4923500182068371,0.44067078153632855,0.5105889671318494,0.5832516702519497,0.4951750296421239,0.523617978625321,0.45354226963781413,0.4513281398909903,0.5309542320279325,0.48100655423347805,0.5638939163169685,0.5171042101353729,0.5093092005144644,0.5393741398800859,0.48000954924022293,0.5563556243198597,0.6685796029327798,0.5127440154409354,0.534367545613386,0.47495573868605623,0.5595861458948024,0.4880973835866194,0.5390775860810874,0.5046452954915918,0.35664619568362926,0.5146845826651298,0.4958310931080592,0.5273915924210699,0.3980931725722177,0.4578327538547605,0.5038788200802319,0.5338838578158672,0.5895578236437167,0.4984928146547681,0.5082288270649953,0.5091531597807921,0.5299620446094577,0.44284719643046444,0.377357937778788,0.4474592458283177,0.49028980114225795,0.47741013562390533,0.5487458233026081,0.5471144637785903,0.5205389823485117,0.47475656778171665,0.4912997214663973,0.4883533366328557,0.43358964584993187,0.4700169750916279,0.5539507277440644,0.4642883628744323,0.447028626316113,0.47361296777060735,0.38186706707747425,0.4743529237342426,0.4816690402867603,0.41517556259740884,0.4569875019675166,0.4425721455923889,0.48860867630252797,0.45103023370214745,0.549447198543996,0.5494865657318903,0.4740935427913195,0.5902753325616991,0.5193672096282221,0.44526084898281115,0.4647980342210793,0.41635955554375675,0.5473702093493064,0.5471989085701764,0.4764245870185247,0.4680237369386496,0.4939518430313629,0.4706311119931594,0.45839892174398833,0.47227293844256063,0.5829281557787135,0.5323382615403991,0.4797469932424695,0.42525569448424033,0.5297071511642054,0.5406519672931789,0.4546695047361737,0.6142375331913618,0.46775005241356377,0.5328298709100309,0.5468907857410366,0.4630385631721542,0.5676953538388467,0.5413937879965899,0.47890877105053997,0.44805012585230897,0.48071579117731095,0.49641586268174664,0.43422286616340006,0.5291914133941215,0.559256038994517,0.532894007246236,0.4557955027803391,0.5640175870701153,0.4986473212543554,0.458003495757855,0.511996261860306,0.47688962149542896,0.5621544843192071,0.47687771252643524,0.5307964319140529,0.5579683485313158,0.5482898976589056,0.4680347831108733,0.5215915370636984,0.5220330829835331,0.535243897882499,0.4920166934278572,0.49863822917017664,0.495867704217235,0.5008127137986768,0.41370037416740213,0.5111113324809193,0.43553289726277244,0.5721055408750055,0.4333491007422872,0.5555399684799295,0.5465892414866503,0.5276494319983304,0.5570811749197331,0.4793823417708455,0.45157419131931165,0.5427197217082851,0.538368987578063,0.5200542175035328,0.4737915550955776,0.5170714190020599,0.4683367227182111,0.4554257072776154,0.5056261174446495,0.46926663321085743,0.4910111191425037,0.4960845772053761,0.40864428883566234,0.5004023427954425,0.4550492099589274,0.4901361793609678,0.5617312412465628,0.47716344873507116,0.6153148873133698,0.526611087118845,0.50972272840036,0.4755406208156617,0.4315008012574366,0.46164424049208014,0.5070778439547798,0.4072012326575683,0.4388178510984488,0.4803640985915819,0.6106943622542597,0.4807007700205168,0.494909504615779,0.5460408686948374,0.5240531135194243,0.48492958140938874,0.4891246044851909,0.42041092200559044,0.5481063142635528,0.47991530354621215,0.5119805721985168,0.4786139977558311,0.40434593833984167,0.5490612605536664,0.5249277913243992,0.5267296589874728,0.6135591747505282,0.5431811264496621,0.5717084655162606,0.5529485714380514,0.44543485330638305,0.49820630714211517,0.47771904809098553,0.558371406912761,0.5511011726717676,0.4962021886345801,0.5403288924137144,0.47014069018907106,0.5301429463508675,0.5346526018334183,0.539023431009294,0.44022169178276677,0.5567839294665538,0.5115056112421602,0.5424362650299916,0.5366216471047428,0.4639503539955104,0.6390713102197824,0.46228448617993834,0.49646133185643065,0.5600667453210955,0.5006174475254644,0.5470224808274862,0.5188760038817001,0.515218977171334,0.5514721327415895,0.525425070566096,0.47381916750526143,0.4726095957370443,0.5191787082449975,0.5393592519389933,0.5623799160671057,0.5767248809816746,0.4700807764364433,0.545301102163207,0.6027062669322045,0.5123136501907252,0.601956504236474,0.46305875497398397,0.4561333537421294,0.47651808849889954,0.5671249975718307,0.5173133109688157,0.5560514907299876,0.517240753529879,0.5543662693830063,0.4166837746161295,0.44258145102052737,0.4152621859788961,0.4818226804308085,0.5550025273185542,0.5202986960063899,0.4860809489980975,0.5129075155143515,0.43059102584388653,0.5090323879140085,0.4871314800889868,0.5177782240123963,0.39338616830923306,0.46177766344893234,0.5418942644487695,0.5454773821095215,0.47095626161959653,0.5494314149357027,0.44422560761640634,0.48244817245126537,0.5455229380104675,0.5494360760936953,0.46647750541195343,0.5357403114895039,0.41758176803247177,0.47176527461003154,0.46971384926590526,0.5300418827626341,0.49654709094405436,0.6247586129045033,0.5330074632219516,0.49015490703146153,0.5258701265648266,0.4691362316910042,0.4306028814933119,0.5979596095572892,0.4952566755834669,0.6009647963882975,0.5260855656872342,0.41396717413603157,0.4456696753425881,0.5532536449011287,0.43777298940622,0.447043684367282,0.50006228141828,0.5037244758296345,0.5331839744277731,0.47831312507280216,0.5360100628542319,0.4659650849448865,0.4960214512467745,0.5159358577706581,0.4774786716519915,0.4591702526375696,0.5325308790501557,0.5353344614860862,0.45204962473947796,0.4700603453327761,0.4794352459137578,0.5418383563772647,0.44974936449431463,0.48150229139486433,0.5147708175843455,0.4651048797697342,0.5105922085178045,0.5595272024575372,0.48195336305501596,0.514611597193171,0.44941574444513366,0.4903289758901134,0.4382224228766705,0.4750970998426223,0.4983137508636765,0.45451610559358757,0.4496111050797821,0.5234086824948089,0.47162628293976977,0.4597370616429526,0.4999864912794934,0.49811658642374107,0.4749172861967565,0.5266473859010548,0.5742560220763812,0.443293146965804,0.5326315794239965,0.4401984555605447,0.5558108529570099,0.437551941000153,0.6186425257398775,0.450975566783807,0.42979927507070126,0.507451839676357,0.5299486718605858,0.49893195568032106,0.49370345028616686,0.4830218729654548,0.5419827315541221,0.4535118535816854,0.47249574596041843,0.4302093190143452,0.5062297930539089,0.5118580678433682,0.5032135735743958,0.4619067057480106,0.5214932494546823,0.4510011444644737,0.4837508069411858,0.5118350910750094,0.5435422011765981,0.4801674680081506,0.5037457716588519,0.38373495979991545,0.48523265838949436,0.43326656807538255,0.5139797671971252,0.45789834896434883,0.48925574395964555,0.46370221458215694,0.4940232100869059,0.4215390755306479,0.5376460790482569,0.5254490909712775,0.4654487199255971,0.5357103475212864,0.46790072539966077,0.5031056610427574,0.4381999834008408,0.4557404314937506,0.5304078979085064,0.5499201693415631,0.5189383810688057,0.5392613693288185,0.5355459005227751,0.43722294876645573,0.5317430596430567,0.49165979630074724,0.5322087232587112,0.4983942762180231,0.48361458660370205,0.42900416007216086,0.5506315949241554,0.46686088677501686,0.48294027474848905,0.4781591394996465,0.49403908328181967,0.4385844432158923,0.46625983539613797,0.4657953193760536,0.43330459792355375,0.5362222945062867,0.4972645495465102,0.5478891959845661,0.5031891269172987,0.5810976925538577,0.4527902378216413,0.4942578428939171,0.4987874250821528,0.53926499612661,0.47113864967292357,0.5290294345393648,0.5396511089979676,0.4937261228698872,0.5184289609916292,0.4544585599770756,0.5235962602788964,0.47420710490388496,0.4491501962772119,0.46716658063509003,0.4584487294437648,0.5205929268566913,0.5580645780910377,0.5170428914669449,0.40486675065587696,0.5656843080850232,0.5453574462433958,0.44753117496305783,0.5549574014818035,0.41437280123320497,0.4210823359635216,0.44136003680270997,0.6121463832468248,0.45080731114278455,0.44071204534757574,0.46806182482927094,0.48637723010804607,0.5269487238814535,0.5014312926080631,0.466221302581082,0.503204701518442,0.5349968575684226,0.5365210995246185,0.5076207704507568,0.44572141265619875,0.5253252228780999,0.3816190203947234,0.50292463669894,0.4820271894798862,0.45232433234700553,0.4603309536760087,0.5169145267330716,0.5173194398065835,0.4905590616640043,0.3613429587573935,0.5338401014482946,0.551544231616073,0.4976917048024718,0.39070952072126824,0.4626243123646293,0.4346825197715233,0.474787657833133,0.48657366529893764,0.5104062418238262,0.5425195368810211,0.4844678106825083,0.413960151553218,0.4759390012740611,0.5510437567858637,0.4683894523991492,0.42848278857615635,0.5799864307064093,0.5854864030557849,0.4967118191537824,0.537049627241404,0.49264884407757376,0.4405956399002454,0.5620520100939251,0.4322990442252485,0.5290144323636589,0.42784125931114503],\"xaxis\":\"x\",\"y\":[1,1,1,1,1,1,1,1,1,1,1,1,1,1,1,1,1,1,1,1,1,1,1,1,1,1,1,1,1,1,1,1,1,1,1,1,1,1,1,1,1,1,1,1,1,1,1,1,1,1,1,1,1,1,1,1,1,1,1,1,1,1,1,1,1,1,1,1,1,1,1,1,1,1,1,1,1,1,1,1,1,1,1,1,1,1,1,1,1,1,1,1,1,1,1,1,1,1,1,1,1,1,1,1,1,1,1,1,1,1,1,1,1,1,1,1,1,1,1,1,1,1,1,1,1,1,1,1,1,1,1,1,1,1,1,1,1,1,1,1,1,1,1,1,1,1,1,1,1,1,1,1,1,1,1,1,1,1,1,1,1,1,1,1,1,1,1,1,1,1,1,1,1,1,1,1,1,1,1,1,1,1,1,1,1,1,1,1,1,1,1,1,1,1,1,1,1,1,1,1,1,1,1,1,1,1,1,1,1,1,1,1,1,1,1,1,1,1,1,1,1,1,1,1,1,1,1,1,1,1,1,1,1,1,1,1,1,1,1,1,1,1,1,1,1,1,1,1,1,1,1,1,1,1,1,1,1,1,1,1,1,1,1,1,1,1,1,1,1,1,1,1,1,1,1,1,1,1,1,1,1,1,1,1,1,1,1,1,1,1,1,1,1,1,1,1,1,1,1,1,1,1,1,1,1,1,1,1,1,1,1,1,1,1,1,1,1,1,1,1,1,1,1,1,1,1,1,1,1,1,1,1,1,1,1,1,1,1,1,1,1,1,1,1,1,1,1,1,1,1,1,1,1,1,1,1,1,1,1,1,1,1,1,1,1,1,1,1,1,1,1,1,1,1,1,1,1,1,1,1,1,1,1,1,1,1,1,1,1,1,1,1,1,1,1,1,1,1,1,1,1,1,1,1,1,1,1,1,1,1,1,1,1,1,1,1,1,1,1,1,1,1,1,1,1,1,1,1,1,1,1,1,1,1,1,1,1,1,1,1,1,1,1,1,1,1,1,1,1,1,1,1,1,1,1,1,1,1,1,1,1,1,1,1,1,1,1,1,1,1,1,1,1,1,1,1,1,1,1,1,1,1,1,1,1,1,1,1,1,1,1,1,1,1,1,1,1,1,1,1,1,1,1,1,1,1,1,1,1,1,1,1,1,1,1,1,1,1,1,1,1,1,1,1,1,1,1,1,1,1,1,1,1,1,1,1,1,1,1,1,1,1,1,1,1,1,1,1,1,1,1,1,1,1,1,1,1,1,1,1,1,1,1,1,1,1,1,1,1,1,1,1,1,1,1,1,1,1,1,1,1,1,1,1,1,1,1,1,1,1,1,1,1,1,1,1,1,1,1,1,1,1,1,1,1,1,1,1,1,1,1,1,1,1,1,1,1,1,1,1,1,1,1,1,1,1,1,1,1,1,1,1,1,1,1,1,1,1,1,1,1,1,1,1,1,1,1,1,1,1,1,1,1,1,1,1,1,1,1,1,1,1,1,1,1,1,1,1,1,1,1,1,1,1,1,1,1,1,1,1,1,1,1,1,1,1,1,1,1,1,1,1,1,1,1,1,1,1,1,1,1,1,1,1,1,1,1,1,1,1,1,1,1,1,1,1,1,1,1,1,1,1,1,1,1,1,1,1,1,1,1,1,1,1,1,1,1,1,1,1,1,1,1,1,1,1,1,1,1,1,1,1,1,1,1,1,1,1,1,1,1,1,1,1,1,1,1,1,1,1,1,1,1,1,1,1,1,1,1,1,1,1,1,1,1,1,1,1,1,1,1,1,1,1,1,1,1,1,1,1,1,1,1,1,1,1,1,1,1,1,1,1,1,1,1,1,1,1,1,1,1,1,1,1,1,1,1,1,1,1,1,1,1,1,1,1,1,1,1,1,1,1,1,1,1,1,1,1,1,1,1,1,1,1,1,1,1,1,1,1,1,1,1,1,1,1,1,1,1,1,1,1,1,1,1,1,1,1,1,1,1,1,1,1,1,1,1,1,1,1,1,1,1,1,1,1,1,1,1,1,1,1,1,1,1,1,1,1,1,1,1,1,1,1,1,1,1,1,1,1,1,1,1,1,1,1,1,1,1,1,1,1,1,1,1,1,1,1,1,1,1,1,1,1,1,1,1,1,1,1,1,1,1,1,1,1,1,1,1,1,1,1,1,1,1,1,1,1,1,1,1,1,1,1,1,1,1,1,1,1,1,1,1,1,1,1,1,1,1,1,1,1,1,1,1,1,1,1,1,1],\"yaxis\":\"y\",\"type\":\"histogram\"}],                        {\"template\":{\"data\":{\"histogram2dcontour\":[{\"type\":\"histogram2dcontour\",\"colorbar\":{\"outlinewidth\":0,\"ticks\":\"\"},\"colorscale\":[[0.0,\"#0d0887\"],[0.1111111111111111,\"#46039f\"],[0.2222222222222222,\"#7201a8\"],[0.3333333333333333,\"#9c179e\"],[0.4444444444444444,\"#bd3786\"],[0.5555555555555556,\"#d8576b\"],[0.6666666666666666,\"#ed7953\"],[0.7777777777777778,\"#fb9f3a\"],[0.8888888888888888,\"#fdca26\"],[1.0,\"#f0f921\"]]}],\"choropleth\":[{\"type\":\"choropleth\",\"colorbar\":{\"outlinewidth\":0,\"ticks\":\"\"}}],\"histogram2d\":[{\"type\":\"histogram2d\",\"colorbar\":{\"outlinewidth\":0,\"ticks\":\"\"},\"colorscale\":[[0.0,\"#0d0887\"],[0.1111111111111111,\"#46039f\"],[0.2222222222222222,\"#7201a8\"],[0.3333333333333333,\"#9c179e\"],[0.4444444444444444,\"#bd3786\"],[0.5555555555555556,\"#d8576b\"],[0.6666666666666666,\"#ed7953\"],[0.7777777777777778,\"#fb9f3a\"],[0.8888888888888888,\"#fdca26\"],[1.0,\"#f0f921\"]]}],\"heatmap\":[{\"type\":\"heatmap\",\"colorbar\":{\"outlinewidth\":0,\"ticks\":\"\"},\"colorscale\":[[0.0,\"#0d0887\"],[0.1111111111111111,\"#46039f\"],[0.2222222222222222,\"#7201a8\"],[0.3333333333333333,\"#9c179e\"],[0.4444444444444444,\"#bd3786\"],[0.5555555555555556,\"#d8576b\"],[0.6666666666666666,\"#ed7953\"],[0.7777777777777778,\"#fb9f3a\"],[0.8888888888888888,\"#fdca26\"],[1.0,\"#f0f921\"]]}],\"heatmapgl\":[{\"type\":\"heatmapgl\",\"colorbar\":{\"outlinewidth\":0,\"ticks\":\"\"},\"colorscale\":[[0.0,\"#0d0887\"],[0.1111111111111111,\"#46039f\"],[0.2222222222222222,\"#7201a8\"],[0.3333333333333333,\"#9c179e\"],[0.4444444444444444,\"#bd3786\"],[0.5555555555555556,\"#d8576b\"],[0.6666666666666666,\"#ed7953\"],[0.7777777777777778,\"#fb9f3a\"],[0.8888888888888888,\"#fdca26\"],[1.0,\"#f0f921\"]]}],\"contourcarpet\":[{\"type\":\"contourcarpet\",\"colorbar\":{\"outlinewidth\":0,\"ticks\":\"\"}}],\"contour\":[{\"type\":\"contour\",\"colorbar\":{\"outlinewidth\":0,\"ticks\":\"\"},\"colorscale\":[[0.0,\"#0d0887\"],[0.1111111111111111,\"#46039f\"],[0.2222222222222222,\"#7201a8\"],[0.3333333333333333,\"#9c179e\"],[0.4444444444444444,\"#bd3786\"],[0.5555555555555556,\"#d8576b\"],[0.6666666666666666,\"#ed7953\"],[0.7777777777777778,\"#fb9f3a\"],[0.8888888888888888,\"#fdca26\"],[1.0,\"#f0f921\"]]}],\"surface\":[{\"type\":\"surface\",\"colorbar\":{\"outlinewidth\":0,\"ticks\":\"\"},\"colorscale\":[[0.0,\"#0d0887\"],[0.1111111111111111,\"#46039f\"],[0.2222222222222222,\"#7201a8\"],[0.3333333333333333,\"#9c179e\"],[0.4444444444444444,\"#bd3786\"],[0.5555555555555556,\"#d8576b\"],[0.6666666666666666,\"#ed7953\"],[0.7777777777777778,\"#fb9f3a\"],[0.8888888888888888,\"#fdca26\"],[1.0,\"#f0f921\"]]}],\"mesh3d\":[{\"type\":\"mesh3d\",\"colorbar\":{\"outlinewidth\":0,\"ticks\":\"\"}}],\"scatter\":[{\"fillpattern\":{\"fillmode\":\"overlay\",\"size\":10,\"solidity\":0.2},\"type\":\"scatter\"}],\"parcoords\":[{\"type\":\"parcoords\",\"line\":{\"colorbar\":{\"outlinewidth\":0,\"ticks\":\"\"}}}],\"scatterpolargl\":[{\"type\":\"scatterpolargl\",\"marker\":{\"colorbar\":{\"outlinewidth\":0,\"ticks\":\"\"}}}],\"bar\":[{\"error_x\":{\"color\":\"#2a3f5f\"},\"error_y\":{\"color\":\"#2a3f5f\"},\"marker\":{\"line\":{\"color\":\"#E5ECF6\",\"width\":0.5},\"pattern\":{\"fillmode\":\"overlay\",\"size\":10,\"solidity\":0.2}},\"type\":\"bar\"}],\"scattergeo\":[{\"type\":\"scattergeo\",\"marker\":{\"colorbar\":{\"outlinewidth\":0,\"ticks\":\"\"}}}],\"scatterpolar\":[{\"type\":\"scatterpolar\",\"marker\":{\"colorbar\":{\"outlinewidth\":0,\"ticks\":\"\"}}}],\"histogram\":[{\"marker\":{\"pattern\":{\"fillmode\":\"overlay\",\"size\":10,\"solidity\":0.2}},\"type\":\"histogram\"}],\"scattergl\":[{\"type\":\"scattergl\",\"marker\":{\"colorbar\":{\"outlinewidth\":0,\"ticks\":\"\"}}}],\"scatter3d\":[{\"type\":\"scatter3d\",\"line\":{\"colorbar\":{\"outlinewidth\":0,\"ticks\":\"\"}},\"marker\":{\"colorbar\":{\"outlinewidth\":0,\"ticks\":\"\"}}}],\"scattermapbox\":[{\"type\":\"scattermapbox\",\"marker\":{\"colorbar\":{\"outlinewidth\":0,\"ticks\":\"\"}}}],\"scatterternary\":[{\"type\":\"scatterternary\",\"marker\":{\"colorbar\":{\"outlinewidth\":0,\"ticks\":\"\"}}}],\"scattercarpet\":[{\"type\":\"scattercarpet\",\"marker\":{\"colorbar\":{\"outlinewidth\":0,\"ticks\":\"\"}}}],\"carpet\":[{\"aaxis\":{\"endlinecolor\":\"#2a3f5f\",\"gridcolor\":\"white\",\"linecolor\":\"white\",\"minorgridcolor\":\"white\",\"startlinecolor\":\"#2a3f5f\"},\"baxis\":{\"endlinecolor\":\"#2a3f5f\",\"gridcolor\":\"white\",\"linecolor\":\"white\",\"minorgridcolor\":\"white\",\"startlinecolor\":\"#2a3f5f\"},\"type\":\"carpet\"}],\"table\":[{\"cells\":{\"fill\":{\"color\":\"#EBF0F8\"},\"line\":{\"color\":\"white\"}},\"header\":{\"fill\":{\"color\":\"#C8D4E3\"},\"line\":{\"color\":\"white\"}},\"type\":\"table\"}],\"barpolar\":[{\"marker\":{\"line\":{\"color\":\"#E5ECF6\",\"width\":0.5},\"pattern\":{\"fillmode\":\"overlay\",\"size\":10,\"solidity\":0.2}},\"type\":\"barpolar\"}],\"pie\":[{\"automargin\":true,\"type\":\"pie\"}]},\"layout\":{\"autotypenumbers\":\"strict\",\"colorway\":[\"#636efa\",\"#EF553B\",\"#00cc96\",\"#ab63fa\",\"#FFA15A\",\"#19d3f3\",\"#FF6692\",\"#B6E880\",\"#FF97FF\",\"#FECB52\"],\"font\":{\"color\":\"#2a3f5f\"},\"hovermode\":\"closest\",\"hoverlabel\":{\"align\":\"left\"},\"paper_bgcolor\":\"white\",\"plot_bgcolor\":\"#E5ECF6\",\"polar\":{\"bgcolor\":\"#E5ECF6\",\"angularaxis\":{\"gridcolor\":\"white\",\"linecolor\":\"white\",\"ticks\":\"\"},\"radialaxis\":{\"gridcolor\":\"white\",\"linecolor\":\"white\",\"ticks\":\"\"}},\"ternary\":{\"bgcolor\":\"#E5ECF6\",\"aaxis\":{\"gridcolor\":\"white\",\"linecolor\":\"white\",\"ticks\":\"\"},\"baxis\":{\"gridcolor\":\"white\",\"linecolor\":\"white\",\"ticks\":\"\"},\"caxis\":{\"gridcolor\":\"white\",\"linecolor\":\"white\",\"ticks\":\"\"}},\"coloraxis\":{\"colorbar\":{\"outlinewidth\":0,\"ticks\":\"\"}},\"colorscale\":{\"sequential\":[[0.0,\"#0d0887\"],[0.1111111111111111,\"#46039f\"],[0.2222222222222222,\"#7201a8\"],[0.3333333333333333,\"#9c179e\"],[0.4444444444444444,\"#bd3786\"],[0.5555555555555556,\"#d8576b\"],[0.6666666666666666,\"#ed7953\"],[0.7777777777777778,\"#fb9f3a\"],[0.8888888888888888,\"#fdca26\"],[1.0,\"#f0f921\"]],\"sequentialminus\":[[0.0,\"#0d0887\"],[0.1111111111111111,\"#46039f\"],[0.2222222222222222,\"#7201a8\"],[0.3333333333333333,\"#9c179e\"],[0.4444444444444444,\"#bd3786\"],[0.5555555555555556,\"#d8576b\"],[0.6666666666666666,\"#ed7953\"],[0.7777777777777778,\"#fb9f3a\"],[0.8888888888888888,\"#fdca26\"],[1.0,\"#f0f921\"]],\"diverging\":[[0,\"#8e0152\"],[0.1,\"#c51b7d\"],[0.2,\"#de77ae\"],[0.3,\"#f1b6da\"],[0.4,\"#fde0ef\"],[0.5,\"#f7f7f7\"],[0.6,\"#e6f5d0\"],[0.7,\"#b8e186\"],[0.8,\"#7fbc41\"],[0.9,\"#4d9221\"],[1,\"#276419\"]]},\"xaxis\":{\"gridcolor\":\"white\",\"linecolor\":\"white\",\"ticks\":\"\",\"title\":{\"standoff\":15},\"zerolinecolor\":\"white\",\"automargin\":true,\"zerolinewidth\":2},\"yaxis\":{\"gridcolor\":\"white\",\"linecolor\":\"white\",\"ticks\":\"\",\"title\":{\"standoff\":15},\"zerolinecolor\":\"white\",\"automargin\":true,\"zerolinewidth\":2},\"scene\":{\"xaxis\":{\"backgroundcolor\":\"#E5ECF6\",\"gridcolor\":\"white\",\"linecolor\":\"white\",\"showbackground\":true,\"ticks\":\"\",\"zerolinecolor\":\"white\",\"gridwidth\":2},\"yaxis\":{\"backgroundcolor\":\"#E5ECF6\",\"gridcolor\":\"white\",\"linecolor\":\"white\",\"showbackground\":true,\"ticks\":\"\",\"zerolinecolor\":\"white\",\"gridwidth\":2},\"zaxis\":{\"backgroundcolor\":\"#E5ECF6\",\"gridcolor\":\"white\",\"linecolor\":\"white\",\"showbackground\":true,\"ticks\":\"\",\"zerolinecolor\":\"white\",\"gridwidth\":2}},\"shapedefaults\":{\"line\":{\"color\":\"#2a3f5f\"}},\"annotationdefaults\":{\"arrowcolor\":\"#2a3f5f\",\"arrowhead\":0,\"arrowwidth\":1},\"geo\":{\"bgcolor\":\"white\",\"landcolor\":\"#E5ECF6\",\"subunitcolor\":\"white\",\"showland\":true,\"showlakes\":true,\"lakecolor\":\"white\"},\"title\":{\"x\":0.05},\"mapbox\":{\"style\":\"light\"}}},\"xaxis\":{\"anchor\":\"y\",\"domain\":[0.0,1.0],\"title\":{\"text\":\"x\"}},\"yaxis\":{\"anchor\":\"x\",\"domain\":[0.0,1.0],\"title\":{\"text\":\"sum of y\"}},\"legend\":{\"tracegroupgap\":0},\"margin\":{\"t\":60},\"barmode\":\"relative\"},                        {\"responsive\": true}                    ).then(function(){\n",
       "                            \n",
       "var gd = document.getElementById('0182f5a5-3ed7-4f2d-ab56-4ac6e3d961f7');\n",
       "var x = new MutationObserver(function (mutations, observer) {{\n",
       "        var display = window.getComputedStyle(gd).display;\n",
       "        if (!display || display === 'none') {{\n",
       "            console.log([gd, 'removed!']);\n",
       "            Plotly.purge(gd);\n",
       "            observer.disconnect();\n",
       "        }}\n",
       "}});\n",
       "\n",
       "// Listen for the removal of the full notebook cells\n",
       "var notebookContainer = gd.closest('#notebook-container');\n",
       "if (notebookContainer) {{\n",
       "    x.observe(notebookContainer, {childList: true});\n",
       "}}\n",
       "\n",
       "// Listen for the clearing of the current output cell\n",
       "var outputEl = gd.closest('.output');\n",
       "if (outputEl) {{\n",
       "    x.observe(outputEl, {childList: true});\n",
       "}}\n",
       "\n",
       "                        })                };                });            </script>        </div>"
      ]
     },
     "metadata": {},
     "output_type": "display_data"
    }
   ],
   "source": [
    "# Example\n",
    "import random\n",
    "import plotly.express as px\n",
    "sample_size = 31\n",
    "sample_count = 1000\n",
    "# central limit theorem, 1000 samples each with 31 random numbers between 0.0 and 1.0\n",
    "x_values = [(sum([random.uniform(0.0, 1.0) for i in range(sample_size)])/sample_size) for _ in range(sample_count)]\n",
    "y_values = [1 for _ in range(sample_count)]\n",
    "px.histogram(x=x_values, y=y_values, nbins=20).show();"
   ]
  },
  {
   "cell_type": "markdown",
   "id": "4f924baa-09e9-4918-aee8-83312944f0a3",
   "metadata": {},
   "source": [
    "<h4>The Confidence Interval</h4>\n",
    "<p>\n",
    "    A range calculation showing how confidently we believe a sample mean (or other parameter) falls in a range for the population mean.\n",
    "</p>"
   ]
  },
  {
   "cell_type": "code",
   "execution_count": 164,
   "id": "c2efc043-8941-4311-8e40-1467af506b15",
   "metadata": {},
   "outputs": [
    {
     "data": {
      "text/plain": [
       "(np.float64(-1.959963984540054), np.float64(1.959963984540054))"
      ]
     },
     "execution_count": 164,
     "metadata": {},
     "output_type": "execute_result"
    }
   ],
   "source": [
    "# Calculating the confidence interval for .95, sample mean = 64.408 and sample standard deviation = 2.05\n",
    "from scipy.stats import norm\n",
    "def critical_z_value(p):\n",
    "    norm_dist = norm(loc=0.0, scale=1.0)\n",
    "    left_tail_area = (1.0-p)/2.0\n",
    "    upper_area = 1.0 - ((1.0-p)/2.0)\n",
    "    return norm_dist.ppf(left_tail_area), norm_dist.ppf(upper_area)\n",
    "critical_z_value(p=.95)"
   ]
  },
  {
   "cell_type": "code",
   "execution_count": 165,
   "id": "4da42c30-d744-4336-9d67-82c0f2a307f4",
   "metadata": {},
   "outputs": [
    {
     "data": {
      "text/plain": [
       "(64.408 - 0.129610521558294*sqrt(31), 0.129610521558294*sqrt(31) + 64.408)"
      ]
     },
     "execution_count": 165,
     "metadata": {},
     "output_type": "execute_result"
    }
   ],
   "source": [
    "# Margin of Error\n",
    "# Margin of Error (E) is the range around the sample mean that contains the population mean at that level of confidence.\n",
    "\n",
    "def confidence_interval(p, sample_mean, sample_std, n):\n",
    "    # sample size must be greater than 30\n",
    "    lower, upper = critical_z_value(p)\n",
    "    lower_ci = lower*(sample_std/sqrt(n))\n",
    "    upper_ci = upper*(sample_std/sqrt(n))\n",
    "    return sample_mean + lower_ci, sample_mean + upper_ci\n",
    "confidence_interval(p=0.95, sample_mean=64.408, sample_std=2.05, n=31)"
   ]
  },
  {
   "cell_type": "markdown",
   "id": "de05ae36-c3ed-4ae4-8adb-1284cbc9f665",
   "metadata": {},
   "source": [
    "<h4>Understanding p-value</h4>\n",
    "<p>\n",
    "    P-value is the probability of something occuring by chance rather than because a hypothesized explanation.\n",
    "</p>\n",
    "<p>\n",
    "    Null hypothesis, H0 poses that the variable in question had no impact on the experiment and any positive results are just random luck.\n",
    "</p>\n",
    "\n",
    "<p>\n",
    "    Alternative hypothesis, H1 poses that a variable in question (called the controlled variable) is causing a positive result.\n",
    "</p>"
   ]
  },
  {
   "cell_type": "markdown",
   "id": "b6b8c80b-605e-4f1d-97bb-c70932d60bee",
   "metadata": {},
   "source": [
    "<h4>Hypothesis Testing</h4>\n"
   ]
  },
  {
   "cell_type": "code",
   "execution_count": 166,
   "id": "17f82469-1262-433c-a14d-50ad830ff499",
   "metadata": {},
   "outputs": [
    {
     "data": {
      "text/plain": [
       "np.float64(0.9544997361036416)"
      ]
     },
     "execution_count": 166,
     "metadata": {},
     "output_type": "execute_result"
    }
   ],
   "source": [
    "# Example: Past studies show that the mean recovery time for a cold is 18days, with a standard deviation of 1.5 days and follows a normal\n",
    "# distribution.\n",
    "# 95% probability recovery time takes between 15 and 21 days\n",
    "from scipy.stats import norm\n",
    "mean = 18\n",
    "std_dev = 1.5\n",
    "x = norm.cdf(21, mean, std_dev) - norm.cdf(15, mean, std_dev)\n",
    "x"
   ]
  },
  {
   "cell_type": "markdown",
   "id": "f6153363-4ab0-4a67-b72f-7ac09cafba50",
   "metadata": {},
   "source": [
    "<h3>One-tailed Test</h3>"
   ]
  },
  {
   "cell_type": "code",
   "execution_count": 167,
   "id": "1fd65c51-f7c9-4f8b-a808-a6dd8ead4a5d",
   "metadata": {},
   "outputs": [
    {
     "data": {
      "text/plain": [
       "np.float64(15.53271955957279)"
      ]
     },
     "execution_count": 167,
     "metadata": {},
     "output_type": "execute_result"
    }
   ],
   "source": [
    "# A p-value of 0.05 or less is considered statistically significant.\n",
    "# There is a 5% chance of a person recovering after 21 days or less than 14days\n",
    "# With 15 days or less, the drug is considered statistically significant to have shown an impact.\n",
    "mean = 18\n",
    "std_dev = 1.5\n",
    "x = norm.ppf(.05, mean, std_dev)\n",
    "x"
   ]
  },
  {
   "cell_type": "code",
   "execution_count": 168,
   "id": "756e4ac5-ee6f-4054-adb9-2b4f09781bbd",
   "metadata": {},
   "outputs": [
    {
     "data": {
      "text/plain": [
       "np.float64(0.09121121972586788)"
      ]
     },
     "execution_count": 168,
     "metadata": {},
     "output_type": "execute_result"
    }
   ],
   "source": [
    "# Calculating the one-tailed p-value\n",
    "from scipy.stats import norm\n",
    "# Cold has 18 day mean recovery, 1.5 std dev\n",
    "mean = 18\n",
    "std_dev = 1.5\n",
    "# Actual Sample mean is 16 days\n",
    "# Probability of 16 or less days\n",
    "p_value = norm.cdf(16, mean, std_dev)\n",
    "p_value"
   ]
  },
  {
   "cell_type": "code",
   "execution_count": 169,
   "id": "592e0d03-4197-4f39-a6e7-3daef978e947",
   "metadata": {},
   "outputs": [],
   "source": [
    "# The p-value is higher than  0.5, thus the drug is not statistically significant"
   ]
  },
  {
   "cell_type": "markdown",
   "id": "addf75c7-8a90-4351-99fc-677172b92526",
   "metadata": {},
   "source": [
    "<h3>Two-tailed Test</h3>\n",
    "<p>It is always practically safer and batter to use a two-tailed test.</p>"
   ]
  },
  {
   "cell_type": "code",
   "execution_count": 170,
   "id": "a145221b-9c29-45ee-92e5-1e010c5e24af",
   "metadata": {},
   "outputs": [
    {
     "name": "stdout",
     "output_type": "stream",
     "text": [
      "15.060054023189918\n",
      "20.93994597681008\n"
     ]
    }
   ],
   "source": [
    "# Calculating a range for a statistical significance of 5%\n",
    "from scipy.stats import norm\n",
    "mean = 18\n",
    "std_dev = 1.5\n",
    "x1 = norm.ppf(.025, mean, std_dev)\n",
    "x2 = norm.ppf(.975, mean, std_dev)\n",
    "print(x1)\n",
    "print(x2)"
   ]
  },
  {
   "cell_type": "code",
   "execution_count": 171,
   "id": "865e08da-0f7f-4b5a-b9c3-2db93afdce83",
   "metadata": {},
   "outputs": [],
   "source": [
    "# The sample mean value is 16. Which not less than x1 and greater than x2. We still fail to reject the null hypothesis."
   ]
  },
  {
   "cell_type": "code",
   "execution_count": 172,
   "id": "6d75f7b9-08d3-41ad-8a9e-60de1bc5e212",
   "metadata": {},
   "outputs": [
    {
     "data": {
      "text/plain": [
       "np.float64(0.18242243945173575)"
      ]
     },
     "execution_count": 172,
     "metadata": {},
     "output_type": "execute_result"
    }
   ],
   "source": [
    "# Calculating the p-value\n",
    "from scipy.stats import norm\n",
    "# cold has 18 day mean recovery, 1.5 std dev\n",
    "mean = 18\n",
    "std_dev = 1.5\n",
    "\n",
    "# Probability of 16 or less days\n",
    "p1 = norm.cdf(16, mean, std_dev)\n",
    "\n",
    "# Proability of 20 or more days\n",
    "p2 = 1.0 - norm.cdf(20, mean, std_dev)\n",
    "\n",
    "# p-value of both tails\n",
    "p_value = p1 + p2\n",
    "p_value\n",
    "\n",
    "# p_value is greater than 0.05, thus the drug is not statistically significant."
   ]
  },
  {
   "cell_type": "markdown",
   "id": "48d227e7-7d6e-4dd8-95e1-f87b361a7578",
   "metadata": {},
   "source": [
    "<h3>Exercise</h3>"
   ]
  },
  {
   "cell_type": "markdown",
   "id": "3042087e-cbcf-49e8-870f-88e3636eed5e",
   "metadata": {},
   "source": [
    "<h5>Question 1</h5>\n",
    "<p>\n",
    "You bought a spool of 1.75 mm filament for your 3D printer. You want to\n",
    "measure how close the filament diameter really is to 1.75 mm. You use a caliper\n",
    "tool and sample the diameter five times on the spool:\n",
    "1.78, 1.75, 1.72, 1.74, 1.77\n",
    "Calculate the mean and standard deviation for this set of values.\n",
    "</p>"
   ]
  },
  {
   "cell_type": "code",
   "execution_count": 173,
   "id": "91a57031-9ceb-4e46-a4fe-cfa8216e0d13",
   "metadata": {},
   "outputs": [
    {
     "data": {
      "text/plain": [
       "(1.752, 0.0213541565040626)"
      ]
     },
     "execution_count": 173,
     "metadata": {},
     "output_type": "execute_result"
    }
   ],
   "source": [
    "diameters = [1.78, 1.75, 1.72, 1.74, 1.77]\n",
    "mean = sum(diameters)/len(diameters)\n",
    "def std_dev(values):\n",
    "    return sqrt(variance(values))\n",
    "std_dev = std_dev(diameters)\n",
    "mean, std_dev"
   ]
  },
  {
   "cell_type": "markdown",
   "id": "86352b3d-25ef-4581-8a3d-160289a29aea",
   "metadata": {},
   "source": [
    "<h5>Question 2</h5>\n",
    "<p>\n",
    "A manufacturer says the Z-Phone smart phone has a mean consumer life of 42\n",
    "months with a standard deviation of 8 months. Assuming a normal distribution,\n",
    "what is the probability a given random Z-Phone will last between 20 and 30\n",
    "months?\n",
    "</p>"
   ]
  },
  {
   "cell_type": "code",
   "execution_count": 174,
   "id": "c6d141eb-4bde-4b3a-9e0b-b1a490acf4f2",
   "metadata": {},
   "outputs": [
    {
     "data": {
      "text/plain": [
       "np.float64(0.0638274380338035)"
      ]
     },
     "execution_count": 174,
     "metadata": {},
     "output_type": "execute_result"
    }
   ],
   "source": [
    "norm.cdf(30, 42, 8) - norm.cdf(20, 42, 8)"
   ]
  },
  {
   "cell_type": "markdown",
   "id": "fb8dd71c-0913-4622-9a91-f0766d120f50",
   "metadata": {},
   "source": [
    "<h5>Question 3</h5>\n",
    "<p>\n",
    "I am skeptical that my 3D printer filament is not 1.75 mm in average diameter\n",
    "as advertised. I sampled 34 measurements with my tool. The sample mean is\n",
    "1.715588 and the sample standard deviation is 0.029252.\n",
    "What is the 99% confidence interval for the mean of my entire spool of filament?\n",
    "</p>"
   ]
  },
  {
   "cell_type": "code",
   "execution_count": 175,
   "id": "efea5f55-3337-45a4-8f44-2afbf50dd360",
   "metadata": {},
   "outputs": [
    {
     "name": "stdout",
     "output_type": "stream",
     "text": [
      "Based on a sample of 34 measurements with a sample standard deviation of 0.029252 and a sample mean of 1.715588,     I am 99% confident the mean of filament lies between 1.7026658973748656 and 1.7285101026251342\n"
     ]
    }
   ],
   "source": [
    "criticalValue = critical_z_value(p=.99)\n",
    "criticalValue\n",
    "# Margin of Error\n",
    "MoE = float((criticalValue[1] * 0.029252)/sqrt(34))\n",
    "MoE\n",
    "sampleMean = 1.715588\n",
    "meanLowerValue, meanUpperValue = sampleMean - MoE, sampleMean + MoE\n",
    "meanLowerValue, meanUpperValue\n",
    "\n",
    "print(\"Based on a sample of 34 measurements with a sample standard deviation of 0.029252 and a sample mean of 1.715588, \\\n",
    "    I am 99% confident the mean of filament lies between {} and {}\".format(meanLowerValue, meanUpperValue))"
   ]
  }
 ],
 "metadata": {
  "kernelspec": {
   "display_name": "Python 3 (ipykernel)",
   "language": "python",
   "name": "python3"
  },
  "language_info": {
   "codemirror_mode": {
    "name": "ipython",
    "version": 3
   },
   "file_extension": ".py",
   "mimetype": "text/x-python",
   "name": "python",
   "nbconvert_exporter": "python",
   "pygments_lexer": "ipython3",
   "version": "3.12.4"
  }
 },
 "nbformat": 4,
 "nbformat_minor": 5
}

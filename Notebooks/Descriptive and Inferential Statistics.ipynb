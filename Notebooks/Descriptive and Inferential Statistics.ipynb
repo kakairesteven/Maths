{
 "cells": [
  {
   "cell_type": "markdown",
   "id": "1b6fb428-a4f0-4f43-b2d9-b8011de49784",
   "metadata": {},
   "source": [
    "<img src=\"../pyDataCover.jpg\"/>"
   ]
  },
  {
   "cell_type": "markdown",
   "id": "a202179f-0a2b-4022-865d-e019de4b128b",
   "metadata": {},
   "source": [
    "<h3>Descriptive and Inferential Statistics</h3>\n",
    "<p>Descriptive Statistics is used to summarize data. Inferential Statistics tries to uncover\n",
    "attributes about a large population, often based on a sample.</p>\n",
    "<p>\n",
    "    What is data?\n",
    "</p>\n",
    "\n",
    "<p>Data and Photographs example</p>"
   ]
  },
  {
   "cell_type": "markdown",
   "id": "441d72d4-c0cb-4fac-99cb-85d23a96c87d",
   "metadata": {},
   "source": [
    "<h3>Population, Samples, Bias</h3>\n",
    "<p>A <strong>population</strong> is a particular group of interest we want to study.</p>\n",
    "<p>A <strong>sample</strong> is a subset of the population that is ideally random and unbiased,\n",
    "which we use to infer attributes about the population.</p>\n",
    "<p>Bias, used to describe inaccurate representation to the population.</p>\n",
    "<p>\n",
    "    A <strong>selection bias</strong>; particular type of bias where\n",
    "    a specific group is more likely to include themselves in a sample\n",
    "</p>\n",
    "\n",
    "<p>\n",
    "    A <strong>confirmation bias</strong>, gathering data that supports your belief, which can even be done\n",
    "    unknowingly. An example is following only social media accounts you politically agree\n",
    "    with, reinforcing your beliefs rather than challenging them.\n",
    "</p>"
   ]
  },
  {
   "cell_type": "markdown",
   "id": "09e53853-ebe9-42e1-bea4-e5580ed4be2e",
   "metadata": {},
   "source": [
    "<h4>Mean and Weighted Mean</h4>"
   ]
  },
  {
   "cell_type": "code",
   "execution_count": 30,
   "id": "ee11f944-0891-402d-9ae2-3de3df40176d",
   "metadata": {},
   "outputs": [],
   "source": [
    "# Weighted Mean, GPA\n",
    "samples = [90, 80, 63, 87]\n",
    "weights = [.20, .20, .20, .40]\n",
    "weighted_mean = sum(s*w for s,w in zip(samples, weights)) / sum(weights)"
   ]
  },
  {
   "cell_type": "code",
   "execution_count": 31,
   "id": "96ab7646-f7ac-465b-9cf2-74ab3b7f8f0d",
   "metadata": {},
   "outputs": [
    {
     "data": {
      "text/plain": [
       "81.4"
      ]
     },
     "execution_count": 31,
     "metadata": {},
     "output_type": "execute_result"
    }
   ],
   "source": [
    "weighted_mean"
   ]
  },
  {
   "cell_type": "code",
   "execution_count": 32,
   "id": "010152ad-6078-42e6-b1ec-9ea678567abe",
   "metadata": {},
   "outputs": [
    {
     "data": {
      "text/plain": [
       "81.4"
      ]
     },
     "execution_count": 32,
     "metadata": {},
     "output_type": "execute_result"
    }
   ],
   "source": [
    "# Weights don't have to be percentages as the numbers will endup being proportionalized.\n",
    "weights = [1.0, 1.0, 1.0, 2.0]\n",
    "weighted_sum = sum(s*w for s,w in zip(samples, weights))/sum(weights)\n",
    "weighted_sum"
   ]
  },
  {
   "cell_type": "code",
   "execution_count": 33,
   "id": "7bb49920-f19d-41e9-b58a-e3deee01399d",
   "metadata": {},
   "outputs": [],
   "source": [
    "# Median\n",
    "# The middlemost value in a set of ordered values\n",
    "def median(values):\n",
    "    ordered = sorted(values)\n",
    "    print(ordered)\n",
    "    n = len(ordered)\n",
    "    mid = int(n/2)-1 if n%2 == 0 else int(n/2)\n",
    "\n",
    "    if n%2 == 0:\n",
    "        return (ordered[mid] + ordered[mid+1])/2.0\n",
    "    else:\n",
    "        return ordered[mid]"
   ]
  },
  {
   "cell_type": "code",
   "execution_count": 34,
   "id": "788b52b1-02ff-4179-bbb2-e2be29e0b7eb",
   "metadata": {},
   "outputs": [
    {
     "name": "stdout",
     "output_type": "stream",
     "text": [
      "[63, 80, 87, 90]\n"
     ]
    },
    {
     "data": {
      "text/plain": [
       "83.5"
      ]
     },
     "execution_count": 34,
     "metadata": {},
     "output_type": "execute_result"
    }
   ],
   "source": [
    "# Median is the preferrable in outlier-heavy situations(such as income related data) over the mean.\n",
    "# Example: Salary of Ugandans without a university degree, there shall be many outliers\n",
    "median(samples)"
   ]
  },
  {
   "cell_type": "code",
   "execution_count": 35,
   "id": "7a91cfae-c26c-4b0b-8032-e943ae4a73e5",
   "metadata": {},
   "outputs": [],
   "source": [
    "# Quartiles\n",
    "# Mode is the most frequently occuring set of values. When two values occur with the same frequency, it is considered\n",
    "# bimodal.\n",
    "# Number of shoes your friends own\n",
    "from collections import defaultdict\n",
    "sample = [1, 3, 2, 5, 7, 4, 2, 3]\n",
    "def mode(values):\n",
    "    counts = defaultdict(lambda:0)\n",
    "    for s in values:\n",
    "        counts[s] += 1\n",
    "    max_count = max(counts.values())\n",
    "    modes = [v for v in set(values) if counts[v] == max_count]\n",
    "    return modes"
   ]
  },
  {
   "cell_type": "code",
   "execution_count": 36,
   "id": "a19647de-f666-4ac4-833a-c22eb9bea78a",
   "metadata": {},
   "outputs": [
    {
     "data": {
      "text/plain": [
       "[2, 3]"
      ]
     },
     "execution_count": 36,
     "metadata": {},
     "output_type": "execute_result"
    }
   ],
   "source": [
    "mode(sample)"
   ]
  },
  {
   "cell_type": "code",
   "execution_count": 37,
   "id": "2ba84432-e494-4504-9237-32aa66a4896a",
   "metadata": {},
   "outputs": [
    {
     "name": "stdout",
     "output_type": "stream",
     "text": [
      "5.387755102040816\n"
     ]
    }
   ],
   "source": [
    "# Variance and Standard Deviation\n",
    "# Population variance is the measure of how data is spreadout\n",
    "# Example number of shoes owned by my friends\n",
    "dataShoes = [2, 3, 6, 3, 7, 2, 8]\n",
    "def variance(values):\n",
    "    mean = sum(values)/len(values)\n",
    "    _variance=sum((v-mean)**2 for v in values)/len(values)\n",
    "    return _variance\n",
    "print(variance(dataShoes))"
   ]
  },
  {
   "cell_type": "code",
   "execution_count": 38,
   "id": "f58c6456-b9f3-4e80-809b-4a2e8c8243b7",
   "metadata": {},
   "outputs": [
    {
     "data": {
      "text/plain": [
       "2.3211538298959886"
      ]
     },
     "execution_count": 38,
     "metadata": {},
     "output_type": "execute_result"
    }
   ],
   "source": [
    "# Standard deviation\n",
    "from math import sqrt\n",
    "def std_dev(values):\n",
    "    return sqrt(variance(values))\n",
    "\n",
    "# Example\n",
    "# Standard devation of dataShoes\n",
    "std_dev(dataShoes)"
   ]
  },
  {
   "cell_type": "code",
   "execution_count": 39,
   "id": "669d94ba-55ab-4514-a8b1-fbaa4ba3e657",
   "metadata": {},
   "outputs": [],
   "source": [
    "# Sample Variance and Stadard Deviation\n",
    "# Qn. Why subtract 1 from sample size\n",
    "\n",
    "def variance(values, is_sample: bool=False):\n",
    "    mean = sum(values) / len(values)\n",
    "    _variance = sum((v-mean)**2 for v in values) / (len(values)-(1 if is_sample else 0))\n",
    "    return _variance\n",
    "\n",
    "def std_dev(values, is_sample:bool=False):\n",
    "    return sqrt(variance(values, is_sample))"
   ]
  },
  {
   "cell_type": "code",
   "execution_count": 40,
   "id": "ec2d6e77-d387-4d4a-9d87-e7ec9732bf06",
   "metadata": {},
   "outputs": [
    {
     "data": {
      "text/plain": [
       "6.285714285714286"
      ]
     },
     "execution_count": 40,
     "metadata": {},
     "output_type": "execute_result"
    }
   ],
   "source": [
    "# Example\n",
    "# Number of shoes each person owns\n",
    "variance(dataShoes, is_sample=True)"
   ]
  },
  {
   "cell_type": "code",
   "execution_count": 41,
   "id": "f79e2095-699b-4197-a6fb-729b38320898",
   "metadata": {},
   "outputs": [
    {
     "data": {
      "text/plain": [
       "2.5071326821120348"
      ]
     },
     "execution_count": 41,
     "metadata": {},
     "output_type": "execute_result"
    }
   ],
   "source": [
    "# Contrast obtained value with variance of population\n",
    "std_dev(dataShoes, is_sample=True)\n",
    "\n",
    "# 2.5071326821120348 for sample\n",
    "# 2.3211538298959886 for population"
   ]
  },
  {
   "cell_type": "markdown",
   "id": "5f9d16e6-fbbb-4a87-8e3d-aadddb985570",
   "metadata": {},
   "source": [
    "<h3>Normal Distribution (Gaussian Distribution) and Probability Density Function</h3>\n",
    "<p>\n",
    "    Normal Distribution is a probability distribution that appears as a \"bell curve\" when graphed.\n",
    "    The normal distribution describes a symmetrical plot of data around its mean value, where width of\n",
    "    the curve is defined by the standard deviation.\n",
    "</p>\n",
    "\n",
    "<h5>Properties of the Normal Distribution</h5>\n",
    "<ul>\n",
    "    <li>Symmetrical; both sides are identically mirrored at the mean, which is the center.</li>\n",
    "    <li>Most mass is at the center around the mean.</li>\n",
    "    <li>It has a spread (being narrow or wide> that is specified by the standard deviation.</li>\n",
    "    <li>The tails are the least likely outcomes and approach zero infinitely but never touch zero.</li>\n",
    "</ul>\n",
    "\n",
    "<h4>The Cummulative Desnsity Function, CDF</h4>\n",
    "<p>\n",
    "    The probability to get a value between x1 and x2, where x1 > x2, is the area under the curve from x1 to x2.\n",
    "</p>"
   ]
  },
  {
   "cell_type": "code",
   "execution_count": 42,
   "id": "4c990d77-7edd-48f1-955f-6af53ef0ca6f",
   "metadata": {},
   "outputs": [],
   "source": [
    "# the Probability Density Function in Python\n",
    "def pdf(x: float,\n",
    "        mean: float,\n",
    "        std_dev: float):\n",
    "    return (1.0/(std_dev*(2.0*math.pi)**0.5)*math.exp((-1.0*((x-mean)/std_dev)**2)/2))"
   ]
  },
  {
   "cell_type": "code",
   "execution_count": 43,
   "id": "dec6b41b-98fb-4c29-9855-9fa9032eb83e",
   "metadata": {},
   "outputs": [
    {
     "data": {
      "image/png": "[encoded data removed]",
      "text/plain": [
       "<Figure size 640x480 with 1 Axes>"
      ]
     },
     "metadata": {},
     "output_type": "display_data"
    }
   ],
   "source": [
    "# Example\n",
    "import matplotlib.pyplot as plt\n",
    "import numpy as np\n",
    "mu, std_dev = 2, 0.3 # mean and standard deviation\n",
    "s = np.random.normal(mu, std_dev, 1_000_000)\n",
    "count, bins, ignored = plt.hist(s, 100, density=True)\n",
    "plt.plot(bins, 1/(std_dev*np.sqrt(2*np.pi))*np.exp(-1*(bins-mu)**2/(2*std_dev**2)),\n",
    "         linewidth=2,\n",
    "         color='g')\n",
    "plt.vlines(2.1, 0, 1.4, \"white\", );\n",
    "plt.vlines(2.5, 0, 0.5, \"white\", );\n",
    "plt.show();"
   ]
  },
  {
   "cell_type": "code",
   "execution_count": 44,
   "id": "a66dae45-59a2-429b-8f4e-d3040f1b6b73",
   "metadata": {},
   "outputs": [
    {
     "data": {
      "text/plain": [
       "np.float64(0.5)"
      ]
     },
     "execution_count": 44,
     "metadata": {},
     "output_type": "execute_result"
    }
   ],
   "source": [
    "# The normal distribution CDF in Python\\\n",
    "# The CDF from negative infinity to the mean, we get 0.5 which half the area of the normal distribution\n",
    "from scipy.stats import norm\n",
    "# mu = 64.43\n",
    "# std_dev = 2.99\n",
    "x = norm.cdf(2, mu, std_dev)\n",
    "x"
   ]
  },
  {
   "cell_type": "code",
   "execution_count": 45,
   "id": "b418e94c-5929-486b-a22e-d5172c1e807a",
   "metadata": {},
   "outputs": [
    {
     "data": {
      "text/plain": [
       "np.float64(0.32165098790894886)"
      ]
     },
     "execution_count": 45,
     "metadata": {},
     "output_type": "execute_result"
    }
   ],
   "source": [
    "# To get the proability of x being between 2.1 and 2.5\n",
    "norm.cdf(2.5, mu, std_dev) - norm.cdf(2.1, mu, std_dev)"
   ]
  },
  {
   "cell_type": "markdown",
   "id": "affcbacc-c473-4478-a09a-b71c8b8345ee",
   "metadata": {},
   "source": [
    "<h3>The Inverse CDF</h3>\n",
    "<p>\n",
    "    It is used to find the x value for a given probability. For example, say you want to find the weight with a probability of 80%.\n",
    "</p>\n",
    "<p>The Inverse CDF can be used in simulation to generate values with proability between 0 and 1. </p>"
   ]
  },
  {
   "cell_type": "code",
   "execution_count": 46,
   "id": "074f20f2-85ef-4e64-ac2d-b89081c450f9",
   "metadata": {},
   "outputs": [
    {
     "data": {
      "text/plain": [
       "np.float64(2.2524863700718742)"
      ]
     },
     "execution_count": 46,
     "metadata": {},
     "output_type": "execute_result"
    }
   ],
   "source": [
    "x = norm.ppf(0.8, mu, std_dev)\n",
    "x"
   ]
  },
  {
   "cell_type": "markdown",
   "id": "895191cc-4ca8-4493-922a-39aa0dd52360",
   "metadata": {},
   "source": [
    "<h4>The Z-Score</h4>\n",
    "<p>\n",
    "    It is used to normalize a normal distribution so as its mean is at 0. The result is a <strong>standard normal distribution</strong>.\n",
    "</p>\n",
    "<p>\n",
    "    The expression below converts an x-value to a z-value.\n",
    "</p>\n",
    "<p>\n",
    "    Example: There are two homes from two different neighborhoods. Neighborhood A has a mean home value of 140,000usd and standard deviation of 3,000usd. Neighborhood B has a mean value of 800,000usd and standard deviation of 10,000usd. There are two home each neighborhood. House A is worth 150,000usd and House B is worth 815,000usd. Which house is more expensive relative to the average home in its neighborhood?\n",
    "</p>"
   ]
  },
  {
   "cell_type": "code",
   "execution_count": 47,
   "id": "73e47fe1-60f2-4cae-813e-efa8e2d159fe",
   "metadata": {},
   "outputs": [
    {
     "data": {
      "text/latex": [
       "$\\displaystyle \\frac{- \\mu + x}{\\sigma}$"
      ],
      "text/plain": [
       "(-mu + x)/sigma"
      ]
     },
     "execution_count": 47,
     "metadata": {},
     "output_type": "execute_result"
    }
   ],
   "source": [
    "from sympy import *\n",
    "x, mu, sigma = symbols('x, mu, sigma')\n",
    "z = (x - mu)/sigma\n",
    "z"
   ]
  },
  {
   "cell_type": "code",
   "execution_count": 48,
   "id": "9f9a2da0-f6d0-4fe1-9c9e-3ba5d9639474",
   "metadata": {},
   "outputs": [
    {
     "data": {
      "text/plain": [
       "(3.3333333333333335, 1.5)"
      ]
     },
     "execution_count": 48,
     "metadata": {},
     "output_type": "execute_result"
    }
   ],
   "source": [
    "# Solution to example problem\n",
    "houseA = (150_000 - 140_000)/3_000\n",
    "houseB = (815_000-800_000)/10_000\n",
    "\n",
    "houseA, houseB\n",
    "# House A is more expensive than house B"
   ]
  },
  {
   "cell_type": "markdown",
   "id": "1aaf07c6-e01f-4a39-a6e8-f6f12333b915",
   "metadata": {},
   "source": [
    "<h4>Coefficeint of Variation</h4>\n",
    "<p>\n",
    "    It helps to measure the spread of variation of a distribution. It is the ratio of standard deviation to mean.\n",
    "</p>"
   ]
  },
  {
   "cell_type": "markdown",
   "id": "f0f2fcea-24cb-4a8f-b6b4-ebd205c20be4",
   "metadata": {},
   "source": [
    "<h3>Inferential Statistics</h3>\n",
    "<h5>The Central Limit Theorem</h5>\n",
    "<p>\n",
    "    The Central Limit Theorem states that the sum of a large number of independent random variables has a distribution that is approximately normal.\n",
    "</p>\n",
    "<ul>\n",
    "    <li>It provides a simple method for computing approximate probabilities for sums of independent random variables.</li>\n",
    "    <li>Explains the remarkable fact that the empirical frequencies of so many natural populations exhibit bell-shaped (that is normal) curves.</li>\n",
    "</ul>"
   ]
  },
  {
   "cell_type": "code",
   "execution_count": 49,
   "id": "ec3913f1-bbf4-4459-9ce6-1d104df87c11",
   "metadata": {},
   "outputs": [
    {
     "data": {
      "application/vnd.plotly.v1+json": {
       "config": {
        "plotlyServerURL": "https://plot.ly"
       },
       "data": [
        {
         "alignmentgroup": "True",
         "bingroup": "x",
         "histfunc": "sum",
         "hovertemplate": "x=%{x}<br>sum of y=%{y}<extra></extra>",
         "legendgroup": "",
         "marker": {
          "color": "#636efa",
          "pattern": {
           "shape": ""
          }
         },
         "name": "",
         "nbinsx": 20,
         "offsetgroup": "",
         "orientation": "v",
         "showlegend": false,
         "type": "histogram",
         "x": [
          0.4668469629764502,
          0.5277593388252784,
          0.5035209419735162,
          0.44885801314315915,
          0.4988966564394017,
          0.5330035783346401,
          0.47098349405691603,
          0.46144338840837346,
          0.5795963456808507,
          0.43135970625735853,
          0.5502145710786459,
          0.447207546875749,
          0.43009824248816586,
          0.5046243263892967,
          0.4849687130529783,
          0.5615436112784218,
          0.47029663691886264,
          0.4538262394747991,
          0.47163457258451774,
          0.5385474794731371,
          0.4880210947039416,
          0.5114568761968686,
          0.5833082543822967,
          0.43488529325409897,
          0.3978464434673545,
          0.40772668175131055,
          0.5256153055356391,
          0.597444060900596,
          0.5354670510623568,
          0.4492097212259843,
          0.4750402615137477,
          0.5886954323958556,
          0.43993004151859777,
          0.48490843445817666,
          0.5064782871669538,
          0.40322922581545323,
          0.5219976888968352,
          0.540482262652755,
          0.4421029868536728,
          0.43592894451643105,
          0.4225712902939837,
          0.503005540497265,
          0.5076776724255856,
          0.4597267467093239,
          0.5700712040808034,
          0.5142446864665241,
          0.4978762616251686,
          0.5631106978380602,
          0.49543158847538366,
          0.5064068810337581,
          0.5065979407269319,
          0.5272326005893325,
          0.4499986148836548,
          0.540330196400703,
          0.5241505594622147,
          0.5163071502809147,
          0.5498301593253135,
          0.4912504244048423,
          0.4699192012549215,
          0.5434921946322155,
          0.579090934834531,
          0.4582024375532428,
          0.41058917471916206,
          0.5382452447142867,
          0.5395124655912811,
          0.4197580841283497,
          0.46967956026867486,
          0.3941712446897386,
          0.41993996949391627,
          0.4788837899437266,
          0.5306059974209361,
          0.5289907182204834,
          0.43919246512135984,
          0.5012679545176949,
          0.5609967025750334,
          0.49634371188321075,
          0.3984054307922707,
          0.5885477851649175,
          0.5225737011645502,
          0.5042879752218737,
          0.5464375177696261,
          0.47029304128014415,
          0.5123201601309407,
          0.4374430260982584,
          0.515768127889469,
          0.4415508982143064,
          0.5666230518695116,
          0.5118917848340155,
          0.518462323077959,
          0.5363803092773731,
          0.6247192084561799,
          0.5534062424903052,
          0.40165328411118445,
          0.5989323061701738,
          0.6141235681071172,
          0.5237720122422845,
          0.40601854821138633,
          0.5395245204913646,
          0.5969110860589654,
          0.553741883862123,
          0.5292668370507758,
          0.4883802710997229,
          0.4562208083745115,
          0.5221142781016392,
          0.6225420166489586,
          0.4785830178388527,
          0.5694310572311353,
          0.44266197052429734,
          0.6042715627656269,
          0.4918157548859684,
          0.47660103359599154,
          0.5114993042144087,
          0.4574958339782953,
          0.4518848982227571,
          0.5106077338722111,
          0.4486430418062653,
          0.4661542159913489,
          0.47089412781000267,
          0.5361198381296496,
          0.5046311488316594,
          0.4720231395272922,
          0.5535980434895914,
          0.44208167520279046,
          0.42650212155331707,
          0.4456405107059134,
          0.502095905556475,
          0.4985430276155603,
          0.5381337331339636,
          0.5365461382136383,
          0.429766121035982,
          0.5122429790474661,
          0.49022123190809075,
          0.41874131611649784,
          0.5952941192226904,
          0.516495915755292,
          0.4804147986923005,
          0.5656097596681139,
          0.48893133458775545,
          0.4764519850381955,
          0.5572017841904598,
          0.43857641761191085,
          0.5390898602404333,
          0.4688730792721113,
          0.4976042079837456,
          0.48887573617302765,
          0.44366603625498513,
          0.4869616531637192,
          0.5920015133634758,
          0.3671225525074478,
          0.4879191376236498,
          0.4990259846594767,
          0.5046847121708576,
          0.4561713253059128,
          0.4888486829885045,
          0.5231503733876138,
          0.5257598535719974,
          0.4653011454761454,
          0.46064295993453974,
          0.47705384219799757,
          0.5155734644930726,
          0.418884588334224,
          0.498042122251922,
          0.44501232757450176,
          0.4113413669620785,
          0.4600085368646717,
          0.45470541055344205,
          0.5678797638578409,
          0.5368098689995852,
          0.5393724432908172,
          0.5479267335127546,
          0.5922412479951324,
          0.49705844954515366,
          0.4218691473991069,
          0.5508628284066671,
          0.5086043710253265,
          0.5357542372605576,
          0.48286278380100517,
          0.45793232502620856,
          0.41826007480583943,
          0.5494719104597217,
          0.4916065462506304,
          0.5313121447384286,
          0.5070221465500345,
          0.46384093469648746,
          0.4467985323633575,
          0.4665229089845117,
          0.5306153702683835,
          0.5996724360694096,
          0.5196631874763399,
          0.4151008154689539,
          0.4470247703271601,
          0.5685360245130837,
          0.41681896017062464,
          0.4963611372427314,
          0.38216457742654875,
          0.4973907157298345,
          0.4906798012740451,
          0.5710063480310267,
          0.5042906301006154,
          0.5153312164752831,
          0.5023675215713967,
          0.5114888058854732,
          0.35862012580986724,
          0.6152780359144094,
          0.5651830895875609,
          0.4792558570502602,
          0.5173281979231424,
          0.48015155031951773,
          0.440705514046214,
          0.4558324253341067,
          0.5324027636604334,
          0.5531458134118835,
          0.507145954496517,
          0.526970991521373,
          0.4048212006971361,
          0.4340812731431156,
          0.5539406766089303,
          0.47174065705976487,
          0.4683956846591451,
          0.4033494968460246,
          0.4851745090821071,
          0.49059225742449575,
          0.430741882385331,
          0.5902572575387515,
          0.6358772411553584,
          0.4891076922606748,
          0.5462701109007483,
          0.6083854190719695,
          0.5539289430716247,
          0.5134433131925814,
          0.525731038935907,
          0.5633888044350213,
          0.5133564764204364,
          0.3440419027296185,
          0.5451455021100624,
          0.44940639503642843,
          0.5121649462459612,
          0.5266124264577706,
          0.46019797578976285,
          0.4868233324886695,
          0.5583131194614133,
          0.39804724781003115,
          0.4660466413348152,
          0.40985939628039614,
          0.553643308959221,
          0.5332971811939708,
          0.5283773160060541,
          0.4097842981262171,
          0.5312823197537428,
          0.5639720917609975,
          0.5018067791872436,
          0.5033014599047465,
          0.4779346275910874,
          0.5158691088697452,
          0.5606116789308586,
          0.4742273956575423,
          0.47273515895650875,
          0.48407541592182185,
          0.4775365697610775,
          0.4535085803064108,
          0.5097208389740466,
          0.4926368577246666,
          0.5400311982158372,
          0.5104244448808604,
          0.4913187557497519,
          0.5207578910659819,
          0.4071891802405927,
          0.5584561451625156,
          0.49480640418226113,
          0.5277850458400711,
          0.44795629423035843,
          0.5026510930083053,
          0.5304218473444625,
          0.6353558881696261,
          0.48847221997226425,
          0.5818865558652127,
          0.415273003626608,
          0.4676961719866907,
          0.3783673796371845,
          0.4311588183571001,
          0.4391624210344362,
          0.46882840591191866,
          0.5352590519154676,
          0.49978969587521666,
          0.42010434210539,
          0.557715837770738,
          0.5881559261391184,
          0.5026263501216353,
          0.5444635576115657,
          0.5046430728661506,
          0.5274205325506226,
          0.3990011198875466,
          0.42473456856382147,
          0.5562449451364258,
          0.49723449225449556,
          0.5049069691745194,
          0.544251530353577,
          0.5332961540461527,
          0.5131217391003419,
          0.5803218164179431,
          0.4340542104967888,
          0.47127593600603584,
          0.4229292074447355,
          0.5160565332198715,
          0.40765235056951055,
          0.4994485566121463,
          0.45700603831210557,
          0.5149437099460891,
          0.5050183508327382,
          0.45593760041866815,
          0.4903868122679843,
          0.6037196480332336,
          0.5239188641999517,
          0.49699544668338985,
          0.49506640376371996,
          0.4113840778930177,
          0.5084073333978079,
          0.5068433208161732,
          0.6042127196104551,
          0.5382122783272932,
          0.46786429443438343,
          0.4451282992674043,
          0.503470129048411,
          0.5571853550305973,
          0.5525006811594354,
          0.4713742260221862,
          0.4571394253636576,
          0.46448680143841453,
          0.5064296409944037,
          0.5304237027251397,
          0.5155438784818798,
          0.5597551696581319,
          0.5533682793132206,
          0.4998952085898655,
          0.3666352271921983,
          0.45421975038086027,
          0.47252509005704135,
          0.5044818347449757,
          0.4794019610969359,
          0.6243895881802078,
          0.49591148761886855,
          0.47369469106108186,
          0.4780780209895076,
          0.5388269127340537,
          0.6064644108491569,
          0.39910438727502145,
          0.5591238075829926,
          0.5342459181514353,
          0.519096396780306,
          0.5100301360267904,
          0.4980231916703557,
          0.5105806724640687,
          0.5390270593757832,
          0.4964447864406789,
          0.4104395749106215,
          0.438070561963193,
          0.5865854119232722,
          0.581070071138153,
          0.5031198311160922,
          0.49484121357182526,
          0.5808202345238698,
          0.5730791370593353,
          0.563330683996645,
          0.5222513025330124,
          0.4451449969075814,
          0.38071195842014643,
          0.43751590292512405,
          0.49113501673850146,
          0.43067912989950563,
          0.49993920505645245,
          0.479194239607074,
          0.5181066656626645,
          0.6530015579847925,
          0.514574541205561,
          0.5645635672979267,
          0.5828864064310497,
          0.4844437976949173,
          0.4693049204374566,
          0.5000387160675216,
          0.6180223779061609,
          0.4691275843991119,
          0.5072634327609962,
          0.586632796633588,
          0.6050471781829265,
          0.5229884209268191,
          0.5008998134371221,
          0.5434972441403801,
          0.5300336352856485,
          0.5057273884731441,
          0.4075228475865131,
          0.5049807901928833,
          0.5211846581498844,
          0.5081347668324945,
          0.5027213792335763,
          0.48527528959960603,
          0.5330410532972323,
          0.5135528088212048,
          0.45550779195052943,
          0.5162998454824554,
          0.4898034318768386,
          0.5210117081090759,
          0.48931644293439236,
          0.5960011721587541,
          0.48127445505639116,
          0.47716085569828687,
          0.5260114378819949,
          0.565044654741025,
          0.4953289778711676,
          0.48063439160259075,
          0.46189674947806597,
          0.5041111025546269,
          0.5755847698679999,
          0.4618636853132189,
          0.541325550965495,
          0.5816659083517669,
          0.46870981910090653,
          0.5186540594008723,
          0.4725342185196555,
          0.5018593474598609,
          0.5200766257781113,
          0.46371133163295825,
          0.5066175544329589,
          0.5103188009836414,
          0.5334289140261196,
          0.4862842275191222,
          0.5877143373699438,
          0.538159775376221,
          0.573327435972215,
          0.5750391528417178,
          0.46426305422537634,
          0.508055039704729,
          0.5331588640057212,
          0.44288752706096235,
          0.4380907983142348,
          0.45137763663963654,
          0.5254571080777953,
          0.471792707445894,
          0.5487324149683218,
          0.5184509642026087,
          0.5054929927048213,
          0.5544193388690793,
          0.523120930224713,
          0.49915243646635155,
          0.4207236404604841,
          0.3998746299737423,
          0.530337053854392,
          0.4382074136410884,
          0.5813928939312767,
          0.5138679132618592,
          0.5181783104161657,
          0.4612325835636339,
          0.5608480269022372,
          0.521623066279815,
          0.4477248117900418,
          0.4735522816446253,
          0.47418558928705623,
          0.4170573436836912,
          0.5834400229267841,
          0.4757040261396506,
          0.5210698653571306,
          0.5165947368291003,
          0.49362708489040447,
          0.42988688252432117,
          0.4752304026484655,
          0.5125925450634884,
          0.5734940744247752,
          0.5548546355183009,
          0.5105349694954322,
          0.5415879412953183,
          0.48756166259834327,
          0.5175135921178755,
          0.5074789439123247,
          0.4576907056999257,
          0.5192489275986255,
          0.4432524079000821,
          0.4314085953849012,
          0.45679883679332833,
          0.5673103598800128,
          0.532560246479235,
          0.5149742890656204,
          0.43627498803534137,
          0.46821000373589455,
          0.5422423915797673,
          0.52555380950569,
          0.5935844265585113,
          0.5261344943181557,
          0.5394119292390891,
          0.48483616852816047,
          0.48832494489306477,
          0.5854610403705512,
          0.4339621477756481,
          0.5651038540909172,
          0.5298358917347109,
          0.4760323678730123,
          0.5150804526878757,
          0.4878970928373285,
          0.45599863485177144,
          0.42532085367000233,
          0.5330389349736125,
          0.4668622110749597,
          0.4708652432634444,
          0.477498679339415,
          0.5237077105953475,
          0.47928234561090255,
          0.5418850114204696,
          0.5677667527549458,
          0.44924989425950235,
          0.4803349019195513,
          0.5351319818988908,
          0.4506150537117842,
          0.5384701632184011,
          0.5210172345737407,
          0.4499957451387023,
          0.48298484245091877,
          0.4356394320392141,
          0.4746596736805759,
          0.4388205728613295,
          0.4953340653223189,
          0.5992762965508286,
          0.5381460128811976,
          0.5869543531493908,
          0.4803903013257476,
          0.4767150653131458,
          0.4430205030759363,
          0.5160703756172494,
          0.5565094655177797,
          0.47324002152541034,
          0.5295727244749161,
          0.5596024421682126,
          0.501080785801284,
          0.43567772804975347,
          0.42916995286470505,
          0.4595660475829726,
          0.43962595525315673,
          0.5194697975186716,
          0.5647246392116926,
          0.512357957035549,
          0.5922479502548179,
          0.5656362977356748,
          0.4460159608159984,
          0.5862732702748888,
          0.6389479273016888,
          0.5094009870223194,
          0.5348137607352694,
          0.4028328485756811,
          0.41631048269426046,
          0.3827278096949838,
          0.5186538736844658,
          0.5090250700845205,
          0.5176533300079448,
          0.511747637092598,
          0.4862405794566968,
          0.584230565134051,
          0.4759064709735286,
          0.46049102001516057,
          0.5470293619147609,
          0.5125072338736382,
          0.47746502289853426,
          0.5247321998543364,
          0.48929548197212014,
          0.5396999925358168,
          0.5105278755809433,
          0.4979918628455583,
          0.5432286088321205,
          0.5928083997127221,
          0.4179020457249906,
          0.5620031545458503,
          0.561789704457653,
          0.4535462540893122,
          0.5351183480050916,
          0.504941118129057,
          0.4071885477787657,
          0.4497335308650612,
          0.5180885130790027,
          0.5052342552765389,
          0.6084356073295476,
          0.5326109219087772,
          0.55876708120126,
          0.48460633119134494,
          0.5196030820160583,
          0.47795734642352516,
          0.5047708816733967,
          0.4843175418544554,
          0.3934811088374554,
          0.5502754395694128,
          0.5847988641634232,
          0.45004640028085563,
          0.5288856981097458,
          0.47173590046539005,
          0.37678670178782053,
          0.5843855122329245,
          0.5271726772362914,
          0.5346327179094261,
          0.4563322639185041,
          0.5756729873518381,
          0.4673250767932985,
          0.5000004122798957,
          0.5693846335253192,
          0.5044136956450077,
          0.6009866328985537,
          0.4800343841509374,
          0.5272991830999987,
          0.51750677075183,
          0.5104265566629451,
          0.5534510700008117,
          0.4862249599816195,
          0.46524088506046607,
          0.4302599374081902,
          0.45531198728416006,
          0.3923768600747178,
          0.6016503700615415,
          0.5352627476601657,
          0.5587582439853455,
          0.5503283452688347,
          0.5651479050665202,
          0.45481873365954045,
          0.5510099453055166,
          0.5912263125947663,
          0.3755192840913208,
          0.4523316282255425,
          0.4544294152805646,
          0.5272551298138075,
          0.5090061988708733,
          0.4755766396584789,
          0.5210719759796558,
          0.5228797758390236,
          0.5607058080204111,
          0.4784426707345585,
          0.40112306693578875,
          0.5456935721196506,
          0.5418535854853065,
          0.3380027224631858,
          0.4595108380740616,
          0.4628897074050752,
          0.5415877579956507,
          0.5141108036048678,
          0.48606521367818933,
          0.5953090982390781,
          0.418035100783367,
          0.5062236226976241,
          0.39968769807783494,
          0.5193112446331897,
          0.575950983928881,
          0.5626348728940455,
          0.5105564308990915,
          0.5181654755063037,
          0.5067859727056355,
          0.5240712719002658,
          0.5198942536405669,
          0.48195986730393453,
          0.5269705890521995,
          0.5712441470276701,
          0.4986628999702117,
          0.4479807803590195,
          0.46636408002838736,
          0.5851805606263838,
          0.5865140135776157,
          0.411377810438655,
          0.5408725020465626,
          0.3735505813847696,
          0.5160819305029415,
          0.510021055765664,
          0.44872051177025635,
          0.5146718476844332,
          0.5068594028284378,
          0.5006534553114788,
          0.48187359033275495,
          0.4956454604404436,
          0.4874356444012652,
          0.4778665376928879,
          0.45502341827109116,
          0.4006809126668378,
          0.40964706957867447,
          0.4944498579582883,
          0.5108469076973183,
          0.5729868222033635,
          0.4237832853624209,
          0.5269537213552136,
          0.39594287876705037,
          0.5067825115350358,
          0.4828836582151903,
          0.4553870666819637,
          0.47048305335774904,
          0.5738992038052382,
          0.516966969791715,
          0.35548309715080206,
          0.4719913534066765,
          0.476036127222148,
          0.4853274533979166,
          0.36248500342765044,
          0.5015089612020159,
          0.5456151295387235,
          0.5310484648497723,
          0.5290376143792175,
          0.44828896001450436,
          0.5031874406843775,
          0.5275362561094868,
          0.5009418302733775,
          0.590890557196465,
          0.5394227806781235,
          0.49980789959035654,
          0.5231581384523,
          0.5748427340066484,
          0.43768703163593475,
          0.46616907533131774,
          0.5135660678421395,
          0.5310430229899566,
          0.4959414368639946,
          0.517735441805878,
          0.5465657665875563,
          0.44013886714668293,
          0.4502491290632178,
          0.5520677152810243,
          0.585880219006061,
          0.5473249748127548,
          0.5706217369838423,
          0.4588649804227333,
          0.5530543182772263,
          0.5605797671175425,
          0.5574688682075245,
          0.5347905581225272,
          0.5656938310527713,
          0.5022317943453659,
          0.5225491093019248,
          0.4746885859402737,
          0.49224380550263114,
          0.4922082235480133,
          0.5023689592069817,
          0.5457467313130655,
          0.5663675549711824,
          0.5596015743302907,
          0.5982254811955457,
          0.5217467306401098,
          0.5356004859286271,
          0.5795852225880113,
          0.5366975735656407,
          0.4442710520284326,
          0.3943440599535688,
          0.4698921362936761,
          0.4628470297495656,
          0.45201760946750147,
          0.47088958171196116,
          0.4305535997029235,
          0.5039453715383907,
          0.5322995383769469,
          0.506461171970651,
          0.5061056863928076,
          0.47499851647625285,
          0.4718068518836434,
          0.5320446362402135,
          0.517608820194816,
          0.4960783784568342,
          0.535982580976191,
          0.49153709811997054,
          0.47136709064162985,
          0.5331505199861661,
          0.48315446335503665,
          0.5480226808993508,
          0.4914307255232036,
          0.4128740074517299,
          0.6185195699318979,
          0.3914951530360981,
          0.4814514827402687,
          0.5461263019570393,
          0.5498629183585337,
          0.4388915244185377,
          0.46578255121733025,
          0.5741365044008088,
          0.49339481379920386,
          0.5163419096507788,
          0.4344565346310342,
          0.5208926857287753,
          0.47049278304057607,
          0.48768460613354825,
          0.5084521326359709,
          0.5343287823950035,
          0.5242981782017424,
          0.4833379862458393,
          0.5241459667370547,
          0.41238536939049814,
          0.560617076590917,
          0.5103020074337701,
          0.466509305027331,
          0.5105253997968894,
          0.46840737544077515,
          0.489361409054703,
          0.5284460549175016,
          0.47728162774894245,
          0.5232299338782282,
          0.5353548042821594,
          0.45940118928926615,
          0.5571395734338753,
          0.5131167033830291,
          0.4789249986133774,
          0.5467457383202025,
          0.44229186058287323,
          0.5042361169080348,
          0.5035809300202309,
          0.38607196614894274,
          0.4233097613919887,
          0.4689949901292102,
          0.42865601745198884,
          0.5620405858518996,
          0.5301958292679368,
          0.5562879434070167,
          0.547912143520325,
          0.44980056915313354,
          0.5432682933954421,
          0.49404739774532486,
          0.5918205747720069,
          0.4835709270037318,
          0.6010784402904845,
          0.5161392491251848,
          0.48771009913756863,
          0.5760262529720648,
          0.5501185920837207,
          0.5853387548273036,
          0.5222043936577176,
          0.5841763975717204,
          0.5325483080568734,
          0.46533355599330545,
          0.4535622073345097,
          0.44666513399616437,
          0.5191845108787985,
          0.49511285688994233,
          0.5104354573408474,
          0.4892436311917843,
          0.48970855811668434,
          0.4603860997941987,
          0.45441317892231636,
          0.5250398892765918,
          0.5057112187653575,
          0.5042471583202935,
          0.5400962391153684,
          0.4867800590358356,
          0.6031413047125826,
          0.5406678881715445,
          0.5712315422463486,
          0.5185845410863544,
          0.454338808969883,
          0.42906300155769844,
          0.49664289847391285,
          0.5698850125999184,
          0.4416578327337444,
          0.5160994255441635,
          0.52549273906277,
          0.5354599332686923,
          0.4614289304487364,
          0.49882835324564634,
          0.5274678250731573,
          0.470352994270711,
          0.5570247911313032,
          0.5129603335539596,
          0.47474975494465393,
          0.5158658354093425,
          0.545202565495591,
          0.5186925413404766,
          0.45942244200476295,
          0.45134758133649205,
          0.5158664674586997,
          0.5479400827977561,
          0.5690031081521444,
          0.550846346126729,
          0.5274505443087619,
          0.576497172864971,
          0.5378658997410618,
          0.5226863878634816,
          0.568274182115631,
          0.45537824482031786,
          0.5261048515540017,
          0.586896074791921,
          0.5757223873342375,
          0.530913723589901,
          0.523876914475149,
          0.49360868530617913,
          0.5059461437750709,
          0.5060549299205701,
          0.4891908277134067,
          0.45684387386349556,
          0.48847948670310865,
          0.4248459399596661,
          0.5356602661753765,
          0.46760111678543076,
          0.5107722558488985,
          0.46785060003804857,
          0.516573098212408,
          0.5813772855037166,
          0.5472064742415889,
          0.4655739290241276,
          0.44822774026811474,
          0.45802258043324295,
          0.5752699211132737,
          0.49640398002020825,
          0.3710775808744165,
          0.529123846950336,
          0.46480865700738033,
          0.5164950616943403,
          0.5596483960832248,
          0.5291438577812246,
          0.5585749397436575,
          0.46384069148404605,
          0.561447400152543,
          0.5699567531641336,
          0.41702178424511804,
          0.4901450923456283,
          0.532256852406044,
          0.549218712414782,
          0.6113893869146048,
          0.576067266840061,
          0.4847818033090498,
          0.4661108226363393,
          0.5288014061484755,
          0.531349421473025,
          0.5348523947604957,
          0.501109524748417,
          0.503900120373545,
          0.5439568232309208,
          0.39541757444257164,
          0.5277094394940044,
          0.5867810392614277,
          0.5230199847879528,
          0.4705188972053719,
          0.5415551807937886,
          0.4873045181490385,
          0.4416848007841202,
          0.507270059652044,
          0.45941184279854447,
          0.41709202266466405,
          0.456407004629306,
          0.4920077776170399,
          0.5057964193591945,
          0.5381569921374589,
          0.4788527517505498,
          0.47049421085451093,
          0.5135609674288613,
          0.477724074025712,
          0.475136720399686,
          0.5585074477677201,
          0.6267734163854183,
          0.5055584383901763,
          0.5334398987850866,
          0.5510778038705536,
          0.491841468857591,
          0.5808620301788054,
          0.5703356217481079,
          0.5061170824908633,
          0.4830245833088553,
          0.4358081081634579,
          0.4915368125347608,
          0.579185256609722,
          0.4718257459097859,
          0.503926009475759,
          0.45068342447056015,
          0.4931065013935481,
          0.44968655541600516,
          0.4567873750935636,
          0.5453379560627087,
          0.5129747668299179,
          0.5067714182985332,
          0.4597746593776979,
          0.42421677241365224,
          0.37658855655962936,
          0.43683106722983417,
          0.5292003333089791,
          0.43622127319623966,
          0.41148059598774445,
          0.48842025565413527,
          0.5178123547462832,
          0.5051136547976315,
          0.5324500673408001,
          0.4894348061364304,
          0.4997461643286275,
          0.4948276309592154,
          0.5511048876711289,
          0.5511960196875006,
          0.5085261824966684,
          0.44491053708165157,
          0.48358258156850836,
          0.45387093709776655,
          0.48019845287380364,
          0.4759718788747867,
          0.4698742504399616,
          0.44241369184446594,
          0.5367591652130685,
          0.4986564248763126,
          0.548281153101471,
          0.5633077093464501,
          0.41243601308713373,
          0.5214070897103746,
          0.5397347462380409,
          0.5058419729395011,
          0.5537954419003495,
          0.5407006889953534,
          0.4601640262129422,
          0.5911217070787983,
          0.5562990229242674,
          0.48031982017416697,
          0.4616556971871952,
          0.5049761077701111,
          0.5618220412766791
         ],
         "xaxis": "x",
         "y": [
          1,
          1,
          1,
          1,
          1,
          1,
          1,
          1,
          1,
          1,
          1,
          1,
          1,
          1,
          1,
          1,
          1,
          1,
          1,
          1,
          1,
          1,
          1,
          1,
          1,
          1,
          1,
          1,
          1,
          1,
          1,
          1,
          1,
          1,
          1,
          1,
          1,
          1,
          1,
          1,
          1,
          1,
          1,
          1,
          1,
          1,
          1,
          1,
          1,
          1,
          1,
          1,
          1,
          1,
          1,
          1,
          1,
          1,
          1,
          1,
          1,
          1,
          1,
          1,
          1,
          1,
          1,
          1,
          1,
          1,
          1,
          1,
          1,
          1,
          1,
          1,
          1,
          1,
          1,
          1,
          1,
          1,
          1,
          1,
          1,
          1,
          1,
          1,
          1,
          1,
          1,
          1,
          1,
          1,
          1,
          1,
          1,
          1,
          1,
          1,
          1,
          1,
          1,
          1,
          1,
          1,
          1,
          1,
          1,
          1,
          1,
          1,
          1,
          1,
          1,
          1,
          1,
          1,
          1,
          1,
          1,
          1,
          1,
          1,
          1,
          1,
          1,
          1,
          1,
          1,
          1,
          1,
          1,
          1,
          1,
          1,
          1,
          1,
          1,
          1,
          1,
          1,
          1,
          1,
          1,
          1,
          1,
          1,
          1,
          1,
          1,
          1,
          1,
          1,
          1,
          1,
          1,
          1,
          1,
          1,
          1,
          1,
          1,
          1,
          1,
          1,
          1,
          1,
          1,
          1,
          1,
          1,
          1,
          1,
          1,
          1,
          1,
          1,
          1,
          1,
          1,
          1,
          1,
          1,
          1,
          1,
          1,
          1,
          1,
          1,
          1,
          1,
          1,
          1,
          1,
          1,
          1,
          1,
          1,
          1,
          1,
          1,
          1,
          1,
          1,
          1,
          1,
          1,
          1,
          1,
          1,
          1,
          1,
          1,
          1,
          1,
          1,
          1,
          1,
          1,
          1,
          1,
          1,
          1,
          1,
          1,
          1,
          1,
          1,
          1,
          1,
          1,
          1,
          1,
          1,
          1,
          1,
          1,
          1,
          1,
          1,
          1,
          1,
          1,
          1,
          1,
          1,
          1,
          1,
          1,
          1,
          1,
          1,
          1,
          1,
          1,
          1,
          1,
          1,
          1,
          1,
          1,
          1,
          1,
          1,
          1,
          1,
          1,
          1,
          1,
          1,
          1,
          1,
          1,
          1,
          1,
          1,
          1,
          1,
          1,
          1,
          1,
          1,
          1,
          1,
          1,
          1,
          1,
          1,
          1,
          1,
          1,
          1,
          1,
          1,
          1,
          1,
          1,
          1,
          1,
          1,
          1,
          1,
          1,
          1,
          1,
          1,
          1,
          1,
          1,
          1,
          1,
          1,
          1,
          1,
          1,
          1,
          1,
          1,
          1,
          1,
          1,
          1,
          1,
          1,
          1,
          1,
          1,
          1,
          1,
          1,
          1,
          1,
          1,
          1,
          1,
          1,
          1,
          1,
          1,
          1,
          1,
          1,
          1,
          1,
          1,
          1,
          1,
          1,
          1,
          1,
          1,
          1,
          1,
          1,
          1,
          1,
          1,
          1,
          1,
          1,
          1,
          1,
          1,
          1,
          1,
          1,
          1,
          1,
          1,
          1,
          1,
          1,
          1,
          1,
          1,
          1,
          1,
          1,
          1,
          1,
          1,
          1,
          1,
          1,
          1,
          1,
          1,
          1,
          1,
          1,
          1,
          1,
          1,
          1,
          1,
          1,
          1,
          1,
          1,
          1,
          1,
          1,
          1,
          1,
          1,
          1,
          1,
          1,
          1,
          1,
          1,
          1,
          1,
          1,
          1,
          1,
          1,
          1,
          1,
          1,
          1,
          1,
          1,
          1,
          1,
          1,
          1,
          1,
          1,
          1,
          1,
          1,
          1,
          1,
          1,
          1,
          1,
          1,
          1,
          1,
          1,
          1,
          1,
          1,
          1,
          1,
          1,
          1,
          1,
          1,
          1,
          1,
          1,
          1,
          1,
          1,
          1,
          1,
          1,
          1,
          1,
          1,
          1,
          1,
          1,
          1,
          1,
          1,
          1,
          1,
          1,
          1,
          1,
          1,
          1,
          1,
          1,
          1,
          1,
          1,
          1,
          1,
          1,
          1,
          1,
          1,
          1,
          1,
          1,
          1,
          1,
          1,
          1,
          1,
          1,
          1,
          1,
          1,
          1,
          1,
          1,
          1,
          1,
          1,
          1,
          1,
          1,
          1,
          1,
          1,
          1,
          1,
          1,
          1,
          1,
          1,
          1,
          1,
          1,
          1,
          1,
          1,
          1,
          1,
          1,
          1,
          1,
          1,
          1,
          1,
          1,
          1,
          1,
          1,
          1,
          1,
          1,
          1,
          1,
          1,
          1,
          1,
          1,
          1,
          1,
          1,
          1,
          1,
          1,
          1,
          1,
          1,
          1,
          1,
          1,
          1,
          1,
          1,
          1,
          1,
          1,
          1,
          1,
          1,
          1,
          1,
          1,
          1,
          1,
          1,
          1,
          1,
          1,
          1,
          1,
          1,
          1,
          1,
          1,
          1,
          1,
          1,
          1,
          1,
          1,
          1,
          1,
          1,
          1,
          1,
          1,
          1,
          1,
          1,
          1,
          1,
          1,
          1,
          1,
          1,
          1,
          1,
          1,
          1,
          1,
          1,
          1,
          1,
          1,
          1,
          1,
          1,
          1,
          1,
          1,
          1,
          1,
          1,
          1,
          1,
          1,
          1,
          1,
          1,
          1,
          1,
          1,
          1,
          1,
          1,
          1,
          1,
          1,
          1,
          1,
          1,
          1,
          1,
          1,
          1,
          1,
          1,
          1,
          1,
          1,
          1,
          1,
          1,
          1,
          1,
          1,
          1,
          1,
          1,
          1,
          1,
          1,
          1,
          1,
          1,
          1,
          1,
          1,
          1,
          1,
          1,
          1,
          1,
          1,
          1,
          1,
          1,
          1,
          1,
          1,
          1,
          1,
          1,
          1,
          1,
          1,
          1,
          1,
          1,
          1,
          1,
          1,
          1,
          1,
          1,
          1,
          1,
          1,
          1,
          1,
          1,
          1,
          1,
          1,
          1,
          1,
          1,
          1,
          1,
          1,
          1,
          1,
          1,
          1,
          1,
          1,
          1,
          1,
          1,
          1,
          1,
          1,
          1,
          1,
          1,
          1,
          1,
          1,
          1,
          1,
          1,
          1,
          1,
          1,
          1,
          1,
          1,
          1,
          1,
          1,
          1,
          1,
          1,
          1,
          1,
          1,
          1,
          1,
          1,
          1,
          1,
          1,
          1,
          1,
          1,
          1,
          1,
          1,
          1,
          1,
          1,
          1,
          1,
          1,
          1,
          1,
          1,
          1,
          1,
          1,
          1,
          1,
          1,
          1,
          1,
          1,
          1,
          1,
          1,
          1,
          1,
          1,
          1,
          1,
          1,
          1,
          1,
          1,
          1,
          1,
          1,
          1,
          1,
          1,
          1,
          1,
          1,
          1,
          1,
          1,
          1,
          1,
          1,
          1,
          1,
          1,
          1,
          1,
          1,
          1,
          1,
          1,
          1,
          1,
          1,
          1,
          1,
          1,
          1,
          1,
          1,
          1,
          1,
          1,
          1,
          1,
          1,
          1,
          1,
          1,
          1,
          1,
          1,
          1,
          1,
          1,
          1,
          1,
          1,
          1,
          1,
          1,
          1,
          1,
          1,
          1,
          1,
          1,
          1,
          1,
          1,
          1,
          1,
          1,
          1,
          1,
          1,
          1,
          1,
          1,
          1,
          1,
          1,
          1,
          1,
          1,
          1,
          1,
          1,
          1,
          1,
          1,
          1,
          1,
          1,
          1,
          1,
          1,
          1,
          1,
          1,
          1,
          1,
          1,
          1,
          1,
          1,
          1,
          1,
          1,
          1,
          1,
          1,
          1,
          1,
          1,
          1,
          1,
          1,
          1,
          1,
          1,
          1,
          1,
          1,
          1,
          1,
          1,
          1,
          1,
          1,
          1,
          1,
          1,
          1,
          1,
          1,
          1,
          1,
          1,
          1,
          1,
          1,
          1,
          1,
          1,
          1,
          1,
          1,
          1,
          1,
          1,
          1,
          1,
          1,
          1,
          1,
          1,
          1,
          1,
          1,
          1,
          1,
          1,
          1,
          1,
          1,
          1,
          1,
          1,
          1,
          1,
          1,
          1,
          1,
          1,
          1,
          1,
          1,
          1,
          1,
          1,
          1,
          1,
          1,
          1,
          1,
          1,
          1,
          1,
          1,
          1,
          1,
          1,
          1,
          1,
          1,
          1,
          1,
          1,
          1,
          1,
          1,
          1,
          1,
          1,
          1,
          1,
          1,
          1,
          1,
          1,
          1,
          1,
          1,
          1,
          1,
          1,
          1,
          1,
          1,
          1,
          1,
          1
         ],
         "yaxis": "y"
        }
       ],
       "layout": {
        "autosize": true,
        "barmode": "relative",
        "legend": {
         "tracegroupgap": 0
        },
        "margin": {
         "t": 60
        },
        "template": {
         "data": {
          "bar": [
           {
            "error_x": {
             "color": "#2a3f5f"
            },
            "error_y": {
             "color": "#2a3f5f"
            },
            "marker": {
             "line": {
              "color": "#E5ECF6",
              "width": 0.5
             },
             "pattern": {
              "fillmode": "overlay",
              "size": 10,
              "solidity": 0.2
             }
            },
            "type": "bar"
           }
          ],
          "barpolar": [
           {
            "marker": {
             "line": {
              "color": "#E5ECF6",
              "width": 0.5
             },
             "pattern": {
              "fillmode": "overlay",
              "size": 10,
              "solidity": 0.2
             }
            },
            "type": "barpolar"
           }
          ],
          "carpet": [
           {
            "aaxis": {
             "endlinecolor": "#2a3f5f",
             "gridcolor": "white",
             "linecolor": "white",
             "minorgridcolor": "white",
             "startlinecolor": "#2a3f5f"
            },
            "baxis": {
             "endlinecolor": "#2a3f5f",
             "gridcolor": "white",
             "linecolor": "white",
             "minorgridcolor": "white",
             "startlinecolor": "#2a3f5f"
            },
            "type": "carpet"
           }
          ],
          "choropleth": [
           {
            "colorbar": {
             "outlinewidth": 0,
             "ticks": ""
            },
            "type": "choropleth"
           }
          ],
          "contour": [
           {
            "colorbar": {
             "outlinewidth": 0,
             "ticks": ""
            },
            "colorscale": [
             [
              0,
              "#0d0887"
             ],
             [
              0.1111111111111111,
              "#46039f"
             ],
             [
              0.2222222222222222,
              "#7201a8"
             ],
             [
              0.3333333333333333,
              "#9c179e"
             ],
             [
              0.4444444444444444,
              "#bd3786"
             ],
             [
              0.5555555555555556,
              "#d8576b"
             ],
             [
              0.6666666666666666,
              "#ed7953"
             ],
             [
              0.7777777777777778,
              "#fb9f3a"
             ],
             [
              0.8888888888888888,
              "#fdca26"
             ],
             [
              1,
              "#f0f921"
             ]
            ],
            "type": "contour"
           }
          ],
          "contourcarpet": [
           {
            "colorbar": {
             "outlinewidth": 0,
             "ticks": ""
            },
            "type": "contourcarpet"
           }
          ],
          "heatmap": [
           {
            "colorbar": {
             "outlinewidth": 0,
             "ticks": ""
            },
            "colorscale": [
             [
              0,
              "#0d0887"
             ],
             [
              0.1111111111111111,
              "#46039f"
             ],
             [
              0.2222222222222222,
              "#7201a8"
             ],
             [
              0.3333333333333333,
              "#9c179e"
             ],
             [
              0.4444444444444444,
              "#bd3786"
             ],
             [
              0.5555555555555556,
              "#d8576b"
             ],
             [
              0.6666666666666666,
              "#ed7953"
             ],
             [
              0.7777777777777778,
              "#fb9f3a"
             ],
             [
              0.8888888888888888,
              "#fdca26"
             ],
             [
              1,
              "#f0f921"
             ]
            ],
            "type": "heatmap"
           }
          ],
          "heatmapgl": [
           {
            "colorbar": {
             "outlinewidth": 0,
             "ticks": ""
            },
            "colorscale": [
             [
              0,
              "#0d0887"
             ],
             [
              0.1111111111111111,
              "#46039f"
             ],
             [
              0.2222222222222222,
              "#7201a8"
             ],
             [
              0.3333333333333333,
              "#9c179e"
             ],
             [
              0.4444444444444444,
              "#bd3786"
             ],
             [
              0.5555555555555556,
              "#d8576b"
             ],
             [
              0.6666666666666666,
              "#ed7953"
             ],
             [
              0.7777777777777778,
              "#fb9f3a"
             ],
             [
              0.8888888888888888,
              "#fdca26"
             ],
             [
              1,
              "#f0f921"
             ]
            ],
            "type": "heatmapgl"
           }
          ],
          "histogram": [
           {
            "marker": {
             "pattern": {
              "fillmode": "overlay",
              "size": 10,
              "solidity": 0.2
             }
            },
            "type": "histogram"
           }
          ],
          "histogram2d": [
           {
            "colorbar": {
             "outlinewidth": 0,
             "ticks": ""
            },
            "colorscale": [
             [
              0,
              "#0d0887"
             ],
             [
              0.1111111111111111,
              "#46039f"
             ],
             [
              0.2222222222222222,
              "#7201a8"
             ],
             [
              0.3333333333333333,
              "#9c179e"
             ],
             [
              0.4444444444444444,
              "#bd3786"
             ],
             [
              0.5555555555555556,
              "#d8576b"
             ],
             [
              0.6666666666666666,
              "#ed7953"
             ],
             [
              0.7777777777777778,
              "#fb9f3a"
             ],
             [
              0.8888888888888888,
              "#fdca26"
             ],
             [
              1,
              "#f0f921"
             ]
            ],
            "type": "histogram2d"
           }
          ],
          "histogram2dcontour": [
           {
            "colorbar": {
             "outlinewidth": 0,
             "ticks": ""
            },
            "colorscale": [
             [
              0,
              "#0d0887"
             ],
             [
              0.1111111111111111,
              "#46039f"
             ],
             [
              0.2222222222222222,
              "#7201a8"
             ],
             [
              0.3333333333333333,
              "#9c179e"
             ],
             [
              0.4444444444444444,
              "#bd3786"
             ],
             [
              0.5555555555555556,
              "#d8576b"
             ],
             [
              0.6666666666666666,
              "#ed7953"
             ],
             [
              0.7777777777777778,
              "#fb9f3a"
             ],
             [
              0.8888888888888888,
              "#fdca26"
             ],
             [
              1,
              "#f0f921"
             ]
            ],
            "type": "histogram2dcontour"
           }
          ],
          "mesh3d": [
           {
            "colorbar": {
             "outlinewidth": 0,
             "ticks": ""
            },
            "type": "mesh3d"
           }
          ],
          "parcoords": [
           {
            "line": {
             "colorbar": {
              "outlinewidth": 0,
              "ticks": ""
             }
            },
            "type": "parcoords"
           }
          ],
          "pie": [
           {
            "automargin": true,
            "type": "pie"
           }
          ],
          "scatter": [
           {
            "fillpattern": {
             "fillmode": "overlay",
             "size": 10,
             "solidity": 0.2
            },
            "type": "scatter"
           }
          ],
          "scatter3d": [
           {
            "line": {
             "colorbar": {
              "outlinewidth": 0,
              "ticks": ""
             }
            },
            "marker": {
             "colorbar": {
              "outlinewidth": 0,
              "ticks": ""
             }
            },
            "type": "scatter3d"
           }
          ],
          "scattercarpet": [
           {
            "marker": {
             "colorbar": {
              "outlinewidth": 0,
              "ticks": ""
             }
            },
            "type": "scattercarpet"
           }
          ],
          "scattergeo": [
           {
            "marker": {
             "colorbar": {
              "outlinewidth": 0,
              "ticks": ""
             }
            },
            "type": "scattergeo"
           }
          ],
          "scattergl": [
           {
            "marker": {
             "colorbar": {
              "outlinewidth": 0,
              "ticks": ""
             }
            },
            "type": "scattergl"
           }
          ],
          "scattermapbox": [
           {
            "marker": {
             "colorbar": {
              "outlinewidth": 0,
              "ticks": ""
             }
            },
            "type": "scattermapbox"
           }
          ],
          "scatterpolar": [
           {
            "marker": {
             "colorbar": {
              "outlinewidth": 0,
              "ticks": ""
             }
            },
            "type": "scatterpolar"
           }
          ],
          "scatterpolargl": [
           {
            "marker": {
             "colorbar": {
              "outlinewidth": 0,
              "ticks": ""
             }
            },
            "type": "scatterpolargl"
           }
          ],
          "scatterternary": [
           {
            "marker": {
             "colorbar": {
              "outlinewidth": 0,
              "ticks": ""
             }
            },
            "type": "scatterternary"
           }
          ],
          "surface": [
           {
            "colorbar": {
             "outlinewidth": 0,
             "ticks": ""
            },
            "colorscale": [
             [
              0,
              "#0d0887"
             ],
             [
              0.1111111111111111,
              "#46039f"
             ],
             [
              0.2222222222222222,
              "#7201a8"
             ],
             [
              0.3333333333333333,
              "#9c179e"
             ],
             [
              0.4444444444444444,
              "#bd3786"
             ],
             [
              0.5555555555555556,
              "#d8576b"
             ],
             [
              0.6666666666666666,
              "#ed7953"
             ],
             [
              0.7777777777777778,
              "#fb9f3a"
             ],
             [
              0.8888888888888888,
              "#fdca26"
             ],
             [
              1,
              "#f0f921"
             ]
            ],
            "type": "surface"
           }
          ],
          "table": [
           {
            "cells": {
             "fill": {
              "color": "#EBF0F8"
             },
             "line": {
              "color": "white"
             }
            },
            "header": {
             "fill": {
              "color": "#C8D4E3"
             },
             "line": {
              "color": "white"
             }
            },
            "type": "table"
           }
          ]
         },
         "layout": {
          "annotationdefaults": {
           "arrowcolor": "#2a3f5f",
           "arrowhead": 0,
           "arrowwidth": 1
          },
          "autotypenumbers": "strict",
          "coloraxis": {
           "colorbar": {
            "outlinewidth": 0,
            "ticks": ""
           }
          },
          "colorscale": {
           "diverging": [
            [
             0,
             "#8e0152"
            ],
            [
             0.1,
             "#c51b7d"
            ],
            [
             0.2,
             "#de77ae"
            ],
            [
             0.3,
             "#f1b6da"
            ],
            [
             0.4,
             "#fde0ef"
            ],
            [
             0.5,
             "#f7f7f7"
            ],
            [
             0.6,
             "#e6f5d0"
            ],
            [
             0.7,
             "#b8e186"
            ],
            [
             0.8,
             "#7fbc41"
            ],
            [
             0.9,
             "#4d9221"
            ],
            [
             1,
             "#276419"
            ]
           ],
           "sequential": [
            [
             0,
             "#0d0887"
            ],
            [
             0.1111111111111111,
             "#46039f"
            ],
            [
             0.2222222222222222,
             "#7201a8"
            ],
            [
             0.3333333333333333,
             "#9c179e"
            ],
            [
             0.4444444444444444,
             "#bd3786"
            ],
            [
             0.5555555555555556,
             "#d8576b"
            ],
            [
             0.6666666666666666,
             "#ed7953"
            ],
            [
             0.7777777777777778,
             "#fb9f3a"
            ],
            [
             0.8888888888888888,
             "#fdca26"
            ],
            [
             1,
             "#f0f921"
            ]
           ],
           "sequentialminus": [
            [
             0,
             "#0d0887"
            ],
            [
             0.1111111111111111,
             "#46039f"
            ],
            [
             0.2222222222222222,
             "#7201a8"
            ],
            [
             0.3333333333333333,
             "#9c179e"
            ],
            [
             0.4444444444444444,
             "#bd3786"
            ],
            [
             0.5555555555555556,
             "#d8576b"
            ],
            [
             0.6666666666666666,
             "#ed7953"
            ],
            [
             0.7777777777777778,
             "#fb9f3a"
            ],
            [
             0.8888888888888888,
             "#fdca26"
            ],
            [
             1,
             "#f0f921"
            ]
           ]
          },
          "colorway": [
           "#636efa",
           "#EF553B",
           "#00cc96",
           "#ab63fa",
           "#FFA15A",
           "#19d3f3",
           "#FF6692",
           "#B6E880",
           "#FF97FF",
           "#FECB52"
          ],
          "font": {
           "color": "#2a3f5f"
          },
          "geo": {
           "bgcolor": "white",
           "lakecolor": "white",
           "landcolor": "#E5ECF6",
           "showlakes": true,
           "showland": true,
           "subunitcolor": "white"
          },
          "hoverlabel": {
           "align": "left"
          },
          "hovermode": "closest",
          "mapbox": {
           "style": "light"
          },
          "paper_bgcolor": "white",
          "plot_bgcolor": "#E5ECF6",
          "polar": {
           "angularaxis": {
            "gridcolor": "white",
            "linecolor": "white",
            "ticks": ""
           },
           "bgcolor": "#E5ECF6",
           "radialaxis": {
            "gridcolor": "white",
            "linecolor": "white",
            "ticks": ""
           }
          },
          "scene": {
           "xaxis": {
            "backgroundcolor": "#E5ECF6",
            "gridcolor": "white",
            "gridwidth": 2,
            "linecolor": "white",
            "showbackground": true,
            "ticks": "",
            "zerolinecolor": "white"
           },
           "yaxis": {
            "backgroundcolor": "#E5ECF6",
            "gridcolor": "white",
            "gridwidth": 2,
            "linecolor": "white",
            "showbackground": true,
            "ticks": "",
            "zerolinecolor": "white"
           },
           "zaxis": {
            "backgroundcolor": "#E5ECF6",
            "gridcolor": "white",
            "gridwidth": 2,
            "linecolor": "white",
            "showbackground": true,
            "ticks": "",
            "zerolinecolor": "white"
           }
          },
          "shapedefaults": {
           "line": {
            "color": "#2a3f5f"
           }
          },
          "ternary": {
           "aaxis": {
            "gridcolor": "white",
            "linecolor": "white",
            "ticks": ""
           },
           "baxis": {
            "gridcolor": "white",
            "linecolor": "white",
            "ticks": ""
           },
           "bgcolor": "#E5ECF6",
           "caxis": {
            "gridcolor": "white",
            "linecolor": "white",
            "ticks": ""
           }
          },
          "title": {
           "x": 0.05
          },
          "xaxis": {
           "automargin": true,
           "gridcolor": "white",
           "linecolor": "white",
           "ticks": "",
           "title": {
            "standoff": 15
           },
           "zerolinecolor": "white",
           "zerolinewidth": 2
          },
          "yaxis": {
           "automargin": true,
           "gridcolor": "white",
           "linecolor": "white",
           "ticks": "",
           "title": {
            "standoff": 15
           },
           "zerolinecolor": "white",
           "zerolinewidth": 2
          }
         }
        },
        "xaxis": {
         "anchor": "y",
         "autorange": true,
         "domain": [
          0,
          1
         ],
         "range": [
          0.32000000000000006,
          0.6599999999999999
         ],
         "title": {
          "text": "x"
         },
         "type": "linear"
        },
        "yaxis": {
         "anchor": "x",
         "autorange": true,
         "domain": [
          0,
          1
         ],
         "range": [
          0,
          182.10526315789474
         ],
         "title": {
          "text": "sum of y"
         },
         "type": "linear"
        }
       }
      },
      "text/html": [
       "<div>                            <div id=\"97056d67-7718-4772-890f-b53369cc8e1a\" class=\"plotly-graph-div\" style=\"height:525px; width:100%;\"></div>            <script type=\"text/javascript\">                require([\"plotly\"], function(Plotly) {                    window.PLOTLYENV=window.PLOTLYENV || {};                                    if (document.getElementById(\"97056d67-7718-4772-890f-b53369cc8e1a\")) {                    Plotly.newPlot(                        \"97056d67-7718-4772-890f-b53369cc8e1a\",                        [{\"alignmentgroup\":\"True\",\"bingroup\":\"x\",\"histfunc\":\"sum\",\"hovertemplate\":\"x=%{x}\\u003cbr\\u003esum of y=%{y}\\u003cextra\\u003e\\u003c\\u002fextra\\u003e\",\"legendgroup\":\"\",\"marker\":{\"color\":\"#636efa\",\"pattern\":{\"shape\":\"\"}},\"name\":\"\",\"nbinsx\":20,\"offsetgroup\":\"\",\"orientation\":\"v\",\"showlegend\":false,\"x\":[0.4668469629764502,0.5277593388252784,0.5035209419735162,0.44885801314315915,0.4988966564394017,0.5330035783346401,0.47098349405691603,0.46144338840837346,0.5795963456808507,0.43135970625735853,0.5502145710786459,0.447207546875749,0.43009824248816586,0.5046243263892967,0.4849687130529783,0.5615436112784218,0.47029663691886264,0.4538262394747991,0.47163457258451774,0.5385474794731371,0.4880210947039416,0.5114568761968686,0.5833082543822967,0.43488529325409897,0.3978464434673545,0.40772668175131055,0.5256153055356391,0.597444060900596,0.5354670510623568,0.4492097212259843,0.4750402615137477,0.5886954323958556,0.43993004151859777,0.48490843445817666,0.5064782871669538,0.40322922581545323,0.5219976888968352,0.540482262652755,0.4421029868536728,0.43592894451643105,0.4225712902939837,0.503005540497265,0.5076776724255856,0.4597267467093239,0.5700712040808034,0.5142446864665241,0.4978762616251686,0.5631106978380602,0.49543158847538366,0.5064068810337581,0.5065979407269319,0.5272326005893325,0.4499986148836548,0.540330196400703,0.5241505594622147,0.5163071502809147,0.5498301593253135,0.4912504244048423,0.4699192012549215,0.5434921946322155,0.579090934834531,0.4582024375532428,0.41058917471916206,0.5382452447142867,0.5395124655912811,0.4197580841283497,0.46967956026867486,0.3941712446897386,0.41993996949391627,0.4788837899437266,0.5306059974209361,0.5289907182204834,0.43919246512135984,0.5012679545176949,0.5609967025750334,0.49634371188321075,0.3984054307922707,0.5885477851649175,0.5225737011645502,0.5042879752218737,0.5464375177696261,0.47029304128014415,0.5123201601309407,0.4374430260982584,0.515768127889469,0.4415508982143064,0.5666230518695116,0.5118917848340155,0.518462323077959,0.5363803092773731,0.6247192084561799,0.5534062424903052,0.40165328411118445,0.5989323061701738,0.6141235681071172,0.5237720122422845,0.40601854821138633,0.5395245204913646,0.5969110860589654,0.553741883862123,0.5292668370507758,0.4883802710997229,0.4562208083745115,0.5221142781016392,0.6225420166489586,0.4785830178388527,0.5694310572311353,0.44266197052429734,0.6042715627656269,0.4918157548859684,0.47660103359599154,0.5114993042144087,0.4574958339782953,0.4518848982227571,0.5106077338722111,0.4486430418062653,0.4661542159913489,0.47089412781000267,0.5361198381296496,0.5046311488316594,0.4720231395272922,0.5535980434895914,0.44208167520279046,0.42650212155331707,0.4456405107059134,0.502095905556475,0.4985430276155603,0.5381337331339636,0.5365461382136383,0.429766121035982,0.5122429790474661,0.49022123190809075,0.41874131611649784,0.5952941192226904,0.516495915755292,0.4804147986923005,0.5656097596681139,0.48893133458775545,0.4764519850381955,0.5572017841904598,0.43857641761191085,0.5390898602404333,0.4688730792721113,0.4976042079837456,0.48887573617302765,0.44366603625498513,0.4869616531637192,0.5920015133634758,0.3671225525074478,0.4879191376236498,0.4990259846594767,0.5046847121708576,0.4561713253059128,0.4888486829885045,0.5231503733876138,0.5257598535719974,0.4653011454761454,0.46064295993453974,0.47705384219799757,0.5155734644930726,0.418884588334224,0.498042122251922,0.44501232757450176,0.4113413669620785,0.4600085368646717,0.45470541055344205,0.5678797638578409,0.5368098689995852,0.5393724432908172,0.5479267335127546,0.5922412479951324,0.49705844954515366,0.4218691473991069,0.5508628284066671,0.5086043710253265,0.5357542372605576,0.48286278380100517,0.45793232502620856,0.41826007480583943,0.5494719104597217,0.4916065462506304,0.5313121447384286,0.5070221465500345,0.46384093469648746,0.4467985323633575,0.4665229089845117,0.5306153702683835,0.5996724360694096,0.5196631874763399,0.4151008154689539,0.4470247703271601,0.5685360245130837,0.41681896017062464,0.4963611372427314,0.38216457742654875,0.4973907157298345,0.4906798012740451,0.5710063480310267,0.5042906301006154,0.5153312164752831,0.5023675215713967,0.5114888058854732,0.35862012580986724,0.6152780359144094,0.5651830895875609,0.4792558570502602,0.5173281979231424,0.48015155031951773,0.440705514046214,0.4558324253341067,0.5324027636604334,0.5531458134118835,0.507145954496517,0.526970991521373,0.4048212006971361,0.4340812731431156,0.5539406766089303,0.47174065705976487,0.4683956846591451,0.4033494968460246,0.4851745090821071,0.49059225742449575,0.430741882385331,0.5902572575387515,0.6358772411553584,0.4891076922606748,0.5462701109007483,0.6083854190719695,0.5539289430716247,0.5134433131925814,0.525731038935907,0.5633888044350213,0.5133564764204364,0.3440419027296185,0.5451455021100624,0.44940639503642843,0.5121649462459612,0.5266124264577706,0.46019797578976285,0.4868233324886695,0.5583131194614133,0.39804724781003115,0.4660466413348152,0.40985939628039614,0.553643308959221,0.5332971811939708,0.5283773160060541,0.4097842981262171,0.5312823197537428,0.5639720917609975,0.5018067791872436,0.5033014599047465,0.4779346275910874,0.5158691088697452,0.5606116789308586,0.4742273956575423,0.47273515895650875,0.48407541592182185,0.4775365697610775,0.4535085803064108,0.5097208389740466,0.4926368577246666,0.5400311982158372,0.5104244448808604,0.4913187557497519,0.5207578910659819,0.4071891802405927,0.5584561451625156,0.49480640418226113,0.5277850458400711,0.44795629423035843,0.5026510930083053,0.5304218473444625,0.6353558881696261,0.48847221997226425,0.5818865558652127,0.415273003626608,0.4676961719866907,0.3783673796371845,0.4311588183571001,0.4391624210344362,0.46882840591191866,0.5352590519154676,0.49978969587521666,0.42010434210539,0.557715837770738,0.5881559261391184,0.5026263501216353,0.5444635576115657,0.5046430728661506,0.5274205325506226,0.3990011198875466,0.42473456856382147,0.5562449451364258,0.49723449225449556,0.5049069691745194,0.544251530353577,0.5332961540461527,0.5131217391003419,0.5803218164179431,0.4340542104967888,0.47127593600603584,0.4229292074447355,0.5160565332198715,0.40765235056951055,0.4994485566121463,0.45700603831210557,0.5149437099460891,0.5050183508327382,0.45593760041866815,0.4903868122679843,0.6037196480332336,0.5239188641999517,0.49699544668338985,0.49506640376371996,0.4113840778930177,0.5084073333978079,0.5068433208161732,0.6042127196104551,0.5382122783272932,0.46786429443438343,0.4451282992674043,0.503470129048411,0.5571853550305973,0.5525006811594354,0.4713742260221862,0.4571394253636576,0.46448680143841453,0.5064296409944037,0.5304237027251397,0.5155438784818798,0.5597551696581319,0.5533682793132206,0.4998952085898655,0.3666352271921983,0.45421975038086027,0.47252509005704135,0.5044818347449757,0.4794019610969359,0.6243895881802078,0.49591148761886855,0.47369469106108186,0.4780780209895076,0.5388269127340537,0.6064644108491569,0.39910438727502145,0.5591238075829926,0.5342459181514353,0.519096396780306,0.5100301360267904,0.4980231916703557,0.5105806724640687,0.5390270593757832,0.4964447864406789,0.4104395749106215,0.438070561963193,0.5865854119232722,0.581070071138153,0.5031198311160922,0.49484121357182526,0.5808202345238698,0.5730791370593353,0.563330683996645,0.5222513025330124,0.4451449969075814,0.38071195842014643,0.43751590292512405,0.49113501673850146,0.43067912989950563,0.49993920505645245,0.479194239607074,0.5181066656626645,0.6530015579847925,0.514574541205561,0.5645635672979267,0.5828864064310497,0.4844437976949173,0.4693049204374566,0.5000387160675216,0.6180223779061609,0.4691275843991119,0.5072634327609962,0.586632796633588,0.6050471781829265,0.5229884209268191,0.5008998134371221,0.5434972441403801,0.5300336352856485,0.5057273884731441,0.4075228475865131,0.5049807901928833,0.5211846581498844,0.5081347668324945,0.5027213792335763,0.48527528959960603,0.5330410532972323,0.5135528088212048,0.45550779195052943,0.5162998454824554,0.4898034318768386,0.5210117081090759,0.48931644293439236,0.5960011721587541,0.48127445505639116,0.47716085569828687,0.5260114378819949,0.565044654741025,0.4953289778711676,0.48063439160259075,0.46189674947806597,0.5041111025546269,0.5755847698679999,0.4618636853132189,0.541325550965495,0.5816659083517669,0.46870981910090653,0.5186540594008723,0.4725342185196555,0.5018593474598609,0.5200766257781113,0.46371133163295825,0.5066175544329589,0.5103188009836414,0.5334289140261196,0.4862842275191222,0.5877143373699438,0.538159775376221,0.573327435972215,0.5750391528417178,0.46426305422537634,0.508055039704729,0.5331588640057212,0.44288752706096235,0.4380907983142348,0.45137763663963654,0.5254571080777953,0.471792707445894,0.5487324149683218,0.5184509642026087,0.5054929927048213,0.5544193388690793,0.523120930224713,0.49915243646635155,0.4207236404604841,0.3998746299737423,0.530337053854392,0.4382074136410884,0.5813928939312767,0.5138679132618592,0.5181783104161657,0.4612325835636339,0.5608480269022372,0.521623066279815,0.4477248117900418,0.4735522816446253,0.47418558928705623,0.4170573436836912,0.5834400229267841,0.4757040261396506,0.5210698653571306,0.5165947368291003,0.49362708489040447,0.42988688252432117,0.4752304026484655,0.5125925450634884,0.5734940744247752,0.5548546355183009,0.5105349694954322,0.5415879412953183,0.48756166259834327,0.5175135921178755,0.5074789439123247,0.4576907056999257,0.5192489275986255,0.4432524079000821,0.4314085953849012,0.45679883679332833,0.5673103598800128,0.532560246479235,0.5149742890656204,0.43627498803534137,0.46821000373589455,0.5422423915797673,0.52555380950569,0.5935844265585113,0.5261344943181557,0.5394119292390891,0.48483616852816047,0.48832494489306477,0.5854610403705512,0.4339621477756481,0.5651038540909172,0.5298358917347109,0.4760323678730123,0.5150804526878757,0.4878970928373285,0.45599863485177144,0.42532085367000233,0.5330389349736125,0.4668622110749597,0.4708652432634444,0.477498679339415,0.5237077105953475,0.47928234561090255,0.5418850114204696,0.5677667527549458,0.44924989425950235,0.4803349019195513,0.5351319818988908,0.4506150537117842,0.5384701632184011,0.5210172345737407,0.4499957451387023,0.48298484245091877,0.4356394320392141,0.4746596736805759,0.4388205728613295,0.4953340653223189,0.5992762965508286,0.5381460128811976,0.5869543531493908,0.4803903013257476,0.4767150653131458,0.4430205030759363,0.5160703756172494,0.5565094655177797,0.47324002152541034,0.5295727244749161,0.5596024421682126,0.501080785801284,0.43567772804975347,0.42916995286470505,0.4595660475829726,0.43962595525315673,0.5194697975186716,0.5647246392116926,0.512357957035549,0.5922479502548179,0.5656362977356748,0.4460159608159984,0.5862732702748888,0.6389479273016888,0.5094009870223194,0.5348137607352694,0.4028328485756811,0.41631048269426046,0.3827278096949838,0.5186538736844658,0.5090250700845205,0.5176533300079448,0.511747637092598,0.4862405794566968,0.584230565134051,0.4759064709735286,0.46049102001516057,0.5470293619147609,0.5125072338736382,0.47746502289853426,0.5247321998543364,0.48929548197212014,0.5396999925358168,0.5105278755809433,0.4979918628455583,0.5432286088321205,0.5928083997127221,0.4179020457249906,0.5620031545458503,0.561789704457653,0.4535462540893122,0.5351183480050916,0.504941118129057,0.4071885477787657,0.4497335308650612,0.5180885130790027,0.5052342552765389,0.6084356073295476,0.5326109219087772,0.55876708120126,0.48460633119134494,0.5196030820160583,0.47795734642352516,0.5047708816733967,0.4843175418544554,0.3934811088374554,0.5502754395694128,0.5847988641634232,0.45004640028085563,0.5288856981097458,0.47173590046539005,0.37678670178782053,0.5843855122329245,0.5271726772362914,0.5346327179094261,0.4563322639185041,0.5756729873518381,0.4673250767932985,0.5000004122798957,0.5693846335253192,0.5044136956450077,0.6009866328985537,0.4800343841509374,0.5272991830999987,0.51750677075183,0.5104265566629451,0.5534510700008117,0.4862249599816195,0.46524088506046607,0.4302599374081902,0.45531198728416006,0.3923768600747178,0.6016503700615415,0.5352627476601657,0.5587582439853455,0.5503283452688347,0.5651479050665202,0.45481873365954045,0.5510099453055166,0.5912263125947663,0.3755192840913208,0.4523316282255425,0.4544294152805646,0.5272551298138075,0.5090061988708733,0.4755766396584789,0.5210719759796558,0.5228797758390236,0.5607058080204111,0.4784426707345585,0.40112306693578875,0.5456935721196506,0.5418535854853065,0.3380027224631858,0.4595108380740616,0.4628897074050752,0.5415877579956507,0.5141108036048678,0.48606521367818933,0.5953090982390781,0.418035100783367,0.5062236226976241,0.39968769807783494,0.5193112446331897,0.575950983928881,0.5626348728940455,0.5105564308990915,0.5181654755063037,0.5067859727056355,0.5240712719002658,0.5198942536405669,0.48195986730393453,0.5269705890521995,0.5712441470276701,0.4986628999702117,0.4479807803590195,0.46636408002838736,0.5851805606263838,0.5865140135776157,0.411377810438655,0.5408725020465626,0.3735505813847696,0.5160819305029415,0.510021055765664,0.44872051177025635,0.5146718476844332,0.5068594028284378,0.5006534553114788,0.48187359033275495,0.4956454604404436,0.4874356444012652,0.4778665376928879,0.45502341827109116,0.4006809126668378,0.40964706957867447,0.4944498579582883,0.5108469076973183,0.5729868222033635,0.4237832853624209,0.5269537213552136,0.39594287876705037,0.5067825115350358,0.4828836582151903,0.4553870666819637,0.47048305335774904,0.5738992038052382,0.516966969791715,0.35548309715080206,0.4719913534066765,0.476036127222148,0.4853274533979166,0.36248500342765044,0.5015089612020159,0.5456151295387235,0.5310484648497723,0.5290376143792175,0.44828896001450436,0.5031874406843775,0.5275362561094868,0.5009418302733775,0.590890557196465,0.5394227806781235,0.49980789959035654,0.5231581384523,0.5748427340066484,0.43768703163593475,0.46616907533131774,0.5135660678421395,0.5310430229899566,0.4959414368639946,0.517735441805878,0.5465657665875563,0.44013886714668293,0.4502491290632178,0.5520677152810243,0.585880219006061,0.5473249748127548,0.5706217369838423,0.4588649804227333,0.5530543182772263,0.5605797671175425,0.5574688682075245,0.5347905581225272,0.5656938310527713,0.5022317943453659,0.5225491093019248,0.4746885859402737,0.49224380550263114,0.4922082235480133,0.5023689592069817,0.5457467313130655,0.5663675549711824,0.5596015743302907,0.5982254811955457,0.5217467306401098,0.5356004859286271,0.5795852225880113,0.5366975735656407,0.4442710520284326,0.3943440599535688,0.4698921362936761,0.4628470297495656,0.45201760946750147,0.47088958171196116,0.4305535997029235,0.5039453715383907,0.5322995383769469,0.506461171970651,0.5061056863928076,0.47499851647625285,0.4718068518836434,0.5320446362402135,0.517608820194816,0.4960783784568342,0.535982580976191,0.49153709811997054,0.47136709064162985,0.5331505199861661,0.48315446335503665,0.5480226808993508,0.4914307255232036,0.4128740074517299,0.6185195699318979,0.3914951530360981,0.4814514827402687,0.5461263019570393,0.5498629183585337,0.4388915244185377,0.46578255121733025,0.5741365044008088,0.49339481379920386,0.5163419096507788,0.4344565346310342,0.5208926857287753,0.47049278304057607,0.48768460613354825,0.5084521326359709,0.5343287823950035,0.5242981782017424,0.4833379862458393,0.5241459667370547,0.41238536939049814,0.560617076590917,0.5103020074337701,0.466509305027331,0.5105253997968894,0.46840737544077515,0.489361409054703,0.5284460549175016,0.47728162774894245,0.5232299338782282,0.5353548042821594,0.45940118928926615,0.5571395734338753,0.5131167033830291,0.4789249986133774,0.5467457383202025,0.44229186058287323,0.5042361169080348,0.5035809300202309,0.38607196614894274,0.4233097613919887,0.4689949901292102,0.42865601745198884,0.5620405858518996,0.5301958292679368,0.5562879434070167,0.547912143520325,0.44980056915313354,0.5432682933954421,0.49404739774532486,0.5918205747720069,0.4835709270037318,0.6010784402904845,0.5161392491251848,0.48771009913756863,0.5760262529720648,0.5501185920837207,0.5853387548273036,0.5222043936577176,0.5841763975717204,0.5325483080568734,0.46533355599330545,0.4535622073345097,0.44666513399616437,0.5191845108787985,0.49511285688994233,0.5104354573408474,0.4892436311917843,0.48970855811668434,0.4603860997941987,0.45441317892231636,0.5250398892765918,0.5057112187653575,0.5042471583202935,0.5400962391153684,0.4867800590358356,0.6031413047125826,0.5406678881715445,0.5712315422463486,0.5185845410863544,0.454338808969883,0.42906300155769844,0.49664289847391285,0.5698850125999184,0.4416578327337444,0.5160994255441635,0.52549273906277,0.5354599332686923,0.4614289304487364,0.49882835324564634,0.5274678250731573,0.470352994270711,0.5570247911313032,0.5129603335539596,0.47474975494465393,0.5158658354093425,0.545202565495591,0.5186925413404766,0.45942244200476295,0.45134758133649205,0.5158664674586997,0.5479400827977561,0.5690031081521444,0.550846346126729,0.5274505443087619,0.576497172864971,0.5378658997410618,0.5226863878634816,0.568274182115631,0.45537824482031786,0.5261048515540017,0.586896074791921,0.5757223873342375,0.530913723589901,0.523876914475149,0.49360868530617913,0.5059461437750709,0.5060549299205701,0.4891908277134067,0.45684387386349556,0.48847948670310865,0.4248459399596661,0.5356602661753765,0.46760111678543076,0.5107722558488985,0.46785060003804857,0.516573098212408,0.5813772855037166,0.5472064742415889,0.4655739290241276,0.44822774026811474,0.45802258043324295,0.5752699211132737,0.49640398002020825,0.3710775808744165,0.529123846950336,0.46480865700738033,0.5164950616943403,0.5596483960832248,0.5291438577812246,0.5585749397436575,0.46384069148404605,0.561447400152543,0.5699567531641336,0.41702178424511804,0.4901450923456283,0.532256852406044,0.549218712414782,0.6113893869146048,0.576067266840061,0.4847818033090498,0.4661108226363393,0.5288014061484755,0.531349421473025,0.5348523947604957,0.501109524748417,0.503900120373545,0.5439568232309208,0.39541757444257164,0.5277094394940044,0.5867810392614277,0.5230199847879528,0.4705188972053719,0.5415551807937886,0.4873045181490385,0.4416848007841202,0.507270059652044,0.45941184279854447,0.41709202266466405,0.456407004629306,0.4920077776170399,0.5057964193591945,0.5381569921374589,0.4788527517505498,0.47049421085451093,0.5135609674288613,0.477724074025712,0.475136720399686,0.5585074477677201,0.6267734163854183,0.5055584383901763,0.5334398987850866,0.5510778038705536,0.491841468857591,0.5808620301788054,0.5703356217481079,0.5061170824908633,0.4830245833088553,0.4358081081634579,0.4915368125347608,0.579185256609722,0.4718257459097859,0.503926009475759,0.45068342447056015,0.4931065013935481,0.44968655541600516,0.4567873750935636,0.5453379560627087,0.5129747668299179,0.5067714182985332,0.4597746593776979,0.42421677241365224,0.37658855655962936,0.43683106722983417,0.5292003333089791,0.43622127319623966,0.41148059598774445,0.48842025565413527,0.5178123547462832,0.5051136547976315,0.5324500673408001,0.4894348061364304,0.4997461643286275,0.4948276309592154,0.5511048876711289,0.5511960196875006,0.5085261824966684,0.44491053708165157,0.48358258156850836,0.45387093709776655,0.48019845287380364,0.4759718788747867,0.4698742504399616,0.44241369184446594,0.5367591652130685,0.4986564248763126,0.548281153101471,0.5633077093464501,0.41243601308713373,0.5214070897103746,0.5397347462380409,0.5058419729395011,0.5537954419003495,0.5407006889953534,0.4601640262129422,0.5911217070787983,0.5562990229242674,0.48031982017416697,0.4616556971871952,0.5049761077701111,0.5618220412766791],\"xaxis\":\"x\",\"y\":[1,1,1,1,1,1,1,1,1,1,1,1,1,1,1,1,1,1,1,1,1,1,1,1,1,1,1,1,1,1,1,1,1,1,1,1,1,1,1,1,1,1,1,1,1,1,1,1,1,1,1,1,1,1,1,1,1,1,1,1,1,1,1,1,1,1,1,1,1,1,1,1,1,1,1,1,1,1,1,1,1,1,1,1,1,1,1,1,1,1,1,1,1,1,1,1,1,1,1,1,1,1,1,1,1,1,1,1,1,1,1,1,1,1,1,1,1,1,1,1,1,1,1,1,1,1,1,1,1,1,1,1,1,1,1,1,1,1,1,1,1,1,1,1,1,1,1,1,1,1,1,1,1,1,1,1,1,1,1,1,1,1,1,1,1,1,1,1,1,1,1,1,1,1,1,1,1,1,1,1,1,1,1,1,1,1,1,1,1,1,1,1,1,1,1,1,1,1,1,1,1,1,1,1,1,1,1,1,1,1,1,1,1,1,1,1,1,1,1,1,1,1,1,1,1,1,1,1,1,1,1,1,1,1,1,1,1,1,1,1,1,1,1,1,1,1,1,1,1,1,1,1,1,1,1,1,1,1,1,1,1,1,1,1,1,1,1,1,1,1,1,1,1,1,1,1,1,1,1,1,1,1,1,1,1,1,1,1,1,1,1,1,1,1,1,1,1,1,1,1,1,1,1,1,1,1,1,1,1,1,1,1,1,1,1,1,1,1,1,1,1,1,1,1,1,1,1,1,1,1,1,1,1,1,1,1,1,1,1,1,1,1,1,1,1,1,1,1,1,1,1,1,1,1,1,1,1,1,1,1,1,1,1,1,1,1,1,1,1,1,1,1,1,1,1,1,1,1,1,1,1,1,1,1,1,1,1,1,1,1,1,1,1,1,1,1,1,1,1,1,1,1,1,1,1,1,1,1,1,1,1,1,1,1,1,1,1,1,1,1,1,1,1,1,1,1,1,1,1,1,1,1,1,1,1,1,1,1,1,1,1,1,1,1,1,1,1,1,1,1,1,1,1,1,1,1,1,1,1,1,1,1,1,1,1,1,1,1,1,1,1,1,1,1,1,1,1,1,1,1,1,1,1,1,1,1,1,1,1,1,1,1,1,1,1,1,1,1,1,1,1,1,1,1,1,1,1,1,1,1,1,1,1,1,1,1,1,1,1,1,1,1,1,1,1,1,1,1,1,1,1,1,1,1,1,1,1,1,1,1,1,1,1,1,1,1,1,1,1,1,1,1,1,1,1,1,1,1,1,1,1,1,1,1,1,1,1,1,1,1,1,1,1,1,1,1,1,1,1,1,1,1,1,1,1,1,1,1,1,1,1,1,1,1,1,1,1,1,1,1,1,1,1,1,1,1,1,1,1,1,1,1,1,1,1,1,1,1,1,1,1,1,1,1,1,1,1,1,1,1,1,1,1,1,1,1,1,1,1,1,1,1,1,1,1,1,1,1,1,1,1,1,1,1,1,1,1,1,1,1,1,1,1,1,1,1,1,1,1,1,1,1,1,1,1,1,1,1,1,1,1,1,1,1,1,1,1,1,1,1,1,1,1,1,1,1,1,1,1,1,1,1,1,1,1,1,1,1,1,1,1,1,1,1,1,1,1,1,1,1,1,1,1,1,1,1,1,1,1,1,1,1,1,1,1,1,1,1,1,1,1,1,1,1,1,1,1,1,1,1,1,1,1,1,1,1,1,1,1,1,1,1,1,1,1,1,1,1,1,1,1,1,1,1,1,1,1,1,1,1,1,1,1,1,1,1,1,1,1,1,1,1,1,1,1,1,1,1,1,1,1,1,1,1,1,1,1,1,1,1,1,1,1,1,1,1,1,1,1,1,1,1,1,1,1,1,1,1,1,1,1,1,1,1,1,1,1,1,1,1,1,1,1,1,1,1,1,1,1,1,1,1,1,1,1,1,1,1,1,1,1,1,1,1,1,1,1,1,1,1,1,1,1,1,1,1,1,1,1,1,1,1,1,1,1,1,1,1,1,1,1,1,1,1,1,1,1,1,1,1,1,1,1,1,1,1,1,1,1,1,1,1,1,1,1,1,1,1,1,1,1,1,1,1,1,1,1,1,1,1,1,1,1,1,1,1,1,1,1,1,1,1,1,1,1,1,1,1,1,1,1,1,1,1,1,1,1,1,1,1,1,1,1,1,1,1,1,1,1,1,1,1,1,1,1,1,1,1,1,1,1,1,1,1,1,1,1,1,1,1,1,1,1,1,1,1,1,1,1,1],\"yaxis\":\"y\",\"type\":\"histogram\"}],                        {\"template\":{\"data\":{\"histogram2dcontour\":[{\"type\":\"histogram2dcontour\",\"colorbar\":{\"outlinewidth\":0,\"ticks\":\"\"},\"colorscale\":[[0.0,\"#0d0887\"],[0.1111111111111111,\"#46039f\"],[0.2222222222222222,\"#7201a8\"],[0.3333333333333333,\"#9c179e\"],[0.4444444444444444,\"#bd3786\"],[0.5555555555555556,\"#d8576b\"],[0.6666666666666666,\"#ed7953\"],[0.7777777777777778,\"#fb9f3a\"],[0.8888888888888888,\"#fdca26\"],[1.0,\"#f0f921\"]]}],\"choropleth\":[{\"type\":\"choropleth\",\"colorbar\":{\"outlinewidth\":0,\"ticks\":\"\"}}],\"histogram2d\":[{\"type\":\"histogram2d\",\"colorbar\":{\"outlinewidth\":0,\"ticks\":\"\"},\"colorscale\":[[0.0,\"#0d0887\"],[0.1111111111111111,\"#46039f\"],[0.2222222222222222,\"#7201a8\"],[0.3333333333333333,\"#9c179e\"],[0.4444444444444444,\"#bd3786\"],[0.5555555555555556,\"#d8576b\"],[0.6666666666666666,\"#ed7953\"],[0.7777777777777778,\"#fb9f3a\"],[0.8888888888888888,\"#fdca26\"],[1.0,\"#f0f921\"]]}],\"heatmap\":[{\"type\":\"heatmap\",\"colorbar\":{\"outlinewidth\":0,\"ticks\":\"\"},\"colorscale\":[[0.0,\"#0d0887\"],[0.1111111111111111,\"#46039f\"],[0.2222222222222222,\"#7201a8\"],[0.3333333333333333,\"#9c179e\"],[0.4444444444444444,\"#bd3786\"],[0.5555555555555556,\"#d8576b\"],[0.6666666666666666,\"#ed7953\"],[0.7777777777777778,\"#fb9f3a\"],[0.8888888888888888,\"#fdca26\"],[1.0,\"#f0f921\"]]}],\"heatmapgl\":[{\"type\":\"heatmapgl\",\"colorbar\":{\"outlinewidth\":0,\"ticks\":\"\"},\"colorscale\":[[0.0,\"#0d0887\"],[0.1111111111111111,\"#46039f\"],[0.2222222222222222,\"#7201a8\"],[0.3333333333333333,\"#9c179e\"],[0.4444444444444444,\"#bd3786\"],[0.5555555555555556,\"#d8576b\"],[0.6666666666666666,\"#ed7953\"],[0.7777777777777778,\"#fb9f3a\"],[0.8888888888888888,\"#fdca26\"],[1.0,\"#f0f921\"]]}],\"contourcarpet\":[{\"type\":\"contourcarpet\",\"colorbar\":{\"outlinewidth\":0,\"ticks\":\"\"}}],\"contour\":[{\"type\":\"contour\",\"colorbar\":{\"outlinewidth\":0,\"ticks\":\"\"},\"colorscale\":[[0.0,\"#0d0887\"],[0.1111111111111111,\"#46039f\"],[0.2222222222222222,\"#7201a8\"],[0.3333333333333333,\"#9c179e\"],[0.4444444444444444,\"#bd3786\"],[0.5555555555555556,\"#d8576b\"],[0.6666666666666666,\"#ed7953\"],[0.7777777777777778,\"#fb9f3a\"],[0.8888888888888888,\"#fdca26\"],[1.0,\"#f0f921\"]]}],\"surface\":[{\"type\":\"surface\",\"colorbar\":{\"outlinewidth\":0,\"ticks\":\"\"},\"colorscale\":[[0.0,\"#0d0887\"],[0.1111111111111111,\"#46039f\"],[0.2222222222222222,\"#7201a8\"],[0.3333333333333333,\"#9c179e\"],[0.4444444444444444,\"#bd3786\"],[0.5555555555555556,\"#d8576b\"],[0.6666666666666666,\"#ed7953\"],[0.7777777777777778,\"#fb9f3a\"],[0.8888888888888888,\"#fdca26\"],[1.0,\"#f0f921\"]]}],\"mesh3d\":[{\"type\":\"mesh3d\",\"colorbar\":{\"outlinewidth\":0,\"ticks\":\"\"}}],\"scatter\":[{\"fillpattern\":{\"fillmode\":\"overlay\",\"size\":10,\"solidity\":0.2},\"type\":\"scatter\"}],\"parcoords\":[{\"type\":\"parcoords\",\"line\":{\"colorbar\":{\"outlinewidth\":0,\"ticks\":\"\"}}}],\"scatterpolargl\":[{\"type\":\"scatterpolargl\",\"marker\":{\"colorbar\":{\"outlinewidth\":0,\"ticks\":\"\"}}}],\"bar\":[{\"error_x\":{\"color\":\"#2a3f5f\"},\"error_y\":{\"color\":\"#2a3f5f\"},\"marker\":{\"line\":{\"color\":\"#E5ECF6\",\"width\":0.5},\"pattern\":{\"fillmode\":\"overlay\",\"size\":10,\"solidity\":0.2}},\"type\":\"bar\"}],\"scattergeo\":[{\"type\":\"scattergeo\",\"marker\":{\"colorbar\":{\"outlinewidth\":0,\"ticks\":\"\"}}}],\"scatterpolar\":[{\"type\":\"scatterpolar\",\"marker\":{\"colorbar\":{\"outlinewidth\":0,\"ticks\":\"\"}}}],\"histogram\":[{\"marker\":{\"pattern\":{\"fillmode\":\"overlay\",\"size\":10,\"solidity\":0.2}},\"type\":\"histogram\"}],\"scattergl\":[{\"type\":\"scattergl\",\"marker\":{\"colorbar\":{\"outlinewidth\":0,\"ticks\":\"\"}}}],\"scatter3d\":[{\"type\":\"scatter3d\",\"line\":{\"colorbar\":{\"outlinewidth\":0,\"ticks\":\"\"}},\"marker\":{\"colorbar\":{\"outlinewidth\":0,\"ticks\":\"\"}}}],\"scattermapbox\":[{\"type\":\"scattermapbox\",\"marker\":{\"colorbar\":{\"outlinewidth\":0,\"ticks\":\"\"}}}],\"scatterternary\":[{\"type\":\"scatterternary\",\"marker\":{\"colorbar\":{\"outlinewidth\":0,\"ticks\":\"\"}}}],\"scattercarpet\":[{\"type\":\"scattercarpet\",\"marker\":{\"colorbar\":{\"outlinewidth\":0,\"ticks\":\"\"}}}],\"carpet\":[{\"aaxis\":{\"endlinecolor\":\"#2a3f5f\",\"gridcolor\":\"white\",\"linecolor\":\"white\",\"minorgridcolor\":\"white\",\"startlinecolor\":\"#2a3f5f\"},\"baxis\":{\"endlinecolor\":\"#2a3f5f\",\"gridcolor\":\"white\",\"linecolor\":\"white\",\"minorgridcolor\":\"white\",\"startlinecolor\":\"#2a3f5f\"},\"type\":\"carpet\"}],\"table\":[{\"cells\":{\"fill\":{\"color\":\"#EBF0F8\"},\"line\":{\"color\":\"white\"}},\"header\":{\"fill\":{\"color\":\"#C8D4E3\"},\"line\":{\"color\":\"white\"}},\"type\":\"table\"}],\"barpolar\":[{\"marker\":{\"line\":{\"color\":\"#E5ECF6\",\"width\":0.5},\"pattern\":{\"fillmode\":\"overlay\",\"size\":10,\"solidity\":0.2}},\"type\":\"barpolar\"}],\"pie\":[{\"automargin\":true,\"type\":\"pie\"}]},\"layout\":{\"autotypenumbers\":\"strict\",\"colorway\":[\"#636efa\",\"#EF553B\",\"#00cc96\",\"#ab63fa\",\"#FFA15A\",\"#19d3f3\",\"#FF6692\",\"#B6E880\",\"#FF97FF\",\"#FECB52\"],\"font\":{\"color\":\"#2a3f5f\"},\"hovermode\":\"closest\",\"hoverlabel\":{\"align\":\"left\"},\"paper_bgcolor\":\"white\",\"plot_bgcolor\":\"#E5ECF6\",\"polar\":{\"bgcolor\":\"#E5ECF6\",\"angularaxis\":{\"gridcolor\":\"white\",\"linecolor\":\"white\",\"ticks\":\"\"},\"radialaxis\":{\"gridcolor\":\"white\",\"linecolor\":\"white\",\"ticks\":\"\"}},\"ternary\":{\"bgcolor\":\"#E5ECF6\",\"aaxis\":{\"gridcolor\":\"white\",\"linecolor\":\"white\",\"ticks\":\"\"},\"baxis\":{\"gridcolor\":\"white\",\"linecolor\":\"white\",\"ticks\":\"\"},\"caxis\":{\"gridcolor\":\"white\",\"linecolor\":\"white\",\"ticks\":\"\"}},\"coloraxis\":{\"colorbar\":{\"outlinewidth\":0,\"ticks\":\"\"}},\"colorscale\":{\"sequential\":[[0.0,\"#0d0887\"],[0.1111111111111111,\"#46039f\"],[0.2222222222222222,\"#7201a8\"],[0.3333333333333333,\"#9c179e\"],[0.4444444444444444,\"#bd3786\"],[0.5555555555555556,\"#d8576b\"],[0.6666666666666666,\"#ed7953\"],[0.7777777777777778,\"#fb9f3a\"],[0.8888888888888888,\"#fdca26\"],[1.0,\"#f0f921\"]],\"sequentialminus\":[[0.0,\"#0d0887\"],[0.1111111111111111,\"#46039f\"],[0.2222222222222222,\"#7201a8\"],[0.3333333333333333,\"#9c179e\"],[0.4444444444444444,\"#bd3786\"],[0.5555555555555556,\"#d8576b\"],[0.6666666666666666,\"#ed7953\"],[0.7777777777777778,\"#fb9f3a\"],[0.8888888888888888,\"#fdca26\"],[1.0,\"#f0f921\"]],\"diverging\":[[0,\"#8e0152\"],[0.1,\"#c51b7d\"],[0.2,\"#de77ae\"],[0.3,\"#f1b6da\"],[0.4,\"#fde0ef\"],[0.5,\"#f7f7f7\"],[0.6,\"#e6f5d0\"],[0.7,\"#b8e186\"],[0.8,\"#7fbc41\"],[0.9,\"#4d9221\"],[1,\"#276419\"]]},\"xaxis\":{\"gridcolor\":\"white\",\"linecolor\":\"white\",\"ticks\":\"\",\"title\":{\"standoff\":15},\"zerolinecolor\":\"white\",\"automargin\":true,\"zerolinewidth\":2},\"yaxis\":{\"gridcolor\":\"white\",\"linecolor\":\"white\",\"ticks\":\"\",\"title\":{\"standoff\":15},\"zerolinecolor\":\"white\",\"automargin\":true,\"zerolinewidth\":2},\"scene\":{\"xaxis\":{\"backgroundcolor\":\"#E5ECF6\",\"gridcolor\":\"white\",\"linecolor\":\"white\",\"showbackground\":true,\"ticks\":\"\",\"zerolinecolor\":\"white\",\"gridwidth\":2},\"yaxis\":{\"backgroundcolor\":\"#E5ECF6\",\"gridcolor\":\"white\",\"linecolor\":\"white\",\"showbackground\":true,\"ticks\":\"\",\"zerolinecolor\":\"white\",\"gridwidth\":2},\"zaxis\":{\"backgroundcolor\":\"#E5ECF6\",\"gridcolor\":\"white\",\"linecolor\":\"white\",\"showbackground\":true,\"ticks\":\"\",\"zerolinecolor\":\"white\",\"gridwidth\":2}},\"shapedefaults\":{\"line\":{\"color\":\"#2a3f5f\"}},\"annotationdefaults\":{\"arrowcolor\":\"#2a3f5f\",\"arrowhead\":0,\"arrowwidth\":1},\"geo\":{\"bgcolor\":\"white\",\"landcolor\":\"#E5ECF6\",\"subunitcolor\":\"white\",\"showland\":true,\"showlakes\":true,\"lakecolor\":\"white\"},\"title\":{\"x\":0.05},\"mapbox\":{\"style\":\"light\"}}},\"xaxis\":{\"anchor\":\"y\",\"domain\":[0.0,1.0],\"title\":{\"text\":\"x\"}},\"yaxis\":{\"anchor\":\"x\",\"domain\":[0.0,1.0],\"title\":{\"text\":\"sum of y\"}},\"legend\":{\"tracegroupgap\":0},\"margin\":{\"t\":60},\"barmode\":\"relative\"},                        {\"responsive\": true}                    ).then(function(){\n",
       "                            \n",
       "var gd = document.getElementById('97056d67-7718-4772-890f-b53369cc8e1a');\n",
       "var x = new MutationObserver(function (mutations, observer) {{\n",
       "        var display = window.getComputedStyle(gd).display;\n",
       "        if (!display || display === 'none') {{\n",
       "            console.log([gd, 'removed!']);\n",
       "            Plotly.purge(gd);\n",
       "            observer.disconnect();\n",
       "        }}\n",
       "}});\n",
       "\n",
       "// Listen for the removal of the full notebook cells\n",
       "var notebookContainer = gd.closest('#notebook-container');\n",
       "if (notebookContainer) {{\n",
       "    x.observe(notebookContainer, {childList: true});\n",
       "}}\n",
       "\n",
       "// Listen for the clearing of the current output cell\n",
       "var outputEl = gd.closest('.output');\n",
       "if (outputEl) {{\n",
       "    x.observe(outputEl, {childList: true});\n",
       "}}\n",
       "\n",
       "                        })                };                });            </script>        </div>"
      ]
     },
     "metadata": {},
     "output_type": "display_data"
    }
   ],
   "source": [
    "# Example\n",
    "import random\n",
    "import plotly.express as px\n",
    "sample_size = 31\n",
    "sample_count = 1000\n",
    "# central limit theorem, 1000 samples each with 31 random numbers between 0.0 and 1.0\n",
    "x_values = [(sum([random.uniform(0.0, 1.0) for i in range(sample_size)])/sample_size) for _ in range(sample_count)]\n",
    "y_values = [1 for _ in range(sample_count)]\n",
    "px.histogram(x=x_values, y=y_values, nbins=20).show();"
   ]
  },
  {
   "cell_type": "markdown",
   "id": "4f924baa-09e9-4918-aee8-83312944f0a3",
   "metadata": {},
   "source": [
    "<h4>The Confidence Interval</h4>\n",
    "<p>\n",
    "    A range calculation showing how confidently we believe a sample mean (or other parameter) falls in a range for the population mean.\n",
    "</p>"
   ]
  },
  {
   "cell_type": "code",
   "execution_count": 50,
   "id": "c2efc043-8941-4311-8e40-1467af506b15",
   "metadata": {},
   "outputs": [
    {
     "data": {
      "text/plain": [
       "(np.float64(-1.959963984540054), np.float64(1.959963984540054))"
      ]
     },
     "execution_count": 50,
     "metadata": {},
     "output_type": "execute_result"
    }
   ],
   "source": [
    "# Calculating the confidence interval for .95, sample mean = 64.408 and sample standard deviation = 2.05\n",
    "from scipy.stats import norm\n",
    "def critical_z_value(p):\n",
    "    norm_dist = norm(loc=0.0, scale=1.0)\n",
    "    left_tail_area = (1.0-p)/2.0\n",
    "    upper_area = 1.0 - ((1.0-p)/2.0)\n",
    "    return norm_dist.ppf(left_tail_area), norm_dist.ppf(upper_area)\n",
    "critical_z_value(p=.95)"
   ]
  },
  {
   "cell_type": "code",
   "execution_count": 51,
   "id": "4da42c30-d744-4336-9d67-82c0f2a307f4",
   "metadata": {},
   "outputs": [
    {
     "data": {
      "text/plain": [
       "(64.408 - 0.129610521558294*sqrt(31), 0.129610521558294*sqrt(31) + 64.408)"
      ]
     },
     "execution_count": 51,
     "metadata": {},
     "output_type": "execute_result"
    }
   ],
   "source": [
    "# Margin of Error\n",
    "# Margin of Error (E) is the range around the sample mean that contains the population mean at that level of confidence.\n",
    "\n",
    "def confidence_interval(p, sample_mean, sample_std, n):\n",
    "    # sample size must be greater than 30\n",
    "    lower, upper = critical_z_value(p)\n",
    "    lower_ci = lower*(sample_std/sqrt(n))\n",
    "    upper_ci = upper*(sample_std/sqrt(n))\n",
    "    return sample_mean + lower_ci, sample_mean + upper_ci\n",
    "confidence_interval(p=0.95, sample_mean=64.408, sample_std=2.05, n=31)"
   ]
  },
  {
   "cell_type": "markdown",
   "id": "de05ae36-c3ed-4ae4-8adb-1284cbc9f665",
   "metadata": {},
   "source": [
    "<h4>Understanding p-value</h4>\n",
    "<p>\n",
    "    P-value is the probability of something occuring by chance rather than because a hypothesized explanation.\n",
    "</p>\n",
    "<p>\n",
    "    Null hypothesis, H0 poses that the variable in question had no impact on the experiment and any positive results are just random luck.\n",
    "</p>\n",
    "\n",
    "<p>\n",
    "    Alternative hypothesis, H1 poses that a variable in question (called the controlled variable) is causing a positive result.\n",
    "</p>"
   ]
  },
  {
   "cell_type": "markdown",
   "id": "b6b8c80b-605e-4f1d-97bb-c70932d60bee",
   "metadata": {},
   "source": [
    "<h4>Hypothesis Testing</h4>\n"
   ]
  },
  {
   "cell_type": "code",
   "execution_count": 52,
   "id": "17f82469-1262-433c-a14d-50ad830ff499",
   "metadata": {},
   "outputs": [
    {
     "data": {
      "text/plain": [
       "np.float64(0.9544997361036416)"
      ]
     },
     "execution_count": 52,
     "metadata": {},
     "output_type": "execute_result"
    }
   ],
   "source": [
    "# Example: Past studies show that the mean recovery time for a cold is 18days, with a standard deviation of 1.5 days and follows a normal\n",
    "# distribution.\n",
    "# 95% probability recovery time takes between 15 and 21 days\n",
    "from scipy.stats import norm\n",
    "mean = 18\n",
    "std_dev = 1.5\n",
    "x = norm.cdf(21, mean, std_dev) - norm.cdf(15, mean, std_dev)\n",
    "x"
   ]
  },
  {
   "cell_type": "markdown",
   "id": "f6153363-4ab0-4a67-b72f-7ac09cafba50",
   "metadata": {},
   "source": [
    "<h3>One-tailed Test</h3>"
   ]
  },
  {
   "cell_type": "code",
   "execution_count": 53,
   "id": "1fd65c51-f7c9-4f8b-a808-a6dd8ead4a5d",
   "metadata": {},
   "outputs": [
    {
     "data": {
      "text/plain": [
       "np.float64(15.53271955957279)"
      ]
     },
     "execution_count": 53,
     "metadata": {},
     "output_type": "execute_result"
    }
   ],
   "source": [
    "# A p-value of 0.05 or less is considered statistically significant.\n",
    "# There is a 5% chance of a person recovering after 21 days or less than 14days\n",
    "# With 15 days or less, the drug is considered statistically significant to have shown an impact.\n",
    "mean = 18\n",
    "std_dev = 1.5\n",
    "x = norm.ppf(.05, mean, std_dev)\n",
    "x"
   ]
  },
  {
   "cell_type": "code",
   "execution_count": 54,
   "id": "756e4ac5-ee6f-4054-adb9-2b4f09781bbd",
   "metadata": {},
   "outputs": [
    {
     "data": {
      "text/plain": [
       "np.float64(0.09121121972586788)"
      ]
     },
     "execution_count": 54,
     "metadata": {},
     "output_type": "execute_result"
    }
   ],
   "source": [
    "# Calculating the one-tailed p-value\n",
    "from scipy.stats import norm\n",
    "# Cold has 18 day mean recovery, 1.5 std dev\n",
    "mean = 18\n",
    "std_dev = 1.5\n",
    "# Actual Sample mean is 16 days\n",
    "# Probability of 16 or less days\n",
    "p_value = norm.cdf(16, mean, std_dev)\n",
    "p_value"
   ]
  },
  {
   "cell_type": "code",
   "execution_count": 55,
   "id": "592e0d03-4197-4f39-a6e7-3daef978e947",
   "metadata": {},
   "outputs": [],
   "source": [
    "# The p-value is higher than  0.5, thus the drug is not statistically significant"
   ]
  },
  {
   "cell_type": "markdown",
   "id": "addf75c7-8a90-4351-99fc-677172b92526",
   "metadata": {},
   "source": [
    "<h3>Two-tailed Test</h3>\n",
    "<p>It is always practically safer and batter to use a two-tailed test.</p>"
   ]
  },
  {
   "cell_type": "code",
   "execution_count": 56,
   "id": "a145221b-9c29-45ee-92e5-1e010c5e24af",
   "metadata": {},
   "outputs": [
    {
     "name": "stdout",
     "output_type": "stream",
     "text": [
      "15.060054023189918\n",
      "20.93994597681008\n"
     ]
    }
   ],
   "source": [
    "# Calculating a range for a statistical significance of 5%\n",
    "from scipy.stats import norm\n",
    "mean = 18\n",
    "std_dev = 1.5\n",
    "x1 = norm.ppf(.025, mean, std_dev)\n",
    "x2 = norm.ppf(.975, mean, std_dev)\n",
    "print(x1)\n",
    "print(x2)"
   ]
  },
  {
   "cell_type": "code",
   "execution_count": 57,
   "id": "865e08da-0f7f-4b5a-b9c3-2db93afdce83",
   "metadata": {},
   "outputs": [],
   "source": [
    "# The sample mean value is 16. Which not less than x1 and greater than x2. We still fail to reject the null hypothesis."
   ]
  },
  {
   "cell_type": "code",
   "execution_count": 58,
   "id": "6d75f7b9-08d3-41ad-8a9e-60de1bc5e212",
   "metadata": {},
   "outputs": [
    {
     "data": {
      "text/plain": [
       "np.float64(0.18242243945173575)"
      ]
     },
     "execution_count": 58,
     "metadata": {},
     "output_type": "execute_result"
    }
   ],
   "source": [
    "# Calculating the p-value\n",
    "from scipy.stats import norm\n",
    "# cold has 18 day mean recovery, 1.5 std dev\n",
    "mean = 18\n",
    "std_dev = 1.5\n",
    "\n",
    "# Probability of 16 or less days\n",
    "p1 = norm.cdf(16, mean, std_dev)\n",
    "\n",
    "# Proability of 20 or more days\n",
    "p2 = 1.0 - norm.cdf(20, mean, std_dev)\n",
    "\n",
    "# p-value of both tails\n",
    "p_value = p1 + p2\n",
    "p_value\n",
    "\n",
    "# p_value is greater than 0.05, thus the drug is not statistically significant."
   ]
  },
  {
   "cell_type": "markdown",
   "id": "48d227e7-7d6e-4dd8-95e1-f87b361a7578",
   "metadata": {},
   "source": [
    "<h3>Exercise</h3>"
   ]
  },
  {
   "cell_type": "code",
   "execution_count": 70,
   "id": "91a57031-9ceb-4e46-a4fe-cfa8216e0d13",
   "metadata": {},
   "outputs": [
    {
     "ename": "TypeError",
     "evalue": "'float' object is not callable",
     "output_type": "error",
     "traceback": [
      "\u001b[1;31m---------------------------------------------------------------------------\u001b[0m",
      "\u001b[1;31mTypeError\u001b[0m                                 Traceback (most recent call last)",
      "Cell \u001b[1;32mIn[70], line 8\u001b[0m\n\u001b[0;32m      6\u001b[0m diameters \u001b[38;5;241m=\u001b[39m [\u001b[38;5;241m1.78\u001b[39m, \u001b[38;5;241m1.75\u001b[39m, \u001b[38;5;241m1.72\u001b[39m, \u001b[38;5;241m1.74\u001b[39m, \u001b[38;5;241m1.77\u001b[39m]\n\u001b[0;32m      7\u001b[0m mean \u001b[38;5;241m=\u001b[39m \u001b[38;5;28msum\u001b[39m(diameters)\u001b[38;5;241m/\u001b[39m\u001b[38;5;28mlen\u001b[39m(diameters)\n\u001b[1;32m----> 8\u001b[0m std_dev \u001b[38;5;241m=\u001b[39m \u001b[43mstd_dev\u001b[49m\u001b[43m(\u001b[49m\u001b[43mdiameters\u001b[49m\u001b[43m,\u001b[49m\u001b[43m \u001b[49m\u001b[43mis_sample\u001b[49m\u001b[38;5;241;43m=\u001b[39;49m\u001b[38;5;28;43;01mTrue\u001b[39;49;00m\u001b[43m)\u001b[49m\n\u001b[0;32m      9\u001b[0m mean, std_dev\n",
      "\u001b[1;31mTypeError\u001b[0m: 'float' object is not callable"
     ]
    }
   ],
   "source": [
    "# You bought a spool of 1.75 mm filament for your 3D printer. You want to\n",
    "# measure how close the filament diameter really is to 1.75 mm. You use a caliper\n",
    "# tool and sample the diameter five times on the spool:\n",
    "# 1.78, 1.75, 1.72, 1.74, 1.77\n",
    "# Calculate the mean and standard deviation for this set of values.\n",
    "diameters = [1.78, 1.75, 1.72, 1.74, 1.77]\n",
    "mean = sum(diameters)/len(diameters)\n",
    "std_dev = std_dev(diameters, is_sample=True)\n",
    "mean, std_dev"
   ]
  },
  {
   "cell_type": "code",
   "execution_count": 59,
   "id": "c6d141eb-4bde-4b3a-9e0b-b1a490acf4f2",
   "metadata": {},
   "outputs": [
    {
     "data": {
      "text/plain": [
       "np.float64(0.0638274380338035)"
      ]
     },
     "execution_count": 59,
     "metadata": {},
     "output_type": "execute_result"
    }
   ],
   "source": [
    "# Exercise\n",
    "\n",
    "norm.cdf(30, 42, 8) - norm.cdf(20, 42, 8)"
   ]
  },
  {
   "cell_type": "code",
   "execution_count": 60,
   "id": "efea5f55-3337-45a4-8f44-2afbf50dd360",
   "metadata": {},
   "outputs": [
    {
     "data": {
      "text/plain": [
       "(np.float64(-2.5758293035489004), np.float64(2.5758293035489004))"
      ]
     },
     "execution_count": 60,
     "metadata": {},
     "output_type": "execute_result"
    }
   ],
   "source": [
    "critical_z_value(p=.99)"
   ]
  },
  {
   "cell_type": "code",
   "execution_count": 64,
   "id": "a8d3f00b-1574-445d-8566-069cdaecf186",
   "metadata": {},
   "outputs": [
    {
     "data": {
      "text/plain": [
       "0.012922102625134328"
      ]
     },
     "execution_count": 64,
     "metadata": {},
     "output_type": "execute_result"
    }
   ],
   "source": [
    "# Margin of Error\n",
    "float((2.5758293035489004 * 0.029252)/sqrt(34))"
   ]
  },
  {
   "cell_type": "code",
   "execution_count": null,
   "id": "81966b77-661f-4f01-a892-a44fa380fc4a",
   "metadata": {},
   "outputs": [],
   "source": []
  }
 ],
 "metadata": {
  "kernelspec": {
   "display_name": "Python 3 (ipykernel)",
   "language": "python",
   "name": "python3"
  },
  "language_info": {
   "codemirror_mode": {
    "name": "ipython",
    "version": 3
   },
   "file_extension": ".py",
   "mimetype": "text/x-python",
   "name": "python",
   "nbconvert_exporter": "python",
   "pygments_lexer": "ipython3",
   "version": "3.12.4"
  }
 },
 "nbformat": 4,
 "nbformat_minor": 5
}

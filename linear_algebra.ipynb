{
 "cells": [
  {
   "cell_type": "code",
   "execution_count": null,
   "metadata": {
    "id": "oWltrKx-scPm"
   },
   "outputs": [],
   "source": []
  },
  {
   "cell_type": "markdown",
   "metadata": {
    "id": "512wGKUZ1H8Q"
   },
   "source": [
    "Linear algebra plays a fundamental role in data science, as it provides the mathematical foundation for understanding data structures, machine learning models, and optimization techniques.\n",
    "Linear algebra is concerned with scalars, vectors and matrices\n",
    "###  ** Scalars **\n",
    "Most everyday mathematics\n",
    "consists of manipulating\n",
    "numbers one at a time.\n",
    "Formally, we call these values *scalars*.\n",
    "For example, the temperature in Palo Alto\n",
    "is a balmy $72$ degrees Fahrenheit.\n",
    "If you wanted to convert the temperature to Celsius\n",
    "you would evaluate the expression\n",
    "$c = \\frac{5}{9}(f - 32)$, setting $f$ to $72$.\n",
    "In this equation, the values\n",
    "$5$, $9$, and $32$ are constant scalars.\n",
    "The variables $c$ and $f$\n",
    "in general represent unknown scalars.\n",
    "\n",
    "We denote scalars\n",
    "by ordinary lower-cased letters\n",
    "(e.g., $x$, $y$, and $z$)\n",
    "and the space of all (continuous)\n",
    "*real-valued* scalars by $\\mathbb{R}$.\n",
    "just remember that the expression $x \\in \\mathbb{R}$\n",
    "is a formal way to say that $x$ is a real-valued scalar.\n",
    "The symbol $\\in$ (pronounced \"in\")\n",
    "denotes membership in a set.\n",
    "For example, $x, y \\in \\{0, 1\\}$\n",
    "indicates that $x$ and $y$ are variables\n",
    "that can only take values $0$ or $1$.\n",
    "\n",
    "(**Scalars are implemented as values\n",
    "that contain only one element.**)\n",
    "Below, we assign two scalars\n",
    "and perform the familiar addition, multiplication,\n",
    "division, and exponentiation operations.\n",
    "  "
   ]
  },
  {
   "cell_type": "code",
   "execution_count": 1,
   "metadata": {
    "colab": {
     "base_uri": "https://localhost:8080/"
    },
    "id": "LuO-rLpc-u4L",
    "outputId": "9109b115-9393-4f98-e2dc-ed08e61b8f01"
   },
   "outputs": [
    {
     "data": {
      "text/plain": [
       "(13, 30, 0.3, 59049)"
      ]
     },
     "execution_count": 1,
     "metadata": {},
     "output_type": "execute_result"
    }
   ],
   "source": [
    "x = 3\n",
    "y = 10\n",
    "x + y, x * y, x / y, x**y"
   ]
  },
  {
   "cell_type": "markdown",
   "metadata": {
    "id": "wC_FcyBM2s8h"
   },
   "source": [
    "\n",
    "### **Vectors**\n",
    "\n",
    "- **Vectors**: A vector is an ordered list of numbers, it can also be an arrow in space representing a piece of data. Vectors are used to represent data points in data science (e.g., a feature vector in a machine learning model).\n",
    "When vectors represent examples from real-world datasets, their values hold some real-world signaificance. \n",
    "We often visualize vectors \n",
    "by stacking their elements vertically.\n",
    "\n",
    "$$\\mathbf{x} =\\begin{bmatrix}x_{1}  \\\\ \\vdots  \\\\x_{n}\\end{bmatrix},$$\n",
    "\n",
    "Here $x_1, \\ldots, x_n$ are elements of the vector.\n",
    "There is also a difference between such *column vectors*\n",
    "and *row vectors* whose elements are stacked horizontally.\n",
    "  "
   ]
  },
  {
   "cell_type": "code",
   "execution_count": 2,
   "metadata": {
    "colab": {
     "base_uri": "https://localhost:8080/"
    },
    "id": "Kv42JiaZBeVG",
    "outputId": "b301b3a7-dbd2-43d5-b307-21425424d4ed"
   },
   "outputs": [
    {
     "name": "stdout",
     "output_type": "stream",
     "text": [
      "[3, 2]\n"
     ]
    }
   ],
   "source": [
    "# Example 1. Declaring a vector in Python using a list\n",
    "v = [3, 2]\n",
    "print(v)\n"
   ]
  },
  {
   "cell_type": "code",
   "execution_count": null,
   "metadata": {
    "id": "27giLC6MBmN3"
   },
   "outputs": [],
   "source": [
    "#Example 2. Declaring a vector in Python using NumPy\n",
    "import numpy as np\n",
    "v = np.array([3, 2])\n",
    "print(v)\n"
   ]
  },
  {
   "cell_type": "code",
   "execution_count": null,
   "metadata": {},
   "outputs": [],
   "source": [
    "Example 4-3. Declaring a three-dimensional vector in Python using NumPy\n",
    "import numpy as np\n",
    "v = np.array([4, 1, 2])\n",
    "print(v)\n",
    "\n",
    "# we can declare vectors of different dimensions"
   ]
  },
  {
   "cell_type": "markdown",
   "metadata": {},
   "source": [
    " **Operations**:\n",
    "  - **Addition**: We can easily combine movements of two vectors into a single vector, we add values in their respective directions\n",
    "\n"
   ]
  },
  {
   "cell_type": "code",
   "execution_count": null,
   "metadata": {},
   "outputs": [],
   "source": [
    "from numpy import array\n",
    "v = array([3,2,4])\n",
    "w = array([2,-1,10])\n",
    "# sum the vectors\n",
    "v_plus_w = v + w\n",
    "# display summed vector\n",
    "print(v_plus_w) # [5, 1,14]"
   ]
  },
  {
   "cell_type": "markdown",
   "metadata": {},
   "source": [
    "  - **Scalar Multiplication**:\n",
    "  We can grow and shrink vectors by multiplying it with a scalar\n",
    "  Scaling vectors doesnot change their direction but magnitude except when we multiply a vector by a negative number. Still the new vector exists on the same line. "
   ]
  },
  {
   "cell_type": "code",
   "execution_count": null,
   "metadata": {},
   "outputs": [],
   "source": [
    " ## Scaling a number in Python using NumPy\n",
    "from numpy import array\n",
    "v = array([3,1])\n",
    "# scale the vector\n",
    "scaled_v = 2.0 * v\n",
    "# display scaled vector\n",
    "print(scaled_v) # [6 2]"
   ]
  },
  {
   "cell_type": "markdown",
   "metadata": {},
   "source": [
    " - **Span and Linear Dependence**:\n",
    "  so far we have looked at adding vectors and scaling them, with these two operations, two vectors can be scaled and added to create any new vector. \n",
    "  The whole space of possible vectors is a span. This limits the number of possiblities because of linear dependence, all the new vectors will be created in the same direction."
   ]
  },
  {
   "cell_type": "markdown",
   "metadata": {},
   "source": [
    "## Matrices\n",
    "\n",
    "Just as scalars are $0^{\\textrm{th}}$-order\n",
    "and vectors are $1^{\\textrm{st}}$-order,\n",
    "matrices are $2^{\\textrm{nd}}$-order array of numbers.\n",
    "We denote matrices by bold capital letters\n",
    "(e.g., $\\mathbf{X}$, $\\mathbf{Y}$, and $\\mathbf{Z}$),\n",
    "and represent them in code by tensors with two axes.\n",
    "The expression $\\mathbf{A} \\in \\mathbb{R}^{m \\times n}$\n",
    "indicates that a matrix $\\mathbf{A}$ \n",
    "contains $m \\times n$ real-valued scalars,\n",
    "arranged as $m$ rows and $n$ columns.\n",
    "When $m = n$, we say that a matrix is *square*.\n",
    "Visually, we can illustrate any matrix as a table.\n",
    "To refer to an individual element,\n",
    "we subscript both the row and column indices, e.g.,\n",
    "$a_{ij}$ is the value that belongs to $\\mathbf{A}$'s\n",
    "$i^{\\textrm{th}}$ row and $j^{\\textrm{th}}$ column:\n",
    "\n",
    "$$\\mathbf{A}=\\begin{bmatrix} a_{11} & a_{12} & \\cdots & a_{1n} \\\\ a_{21} & a_{22} & \\cdots & a_{2n} \\\\ \\vdots & \\vdots & \\ddots & \\vdots \\\\ a_{m1} & a_{m2} & \\cdots & a_{mn} \\\\ \\end{bmatrix}.$$\n",
    "\n",
    "\n",
    "In code, we represent a matrix $\\mathbf{A} \\in \\mathbb{R}^{m \\times n}$\n",
    "by a $2^{\\textrm{nd}}$-order with shape ($m$, $n$).\n",
    "[**We can convert any appropriately sized $m \\times n$ tensor \n",
    "into an $m \\times n$ matrix**] \n",
    "by passing the desired shape to `reshape`:"
   ]
  },
  {
   "cell_type": "markdown",
   "metadata": {},
   "source": [
    "###  **Matrices**\n",
    "\n",
    "\n",
    "\n",
    "- **Matrix**: A matrix is a 2D array of numbers arranged in rows and columns. In data science, matrices are used to represent datasets, with rows as data points and columns as features.\n",
    "  - Notation: \\(A = \\begin{bmatrix} a_{11} & a_{12} \\\\ a_{21} & a_{22} \\end{bmatrix}\\)\n",
    "  - Example: \\( A = \\begin{bmatrix} 1 & 2 & 3 \\\\ 4 & 5 & 6 \\end{bmatrix} \\) is a 2x3 matrix.\n",
    "\n",
    "  **Operations**:\n",
    "  - **Matrix Addition**: \\( A + B = \\begin{bmatrix} 1 & 2 \\\\ 3 & 4 \\end{bmatrix} + \\begin{bmatrix} 5 & 6 \\\\ 7 & 8 \\end{bmatrix} = \\begin{bmatrix} 6 & 8 \\\\ 10 & 12 \\end{bmatrix} \\)\n",
    "  - **Scalar Multiplication**: \\( c \\cdot A = 2 \\cdot \\begin{bmatrix} 1 & 2 \\\\ 3 & 4 \\end{bmatrix} = \\begin{bmatrix} 2 & 4 \\\\ 6 & 8 \\end{bmatrix} \\)\n",
    "  - **Matrix Multiplication**:\n",
    "    - Rule: Multiply row elements by corresponding column elements and sum the products.\n",
    "    - \\( A \\cdot B = \\begin{bmatrix} 1 & 2 \\\\ 3 & 4 \\end{bmatrix} \\cdot \\begin{bmatrix} 2 & 0 \\\\ 1 & 3 \\end{bmatrix} = \\begin{bmatrix} (1 \\cdot 2 + 2 \\cdot 1) & (1 \\cdot 0 + 2 \\cdot 3) \\\\ (3 \\cdot 2 + 4 \\cdot 1) & (3 \\cdot 0 + 4 \\cdot 3) \\end{bmatrix} = \\begin{bmatrix} 4 & 6 \\\\ 10 & 12 \\end{bmatrix} \\)\n",
    "\n",
    "### 3. **Matrix Transpose**\n",
    "\n",
    "- **Transpose**: The transpose of a matrix flips it over its diagonal, turning rows into columns and vice versa.\n",
    "  - Notation: \\(A^T\\)\n",
    "  - Example: If \\(A = \\begin{bmatrix} 1 & 2 \\\\ 3 & 4 \\end{bmatrix}\\), then \\(A^T = \\begin{bmatrix} 1 & 3 \\\\ 2 & 4 \\end{bmatrix}\\).\n",
    "\n",
    "### 4. **Determinants and Inverses**\n",
    "\n",
    "- **Determinant**: The determinant is a scalar value that can be computed from a square matrix. It gives information about the matrix properties, such as whether it is invertible.\n",
    "  - Example: For a 2x2 matrix \\(A = \\begin{bmatrix} a & b \\\\ c & d \\end{bmatrix}\\), the determinant is \\(\\text{det}(A) = ad - bc\\).\n",
    "\n",
    "- **Matrix Inverse**: The inverse of a matrix \\(A^{-1}\\) is such that \\(A \\cdot A^{-1} = I\\), where \\(I\\) is the identity matrix.\n",
    "  - Example: For a 2x2 matrix, the inverse of \\(A = \\begin{bmatrix} a & b \\\\ c & d \\end{bmatrix}\\) is \\(A^{-1} = \\frac{1}{\\text{det}(A)} \\begin{bmatrix} d & -b \\\\ -c & a \\end{bmatrix}\\), provided \\(\\text{det}(A) \\neq 0\\).\n",
    "\n",
    "### 5. **Linear Equations**\n",
    "\n",
    "In data science, systems of linear equations arise when modeling relationships between variables.\n",
    "\n",
    "- **System of Equations**:\n",
    "  \\[\n",
    "  \\begin{align*}\n",
    "  2x + 3y &= 5 \\\\\n",
    "  4x - y &= 2\n",
    "  \\end{align*}\n",
    "  \\]\n",
    "  can be represented in matrix form as:\n",
    "  \\[\n",
    "  \\begin{bmatrix} 2 & 3 \\\\ 4 & -1 \\end{bmatrix} \\begin{bmatrix} x \\\\ y \\end{bmatrix} = \\begin{bmatrix} 5 \\\\ 2 \\end{bmatrix}\n",
    "  \\]\n",
    "  Solving these equations gives values for \\(x\\) and \\(y\\).\n",
    "\n",
    "### 6. **Eigenvalues and Eigenvectors**\n",
    "\n",
    "Eigenvalues and eigenvectors are important in dimensionality reduction techniques like **Principal Component Analysis (PCA)**.\n",
    "\n",
    "- **Eigenvalue**: A scalar \\(\\lambda\\) such that for a matrix \\(A\\), the equation \\(A \\mathbf{v} = \\lambda \\mathbf{v}\\) holds, where \\(\\mathbf{v}\\) is a non-zero vector called the eigenvector.\n",
    "  - Example: If \\(A = \\begin{bmatrix} 4 & 1 \\\\ 2 & 3 \\end{bmatrix}\\), and solving the characteristic equation \\(\\text{det}(A - \\lambda I) = 0\\) yields eigenvalues, which can be used for PCA.\n",
    "\n",
    "### 7. **Linear Transformations**\n",
    "\n",
    "A matrix can be viewed as a linear transformation that maps one vector to another. This is fundamental in data science for transforming features or reducing dimensionality.\n",
    "\n",
    "- Example: A transformation \\( T: \\mathbb{R}^2 \\to \\mathbb{R}^2 \\) represented by the matrix \\( A = \\begin{bmatrix} 2 & 0 \\\\ 0 & 3 \\end{bmatrix} \\) will stretch vectors along the x-axis by 2 and along the y-axis by 3.\n",
    "\n",
    "### 8. **Dot Product and Norms**\n",
    "\n",
    "- **Dot Product**: The dot product of two vectors \\( \\mathbf{a} \\cdot \\mathbf{b} \\) is a scalar value that provides information about the angle between them. It’s used extensively in machine learning algorithms like linear regression and neural networks.\n",
    "  - Example: \\( \\mathbf{a} = \\begin{bmatrix} 1 \\\\ 2 \\end{bmatrix}, \\mathbf{b} = \\begin{bmatrix} 3 \\\\ 4 \\end{bmatrix} \\)\n",
    "  - Dot product: \\( \\mathbf{a} \\cdot \\mathbf{b} = (1 \\cdot 3) + (2 \\cdot 4) = 3 + 8 = 11 \\)\n",
    "  \n",
    "- **Norm (Magnitude)**: The norm of a vector \\( \\| \\mathbf{v} \\| \\) measures its length or magnitude.\n",
    "  - Example: \\( \\mathbf{v} = \\begin{bmatrix} 3 \\\\ 4 \\end{bmatrix} \\)\n",
    "  - Norm: \\( \\| \\mathbf{v} \\| = \\sqrt{3^2 + 4^2} = 5 \\)\n",
    "\n",
    "### 9. **Applications in Data Science**\n",
    "\n",
    "- **Linear Regression**:\n",
    "  - In matrix form, linear regression can be written as \\( \\mathbf{y} = X \\mathbf{\\beta} + \\epsilon \\), where \\(X\\) is the matrix of input features, \\(\\beta\\) is the vector of coefficients, and \\(\\epsilon\\) is the error term.\n",
    "  \n",
    "- **Principal Component Analysis (PCA)**: PCA uses eigenvalues and eigenvectors to reduce the dimensionality of the data by finding the directions (principal components) that maximize variance.\n",
    "\n",
    "---\n",
    "\n",
    "### Example: Solving Linear Regression Using Algebra\n",
    "\n",
    "Given a dataset:\n",
    "\n",
    "\\[\n",
    "\\mathbf{X} = \\begin{bmatrix} 1 & 1\n",
    "\n",
    " \\\\ 1 & 2 \\\\ 1 & 3 \\end{bmatrix}, \\mathbf{y} = \\begin{bmatrix} 1 \\\\ 2 \\\\ 3 \\end{bmatrix}\n",
    "\\]\n",
    "\n",
    "The goal is to find the best-fit line \\(y = \\beta_0 + \\beta_1 x\\). In matrix form, the solution is:\n",
    "\n",
    "\\[\n",
    "\\hat{\\beta} = (X^T X)^{-1} X^T y\n",
    "\\]"
   ]
  },
  {
   "cell_type": "markdown",
   "metadata": {},
   "source": [
    "### **Linear Transformations**\n",
    "\n",
    "A matrix can be viewed as a linear transformation that maps one vector to another. This is fundamental in data science for transforming features or reducing dimensionality.\n",
    "\n",
    "- Example: A transformation \\( T: \\mathbb{R}^2 \\to \\mathbb{R}^2 \\) represented by the matrix \\( A = \\begin{bmatrix} 2 & 0 \\\\ 0 & 3 \\end{bmatrix} \\) will stretch vectors along the x-axis by 2 and along the y-axis by 3.\n"
   ]
  }
 ],
 "metadata": {
  "colab": {
   "provenance": []
  },
  "kernelspec": {
   "display_name": "Python 3 (ipykernel)",
   "language": "python",
   "name": "python3"
  },
  "language_info": {
   "codemirror_mode": {
    "name": "ipython",
    "version": 3
   },
   "file_extension": ".py",
   "mimetype": "text/x-python",
   "name": "python",
   "nbconvert_exporter": "python",
   "pygments_lexer": "ipython3",
   "version": "3.9.19"
  }
 },
 "nbformat": 4,
 "nbformat_minor": 4
}
